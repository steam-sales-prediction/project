{
 "cells": [
  {
   "cell_type": "markdown",
   "id": "5fb76668",
   "metadata": {},
   "source": [
    "## Anova and Correlation"
   ]
  },
  {
   "cell_type": "markdown",
   "id": "f0c207a8",
   "metadata": {},
   "source": [
    "### Imports"
   ]
  },
  {
   "cell_type": "code",
   "execution_count": 1,
   "id": "fda28d37",
   "metadata": {},
   "outputs": [],
   "source": [
    "import pandas as pd\n",
    "from sklearn.metrics import mean_squared_error, r2_score\n",
    "from sklearn.linear_model import LinearRegression\n",
    "from sklearn.model_selection import train_test_split\n",
    "from sklearn.preprocessing import OneHotEncoder\n",
    "from sklearn.compose import ColumnTransformer\n",
    "from sklearn.pipeline import Pipeline\n",
    "import statsmodels.api as sm\n",
    "from statsmodels.formula.api import ols"
   ]
  },
  {
   "cell_type": "markdown",
   "id": "e06d1cec",
   "metadata": {},
   "source": [
    "### Read Data"
   ]
  },
  {
   "cell_type": "code",
   "execution_count": 2,
   "id": "f7f6d788",
   "metadata": {},
   "outputs": [],
   "source": [
    "INPUT_FILE = '../../data/processed/processed_data.csv'\n",
    "\n",
    "df = pd.read_parquet(INPUT_FILE)"
   ]
  },
  {
   "cell_type": "markdown",
   "id": "4ca1d3eb",
   "metadata": {},
   "source": [
    "### Prepare the data"
   ]
  },
  {
   "cell_type": "code",
   "execution_count": 3,
   "id": "e622ab3f",
   "metadata": {},
   "outputs": [],
   "source": [
    "target_col = 'copiesSold'\n",
    "\n",
    "X = df.drop(columns=[target_col, 'appid'])\n",
    "y = df[target_col]\n",
    "\n",
    "numerical_cols = X.select_dtypes(include=['float64', 'int64']).columns\n",
    "categorical_cols = X.select_dtypes(include=['object', 'category']).columns"
   ]
  },
  {
   "cell_type": "markdown",
   "id": "288a7ed2",
   "metadata": {},
   "source": [
    "### Correlation with Numerical Features"
   ]
  },
  {
   "cell_type": "code",
   "execution_count": 4,
   "id": "6dfac3f5",
   "metadata": {},
   "outputs": [
    {
     "data": {
      "text/plain": [
       "publisherClass_Indie    0.420674\n",
       "publisherClass_Other    0.353768\n",
       "has_metacritic          0.345550\n",
       "genre_Free To Play      0.206684\n",
       "steam_trading_cards     0.179513\n",
       "steam_achievements      0.175463\n",
       "has_dlc                 0.167505\n",
       "dlc_count               0.167505\n",
       "genre_Casual           -0.133536\n",
       "is_sequel               0.097095\n",
       "Name: copiesSold, dtype: float64"
      ]
     },
     "execution_count": 4,
     "metadata": {},
     "output_type": "execute_result"
    }
   ],
   "source": [
    "numeric_corr = df[numerical_cols.tolist() + [target_col]].corr()\n",
    "correlations = numeric_corr[target_col].drop(target_col).sort_values(key=abs, ascending=False)\n",
    "correlations.head(10)"
   ]
  },
  {
   "cell_type": "markdown",
   "id": "ff1e684f",
   "metadata": {},
   "source": [
    "### ANOVA for Categorical Features"
   ]
  },
  {
   "cell_type": "code",
   "execution_count": 5,
   "id": "83615395",
   "metadata": {},
   "outputs": [
    {
     "data": {
      "text/html": [
       "<div>\n",
       "<style scoped>\n",
       "    .dataframe tbody tr th:only-of-type {\n",
       "        vertical-align: middle;\n",
       "    }\n",
       "\n",
       "    .dataframe tbody tr th {\n",
       "        vertical-align: top;\n",
       "    }\n",
       "\n",
       "    .dataframe thead th {\n",
       "        text-align: right;\n",
       "    }\n",
       "</style>\n",
       "<table border=\"1\" class=\"dataframe\">\n",
       "  <thead>\n",
       "    <tr style=\"text-align: right;\">\n",
       "      <th></th>\n",
       "      <th>Feature</th>\n",
       "      <th>P-Value</th>\n",
       "    </tr>\n",
       "  </thead>\n",
       "  <tbody>\n",
       "    <tr>\n",
       "      <th>0</th>\n",
       "      <td>supported_platforms</td>\n",
       "      <td>6.974636e-125</td>\n",
       "    </tr>\n",
       "  </tbody>\n",
       "</table>\n",
       "</div>"
      ],
      "text/plain": [
       "               Feature        P-Value\n",
       "0  supported_platforms  6.974636e-125"
      ]
     },
     "execution_count": 5,
     "metadata": {},
     "output_type": "execute_result"
    }
   ],
   "source": [
    "anova_results = []\n",
    "\n",
    "for col in categorical_cols:\n",
    "    if 1 < df[col].nunique() <= 100: # choose categorical features with 2-100 unique values\n",
    "        model = ols(f'{target_col} ~ C({col})', data=df[[col, target_col]]).fit()\n",
    "        p_value = sm.stats.anova_lm(model, typ=2).iloc[0]['PR(>F)']\n",
    "        anova_results.append((col, p_value))\n",
    "\n",
    "anova_df = pd.DataFrame(anova_results, columns=[\"Feature\", \"P-Value\"]).sort_values(\"P-Value\")\n",
    "anova_df.head()"
   ]
  },
  {
   "cell_type": "markdown",
   "id": "d25fc01d",
   "metadata": {},
   "source": [
    "### Select Top 50 Features"
   ]
  },
  {
   "cell_type": "code",
   "execution_count": 6,
   "id": "0d5abfd5",
   "metadata": {},
   "outputs": [
    {
     "data": {
      "text/plain": [
       "['publisherClass_Indie',\n",
       " 'publisherClass_Other',\n",
       " 'has_metacritic',\n",
       " 'genre_Free To Play',\n",
       " 'steam_trading_cards',\n",
       " 'steam_achievements',\n",
       " 'has_dlc',\n",
       " 'dlc_count',\n",
       " 'genre_Casual',\n",
       " 'is_sequel',\n",
       " 'is_upcoming',\n",
       " 'genre_Simulation',\n",
       " 'genre_Massively Multiplayer',\n",
       " 'genre_RPG',\n",
       " 'reviewScore',\n",
       " 'is_release_date_known',\n",
       " 'price',\n",
       " 'achievements_total',\n",
       " 'name_words',\n",
       " 'workshop_support',\n",
       " 'year',\n",
       " 'genre_Indie',\n",
       " 'name_len',\n",
       " 'mac',\n",
       " 'metacritic_preprocessed',\n",
       " 'genre_Early Access',\n",
       " 'cos_day',\n",
       " 'genre_Adventure',\n",
       " 'name_has_edition',\n",
       " 'genre_Strategy',\n",
       " 'name_has_vr',\n",
       " 'name_cap_ratio',\n",
       " 'genre_Racing',\n",
       " 'name_has_collection',\n",
       " 'has_demo',\n",
       " 'demo_count',\n",
       " 'genre_Nudity',\n",
       " 'linux',\n",
       " 'name_has_remaster',\n",
       " 'name_has_collector',\n",
       " 'genre_Sexual Content',\n",
       " 'genre_Sports',\n",
       " 'genre_Gore',\n",
       " 'genre_Game Development',\n",
       " 'genre_Action',\n",
       " 'windows',\n",
       " 'genre_Design & Illustration',\n",
       " 'genre_Audio Production',\n",
       " 'sin_day',\n",
       " 'supported_platforms']"
      ]
     },
     "execution_count": 6,
     "metadata": {},
     "output_type": "execute_result"
    }
   ],
   "source": [
    "top_numeric = correlations.head(49).index.tolist()\n",
    "top_categorical = anova_df.head(1)[\"Feature\"].tolist() # only one categorical feature\n",
    "selected_features = top_numeric + top_categorical\n",
    "selected_features"
   ]
  },
  {
   "cell_type": "markdown",
   "id": "0d893fe7",
   "metadata": {},
   "source": [
    "### Split to train and test"
   ]
  },
  {
   "cell_type": "code",
   "execution_count": 7,
   "id": "c9b85432",
   "metadata": {},
   "outputs": [],
   "source": [
    "X_train, X_test, y_train, y_test = train_test_split(X, y, test_size=0.2, random_state=42)"
   ]
  },
  {
   "cell_type": "markdown",
   "id": "e95b2c97",
   "metadata": {},
   "source": [
    "### Transformer and Pipeline"
   ]
  },
  {
   "cell_type": "code",
   "execution_count": 8,
   "id": "820cfb12",
   "metadata": {},
   "outputs": [],
   "source": [
    "results = []\n",
    "\n",
    "transformer = ColumnTransformer(\n",
    "    transformers=[ \n",
    "        ('num', 'passthrough', []),  \n",
    "        ('cat', OneHotEncoder(), [])\n",
    "    ])\n",
    "\n",
    "pipeline = Pipeline(steps=[ \n",
    "    ('preprocessor', transformer),\n",
    "    ('regressor', LinearRegression())\n",
    "])"
   ]
  },
  {
   "cell_type": "markdown",
   "id": "0d6fc0cf",
   "metadata": {},
   "source": [
    "### Evaluate Feature Combinations with addition of features"
   ]
  },
  {
   "cell_type": "code",
   "execution_count": 9,
   "id": "ea60f0dc",
   "metadata": {},
   "outputs": [
    {
     "name": "stdout",
     "output_type": "stream",
     "text": [
      "    Number of Features                                           Features  \\\n",
      "49                  50  [publisherClass_Indie, publisherClass_Other, h...   \n",
      "48                  49  [publisherClass_Indie, publisherClass_Other, h...   \n",
      "44                  45  [publisherClass_Indie, publisherClass_Other, h...   \n",
      "46                  47  [publisherClass_Indie, publisherClass_Other, h...   \n",
      "43                  44  [publisherClass_Indie, publisherClass_Other, h...   \n",
      "42                  43  [publisherClass_Indie, publisherClass_Other, h...   \n",
      "47                  48  [publisherClass_Indie, publisherClass_Other, h...   \n",
      "45                  46  [publisherClass_Indie, publisherClass_Other, h...   \n",
      "41                  42  [publisherClass_Indie, publisherClass_Other, h...   \n",
      "39                  40  [publisherClass_Indie, publisherClass_Other, h...   \n",
      "40                  41  [publisherClass_Indie, publisherClass_Other, h...   \n",
      "37                  38  [publisherClass_Indie, publisherClass_Other, h...   \n",
      "38                  39  [publisherClass_Indie, publisherClass_Other, h...   \n",
      "36                  37  [publisherClass_Indie, publisherClass_Other, h...   \n",
      "35                  36  [publisherClass_Indie, publisherClass_Other, h...   \n",
      "34                  35  [publisherClass_Indie, publisherClass_Other, h...   \n",
      "33                  34  [publisherClass_Indie, publisherClass_Other, h...   \n",
      "32                  33  [publisherClass_Indie, publisherClass_Other, h...   \n",
      "31                  32  [publisherClass_Indie, publisherClass_Other, h...   \n",
      "27                  28  [publisherClass_Indie, publisherClass_Other, h...   \n",
      "29                  30  [publisherClass_Indie, publisherClass_Other, h...   \n",
      "28                  29  [publisherClass_Indie, publisherClass_Other, h...   \n",
      "30                  31  [publisherClass_Indie, publisherClass_Other, h...   \n",
      "25                  26  [publisherClass_Indie, publisherClass_Other, h...   \n",
      "26                  27  [publisherClass_Indie, publisherClass_Other, h...   \n",
      "24                  25  [publisherClass_Indie, publisherClass_Other, h...   \n",
      "23                  24  [publisherClass_Indie, publisherClass_Other, h...   \n",
      "22                  23  [publisherClass_Indie, publisherClass_Other, h...   \n",
      "21                  22  [publisherClass_Indie, publisherClass_Other, h...   \n",
      "20                  21  [publisherClass_Indie, publisherClass_Other, h...   \n",
      "19                  20  [publisherClass_Indie, publisherClass_Other, h...   \n",
      "18                  19  [publisherClass_Indie, publisherClass_Other, h...   \n",
      "17                  18  [publisherClass_Indie, publisherClass_Other, h...   \n",
      "16                  17  [publisherClass_Indie, publisherClass_Other, h...   \n",
      "15                  16  [publisherClass_Indie, publisherClass_Other, h...   \n",
      "13                  14  [publisherClass_Indie, publisherClass_Other, h...   \n",
      "14                  15  [publisherClass_Indie, publisherClass_Other, h...   \n",
      "12                  13  [publisherClass_Indie, publisherClass_Other, h...   \n",
      "11                  12  [publisherClass_Indie, publisherClass_Other, h...   \n",
      "10                  11  [publisherClass_Indie, publisherClass_Other, h...   \n",
      "8                    9  [publisherClass_Indie, publisherClass_Other, h...   \n",
      "9                   10  [publisherClass_Indie, publisherClass_Other, h...   \n",
      "6                    7  [publisherClass_Indie, publisherClass_Other, h...   \n",
      "7                    8  [publisherClass_Indie, publisherClass_Other, h...   \n",
      "5                    6  [publisherClass_Indie, publisherClass_Other, h...   \n",
      "4                    5  [publisherClass_Indie, publisherClass_Other, h...   \n",
      "3                    4  [publisherClass_Indie, publisherClass_Other, h...   \n",
      "2                    3  [publisherClass_Indie, publisherClass_Other, h...   \n",
      "1                    2       [publisherClass_Indie, publisherClass_Other]   \n",
      "0                    1                             [publisherClass_Indie]   \n",
      "\n",
      "         MSE        R²  \n",
      "49  0.476264  0.538130  \n",
      "48  0.477263  0.537160  \n",
      "44  0.477376  0.537052  \n",
      "46  0.477389  0.537038  \n",
      "43  0.477389  0.537038  \n",
      "42  0.477392  0.537036  \n",
      "47  0.477400  0.537028  \n",
      "45  0.477404  0.537024  \n",
      "41  0.477515  0.536916  \n",
      "39  0.477593  0.536840  \n",
      "40  0.477598  0.536836  \n",
      "37  0.477617  0.536817  \n",
      "38  0.477618  0.536817  \n",
      "36  0.478130  0.536320  \n",
      "35  0.478178  0.536274  \n",
      "34  0.478178  0.536274  \n",
      "33  0.478178  0.536273  \n",
      "32  0.478238  0.536215  \n",
      "31  0.478527  0.535935  \n",
      "27  0.478747  0.535721  \n",
      "29  0.478759  0.535710  \n",
      "28  0.478764  0.535705  \n",
      "30  0.478772  0.535697  \n",
      "25  0.478794  0.535676  \n",
      "26  0.478808  0.535662  \n",
      "24  0.479529  0.534963  \n",
      "23  0.480828  0.533703  \n",
      "22  0.480981  0.533555  \n",
      "21  0.481158  0.533384  \n",
      "20  0.481601  0.532954  \n",
      "19  0.481931  0.532634  \n",
      "18  0.496326  0.518674  \n",
      "17  0.496517  0.518489  \n",
      "16  0.497824  0.517221  \n",
      "15  0.502805  0.512391  \n",
      "13  0.504562  0.510687  \n",
      "14  0.504598  0.510652  \n",
      "12  0.505570  0.509709  \n",
      "11  0.508283  0.507079  \n",
      "10  0.511948  0.503524  \n",
      "8   0.516621  0.498992  \n",
      "9   0.516636  0.498978  \n",
      "6   0.521432  0.494327  \n",
      "7   0.521432  0.494327  \n",
      "5   0.525491  0.490390  \n",
      "4   0.533070  0.483041  \n",
      "3   0.536030  0.480170  \n",
      "2   0.625597  0.393309  \n",
      "1   0.652685  0.367040  \n",
      "0   0.849348  0.176321  \n"
     ]
    }
   ],
   "source": [
    "for i in range(1, len(selected_features) + 1):\n",
    "    feature_subset = selected_features[:i]\n",
    "    \n",
    "    # update the transformer with the current subset of features\n",
    "    num_features = [feat for feat in feature_subset if feat in numerical_cols]\n",
    "    cat_features = [feat for feat in feature_subset if feat in categorical_cols]\n",
    "    transformer.transformers[0] = ('num', 'passthrough', num_features)\n",
    "    transformer.transformers[1] = ('cat', OneHotEncoder(handle_unknown='ignore'), cat_features)\n",
    "\n",
    "    pipeline.fit(X_train[feature_subset], y_train)\n",
    "    y_pred = pipeline.predict(X_test[feature_subset])\n",
    "    mse = mean_squared_error(y_test, y_pred)\n",
    "    r2 = r2_score(y_test, y_pred)\n",
    "\n",
    "    results.append((i, feature_subset, mse, r2))\n",
    "\n",
    "results_df = pd.DataFrame(results, columns=['Number of Features', 'Features', 'MSE', 'R²'])\n",
    "\n",
    "results_df_sorted = results_df.sort_values(by=['R²', 'MSE'], ascending=[False, True]) # higher R² and lower MSE are better\n",
    "\n",
    "print(results_df_sorted)\n"
   ]
  }
 ],
 "metadata": {
  "kernelspec": {
   "display_name": "Python (steam-ml-env)",
   "language": "python",
   "name": "steam-ml-env"
  },
  "language_info": {
   "codemirror_mode": {
    "name": "ipython",
    "version": 3
   },
   "file_extension": ".py",
   "mimetype": "text/x-python",
   "name": "python",
   "nbconvert_exporter": "python",
   "pygments_lexer": "ipython3",
   "version": "3.12.2"
  }
 },
 "nbformat": 4,
 "nbformat_minor": 5
}
