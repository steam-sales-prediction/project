{
 "cells": [
  {
   "cell_type": "markdown",
   "id": "c9483d8a",
   "metadata": {},
   "source": [
    "# Dimensionality reduction using PLS , training and testing "
   ]
  },
  {
   "cell_type": "markdown",
   "id": "9a95889b",
   "metadata": {},
   "source": [
    "### Importing libraries"
   ]
  },
  {
   "cell_type": "code",
   "execution_count": null,
   "id": "5f887a0d",
   "metadata": {},
   "outputs": [],
   "source": [
    "from sklearn.cross_decomposition import PLSRegression\n",
    "from sklearn.ensemble import RandomForestRegressor\n",
    "from sklearn.metrics import mean_squared_error\n",
    "import pandas as pd\n",
    "import numpy as np\n",
    "from sklearn.decomposition import PCA\n",
    "from xgboost import XGBRegressor\n",
    "from sklearn.preprocessing import StandardScaler\n",
    "from sklearn.metrics import mean_squared_error\n",
    "from sklearn.metrics import mean_absolute_error, r2_score\n",
    "from sklearn.ensemble import GradientBoostingRegressor"
   ]
  },
  {
   "cell_type": "markdown",
   "id": "b05d15a1",
   "metadata": {},
   "source": [
    "### Reading data"
   ]
  },
  {
   "cell_type": "code",
   "execution_count": 7,
   "id": "c4f33d9e",
   "metadata": {},
   "outputs": [],
   "source": [
    "PREPROCESSED_DATA_PATH = \"../../../data/preprocessed/\"\n",
    "train_df = pd.read_parquet(PREPROCESSED_DATA_PATH + \"train.parquet\")\n",
    "\n",
    "val_df = pd.read_parquet(PREPROCESSED_DATA_PATH + \"validation.parquet\")\n",
    "small_test_df = pd.read_parquet(PREPROCESSED_DATA_PATH + \"test.parquet\")\n",
    "\n",
    "test_df = pd.concat([val_df, small_test_df], axis=0)\n",
    "\n",
    "TARGET = 'copiesSold'\n",
    "\n",
    "X_train = train_df.drop(columns=[TARGET])\n",
    "y_train = train_df[TARGET]\n",
    "\n",
    "X_test = test_df.drop(columns=[TARGET])\n",
    "y_test = test_df[TARGET]\n",
    "\n",
    "# Scale features\n",
    "scaler = StandardScaler()\n",
    "X_train_scaled = scaler.fit_transform(X_train)\n",
    "X_test_scaled = scaler.transform(X_test)\n"
   ]
  },
  {
   "cell_type": "code",
   "execution_count": 8,
   "id": "862d5c6e",
   "metadata": {},
   "outputs": [
    {
     "name": "stdout",
     "output_type": "stream",
     "text": [
      "MSE with PLS + RF: 2.0353\n"
     ]
    }
   ],
   "source": [
    "pls = PLSRegression(n_components=15)\n",
    "X_train_pls = pls.fit_transform(X_train_scaled, y_train)[0]\n",
    "X_test_pls = pls.transform(X_test_scaled)\n",
    "\n",
    "# Train RandomForest on PLS components\n",
    "rf = RandomForestRegressor(random_state=42)\n",
    "rf.fit(X_train_pls, y_train)\n",
    "\n",
    "y_pred = rf.predict(X_test_pls)\n",
    "mse = np.sqrt(mean_squared_error(y_test, y_pred))\n",
    "print(f\"MSE with PLS + RF: {mse:.4f}\")\n"
   ]
  },
  {
   "cell_type": "code",
   "execution_count": 9,
   "id": "39c7838c",
   "metadata": {},
   "outputs": [
    {
     "name": "stdout",
     "output_type": "stream",
     "text": [
      "MSE with PLS + RF: 0.7490\n",
      "Train R^2: 0.9426\n"
     ]
    }
   ],
   "source": [
    "y_predd = rf.predict(X_train_pls)\n",
    "mse = np.sqrt(mean_squared_error(y_train, y_predd))\n",
    "print(f\"MSE with PLS + RF: {mse:.4f}\")\n",
    "r2 = r2_score(y_train, y_predd)\n",
    "print(f\"Train R^2: {r2:.4f}\")"
   ]
  },
  {
   "cell_type": "code",
   "execution_count": 10,
   "id": "961beadf",
   "metadata": {},
   "outputs": [
    {
     "name": "stdout",
     "output_type": "stream",
     "text": [
      "Test R^2: 0.5784\n"
     ]
    }
   ],
   "source": [
    "r2 = r2_score(y_test, y_pred)\n",
    "print(f\"Test R^2: {r2:.4f}\")"
   ]
  },
  {
   "cell_type": "code",
   "execution_count": 11,
   "id": "1377fde6",
   "metadata": {},
   "outputs": [
    {
     "name": "stdout",
     "output_type": "stream",
     "text": [
      "Test RMSE: 2.0307\n",
      "Test RMSE: 2.0307\n",
      "Test MAE: 1.5919\n",
      "Test R^2: 0.5804\n"
     ]
    }
   ],
   "source": [
    "xgb = XGBRegressor(n_estimators=100, max_depth=6, learning_rate=0.1, random_state=42)\n",
    "xgb.fit(X_train_pls, y_train)\n",
    "\n",
    "# Predict on test set\n",
    "y_pred = xgb.predict(X_test_pls)\n",
    "\n",
    "# Evaluate\n",
    "rmse = np.sqrt(mean_squared_error(y_test, y_pred))\n",
    "print(f\"Test RMSE: {rmse:.4f}\")\n",
    "mae = mean_absolute_error(y_test, y_pred)\n",
    "r2 = r2_score(y_test, y_pred)\n",
    "\n",
    "print(f\"Test RMSE: {rmse:.4f}\")\n",
    "print(f\"Test MAE: {mae:.4f}\")\n",
    "print(f\"Test R^2: {r2:.4f}\")"
   ]
  },
  {
   "cell_type": "code",
   "execution_count": 13,
   "id": "cb0d40b4",
   "metadata": {},
   "outputs": [
    {
     "name": "stdout",
     "output_type": "stream",
     "text": [
      "Test RMSE with PLS + GradientBoostingRegressor: 2.0531\n",
      "Test MAE with PLS + GradientBoostingRegressor: 1.6101\n",
      "Test R2 score with PLS + GradientBoostingRegressor: 0.5710\n"
     ]
    }
   ],
   "source": [
    "# Train Gradient Boosting Regressor on PLS components\n",
    "gbr = GradientBoostingRegressor(max_depth=5, learning_rate=0.1, n_estimators=100, random_state=42)\n",
    "gbr.fit(X_train_pls, y_train)\n",
    "\n",
    "y_pred = gbr.predict(X_test_pls)\n",
    "\n",
    "rmse = np.sqrt(mean_squared_error(y_test, y_pred))\n",
    "mae = mean_absolute_error(y_test, y_pred)\n",
    "r2 = r2_score(y_test, y_pred)\n",
    "\n",
    "print(f\"Test RMSE with PLS + GradientBoostingRegressor: {rmse:.4f}\")\n",
    "print(f\"Test MAE with PLS + GradientBoostingRegressor: {mae:.4f}\")\n",
    "print(f\"Test R2 score with PLS + GradientBoostingRegressor: {r2:.4f}\")\n"
   ]
  }
 ],
 "metadata": {
  "kernelspec": {
   "display_name": ".venv",
   "language": "python",
   "name": "python3"
  },
  "language_info": {
   "codemirror_mode": {
    "name": "ipython",
    "version": 3
   },
   "file_extension": ".py",
   "mimetype": "text/x-python",
   "name": "python",
   "nbconvert_exporter": "python",
   "pygments_lexer": "ipython3",
   "version": "3.13.3"
  }
 },
 "nbformat": 4,
 "nbformat_minor": 5
}
