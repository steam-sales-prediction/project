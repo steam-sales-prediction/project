{
 "cells": [
  {
   "metadata": {},
   "cell_type": "markdown",
   "source": "**Import Libraries**",
   "id": "38862f6220399498"
  },
  {
   "metadata": {
    "ExecuteTime": {
     "end_time": "2025-04-18T15:29:25.095823Z",
     "start_time": "2025-04-18T15:29:24.366018Z"
    }
   },
   "cell_type": "code",
   "source": [
    "import numpy as np\n",
    "import pandas as pd\n",
    "from numpy import unique\n",
    "from scipy.stats import skew\n",
    "from sklearn.preprocessing import StandardScaler\n",
    "from sklearn.feature_selection import mutual_info_regression\n",
    "from sklearn.feature_selection import SelectKBest, f_regression\n",
    "import matplotlib.pyplot as plt\n"
   ],
   "id": "9c40ed274cb56b72",
   "outputs": [],
   "execution_count": 40
  },
  {
   "metadata": {},
   "cell_type": "markdown",
   "source": "**Read Data**",
   "id": "c1b3011546fe8340"
  },
  {
   "metadata": {
    "ExecuteTime": {
     "end_time": "2025-04-18T15:20:43.303177Z",
     "start_time": "2025-04-18T15:20:43.265382Z"
    }
   },
   "cell_type": "code",
   "source": [
    "#Load data\n",
    "data = pd.read_csv('../../data/raw/gamalytic_steam_games.csv')"
   ],
   "id": "8dcc079d36bd095",
   "outputs": [],
   "execution_count": 22
  },
  {
   "metadata": {},
   "cell_type": "markdown",
   "source": "**Features Extraction**",
   "id": "55ebb566d261bee5"
  },
  {
   "metadata": {
    "ExecuteTime": {
     "end_time": "2025-04-18T15:20:47.729115Z",
     "start_time": "2025-04-18T15:20:47.723399Z"
    }
   },
   "cell_type": "code",
   "source": "selected_features = data[['price', 'copiesSold', 'reviewScore']]",
   "id": "b547e8f1cdd8a1e0",
   "outputs": [],
   "execution_count": 23
  },
  {
   "metadata": {},
   "cell_type": "markdown",
   "source": [
    "**Dropping Irrelevant Columns**\n",
    " - To check duplicate rows we need to drop it"
   ],
   "id": "32f901ea22b21ed7"
  },
  {
   "metadata": {
    "ExecuteTime": {
     "end_time": "2025-04-18T15:20:49.582558Z",
     "start_time": "2025-04-18T15:20:49.575208Z"
    }
   },
   "cell_type": "code",
   "source": "data = data.drop(columns = ['steamId'])",
   "id": "935741db60168a93",
   "outputs": [],
   "execution_count": 24
  },
  {
   "metadata": {},
   "cell_type": "markdown",
   "source": [
    "**Identify Columns That Contain a Single Value**\n",
    "  - Columns that have a single observation or value are probably useless for modeling."
   ],
   "id": "83d84d468c491e03"
  },
  {
   "metadata": {
    "ExecuteTime": {
     "end_time": "2025-04-18T15:20:53.663179Z",
     "start_time": "2025-04-18T15:20:53.656586Z"
    }
   },
   "cell_type": "code",
   "source": [
    "# Check if column has a single value\n",
    "print(1, len(unique(data['price'])))\n",
    "print(2, len(unique(data['copiesSold'])))\n",
    "print(3, len(unique(data['reviewScore'])))"
   ],
   "id": "d0690f03d7aaf0d9",
   "outputs": [
    {
     "name": "stdout",
     "output_type": "stream",
     "text": [
      "1 350\n",
      "2 22474\n",
      "3 99\n"
     ]
    }
   ],
   "execution_count": 25
  },
  {
   "metadata": {},
   "cell_type": "markdown",
   "source": " **Check Duplicates**",
   "id": "1584bc55aa6d36a0"
  },
  {
   "metadata": {
    "ExecuteTime": {
     "end_time": "2025-04-18T15:20:15.731601Z",
     "start_time": "2025-04-18T15:20:15.706140Z"
    }
   },
   "cell_type": "code",
   "source": [
    "duplicates = data.duplicated()\n",
    "print(\"Any duplicates ?\", duplicates.any())\n",
    "print(\"Duplicate rows:\\n\", data[duplicates])"
   ],
   "id": "9d9781d5d4fc9ecb",
   "outputs": [
    {
     "name": "stdout",
     "output_type": "stream",
     "text": [
      "Any duplicates ? True\n",
      "Duplicate rows:\n",
      "        price  copiesSold publisherClass  reviewScore  aiContent\n",
      "11590   0.00       21263       Hobbyist           97        NaN\n",
      "11633   9.99       21131          Indie           82        NaN\n",
      "11842   0.00       20414       Hobbyist           85        NaN\n",
      "12427  14.99       18304          Indie           84        NaN\n",
      "12604   0.00       17802          Indie           84        NaN\n",
      "...      ...         ...            ...          ...        ...\n",
      "93323   0.99           1       Hobbyist            0        NaN\n",
      "93329   4.99           0       Hobbyist            0        NaN\n",
      "93330   0.99           0       Hobbyist            0        NaN\n",
      "93331   0.99           0       Hobbyist            0        NaN\n",
      "93337   4.99           0       Hobbyist            0        NaN\n",
      "\n",
      "[26163 rows x 5 columns]\n"
     ]
    }
   ],
   "execution_count": 16
  },
  {
   "metadata": {},
   "cell_type": "markdown",
   "source": "**Remove Duplicates**",
   "id": "4b120c40d8c36545"
  },
  {
   "metadata": {
    "ExecuteTime": {
     "end_time": "2025-04-18T15:21:00.132947Z",
     "start_time": "2025-04-18T15:21:00.114243Z"
    }
   },
   "cell_type": "code",
   "source": [
    "print(data.shape)\n",
    "# delete duplicate rows\n",
    "data.drop_duplicates(inplace = True)\n",
    "print(data.shape)"
   ],
   "id": "2896c7c4a775796d",
   "outputs": [
    {
     "name": "stdout",
     "output_type": "stream",
     "text": [
      "(93338, 5)\n",
      "(67175, 5)\n"
     ]
    }
   ],
   "execution_count": 26
  },
  {
   "metadata": {},
   "cell_type": "markdown",
   "source": "**Count Missing Values**",
   "id": "908c7be9dc4e3c95"
  },
  {
   "metadata": {
    "ExecuteTime": {
     "end_time": "2025-04-18T15:21:04.731329Z",
     "start_time": "2025-04-18T15:21:04.726023Z"
    }
   },
   "cell_type": "code",
   "source": "print(data[['price', 'copiesSold', 'reviewScore']].isna().sum())",
   "id": "af20c2a7f5b48ada",
   "outputs": [
    {
     "name": "stdout",
     "output_type": "stream",
     "text": [
      "price          0\n",
      "copiesSold     0\n",
      "reviewScore    0\n",
      "dtype: int64\n"
     ]
    }
   ],
   "execution_count": 27
  },
  {
   "metadata": {},
   "cell_type": "markdown",
   "source": [
    "**Checking Inconsistent Values**\n",
    " - Checking for Negative Values"
   ],
   "id": "c81001aad6cd80ee"
  },
  {
   "metadata": {
    "ExecuteTime": {
     "end_time": "2025-04-18T15:20:30.317069Z",
     "start_time": "2025-04-18T15:20:30.312891Z"
    }
   },
   "cell_type": "code",
   "source": [
    "# Check if any value is negative\n",
    "negative_price = (data['price'] < 0).any()\n",
    "negative_copies = (data['copiesSold'] < 0).any()\n",
    "negative_review = (data['reviewScore'] < 0).any()\n",
    "\n",
    "print(f\"Negative 'price' values: {negative_price}\")\n",
    "print(f\"Negative 'copiesSold' values: {negative_copies}\")\n",
    "print(f\"Negative 'reviewScore' values: {negative_review}\")\n"
   ],
   "id": "fb3669fe47dc30c0",
   "outputs": [
    {
     "name": "stdout",
     "output_type": "stream",
     "text": [
      "Negative 'price' values: False\n",
      "Negative 'copiesSold' values: False\n",
      "Negative 'reviewScore' values: False\n"
     ]
    }
   ],
   "execution_count": 19
  },
  {
   "metadata": {},
   "cell_type": "markdown",
   "source": [
    "**Data Transformation**\n",
    " - Analyzing Skewness"
   ],
   "id": "9f5d9d547b680648"
  },
  {
   "metadata": {
    "ExecuteTime": {
     "end_time": "2025-04-18T15:21:16.562037Z",
     "start_time": "2025-04-18T15:21:16.550560Z"
    }
   },
   "cell_type": "code",
   "source": [
    "# Check initial skewness of distributions\n",
    "print(f\"Price skewness: {skew(data['price']):.2f}\")\n",
    "print(f\"CopiesSold skewness: {skew(data['copiesSold']):.2f}\")\n",
    "print(f\"reviewScore skewness: {skew(data['reviewScore']):.2f}\")"
   ],
   "id": "35606686c52b99ba",
   "outputs": [
    {
     "name": "stdout",
     "output_type": "stream",
     "text": [
      "Price skewness: 30.24\n",
      "CopiesSold skewness: 99.76\n",
      "reviewScore skewness: -1.17\n"
     ]
    }
   ],
   "execution_count": 28
  },
  {
   "metadata": {},
   "cell_type": "markdown",
   "source": "**Log Transformation For Skewed Data**",
   "id": "fc47939259c838a"
  },
  {
   "metadata": {
    "ExecuteTime": {
     "end_time": "2025-04-18T15:21:24.120973Z",
     "start_time": "2025-04-18T15:21:24.114324Z"
    }
   },
   "cell_type": "code",
   "source": [
    "# Apply log transformation to reduce skewness\n",
    "data['price'] = np.log1p(data['price'])\n",
    "data['copiesSold'] = np.log1p(data['copiesSold'])"
   ],
   "id": "c775bd3d45c7321e",
   "outputs": [],
   "execution_count": 29
  },
  {
   "metadata": {},
   "cell_type": "markdown",
   "source": "**Handling Outliers in Review Scores**",
   "id": "a175544d594b2954"
  },
  {
   "metadata": {
    "ExecuteTime": {
     "end_time": "2025-04-18T15:23:33.914645Z",
     "start_time": "2025-04-18T15:23:33.903848Z"
    }
   },
   "cell_type": "code",
   "source": [
    "low = data['reviewScore'].quantile(0.25)\n",
    "high = data['reviewScore'].quantile(0.75)\n",
    "median = data['reviewScore'].median()\n",
    "\n",
    "data.loc[data['reviewScore'] < low, 'reviewScore'] = median\n",
    "data.loc[data['reviewScore'] > high, 'reviewScore'] = high\n",
    "\n"
   ],
   "id": "e9d9bbd0fa7f3fe7",
   "outputs": [],
   "execution_count": 31
  },
  {
   "metadata": {},
   "cell_type": "markdown",
   "source": "**Check skewness after transformation**",
   "id": "3d64967a11201829"
  },
  {
   "metadata": {
    "ExecuteTime": {
     "end_time": "2025-04-18T15:23:43.166229Z",
     "start_time": "2025-04-18T15:23:43.157169Z"
    }
   },
   "cell_type": "code",
   "source": [
    "# Check skewness after outlier treatment\n",
    "print(\"After outlier treatment:\")\n",
    "print(f\"Price skewness: {skew(data['price']):.2f}\")\n",
    "print(f\"CopiesSold skewness: {skew(data['copiesSold']):.2f}\")\n",
    "print(f\"reviewScore skewness: {skew(data['reviewScore']):.2f}\")"
   ],
   "id": "1b20374d8186a5eb",
   "outputs": [
    {
     "name": "stdout",
     "output_type": "stream",
     "text": [
      "After outlier treatment:\n",
      "Price skewness: -0.14\n",
      "CopiesSold skewness: 0.40\n",
      "reviewScore skewness: -0.45\n"
     ]
    }
   ],
   "execution_count": 32
  },
  {
   "metadata": {},
   "cell_type": "markdown",
   "source": "**Feature Scaling**",
   "id": "b7d73fa6179e8574"
  },
  {
   "metadata": {
    "ExecuteTime": {
     "end_time": "2025-04-18T10:01:28.403013Z",
     "start_time": "2025-04-18T10:01:28.391522Z"
    }
   },
   "cell_type": "code",
   "source": [
    "scaler = StandardScaler()\n",
    "data[['price', 'copiesSold', 'reviewScore']] = scaler.fit_transform(\n",
    "    data[['price', 'copiesSold', 'reviewScore']]\n",
    ")"
   ],
   "id": "c48bf92356d2c19a",
   "outputs": [],
   "execution_count": 283
  },
  {
   "metadata": {},
   "cell_type": "markdown",
   "source": [
    "**Feature Analysis**\n",
    " - Correlation Analysis"
   ],
   "id": "da2244973c09366d"
  },
  {
   "metadata": {
    "ExecuteTime": {
     "end_time": "2025-04-18T15:25:31.316662Z",
     "start_time": "2025-04-18T15:25:31.307982Z"
    }
   },
   "cell_type": "code",
   "source": [
    "# # Calculate Pearson correlation between features\n",
    "correlation = selected_features.corr()\n",
    "\n",
    "print(correlation['copiesSold'].sort_values(ascending = False))\n"
   ],
   "id": "78ef4af61f2e290d",
   "outputs": [
    {
     "name": "stdout",
     "output_type": "stream",
     "text": [
      "copiesSold     1.000000\n",
      "reviewScore    0.021909\n",
      "price          0.021256\n",
      "Name: copiesSold, dtype: float64\n"
     ]
    }
   ],
   "execution_count": 34
  },
  {
   "metadata": {},
   "cell_type": "markdown",
   "source": "**Mutual Information Scores**",
   "id": "70732c5d8ac0392b"
  },
  {
   "metadata": {
    "ExecuteTime": {
     "end_time": "2025-04-18T15:26:57.101039Z",
     "start_time": "2025-04-18T15:26:56.163143Z"
    }
   },
   "cell_type": "code",
   "source": [
    "# Calculate mutual information (non-linear relationships)\n",
    "mi_scores = mutual_info_regression(selected_features.drop(columns = ['copiesSold']), selected_features['copiesSold'])\n",
    "print(mi_scores)\n"
   ],
   "id": "47651d6412812f16",
   "outputs": [
    {
     "name": "stdout",
     "output_type": "stream",
     "text": [
      "[0.17663902 0.77776899]\n"
     ]
    }
   ],
   "execution_count": 36
  },
  {
   "metadata": {},
   "cell_type": "markdown",
   "source": "**ANOVA F-values**",
   "id": "30457bf97e6f63f5"
  },
  {
   "metadata": {
    "ExecuteTime": {
     "end_time": "2025-04-18T15:28:36.543473Z",
     "start_time": "2025-04-18T15:28:36.531221Z"
    }
   },
   "cell_type": "code",
   "source": [
    "# Calculate ANOVA F-values for feature importance\n",
    "selector = SelectKBest(score_func = f_regression, k = 2)\n",
    "selector.fit((selected_features.drop(columns = ['copiesSold'])), selected_features['copiesSold'])\n",
    "print(selector.scores_)\n"
   ],
   "id": "122ca7e1329fc377",
   "outputs": [
    {
     "name": "stdout",
     "output_type": "stream",
     "text": [
      "[42.18832633 44.82141659]\n"
     ]
    }
   ],
   "execution_count": 39
  },
  {
   "metadata": {},
   "cell_type": "markdown",
   "source": "**Data Visualization**",
   "id": "4df3e1a84a19b1a8"
  },
  {
   "metadata": {
    "ExecuteTime": {
     "end_time": "2025-04-18T15:30:04.595982Z",
     "start_time": "2025-04-18T15:30:04.519929Z"
    }
   },
   "cell_type": "code",
   "source": [
    "# Visualize distribution of prices\n",
    "data['price'].hist(bins = 30)\n",
    "plt.title('Price Distribution')\n",
    "plt.show()\n"
   ],
   "id": "d1e47c4841a689e8",
   "outputs": [
    {
     "data": {
      "text/plain": [
       "<Figure size 640x480 with 1 Axes>"
      ],
      "image/png": "[encoded data removed]"
     },
     "metadata": {},
     "output_type": "display_data"
    }
   ],
   "execution_count": 42
  },
  {
   "metadata": {
    "ExecuteTime": {
     "end_time": "2025-04-18T15:29:57.579522Z",
     "start_time": "2025-04-18T15:29:57.400233Z"
    }
   },
   "cell_type": "code",
   "source": [
    "# Visualize distribution of copiesSold\n",
    "data['copiesSold'].hist(bins = 30)\n",
    "plt.title('Copies Sold Distribution')\n",
    "plt.show()\n"
   ],
   "id": "5fb32d6047103880",
   "outputs": [
    {
     "data": {
      "text/plain": [
       "<Figure size 640x480 with 1 Axes>"
      ],
      "image/png": "[encoded data removed]"
     },
     "metadata": {},
     "output_type": "display_data"
    }
   ],
   "execution_count": 41
  },
  {
   "metadata": {
    "ExecuteTime": {
     "end_time": "2025-04-18T15:30:45.993815Z",
     "start_time": "2025-04-18T15:30:45.911729Z"
    }
   },
   "cell_type": "code",
   "source": [
    "# Visualize distribution of Review Score\n",
    "data['reviewScore'].hist(bins = 30)\n",
    "plt.title('Review Score Distribution')\n",
    "plt.show()\n"
   ],
   "id": "5aea42b05e22dca8",
   "outputs": [
    {
     "data": {
      "text/plain": [
       "<Figure size 640x480 with 1 Axes>"
      ],
      "image/png": "[encoded data removed]"
     },
     "metadata": {},
     "output_type": "display_data"
    }
   ],
   "execution_count": 43
  }
 ],
 "metadata": {
  "kernelspec": {
   "display_name": "Python 3",
   "language": "python",
   "name": "python3"
  },
  "language_info": {
   "codemirror_mode": {
    "name": "ipython",
    "version": 2
   },
   "file_extension": ".py",
   "mimetype": "text/x-python",
   "name": "python",
   "nbconvert_exporter": "python",
   "pygments_lexer": "ipython2",
   "version": "2.7.6"
  }
 },
 "nbformat": 4,
 "nbformat_minor": 5
}
