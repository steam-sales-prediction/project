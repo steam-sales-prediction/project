{
 "cells": [
  {
   "cell_type": "markdown",
   "metadata": {},
   "source": [
    "### Import Libraries"
   ]
  },
  {
   "cell_type": "code",
   "execution_count": 244,
   "metadata": {},
   "outputs": [],
   "source": [
    "import pandas as pd"
   ]
  },
  {
   "cell_type": "markdown",
   "metadata": {},
   "source": [
    "### Read the CSV files"
   ]
  },
  {
   "cell_type": "code",
   "execution_count": 245,
   "metadata": {},
   "outputs": [
    {
     "name": "stdout",
     "output_type": "stream",
     "text": [
      "Demo File Columns: ['Unnamed: 0', 'full_game_appid', 'demo_appid', 'name']\n",
      "DLC File Columns: ['base_appid', 'dlc_appid', 'name']\n"
     ]
    },
    {
     "name": "stderr",
     "output_type": "stream",
     "text": [
      "C:\\Users\\alyas\\AppData\\Local\\Temp\\ipykernel_19868\\733431031.py:11: DtypeWarning: Columns (0,2,7) have mixed types. Specify dtype option on import or set low_memory=False.\n",
      "  info_base_games_df = pd.read_csv(BASE_GAMES_PATH)\n"
     ]
    }
   ],
   "source": [
    "# Define file paths\n",
    "DEMOS_PATH = '../../data/raw/demos.csv'\n",
    "DLCS_PATH = '../../data/raw/dlcs.csv'\n",
    "DEMO_OUTPUT_PATH = '../../data/processed/cleaned_demos.csv'\n",
    "DLC_OUTPUT_PATH = '../../data/processed/cleaned_dlcs.csv'\n",
    "BASE_GAMES_PATH = '../../data/raw/info_base_games.csv'\n",
    "BASE_GAMES_OUTPUT_PATH = '../../data/processed/info_base_games_with_features.csv'\n",
    "\n",
    "demo_df = pd.read_csv(DEMOS_PATH)\n",
    "dlc_df = pd.read_csv(DLCS_PATH)\n",
    "info_base_games_df = pd.read_csv(BASE_GAMES_PATH)\n",
    "\n",
    "print(\"Demo File Columns:\", demo_df.columns.tolist())\n",
    "print(\"DLC File Columns:\", dlc_df.columns.tolist())"
   ]
  },
  {
   "cell_type": "markdown",
   "metadata": {},
   "source": [
    "### Statistics Before Preprocessing"
   ]
  },
  {
   "cell_type": "code",
   "execution_count": 246,
   "metadata": {},
   "outputs": [
    {
     "name": "stdout",
     "output_type": "stream",
     "text": [
      "<class 'pandas.core.frame.DataFrame'>\n",
      "RangeIndex: 15449 entries, 0 to 15448\n",
      "Data columns (total 4 columns):\n",
      " #   Column           Non-Null Count  Dtype \n",
      "---  ------           --------------  ----- \n",
      " 0   Unnamed: 0       15449 non-null  int64 \n",
      " 1   full_game_appid  15449 non-null  object\n",
      " 2   demo_appid       15449 non-null  object\n",
      " 3   name             15448 non-null  object\n",
      "dtypes: int64(1), object(3)\n",
      "memory usage: 482.9+ KB\n",
      "<class 'pandas.core.frame.DataFrame'>\n",
      "RangeIndex: 5445 entries, 0 to 5444\n",
      "Data columns (total 3 columns):\n",
      " #   Column      Non-Null Count  Dtype \n",
      "---  ------      --------------  ----- \n",
      " 0   base_appid  5445 non-null   object\n",
      " 1   dlc_appid   5445 non-null   object\n",
      " 2   name        5445 non-null   object\n",
      "dtypes: object(3)\n",
      "memory usage: 127.7+ KB\n",
      "<class 'pandas.core.frame.DataFrame'>\n",
      "RangeIndex: 99167 entries, 0 to 99166\n",
      "Data columns (total 10 columns):\n",
      " #   Column               Non-Null Count  Dtype \n",
      "---  ------               --------------  ----- \n",
      " 0   appid                99167 non-null  object\n",
      " 1   name                 99149 non-null  object\n",
      " 2   metacritic           3019 non-null   object\n",
      " 3   steam_achievements   99167 non-null  bool  \n",
      " 4   steam_trading_cards  99167 non-null  bool  \n",
      " 5   workshop_support     99167 non-null  bool  \n",
      " 6   genres               94389 non-null  object\n",
      " 7   achievements_total   38115 non-null  object\n",
      " 8   release_date         98861 non-null  object\n",
      " 9   supported_platforms  99167 non-null  object\n",
      "dtypes: bool(3), object(7)\n",
      "memory usage: 5.6+ MB\n"
     ]
    }
   ],
   "source": [
    "demo_df.info()\n",
    "dlc_df.info()\n",
    "info_base_games_df.info()"
   ]
  },
  {
   "cell_type": "markdown",
   "metadata": {},
   "source": [
    "### Drop auto_incremented columns"
   ]
  },
  {
   "cell_type": "code",
   "execution_count": 247,
   "metadata": {},
   "outputs": [
    {
     "name": "stdout",
     "output_type": "stream",
     "text": [
      "Demo File Columns: ['full_game_appid', 'demo_appid', 'name']\n",
      "DLC File Columns: ['base_appid', 'dlc_appid', 'name']\n"
     ]
    }
   ],
   "source": [
    "demo_df.drop(\"Unnamed: 0\", axis=1, inplace=True)\n",
    "\n",
    "print(\"Demo File Columns:\", demo_df.columns.tolist())\n",
    "print(\"DLC File Columns:\", dlc_df.columns.tolist())"
   ]
  },
  {
   "cell_type": "markdown",
   "metadata": {},
   "source": [
    "### Standardize column names"
   ]
  },
  {
   "cell_type": "code",
   "execution_count": 248,
   "metadata": {},
   "outputs": [
    {
     "name": "stdout",
     "output_type": "stream",
     "text": [
      "\n",
      "After Standardizing Column Names:\n",
      "\n",
      "Demo File Columns: ['appid', 'demo_appid', 'name']\n",
      "DLC File Columns: ['appid', 'dlc_appid', 'name']\n"
     ]
    }
   ],
   "source": [
    "demo_df.rename(columns={\"full_game_appid\": \"appid\"}, inplace=True)\n",
    "dlc_df.rename(columns={\"base_appid\": \"appid\"}, inplace=True)\n",
    "\n",
    "print(\"\\nAfter Standardizing Column Names:\\n\")\n",
    "print(\"Demo File Columns:\", demo_df.columns.tolist())\n",
    "print(\"DLC File Columns:\", dlc_df.columns.tolist())"
   ]
  },
  {
   "cell_type": "markdown",
   "metadata": {},
   "source": [
    "### Handle missing values"
   ]
  },
  {
   "cell_type": "code",
   "execution_count": 249,
   "metadata": {},
   "outputs": [
    {
     "name": "stdout",
     "output_type": "stream",
     "text": [
      "Dropped 1 rows in Demo DataFrame due to missing values.\n",
      "Remaining rows in Demo DataFrame: 15448\n",
      "\n",
      "Dropped 0 rows in DLC DataFrame due to missing values.\n",
      "Remaining rows in DLC DataFrame: 5445\n"
     ]
    }
   ],
   "source": [
    "original_len_demo = len(demo_df)\n",
    "original_len_dlc = len(dlc_df)\n",
    "demo_df.dropna(inplace=True)\n",
    "dlc_df.dropna(inplace=True)\n",
    "\n",
    "print(f\"Dropped {original_len_demo - len(demo_df)} rows in Demo DataFrame due to missing values.\")\n",
    "print(f\"Remaining rows in Demo DataFrame: {len(demo_df)}\\n\")\n",
    "print(f\"Dropped {original_len_dlc - len(dlc_df)} rows in DLC DataFrame due to missing values.\")\n",
    "print(f\"Remaining rows in DLC DataFrame: {len(dlc_df)}\")"
   ]
  },
  {
   "cell_type": "markdown",
   "metadata": {},
   "source": [
    "### Convert data types\n",
    "\n",
    "- errors=\"coerce\" means that if a value cannot be converted to a number **\"id is not a number\"** it's replaced by NaN\n",
    "- It then gets removed by dropna() function"
   ]
  },
  {
   "cell_type": "code",
   "execution_count": 250,
   "metadata": {},
   "outputs": [
    {
     "name": "stdout",
     "output_type": "stream",
     "text": [
      "Dropped 1 rows in Demo DataFrame due to missing values.\n",
      "Remaining rows in Demo DataFrame: 15447\n",
      "\n",
      "Dropped 1 rows in DLC DataFrame due to missing values.\n",
      "Remaining rows in DLC DataFrame: 5444\n"
     ]
    }
   ],
   "source": [
    "original_len_demo = len(demo_df)\n",
    "original_len_dlc = len(dlc_df)\n",
    "\n",
    "for df, appid_col in [(demo_df, \"demo_appid\"), (dlc_df, \"dlc_appid\")]:\n",
    "    df[appid_col] = pd.to_numeric(df[appid_col], errors=\"coerce\") \n",
    "    df[\"appid\"] = pd.to_numeric(df[\"appid\"], errors=\"coerce\")\n",
    "\n",
    "    # Drop rows where appid or demo/dlc_appid is missing/NaN\n",
    "    df.dropna(subset=[appid_col, \"appid\"], inplace=True)\n",
    "\n",
    "    df[appid_col] = df[appid_col].astype(int)\n",
    "    df[\"appid\"] = df[\"appid\"].astype(int)\n",
    "    df[\"name\"] = df[\"name\"].astype(str)\n",
    "\n",
    "print(f\"Dropped {original_len_demo - len(demo_df)} rows in Demo DataFrame due to missing values.\")\n",
    "print(f\"Remaining rows in Demo DataFrame: {len(demo_df)}\\n\")\n",
    "print(f\"Dropped {original_len_dlc - len(dlc_df)} rows in DLC DataFrame due to missing values.\")\n",
    "print(f\"Remaining rows in DLC DataFrame: {len(dlc_df)}\")\n"
   ]
  },
  {
   "cell_type": "markdown",
   "metadata": {},
   "source": [
    "### Remove duplicates by unique identifier\n",
    "\n",
    "- **demo_appid**: In the DEMOs file\n",
    "- **dlc_appid**: In the DLCs file"
   ]
  },
  {
   "cell_type": "code",
   "execution_count": 251,
   "metadata": {},
   "outputs": [
    {
     "name": "stdout",
     "output_type": "stream",
     "text": [
      "Dropped 0 duplicate rows in Demo DataFrame based on demo_appid.\n",
      "Dropped 0 duplicate rows in DLC DataFrame based on dlc_appid.\n"
     ]
    }
   ],
   "source": [
    "demo_duplicates = demo_df.duplicated(subset=[\"demo_appid\"]).sum()\n",
    "dlc_duplicates = dlc_df.duplicated(subset=[\"dlc_appid\"]).sum()\n",
    "demo_df.drop_duplicates(subset=[\"demo_appid\"], inplace=True)\n",
    "dlc_df.drop_duplicates(subset=[\"dlc_appid\"], inplace=True)\n",
    "print(f\"Dropped {demo_duplicates} duplicate rows in Demo DataFrame based on demo_appid.\")\n",
    "print(f\"Dropped {dlc_duplicates} duplicate rows in DLC DataFrame based on dlc_appid.\")"
   ]
  },
  {
   "cell_type": "markdown",
   "metadata": {},
   "source": [
    "### Clean the 'name' column\n",
    "\n",
    "- By removing any leading or trailing whitespace from the 'name' column.\n",
    "- By removing any non-alphanumeric characters from the 'name' column.\n",
    "- By removing 'Demo' and 'DLC' from the 'name' column."
   ]
  },
  {
   "cell_type": "code",
   "execution_count": 252,
   "metadata": {},
   "outputs": [],
   "source": [
    "def clean_name_column(df, column_name):\n",
    "    df[column_name] = (df[column_name]\n",
    "                      .str.replace(r\"(?i)\\bdemo\\b\", \"\", regex=True)\n",
    "                      .str.replace(r\"(?i)\\bdlc\\b\", \"\", regex=True)\n",
    "                      .str.replace(r\"\\s+\", \" \", regex=True)\n",
    "                      .str.strip()\n",
    "                      .str.title())\n",
    "    return df\n",
    "\n",
    "demo_df = clean_name_column(demo_df, \"name\")\n",
    "dlc_df = clean_name_column(dlc_df, \"name\")"
   ]
  },
  {
   "cell_type": "markdown",
   "metadata": {},
   "source": [
    "### Reset Indicies\n",
    "\n",
    "- Reset the indices of the dataframe to the original order."
   ]
  },
  {
   "cell_type": "code",
   "execution_count": 253,
   "metadata": {},
   "outputs": [],
   "source": [
    "demo_df.reset_index(drop=True, inplace=True)\n",
    "dlc_df.reset_index(drop=True, inplace=True)"
   ]
  },
  {
   "cell_type": "markdown",
   "metadata": {},
   "source": [
    "### Create indicator and count features\n",
    "\n",
    "- Merged later with info_base_games dataframe"
   ]
  },
  {
   "cell_type": "code",
   "execution_count": 254,
   "metadata": {},
   "outputs": [],
   "source": [
    "def create_indicator_features(df, group_by_col, count_col, feature_prefix):\n",
    "\n",
    "    # group by appid to count the demo/dlc count for each game \n",
    "    indicators = df.groupby(group_by_col)[count_col].count().reset_index()\n",
    "    \n",
    "    # create has_feature column\n",
    "    indicators[f'has_{feature_prefix}'] = 1\n",
    "\n",
    "    # create count column\n",
    "    indicators[f'{feature_prefix}_count'] = indicators[count_col]\n",
    "    \n",
    "    # e.g.: return demo_df[['appid', 'has_demo', 'demo_count']]  \n",
    "    return indicators[[group_by_col, f'has_{feature_prefix}', f'{feature_prefix}_count']]\n",
    "\n",
    "demo_indicators = create_indicator_features(demo_df, 'appid', 'demo_appid', 'demo')\n",
    "dlc_indicators = create_indicator_features(dlc_df, 'appid', 'dlc_appid', 'dlc')"
   ]
  },
  {
   "cell_type": "markdown",
   "metadata": {},
   "source": [
    "### Merge features with base_games_df"
   ]
  },
  {
   "cell_type": "code",
   "execution_count": 255,
   "metadata": {},
   "outputs": [],
   "source": [
    "info_base_games_df = info_base_games_df.merge(demo_indicators, on=\"appid\", how=\"left\")\n",
    "info_base_games_df = info_base_games_df.merge(dlc_indicators, on=\"appid\", how=\"left\")"
   ]
  },
  {
   "cell_type": "markdown",
   "metadata": {},
   "source": [
    "### Fill NaN values in the new features:\n",
    "\n",
    "- 0 for indicators and counts where no demo/DLC exists\n"
   ]
  },
  {
   "cell_type": "code",
   "execution_count": 256,
   "metadata": {},
   "outputs": [],
   "source": [
    "info_base_games_df[\"has_demo\"] = info_base_games_df[\"has_demo\"].fillna(0).astype(int)\n",
    "info_base_games_df[\"demo_count\"] = info_base_games_df[\"demo_count\"].fillna(0).astype(int)\n",
    "info_base_games_df[\"has_dlc\"] = info_base_games_df[\"has_dlc\"].fillna(0).astype(int)\n",
    "info_base_games_df[\"dlc_count\"] = info_base_games_df[\"dlc_count\"].fillna(0).astype(int)"
   ]
  },
  {
   "cell_type": "markdown",
   "metadata": {},
   "source": [
    "### Save the preprocessed data\n",
    "\n",
    "- Used to save the preprocessed data to a file for testing and validation purposes.\n",
    "- It's also used to add 4 features to the info_base_games: \n",
    "    \n",
    "    - dlc count\n",
    "    - demo count\n",
    "    - dlc indicator\n",
    "    - demo indicator\n",
    "    "
   ]
  },
  {
   "cell_type": "code",
   "execution_count": 257,
   "metadata": {},
   "outputs": [],
   "source": [
    "# demo_df.to_csv(DEMO_OUTPUT_PATH, index=False)\n",
    "# dlc_df.to_csv(DLC_OUTPUT_PATH, index=False)\n",
    "# info_base_games_df.to_csv(BASE_GAMES_OUTPUT_PATH, index=False)"
   ]
  },
  {
   "cell_type": "markdown",
   "metadata": {},
   "source": [
    "### Statistics After Preprocessing"
   ]
  },
  {
   "cell_type": "code",
   "execution_count": 258,
   "metadata": {},
   "outputs": [
    {
     "name": "stdout",
     "output_type": "stream",
     "text": [
      "<class 'pandas.core.frame.DataFrame'>\n",
      "RangeIndex: 15447 entries, 0 to 15446\n",
      "Data columns (total 3 columns):\n",
      " #   Column      Non-Null Count  Dtype \n",
      "---  ------      --------------  ----- \n",
      " 0   appid       15447 non-null  int64 \n",
      " 1   demo_appid  15447 non-null  int64 \n",
      " 2   name        15447 non-null  object\n",
      "dtypes: int64(2), object(1)\n",
      "memory usage: 362.2+ KB\n",
      "<class 'pandas.core.frame.DataFrame'>\n",
      "RangeIndex: 5444 entries, 0 to 5443\n",
      "Data columns (total 3 columns):\n",
      " #   Column     Non-Null Count  Dtype \n",
      "---  ------     --------------  ----- \n",
      " 0   appid      5444 non-null   int64 \n",
      " 1   dlc_appid  5444 non-null   int64 \n",
      " 2   name       5444 non-null   object\n",
      "dtypes: int64(2), object(1)\n",
      "memory usage: 127.7+ KB\n",
      "<class 'pandas.core.frame.DataFrame'>\n",
      "RangeIndex: 99167 entries, 0 to 99166\n",
      "Data columns (total 14 columns):\n",
      " #   Column               Non-Null Count  Dtype \n",
      "---  ------               --------------  ----- \n",
      " 0   appid                99167 non-null  object\n",
      " 1   name                 99149 non-null  object\n",
      " 2   metacritic           3019 non-null   object\n",
      " 3   steam_achievements   99167 non-null  bool  \n",
      " 4   steam_trading_cards  99167 non-null  bool  \n",
      " 5   workshop_support     99167 non-null  bool  \n",
      " 6   genres               94389 non-null  object\n",
      " 7   achievements_total   38115 non-null  object\n",
      " 8   release_date         98861 non-null  object\n",
      " 9   supported_platforms  99167 non-null  object\n",
      " 10  has_demo             99167 non-null  int64 \n",
      " 11  demo_count           99167 non-null  int64 \n",
      " 12  has_dlc              99167 non-null  int64 \n",
      " 13  dlc_count            99167 non-null  int64 \n",
      "dtypes: bool(3), int64(4), object(7)\n",
      "memory usage: 8.6+ MB\n"
     ]
    }
   ],
   "source": [
    "demo_df.info()\n",
    "dlc_df.info()\n",
    "info_base_games_df.info()"
   ]
  },
  {
   "cell_type": "markdown",
   "metadata": {},
   "source": [
    "### Summary"
   ]
  },
  {
   "cell_type": "code",
   "execution_count": 259,
   "metadata": {},
   "outputs": [
    {
     "name": "stdout",
     "output_type": "stream",
     "text": [
      "\n",
      "Preprocessing Summary:\n",
      "\n",
      "Demo DataFrame: 15447 rows, 3 columns\n",
      "DLC DataFrame: 5444 rows, 3 columns\n",
      "\n",
      "Info_base_games DataFrame: 99167 rows, 14 columns\n",
      "\n",
      "     appid  dlc_appid                                             name\n",
      "0  1786750    2568660                        家出王女 - 全年齢版ストーリー&グラフィック追加\n",
      "1  1981700    2563730                           Jacob'S Quest - Voyage\n",
      "2  2009450    2552980  Invector: Rhythm Galaxy - Latin Power Song Pack\n",
      "3  1133420    2550750         Hero Or Villain: Genesis — Supercharged!\n",
      "4  2533950    2551000            Hot And Lovely ：Uniform - Adult Patch\n",
      "\n",
      "\n",
      "     appid  demo_appid                    name\n",
      "0  2214650     2573370          Rolando Deluxe\n",
      "1  1439980     2573460  Outrunner: Neon Nights\n",
      "2  2412240     2572840     Bubble Ghost Remake\n",
      "3  2448830     2572240           Time Handlers\n",
      "4  2379590     2570800    Hope'S Final Defense\n",
      "\n",
      "\n",
      "     appid                      name metacritic  steam_achievements  \\\n",
      "0  2574000            Femboy Burgers        NaN                True   \n",
      "1  2574120  PPA Pickleball Tour 2025        NaN                True   \n",
      "2  2573200             Squeaky Squad        NaN                True   \n",
      "3  2573440             Paradox Metal        NaN                True   \n",
      "4  2569520    Naturpark Lillebælt VR        NaN                True   \n",
      "\n",
      "   steam_trading_cards  workshop_support                     genres  \\\n",
      "0                 True              True              Casual, Indie   \n",
      "1                 True              True  Indie, Simulation, Sports   \n",
      "2                 True              True   Action, Adventure, Indie   \n",
      "3                 True              True       Action, Early Access   \n",
      "4                 True              True          Action, Adventure   \n",
      "\n",
      "  achievements_total  release_date          supported_platforms  has_demo  \\\n",
      "0                NaN   Oct 9, 2023  ['windows', 'mac', 'linux']         0   \n",
      "1                 18  Jul 16, 2024  ['windows', 'mac', 'linux']         0   \n",
      "2                 27  Mar 29, 2024  ['windows', 'mac', 'linux']         0   \n",
      "3                NaN   Coming soon  ['windows', 'mac', 'linux']         0   \n",
      "4                NaN  Sep 18, 2023  ['windows', 'mac', 'linux']         0   \n",
      "\n",
      "   demo_count  has_dlc  dlc_count  \n",
      "0           0        0          0  \n",
      "1           0        0          0  \n",
      "2           0        0          0  \n",
      "3           0        0          0  \n",
      "4           0        0          0  \n"
     ]
    }
   ],
   "source": [
    "print(\"\\nPreprocessing Summary:\\n\")\n",
    "print(f\"Demo DataFrame: {len(demo_df)} rows, {len(demo_df.columns)} columns\")\n",
    "print(f\"DLC DataFrame: {len(dlc_df)} rows, {len(dlc_df.columns)} columns\\n\")\n",
    "print(f\"Info_base_games DataFrame: {len(info_base_games_df)} rows, {len(info_base_games_df.columns)} columns\\n\")\n",
    "\n",
    "print(dlc_df.head())\n",
    "print(\"\\n\")\n",
    "print(demo_df.head())\n",
    "print(\"\\n\")\n",
    "print(info_base_games_df.head())"
   ]
  },
  {
   "cell_type": "markdown",
   "metadata": {},
   "source": [
    "### Conclusion\n",
    "\n",
    "The 2 csv files contain the following :\n",
    "\n",
    "##### 1. Demos\n",
    "\n",
    "- contains the demo name, demo id and the main game id\n",
    "\n",
    "##### 2. Dlcs\n",
    "\n",
    "- contains the dlc name, dlc id and the main game id\n",
    "\n",
    "#### Some Notes\n",
    "\n",
    "- I didn't scale or normalize the values of the ids in both csv files because they are identifiers.\n",
    "- I normalized all the column names, removed missing value and converted the data types of the columns to the appropriate ones.\n",
    "- I removed the duplicate rows from both csv files based on the 'id' column (e.g., \"demo_appid\").\n",
    "- I normalized the 'name' column in both csv files by removing the leading and trailing whitespaces.\n",
    "- I also removed the 'Demo' and 'DLC' from the 'name' column in both csv files.\n",
    "- I added the code for adding the 4 features requested.\n",
    "- Any comments are for either for testing my part or for creating and merging the new 4 features used in the info_base_games csv\n",
    "\n",
    "#### What I think About the Data\n",
    "\n",
    "- I think the 2 csv files' columns won't be useful or have any indication of the game's popularity or how many copies it sold; they are more like metadata."
   ]
  }
 ],
 "metadata": {
  "kernelspec": {
   "display_name": "Python (steam-ml-env)",
   "language": "python",
   "name": "steam-ml-env"
  },
  "language_info": {
   "codemirror_mode": {
    "name": "ipython",
    "version": 3
   },
   "file_extension": ".py",
   "mimetype": "text/x-python",
   "name": "python",
   "nbconvert_exporter": "python",
   "pygments_lexer": "ipython3",
   "version": "3.12.2"
  }
 },
 "nbformat": 4,
 "nbformat_minor": 4
}
