{
 "cells": [
  {
   "cell_type": "code",
   "execution_count": 1,
   "id": "3605c560",
   "metadata": {},
   "outputs": [],
   "source": [
    "import numpy as np\n",
    "import pandas as pd\n",
    "import seaborn as sns\n",
    "import matplotlib.pyplot as plt\n",
    "import re\n",
    "\n",
    "from sklearn import linear_model\n",
    "from sklearn import metrics\n",
    "from sklearn.model_selection import train_test_split\n",
    "from sklearn.preprocessing import PolynomialFeatures\n",
    "from sklearn.impute import KNNImputer"
   ]
  },
  {
   "cell_type": "code",
   "execution_count": 2,
   "id": "f82bfe89",
   "metadata": {},
   "outputs": [
    {
     "name": "stdout",
     "output_type": "stream",
     "text": [
      "(99167, 10)\n",
      "(93338, 6)\n"
     ]
    }
   ],
   "source": [
    "df_infobase = pd.read_csv(\"../../data/raw/info_base_games.csv\",low_memory=False)\n",
    "df_gamalytic = pd.read_csv(\"../../data/raw/gamalytic_steam_games.csv\",low_memory=False)\n",
    "df_infobase.dtypes\n",
    "df_gamalytic.dtypes\n",
    "print(df_infobase.shape)\n",
    "print(df_gamalytic.shape)"
   ]
  },
  {
   "cell_type": "code",
   "execution_count": 3,
   "id": "97a61db7",
   "metadata": {},
   "outputs": [
    {
     "name": "stdout",
     "output_type": "stream",
     "text": [
      "appid                   int64\n",
      "name                   object\n",
      "metacritic             object\n",
      "steam_achievements       bool\n",
      "steam_trading_cards      bool\n",
      "workshop_support         bool\n",
      "genres                 object\n",
      "achievements_total     object\n",
      "release_date           object\n",
      "supported_platforms    object\n",
      "dtype: object\n",
      "(99166, 10)\n"
     ]
    }
   ],
   "source": [
    "common_column = 'appid'\n",
    "df_gamalytic.rename(columns={'steamId': common_column}, inplace=True)\n",
    "# convert data type object to number for column appid in infobase \n",
    "#df_infobase[common_column] = df_infobase[common_column].astype(int) # I assume it's primary key so it will not have any null val\n",
    "# First Remove any rows if appid is not numeric\n",
    "df_infobase = df_infobase[pd.to_numeric(df_infobase[common_column], errors='coerce').notna()] \n",
    "df_infobase[common_column] = df_infobase[common_column].astype(int)\n",
    "print(df_infobase.dtypes)\n",
    "print(df_infobase.shape)\n",
    "def merge_steam_games(x,y):\n",
    "    df = pd.merge(x,y,on=common_column, how='inner')\n",
    "    return df \n",
    "df = merge_steam_games(df_infobase,df_gamalytic).copy()"
   ]
  },
  {
   "cell_type": "code",
   "execution_count": 4,
   "id": "6b6cc07f",
   "metadata": {},
   "outputs": [
    {
     "name": "stdout",
     "output_type": "stream",
     "text": [
      "(69428, 15)\n"
     ]
    },
    {
     "data": {
      "text/html": [
       "<div>\n",
       "<style scoped>\n",
       "    .dataframe tbody tr th:only-of-type {\n",
       "        vertical-align: middle;\n",
       "    }\n",
       "\n",
       "    .dataframe tbody tr th {\n",
       "        vertical-align: top;\n",
       "    }\n",
       "\n",
       "    .dataframe thead th {\n",
       "        text-align: right;\n",
       "    }\n",
       "</style>\n",
       "<table border=\"1\" class=\"dataframe\">\n",
       "  <thead>\n",
       "    <tr style=\"text-align: right;\">\n",
       "      <th></th>\n",
       "      <th>appid</th>\n",
       "      <th>price</th>\n",
       "      <th>copiesSold</th>\n",
       "      <th>reviewScore</th>\n",
       "      <th>aiContent</th>\n",
       "    </tr>\n",
       "  </thead>\n",
       "  <tbody>\n",
       "    <tr>\n",
       "      <th>count</th>\n",
       "      <td>6.942800e+04</td>\n",
       "      <td>69428.000000</td>\n",
       "      <td>6.942800e+04</td>\n",
       "      <td>69428.000000</td>\n",
       "      <td>0.0</td>\n",
       "    </tr>\n",
       "    <tr>\n",
       "      <th>mean</th>\n",
       "      <td>1.742130e+06</td>\n",
       "      <td>7.940826</td>\n",
       "      <td>8.584933e+04</td>\n",
       "      <td>71.903843</td>\n",
       "      <td>NaN</td>\n",
       "    </tr>\n",
       "    <tr>\n",
       "      <th>std</th>\n",
       "      <td>9.273455e+05</td>\n",
       "      <td>15.533680</td>\n",
       "      <td>1.820168e+06</td>\n",
       "      <td>28.682102</td>\n",
       "      <td>NaN</td>\n",
       "    </tr>\n",
       "    <tr>\n",
       "      <th>min</th>\n",
       "      <td>1.000000e+01</td>\n",
       "      <td>0.000000</td>\n",
       "      <td>0.000000e+00</td>\n",
       "      <td>0.000000</td>\n",
       "      <td>NaN</td>\n",
       "    </tr>\n",
       "    <tr>\n",
       "      <th>25%</th>\n",
       "      <td>9.626250e+05</td>\n",
       "      <td>0.990000</td>\n",
       "      <td>6.000000e+01</td>\n",
       "      <td>60.000000</td>\n",
       "      <td>NaN</td>\n",
       "    </tr>\n",
       "    <tr>\n",
       "      <th>50%</th>\n",
       "      <td>1.612815e+06</td>\n",
       "      <td>4.990000</td>\n",
       "      <td>4.570000e+02</td>\n",
       "      <td>80.000000</td>\n",
       "      <td>NaN</td>\n",
       "    </tr>\n",
       "    <tr>\n",
       "      <th>75%</th>\n",
       "      <td>2.581562e+06</td>\n",
       "      <td>9.990000</td>\n",
       "      <td>3.955000e+03</td>\n",
       "      <td>94.000000</td>\n",
       "      <td>NaN</td>\n",
       "    </tr>\n",
       "    <tr>\n",
       "      <th>max</th>\n",
       "      <td>3.515040e+06</td>\n",
       "      <td>1900.000000</td>\n",
       "      <td>3.021580e+08</td>\n",
       "      <td>100.000000</td>\n",
       "      <td>NaN</td>\n",
       "    </tr>\n",
       "  </tbody>\n",
       "</table>\n",
       "</div>"
      ],
      "text/plain": [
       "              appid         price    copiesSold   reviewScore  aiContent\n",
       "count  6.942800e+04  69428.000000  6.942800e+04  69428.000000        0.0\n",
       "mean   1.742130e+06      7.940826  8.584933e+04     71.903843        NaN\n",
       "std    9.273455e+05     15.533680  1.820168e+06     28.682102        NaN\n",
       "min    1.000000e+01      0.000000  0.000000e+00      0.000000        NaN\n",
       "25%    9.626250e+05      0.990000  6.000000e+01     60.000000        NaN\n",
       "50%    1.612815e+06      4.990000  4.570000e+02     80.000000        NaN\n",
       "75%    2.581562e+06      9.990000  3.955000e+03     94.000000        NaN\n",
       "max    3.515040e+06   1900.000000  3.021580e+08    100.000000        NaN"
      ]
     },
     "execution_count": 4,
     "metadata": {},
     "output_type": "execute_result"
    }
   ],
   "source": [
    "df\n",
    "print(df.shape)\n",
    "df.describe()"
   ]
  },
  {
   "cell_type": "code",
   "execution_count": null,
   "id": "d52c3aef",
   "metadata": {},
   "outputs": [],
   "source": [
    "#df_infobase.head(10)\n",
    "#df_infobase.tail(10)\n",
    "#df_infobase.dtypes\n",
    "#df_infobase.shape \n",
    "#df_infobase.info()\n",
    "df_infobase.describe()\n"
   ]
  },
  {
   "cell_type": "code",
   "execution_count": null,
   "id": "9b229d3c",
   "metadata": {},
   "outputs": [],
   "source": [
    "df_infobase.isnull().sum()\n",
    "#print(((df_infobase.isnull().sum())/df_infobase.shape[0]) * 100)"
   ]
  },
  {
   "cell_type": "code",
   "execution_count": null,
   "id": "90fe5a24",
   "metadata": {},
   "outputs": [],
   "source": [
    "# FOR preprocessing release date \n",
    "#df_infobase['release_date'].isnull().sum()\n",
    "#df_infobase[df_infobase['release_date'].isnull()]\n",
    "#df_infobase['release_date'] = pd.to_datetime(df_infobase['release_date'])\n",
    "#df_infobase['release_date']\n",
    "#df_infobase['release_date'] = df_infobase['release_date'].apply(lambda x: pd.to_datetime(x, infer_datetime_format=True).year)\n",
    "# To be announced , Coming soon , year , dd-mm-yy , Q1 yyyy , dd-Mon"
   ]
  },
  {
   "cell_type": "code",
   "execution_count": null,
   "id": "1e2bff3c",
   "metadata": {},
   "outputs": [],
   "source": [
    "print(\"Before Preprocessing: \",df_infobase['release_date'].isnull().sum())\n",
    "\n",
    "def preprocess_release_date(x):\n",
    "    x = str(x)\n",
    "    if re.search(r'(\\d{1,2}) .*? ([A-Za-z]{3}) .*? (\\d{4} | \\d{2})', x):\n",
    "        day, month, year = re.search(r'(\\d{1,2}) .*? ([A-Za-z]{3}) .*? (\\d{4} | \\d{2})', x).groups()\n",
    "        return f\"{day} {month} {year}\"\n",
    "    elif re.search(r'([A-Za-z]{3}) .*? (\\d{2}|\\d{4})', x):\n",
    "        month, year = re.search(r'([A-Za-z]{3}) .*? (\\d{2}|\\d{4})', x).groups()\n",
    "        return f\"1 {month} {year}\"\n",
    "    elif re.search(r'\\b\\d{1,2}-[A-Za-z]{3}-\\d{2}\\b', x):\n",
    "        return x.replace('-', '')\n",
    "    elif re.search(r'\\b\\d{1,2}-[A-Za-z]{3}\\b', x):\n",
    "        return np.nan\n",
    "    elif re.search(r'\\b[\\d]{1,2} [A-Za-z]{3}, [\\d]{4}\\b', x):\n",
    "        return x.replace(',', '')\n",
    "    elif re.search(r'\\bQ[1-4] \\d{4}\\b', x):\n",
    "        q, y = x.split()\n",
    "        quarter_map = {\n",
    "            'Q1': '01 Jan',\n",
    "            'Q2': '01 Apr',\n",
    "            'Q3': '01 Jul',\n",
    "            'Q4': '01 Oct',\n",
    "        }\n",
    "        return f\"{quarter_map[q]} {y}\"\n",
    "    elif re.search(r'\\b[\\d]{4}\\b', x):\n",
    "        return \"1 JAN \" + str(x)\n",
    "    elif x.lower() == 'to be announced':\n",
    "        return np.nan\n",
    "    elif x.lower() == 'coming soon':\n",
    "        return np.nan\n",
    "    elif x == '':\n",
    "        return np.nan\n",
    "    else:\n",
    "        return np.nan\n",
    "        #print(x)\n",
    "\n",
    "# for each value in column release date we will apply this function to it \n",
    "df_infobase['release_date'] = df_infobase['release_date'].apply(preprocess_release_date)\n",
    "\n",
    "#print(\"After Preprocessing: \",df_infobase['release_date'].isnull().sum())\n",
    "#print(df_infobase.shape[0])\n",
    "#df_infobase['release_date'].sample(100)\n"
   ]
  },
  {
   "cell_type": "code",
   "execution_count": null,
   "id": "c0431c65",
   "metadata": {},
   "outputs": [],
   "source": [
    "#df_infobase['release_date'] = pd.to_datetime(df_infobase['release_date'], format='%d %b %Y', errors='coerce')\n",
    "#df_infobase['release_date'] = df_infobase['release_date'].apply(lambda x: pd.to_datetime(x, infer_datetime_format=True).year)\n",
    "\n",
    "\n",
    "df_infobase['release_date'] = pd.to_datetime(df_infobase['release_date'], errors='coerce')\n",
    "df_infobase['is_release_date_known'] = df_infobase['release_date'].notna().astype(int)\n",
    "df_infobase['year'] = df_infobase['release_date'].dt.year.fillna(0).astype(int)\n",
    "fraction_of_year = np.where(df_infobase['is_release_date_known'], (df_infobase['release_date'].dt.dayofyear - 1) / 365, 0)\n",
    "df_infobase['fraction_sin'] = np.sin(2 * np.pi * fraction_of_year)\n",
    "df_infobase['fraction_cos'] = np.cos(2 * np.pi * fraction_of_year)\n",
    "df_infobase.drop('release_date',axis=1,inplace=True)\n"
   ]
  },
  {
   "cell_type": "code",
   "execution_count": null,
   "id": "e4c6dd51",
   "metadata": {},
   "outputs": [],
   "source": [
    "#df_infobase['release_date'].isnull().sum()\n",
    "#df_infobase['release_date'].describe().T\n",
    "#df_infobase['release_date'].info()\n",
    "#df_infobase['release_date'].head(1000)\n",
    "df_infobase\n",
    "#df_infobase.head(100)"
   ]
  },
  {
   "cell_type": "markdown",
   "id": "c45f479d",
   "metadata": {},
   "source": [
    "I have mutliple approaches \n",
    "\n",
    "First Approach \n",
    "just consider only \"year\" column and ignore day and month \n",
    "\n",
    "second approach \n",
    "\n",
    "Create new column for binary feature is_release_date_known\n",
    "1 indicates a specific date or quarter is known.\n",
    "0 indicates the entry is \"to be announced\" or \"coming soon\".\n",
    "For the main release date feature (fractional_year) = year + (day of year - 1)/days in year\n",
    "```py\n",
    "quarter_map = {\n",
    "    'Q1': 0.125,\n",
    "    'Q2': 0.375,\n",
    "    'Q3': 0.625,\n",
    "    'Q4': 0.875\n",
    "}\n",
    "\n",
    "df['release_date'] = pd.to_datetime(df['release_date'])\n",
    "\n",
    "df['fractional_year'] = df['release_date'].dt.year + (df['release_date'].dt.dayofyear - 1) / (365 + df['release_date'].dt.is_leap_year.astype(int))\n",
    "\n",
    "df['fractional_year'] = df['release_date'].apply(lambda x: int(x[:4]) + quarter_map[x[5:]] if isinstance(x, str) and x.startswith('Q') else x)\n",
    "```\n",
    "\n",
    "Third Approach \n",
    "guide : https://medium.com/%40paghadalsneh/handling-date-and-time-data-in-machine-learning-a-comprehensive-guide-5d30141cbfec \n",
    "\n",
    "splitting date into 3 features (day,month,year)\n",
    "\n",
    "Fourth Approach \n",
    "Cyclical encoding \n",
    "\n"
   ]
  },
  {
   "cell_type": "code",
   "execution_count": null,
   "id": "b01de23c",
   "metadata": {},
   "outputs": [],
   "source": [
    "# Preprocessing for achievements total \n",
    "#df_infobase['achievements_total'].fillna(\"0\",inplace=True)\n",
    "df_infobase['achievements_total'] = pd.to_numeric(df_infobase['achievements_total'], errors='coerce').fillna(0).astype(int)\n",
    "#df_infobase[[df_infobase['achievements_total'] == None]] = 0\n",
    "df_infobase['achievements_total'].isnull().sum()\n",
    "df_infobase['steam_achievements'] = (df_infobase['achievements_total'] != 0).astype(int)\n",
    "# all nulls be zero \n",
    "#imputer = KNNImputer(n_neighbors=5, weights='uniform', metric='nan_euclidean')\n",
    "#df_infobase['achievements_total'] = imputer.fit_transform(df_infobase['achievements_total'])\n",
    "\n",
    "df_infobase"
   ]
  }
 ],
 "metadata": {
  "kernelspec": {
   "display_name": ".venv",
   "language": "python",
   "name": "python3"
  },
  "language_info": {
   "codemirror_mode": {
    "name": "ipython",
    "version": 3
   },
   "file_extension": ".py",
   "mimetype": "text/x-python",
   "name": "python",
   "nbconvert_exporter": "python",
   "pygments_lexer": "ipython3",
   "version": "3.13.3"
  }
 },
 "nbformat": 4,
 "nbformat_minor": 5
}
