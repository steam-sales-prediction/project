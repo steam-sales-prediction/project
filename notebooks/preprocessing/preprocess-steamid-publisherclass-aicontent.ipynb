{
  "cells": [
    {
      "cell_type": "markdown",
      "metadata": {
        "id": "J4NfJzxGj1MV"
      },
      "source": [
        "# Preprocess steamid, publisherclass, and aicontent Columns"
      ]
    },
    {
      "cell_type": "code",
      "execution_count": 83,
      "metadata": {
        "id": "PkS5wsE-vu8U"
      },
      "outputs": [],
      "source": [
        "import pandas as pd\n",
        "import matplotlib.pyplot as plt\n",
        "from sklearn.preprocessing import OneHotEncoder"
      ]
    },
    {
      "cell_type": "code",
      "execution_count": 84,
      "metadata": {
        "id": "goP6LYuMixVa"
      },
      "outputs": [],
      "source": [
        "df=pd.read_csv('../../data/raw/gamalytic_steam_games.csv')"
      ]
    },
    {
      "cell_type": "code",
      "execution_count": 85,
      "metadata": {
        "colab": {
          "base_uri": "https://localhost:8080/"
        },
        "id": "zNeM8pHYr8s7",
        "outputId": "4c988cbe-1603-4342-b6f7-17edc7457098"
      },
      "outputs": [
        {
          "data": {
            "text/plain": [
              "(93338, 6)"
            ]
          },
          "execution_count": 85,
          "metadata": {},
          "output_type": "execute_result"
        }
      ],
      "source": [
        "df.shape"
      ]
    },
    {
      "cell_type": "code",
      "execution_count": 86,
      "metadata": {
        "colab": {
          "base_uri": "https://localhost:8080/",
          "height": 206
        },
        "id": "DKf96C_8uAVw",
        "outputId": "c51e1a6e-cd7e-4f24-820a-c968b66cd851"
      },
      "outputs": [
        {
          "data": {
            "text/html": [
              "<div>\n",
              "<style scoped>\n",
              "    .dataframe tbody tr th:only-of-type {\n",
              "        vertical-align: middle;\n",
              "    }\n",
              "\n",
              "    .dataframe tbody tr th {\n",
              "        vertical-align: top;\n",
              "    }\n",
              "\n",
              "    .dataframe thead th {\n",
              "        text-align: right;\n",
              "    }\n",
              "</style>\n",
              "<table border=\"1\" class=\"dataframe\">\n",
              "  <thead>\n",
              "    <tr style=\"text-align: right;\">\n",
              "      <th></th>\n",
              "      <th>steamId</th>\n",
              "      <th>price</th>\n",
              "      <th>copiesSold</th>\n",
              "      <th>publisherClass</th>\n",
              "      <th>reviewScore</th>\n",
              "      <th>aiContent</th>\n",
              "    </tr>\n",
              "  </thead>\n",
              "  <tbody>\n",
              "    <tr>\n",
              "      <th>0</th>\n",
              "      <td>730</td>\n",
              "      <td>0.0</td>\n",
              "      <td>302158048</td>\n",
              "      <td>AAA</td>\n",
              "      <td>87</td>\n",
              "      <td>NaN</td>\n",
              "    </tr>\n",
              "    <tr>\n",
              "      <th>1</th>\n",
              "      <td>570</td>\n",
              "      <td>0.0</td>\n",
              "      <td>212896574</td>\n",
              "      <td>AAA</td>\n",
              "      <td>82</td>\n",
              "      <td>NaN</td>\n",
              "    </tr>\n",
              "    <tr>\n",
              "      <th>2</th>\n",
              "      <td>578080</td>\n",
              "      <td>0.0</td>\n",
              "      <td>161971233</td>\n",
              "      <td>AAA</td>\n",
              "      <td>59</td>\n",
              "      <td>NaN</td>\n",
              "    </tr>\n",
              "    <tr>\n",
              "      <th>3</th>\n",
              "      <td>440</td>\n",
              "      <td>0.0</td>\n",
              "      <td>99060457</td>\n",
              "      <td>AAA</td>\n",
              "      <td>90</td>\n",
              "      <td>NaN</td>\n",
              "    </tr>\n",
              "    <tr>\n",
              "      <th>4</th>\n",
              "      <td>1172470</td>\n",
              "      <td>0.0</td>\n",
              "      <td>67554185</td>\n",
              "      <td>AAA</td>\n",
              "      <td>67</td>\n",
              "      <td>NaN</td>\n",
              "    </tr>\n",
              "  </tbody>\n",
              "</table>\n",
              "</div>"
            ],
            "text/plain": [
              "   steamId  price  copiesSold publisherClass  reviewScore  aiContent\n",
              "0      730    0.0   302158048            AAA           87        NaN\n",
              "1      570    0.0   212896574            AAA           82        NaN\n",
              "2   578080    0.0   161971233            AAA           59        NaN\n",
              "3      440    0.0    99060457            AAA           90        NaN\n",
              "4  1172470    0.0    67554185            AAA           67        NaN"
            ]
          },
          "execution_count": 86,
          "metadata": {},
          "output_type": "execute_result"
        }
      ],
      "source": [
        "df.head()"
      ]
    },
    {
      "cell_type": "code",
      "execution_count": 87,
      "metadata": {
        "colab": {
          "base_uri": "https://localhost:8080/"
        },
        "id": "Nn6TvtNFsfsU",
        "outputId": "65f47572-57a5-4e6b-f9de-7cf14d512fd1"
      },
      "outputs": [
        {
          "name": "stdout",
          "output_type": "stream",
          "text": [
            "<class 'pandas.core.frame.DataFrame'>\n",
            "RangeIndex: 93338 entries, 0 to 93337\n",
            "Data columns (total 6 columns):\n",
            " #   Column          Non-Null Count  Dtype  \n",
            "---  ------          --------------  -----  \n",
            " 0   steamId         93338 non-null  int64  \n",
            " 1   price           93338 non-null  float64\n",
            " 2   copiesSold      93338 non-null  int64  \n",
            " 3   publisherClass  93338 non-null  object \n",
            " 4   reviewScore     93338 non-null  int64  \n",
            " 5   aiContent       0 non-null      float64\n",
            "dtypes: float64(2), int64(3), object(1)\n",
            "memory usage: 4.3+ MB\n"
          ]
        }
      ],
      "source": [
        "df.info()"
      ]
    },
    {
      "cell_type": "code",
      "execution_count": 88,
      "metadata": {
        "colab": {
          "base_uri": "https://localhost:8080/"
        },
        "id": "34stg03MwTcs",
        "outputId": "1cde5b59-eb9a-465a-d5bb-e9c221f33fb4"
      },
      "outputs": [
        {
          "data": {
            "text/plain": [
              "np.int64(0)"
            ]
          },
          "execution_count": 88,
          "metadata": {},
          "output_type": "execute_result"
        }
      ],
      "source": [
        "df.duplicated().sum()"
      ]
    },
    {
      "cell_type": "markdown",
      "metadata": {
        "id": "d_tU0U2Dttcl"
      },
      "source": [
        "# publisher class column"
      ]
    },
    {
      "cell_type": "code",
      "execution_count": 89,
      "metadata": {
        "colab": {
          "base_uri": "https://localhost:8080/",
          "height": 241
        },
        "id": "wUAkQieEtxu0",
        "outputId": "15f8d5ca-bc7f-4d26-cbe1-40548974018d"
      },
      "outputs": [
        {
          "data": {
            "text/plain": [
              "publisherClass\n",
              "Hobbyist    52161\n",
              "Indie       37304\n",
              "AA           2844\n",
              "AAA          1029\n",
              "Name: count, dtype: int64"
            ]
          },
          "execution_count": 89,
          "metadata": {},
          "output_type": "execute_result"
        }
      ],
      "source": [
        "df['publisherClass'].value_counts()"
      ]
    },
    {
      "cell_type": "code",
      "execution_count": 90,
      "metadata": {},
      "outputs": [
        {
          "name": "stderr",
          "output_type": "stream",
          "text": [
            "C:\\Users\\maria\\AppData\\Local\\Temp\\ipykernel_13324\\1774494533.py:7: FutureWarning: \n",
            "\n",
            "Passing `palette` without assigning `hue` is deprecated and will be removed in v0.14.0. Assign the `x` variable to `hue` and set `legend=False` for the same effect.\n",
            "\n",
            "  sns.barplot(x=grouped.index, y=grouped.values, palette='viridis')\n"
          ]
        },
        {
          "data": {
            "image/png": "[encoded data removed]",
            "text/plain": [
              "<Figure size 800x500 with 1 Axes>"
            ]
          },
          "metadata": {},
          "output_type": "display_data"
        }
      ],
      "source": [
        "import matplotlib.pyplot as plt\n",
        "import seaborn as sns\n",
        "\n",
        "grouped = df.groupby('publisherClass')['copiesSold'].sum().sort_values(ascending=False)\n",
        "\n",
        "plt.figure(figsize=(8,5))\n",
        "sns.barplot(x=grouped.index, y=grouped.values, palette='viridis')\n",
        "plt.title('Total Copies Sold by Publisher Class')\n",
        "plt.xlabel('Publisher Class')\n",
        "plt.ylabel('Copies Sold')\n",
        "plt.show()\n"
      ]
    },
    {
      "cell_type": "markdown",
      "metadata": {
        "id": "kwsDSnihuK6C"
      },
      "source": [
        " As dataset rows equals 93338 i think we can replace AA and AAA columns with only one column for others and this also may handle unseen data in testing"
      ]
    },
    {
      "cell_type": "code",
      "execution_count": 91,
      "metadata": {},
      "outputs": [
        {
          "name": "stdout",
          "output_type": "stream",
          "text": [
            "publisherClass\n",
            "Hobbyist    52161\n",
            "Indie       37304\n",
            "Other        3873\n",
            "Name: count, dtype: int64\n"
          ]
        }
      ],
      "source": [
        "df['publisherClass'] = df['publisherClass'].replace(['AA', 'AAA'], 'Other')\n",
        "print(df['publisherClass'].value_counts())"
      ]
    },
    {
      "cell_type": "markdown",
      "metadata": {
        "id": "1VgYsMj204Pb"
      },
      "source": [
        "# Using one hot encoding"
      ]
    },
    {
      "cell_type": "code",
      "execution_count": 92,
      "metadata": {
        "id": "Le2m2JSMvmps"
      },
      "outputs": [],
      "source": [
        "from sklearn.preprocessing import OneHotEncoder\n",
        "encoder = OneHotEncoder(drop='first',sparse_output=False)\n",
        "encoded_data = encoder.fit_transform(df[['publisherClass']])\n",
        "encoded_df = pd.DataFrame(encoded_data, columns=encoder.get_feature_names_out(['publisherClass']))"
      ]
    },
    {
      "cell_type": "code",
      "execution_count": 93,
      "metadata": {
        "id": "vGNdc9TGv8iu"
      },
      "outputs": [],
      "source": [
        "df = pd.concat([df, encoded_df], axis=1)"
      ]
    },
    {
      "cell_type": "code",
      "execution_count": 94,
      "metadata": {
        "id": "7aOhZIAh0MMF"
      },
      "outputs": [],
      "source": [
        "df.drop('publisherClass', axis=1, inplace=True)"
      ]
    },
    {
      "cell_type": "code",
      "execution_count": 95,
      "metadata": {
        "colab": {
          "base_uri": "https://localhost:8080/",
          "height": 206
        },
        "id": "iPEGnXIwwGW5",
        "outputId": "05d7cb66-6e45-425f-fb69-db6743f4dcf4"
      },
      "outputs": [
        {
          "data": {
            "text/html": [
              "<div>\n",
              "<style scoped>\n",
              "    .dataframe tbody tr th:only-of-type {\n",
              "        vertical-align: middle;\n",
              "    }\n",
              "\n",
              "    .dataframe tbody tr th {\n",
              "        vertical-align: top;\n",
              "    }\n",
              "\n",
              "    .dataframe thead th {\n",
              "        text-align: right;\n",
              "    }\n",
              "</style>\n",
              "<table border=\"1\" class=\"dataframe\">\n",
              "  <thead>\n",
              "    <tr style=\"text-align: right;\">\n",
              "      <th></th>\n",
              "      <th>steamId</th>\n",
              "      <th>price</th>\n",
              "      <th>copiesSold</th>\n",
              "      <th>reviewScore</th>\n",
              "      <th>aiContent</th>\n",
              "      <th>publisherClass_Indie</th>\n",
              "      <th>publisherClass_Other</th>\n",
              "    </tr>\n",
              "  </thead>\n",
              "  <tbody>\n",
              "    <tr>\n",
              "      <th>93333</th>\n",
              "      <td>582110</td>\n",
              "      <td>7.99</td>\n",
              "      <td>0</td>\n",
              "      <td>0</td>\n",
              "      <td>NaN</td>\n",
              "      <td>0.0</td>\n",
              "      <td>0.0</td>\n",
              "    </tr>\n",
              "    <tr>\n",
              "      <th>93334</th>\n",
              "      <td>514510</td>\n",
              "      <td>9.99</td>\n",
              "      <td>0</td>\n",
              "      <td>0</td>\n",
              "      <td>NaN</td>\n",
              "      <td>1.0</td>\n",
              "      <td>0.0</td>\n",
              "    </tr>\n",
              "    <tr>\n",
              "      <th>93335</th>\n",
              "      <td>497380</td>\n",
              "      <td>14.99</td>\n",
              "      <td>0</td>\n",
              "      <td>0</td>\n",
              "      <td>NaN</td>\n",
              "      <td>1.0</td>\n",
              "      <td>0.0</td>\n",
              "    </tr>\n",
              "    <tr>\n",
              "      <th>93336</th>\n",
              "      <td>456430</td>\n",
              "      <td>1.99</td>\n",
              "      <td>0</td>\n",
              "      <td>0</td>\n",
              "      <td>NaN</td>\n",
              "      <td>1.0</td>\n",
              "      <td>0.0</td>\n",
              "    </tr>\n",
              "    <tr>\n",
              "      <th>93337</th>\n",
              "      <td>3167760</td>\n",
              "      <td>4.99</td>\n",
              "      <td>0</td>\n",
              "      <td>0</td>\n",
              "      <td>NaN</td>\n",
              "      <td>0.0</td>\n",
              "      <td>0.0</td>\n",
              "    </tr>\n",
              "  </tbody>\n",
              "</table>\n",
              "</div>"
            ],
            "text/plain": [
              "       steamId  price  copiesSold  reviewScore  aiContent  \\\n",
              "93333   582110   7.99           0            0        NaN   \n",
              "93334   514510   9.99           0            0        NaN   \n",
              "93335   497380  14.99           0            0        NaN   \n",
              "93336   456430   1.99           0            0        NaN   \n",
              "93337  3167760   4.99           0            0        NaN   \n",
              "\n",
              "       publisherClass_Indie  publisherClass_Other  \n",
              "93333                   0.0                   0.0  \n",
              "93334                   1.0                   0.0  \n",
              "93335                   1.0                   0.0  \n",
              "93336                   1.0                   0.0  \n",
              "93337                   0.0                   0.0  "
            ]
          },
          "execution_count": 95,
          "metadata": {},
          "output_type": "execute_result"
        }
      ],
      "source": [
        "df.tail()"
      ]
    },
    {
      "cell_type": "markdown",
      "metadata": {
        "id": "e_vR8icGvmTl"
      },
      "source": [
        "# Dropping aicontent column as it contain 100% NULL values"
      ]
    },
    {
      "cell_type": "code",
      "execution_count": 96,
      "metadata": {
        "id": "GbiQx8BKc23e"
      },
      "outputs": [],
      "source": [
        "df.drop('aiContent', axis=1, inplace=True)"
      ]
    }
  ],
  "metadata": {
    "colab": {
      "provenance": []
    },
    "kernelspec": {
      "display_name": ".venv",
      "language": "python",
      "name": "python3"
    },
    "language_info": {
      "codemirror_mode": {
        "name": "ipython",
        "version": 3
      },
      "file_extension": ".py",
      "mimetype": "text/x-python",
      "name": "python",
      "nbconvert_exporter": "python",
      "pygments_lexer": "ipython3",
      "version": "3.13.0"
    }
  },
  "nbformat": 4,
  "nbformat_minor": 0
}
