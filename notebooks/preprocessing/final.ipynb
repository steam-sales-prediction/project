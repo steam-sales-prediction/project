{
 "cells": [
  {
   "cell_type": "markdown",
   "id": "6934f048",
   "metadata": {},
   "source": [
    "# Preprocessing Steam Games"
   ]
  },
  {
   "cell_type": "markdown",
   "id": "0",
   "metadata": {},
   "source": [
    "## Import Libraries"
   ]
  },
  {
   "cell_type": "code",
   "execution_count": 1,
   "id": "aa70eca6",
   "metadata": {},
   "outputs": [],
   "source": [
    "import numpy as np\n",
    "import pandas as pd\n",
    "import seaborn as sns\n",
    "import matplotlib.pyplot as plt\n",
    "import re\n",
    "import math\n",
    "\n",
    "from sklearn import linear_model\n",
    "from sklearn import metrics\n",
    "from sklearn.model_selection import train_test_split\n",
    "from sklearn.preprocessing import PolynomialFeatures, StandardScaler, MultiLabelBinarizer, OneHotEncoder\n",
    "from sklearn.impute import KNNImputer\n",
    "from sklearn.feature_selection import mutual_info_regression\n",
    "from sklearn.feature_selection import SelectKBest, f_regression\n",
    "\n",
    "import warnings\n",
    "warnings.filterwarnings('ignore')\n",
    "\n",
    "import ast\n",
    "from collections import Counter\n",
    "from wordcloud import WordCloud\n",
    "from sentence_transformers import SentenceTransformer\n",
    "\n",
    "from numpy import unique\n",
    "from scipy.stats import skew"
   ]
  },
  {
   "cell_type": "markdown",
   "id": "f971625c",
   "metadata": {},
   "source": [
    "## Load Data"
   ]
  },
  {
   "cell_type": "code",
   "execution_count": 2,
   "id": "47271e41",
   "metadata": {},
   "outputs": [],
   "source": [
    "# Define file paths\n",
    "DEMOS_PATH = '../../data/raw/demos.csv'\n",
    "DLCS_PATH = '../../data/raw/dlcs.csv'\n",
    "BASE_GAMES_PATH = '../../data/raw/info_base_games.csv'\n",
    "GAMALYTIC_STEAM_GAMES = '../../data/raw/gamalytic_steam_games.csv'\n",
    "OUTPUT_PATH = '../../data/processed/processed_data.csv'\n",
    "\n",
    "# Read CSV files\n",
    "demo_df = pd.read_csv(DEMOS_PATH)\n",
    "dlc_df = pd.read_csv(DLCS_PATH)\n",
    "info_base_games_df = pd.read_csv(BASE_GAMES_PATH, low_memory=False)\n",
    "gamalytic_steam_games_df = pd.read_csv(GAMALYTIC_STEAM_GAMES)"
   ]
  },
  {
   "cell_type": "markdown",
   "id": "9e014516",
   "metadata": {},
   "source": [
    "## Explore Data"
   ]
  },
  {
   "cell_type": "code",
   "execution_count": 3,
   "id": "528dc9c1",
   "metadata": {},
   "outputs": [
    {
     "name": "stdout",
     "output_type": "stream",
     "text": [
      "(99167, 10)\n",
      "(93338, 6)\n",
      "(15449, 4)\n",
      "(5445, 3)\n",
      "Info Base Games File Columns: ['appid', 'name', 'metacritic', 'steam_achievements', 'steam_trading_cards', 'workshop_support', 'genres', 'achievements_total', 'release_date', 'supported_platforms']\n",
      "Gamalytic Steam Games File Columns: ['steamId', 'price', 'copiesSold', 'publisherClass', 'reviewScore', 'aiContent']\n",
      "Demo File Columns: ['Unnamed: 0', 'full_game_appid', 'demo_appid', 'name']\n",
      "DLC File Columns: ['base_appid', 'dlc_appid', 'name']\n"
     ]
    }
   ],
   "source": [
    "print(info_base_games_df.shape)\n",
    "print(gamalytic_steam_games_df.shape)\n",
    "print(demo_df.shape)\n",
    "print(dlc_df.shape)\n",
    "\n",
    "print(\"Info Base Games File Columns:\", info_base_games_df.columns.tolist())\n",
    "print(\"Gamalytic Steam Games File Columns:\", gamalytic_steam_games_df.columns.tolist())\n",
    "print(\"Demo File Columns:\", demo_df.columns.tolist())\n",
    "print(\"DLC File Columns:\", dlc_df.columns.tolist())"
   ]
  },
  {
   "cell_type": "markdown",
   "id": "f3f17438",
   "metadata": {},
   "source": [
    "## Preprocessing DLCs and Demos CSV"
   ]
  },
  {
   "cell_type": "markdown",
   "id": "816325ab",
   "metadata": {},
   "source": [
    "### Statistics Before Preprocessing"
   ]
  },
  {
   "cell_type": "code",
   "execution_count": 4,
   "id": "d68c5e96",
   "metadata": {},
   "outputs": [
    {
     "name": "stdout",
     "output_type": "stream",
     "text": [
      "<class 'pandas.core.frame.DataFrame'>\n",
      "RangeIndex: 15449 entries, 0 to 15448\n",
      "Data columns (total 4 columns):\n",
      " #   Column           Non-Null Count  Dtype \n",
      "---  ------           --------------  ----- \n",
      " 0   Unnamed: 0       15449 non-null  int64 \n",
      " 1   full_game_appid  15449 non-null  object\n",
      " 2   demo_appid       15449 non-null  object\n",
      " 3   name             15448 non-null  object\n",
      "dtypes: int64(1), object(3)\n",
      "memory usage: 482.9+ KB\n",
      "<class 'pandas.core.frame.DataFrame'>\n",
      "RangeIndex: 5445 entries, 0 to 5444\n",
      "Data columns (total 3 columns):\n",
      " #   Column      Non-Null Count  Dtype \n",
      "---  ------      --------------  ----- \n",
      " 0   base_appid  5445 non-null   object\n",
      " 1   dlc_appid   5445 non-null   object\n",
      " 2   name        5445 non-null   object\n",
      "dtypes: object(3)\n",
      "memory usage: 127.7+ KB\n"
     ]
    }
   ],
   "source": [
    "demo_df.info()\n",
    "dlc_df.info()"
   ]
  },
  {
   "cell_type": "markdown",
   "id": "f0f6edb4",
   "metadata": {},
   "source": [
    "### Preprocessing"
   ]
  },
  {
   "cell_type": "markdown",
   "id": "a54f624e",
   "metadata": {},
   "source": [
    "#### Drop auto_incremented columns"
   ]
  },
  {
   "cell_type": "code",
   "execution_count": 5,
   "id": "00714834",
   "metadata": {},
   "outputs": [
    {
     "name": "stdout",
     "output_type": "stream",
     "text": [
      "Demo File Columns: ['full_game_appid', 'demo_appid', 'name']\n",
      "DLC File Columns: ['base_appid', 'dlc_appid', 'name']\n"
     ]
    }
   ],
   "source": [
    "demo_df.drop(\"Unnamed: 0\", axis=1, inplace=True)\n",
    "\n",
    "print(\"Demo File Columns:\", demo_df.columns.tolist())\n",
    "print(\"DLC File Columns:\", dlc_df.columns.tolist())"
   ]
  },
  {
   "cell_type": "markdown",
   "id": "8b6f2972",
   "metadata": {},
   "source": [
    "#### Standardize column names"
   ]
  },
  {
   "cell_type": "code",
   "execution_count": 6,
   "id": "c1c8dbb9",
   "metadata": {},
   "outputs": [
    {
     "name": "stdout",
     "output_type": "stream",
     "text": [
      "\n",
      "After Standardizing Column Names:\n",
      "\n",
      "Demo File Columns: ['appid', 'demo_appid', 'name']\n",
      "DLC File Columns: ['appid', 'dlc_appid', 'name']\n"
     ]
    }
   ],
   "source": [
    "demo_df.rename(columns={\"full_game_appid\": \"appid\"}, inplace=True)\n",
    "dlc_df.rename(columns={\"base_appid\": \"appid\"}, inplace=True)\n",
    "\n",
    "print(\"\\nAfter Standardizing Column Names:\\n\")\n",
    "print(\"Demo File Columns:\", demo_df.columns.tolist())\n",
    "print(\"DLC File Columns:\", dlc_df.columns.tolist())"
   ]
  },
  {
   "cell_type": "markdown",
   "id": "94aafa83",
   "metadata": {},
   "source": [
    "#### Handle missing values"
   ]
  },
  {
   "cell_type": "code",
   "execution_count": 7,
   "id": "476fdf23",
   "metadata": {},
   "outputs": [
    {
     "name": "stdout",
     "output_type": "stream",
     "text": [
      "Dropped 1 rows in Demo DataFrame due to missing values.\n",
      "Remaining rows in Demo DataFrame: 15448\n",
      "\n",
      "Dropped 0 rows in DLC DataFrame due to missing values.\n",
      "Remaining rows in DLC DataFrame: 5445\n"
     ]
    }
   ],
   "source": [
    "original_len_demo = len(demo_df)\n",
    "original_len_dlc = len(dlc_df)\n",
    "demo_df.dropna(inplace=True)\n",
    "dlc_df.dropna(inplace=True)\n",
    "\n",
    "print(f\"Dropped {original_len_demo - len(demo_df)} rows in Demo DataFrame due to missing values.\")\n",
    "print(f\"Remaining rows in Demo DataFrame: {len(demo_df)}\\n\")\n",
    "print(f\"Dropped {original_len_dlc - len(dlc_df)} rows in DLC DataFrame due to missing values.\")\n",
    "print(f\"Remaining rows in DLC DataFrame: {len(dlc_df)}\")"
   ]
  },
  {
   "cell_type": "markdown",
   "id": "6fef293d",
   "metadata": {},
   "source": [
    "#### Convert data types\n",
    "\n",
    "- errors=\"coerce\" means that if a value cannot be converted to a number **\"id is not a number\"** it's replaced by NaN\n",
    "- It then gets removed by dropna() function"
   ]
  },
  {
   "cell_type": "code",
   "execution_count": 8,
   "id": "fb5d0198",
   "metadata": {},
   "outputs": [
    {
     "name": "stdout",
     "output_type": "stream",
     "text": [
      "Dropped 1 rows in Demo DataFrame due to missing values.\n",
      "Remaining rows in Demo DataFrame: 15447\n",
      "\n",
      "Dropped 1 rows in DLC DataFrame due to missing values.\n",
      "Remaining rows in DLC DataFrame: 5444\n"
     ]
    }
   ],
   "source": [
    "original_len_demo = len(demo_df)\n",
    "original_len_dlc = len(dlc_df)\n",
    "\n",
    "for df, appid_col in [(demo_df, \"demo_appid\"), (dlc_df, \"dlc_appid\")]:\n",
    "    df[appid_col] = pd.to_numeric(df[appid_col], errors=\"coerce\") \n",
    "    df[\"appid\"] = pd.to_numeric(df[\"appid\"], errors=\"coerce\")\n",
    "\n",
    "    # Drop rows where appid or demo/dlc_appid is missing/NaN\n",
    "    df.dropna(subset=[appid_col, \"appid\"], inplace=True)\n",
    "\n",
    "    df[appid_col] = df[appid_col].astype(int)\n",
    "    df[\"appid\"] = df[\"appid\"].astype(int)\n",
    "    df[\"name\"] = df[\"name\"].astype(str)\n",
    "\n",
    "print(f\"Dropped {original_len_demo - len(demo_df)} rows in Demo DataFrame due to missing values.\")\n",
    "print(f\"Remaining rows in Demo DataFrame: {len(demo_df)}\\n\")\n",
    "print(f\"Dropped {original_len_dlc - len(dlc_df)} rows in DLC DataFrame due to missing values.\")\n",
    "print(f\"Remaining rows in DLC DataFrame: {len(dlc_df)}\")\n"
   ]
  },
  {
   "cell_type": "markdown",
   "id": "6480c75b",
   "metadata": {},
   "source": [
    "#### Remove duplicates by unique identifier\n",
    "\n",
    "- **demo_appid**: In the DEMOs file\n",
    "- **dlc_appid**: In the DLCs file"
   ]
  },
  {
   "cell_type": "code",
   "execution_count": 9,
   "id": "27bab4c8",
   "metadata": {},
   "outputs": [
    {
     "name": "stdout",
     "output_type": "stream",
     "text": [
      "Dropped 0 duplicate rows in Demo DataFrame based on demo_appid.\n",
      "Dropped 0 duplicate rows in DLC DataFrame based on dlc_appid.\n"
     ]
    }
   ],
   "source": [
    "demo_duplicates = demo_df.duplicated(subset=[\"demo_appid\"]).sum()\n",
    "dlc_duplicates = dlc_df.duplicated(subset=[\"dlc_appid\"]).sum()\n",
    "demo_df.drop_duplicates(subset=[\"demo_appid\"], inplace=True)\n",
    "dlc_df.drop_duplicates(subset=[\"dlc_appid\"], inplace=True)\n",
    "print(f\"Dropped {demo_duplicates} duplicate rows in Demo DataFrame based on demo_appid.\")\n",
    "print(f\"Dropped {dlc_duplicates} duplicate rows in DLC DataFrame based on dlc_appid.\")"
   ]
  },
  {
   "cell_type": "markdown",
   "id": "fe760cd4",
   "metadata": {},
   "source": [
    "#### Clean the 'name' column\n",
    "\n",
    "- By removing any leading or trailing whitespace from the 'name' column.\n",
    "- By removing any non-alphanumeric characters from the 'name' column.\n",
    "- By removing 'Demo' and 'DLC' from the 'name' column."
   ]
  },
  {
   "cell_type": "code",
   "execution_count": 10,
   "id": "ca9c62a6",
   "metadata": {},
   "outputs": [],
   "source": [
    "def clean_name_column(df, column_name):\n",
    "    df[column_name] = (df[column_name]\n",
    "                      .str.replace(r\"(?i)\\bdemo\\b\", \"\", regex=True)\n",
    "                      .str.replace(r\"(?i)\\bdlc\\b\", \"\", regex=True)\n",
    "                      .str.replace(r\"\\s+\", \" \", regex=True)\n",
    "                      .str.strip()\n",
    "                      .str.title())\n",
    "    return df\n",
    "\n",
    "demo_df = clean_name_column(demo_df, \"name\")\n",
    "dlc_df = clean_name_column(dlc_df, \"name\")"
   ]
  },
  {
   "cell_type": "markdown",
   "id": "b08eba7c",
   "metadata": {},
   "source": [
    "#### Reset Indicies\n",
    "\n",
    "- Reset the indices of the dataframe to the original order."
   ]
  },
  {
   "cell_type": "code",
   "execution_count": 11,
   "id": "8a03f49a",
   "metadata": {},
   "outputs": [],
   "source": [
    "demo_df.reset_index(drop=True, inplace=True)\n",
    "dlc_df.reset_index(drop=True, inplace=True)"
   ]
  },
  {
   "cell_type": "markdown",
   "id": "c153e1f0",
   "metadata": {},
   "source": [
    "### Extracting new features"
   ]
  },
  {
   "cell_type": "markdown",
   "id": "78822871",
   "metadata": {},
   "source": [
    "#### Create indicator and count features"
   ]
  },
  {
   "cell_type": "code",
   "execution_count": 12,
   "id": "15de65d9",
   "metadata": {},
   "outputs": [],
   "source": [
    "def create_indicator_features(df, group_by_col, count_col, feature_prefix):\n",
    "\n",
    "    # group by appid to count the demo/dlc count for each game \n",
    "    indicators = df.groupby(group_by_col)[count_col].count().reset_index()\n",
    "    \n",
    "    # create has_feature column\n",
    "    indicators[f'has_{feature_prefix}'] = 1\n",
    "\n",
    "    # create count column\n",
    "    indicators[f'{feature_prefix}_count'] = indicators[count_col]\n",
    "    \n",
    "    # e.g.: return demo_df[['appid', 'has_demo', 'demo_count']]  \n",
    "    return indicators[[group_by_col, f'has_{feature_prefix}', f'{feature_prefix}_count']]\n",
    "\n",
    "demo_indicators = create_indicator_features(demo_df, 'appid', 'demo_appid', 'demo')\n",
    "dlc_indicators = create_indicator_features(dlc_df, 'appid', 'dlc_appid', 'dlc')"
   ]
  },
  {
   "cell_type": "markdown",
   "id": "be4c6571",
   "metadata": {},
   "source": [
    "#### Save the preprocessed data\n",
    "\n",
    "- Used to save the preprocessed data to a file for testing and validation purposes.\n",
    "- It's also used to add 4 features to the info_base_games: \n",
    "    \n",
    "    - dlc count\n",
    "    - demo count\n",
    "    - dlc indicator\n",
    "    - demo indicator\n",
    "    "
   ]
  },
  {
   "cell_type": "code",
   "execution_count": 13,
   "id": "373c9236",
   "metadata": {},
   "outputs": [],
   "source": [
    "# demo_df.to_csv(DEMO_OUTPUT_PATH, index=False)\n",
    "# dlc_df.to_csv(DLC_OUTPUT_PATH, index=False)"
   ]
  },
  {
   "cell_type": "markdown",
   "id": "9cebfaa8",
   "metadata": {},
   "source": [
    "### Statistics After Preprocessing"
   ]
  },
  {
   "cell_type": "code",
   "execution_count": 14,
   "id": "c3de4fa6",
   "metadata": {},
   "outputs": [
    {
     "name": "stdout",
     "output_type": "stream",
     "text": [
      "<class 'pandas.core.frame.DataFrame'>\n",
      "RangeIndex: 15447 entries, 0 to 15446\n",
      "Data columns (total 3 columns):\n",
      " #   Column      Non-Null Count  Dtype \n",
      "---  ------      --------------  ----- \n",
      " 0   appid       15447 non-null  int64 \n",
      " 1   demo_appid  15447 non-null  int64 \n",
      " 2   name        15447 non-null  object\n",
      "dtypes: int64(2), object(1)\n",
      "memory usage: 362.2+ KB\n",
      "<class 'pandas.core.frame.DataFrame'>\n",
      "RangeIndex: 5444 entries, 0 to 5443\n",
      "Data columns (total 3 columns):\n",
      " #   Column     Non-Null Count  Dtype \n",
      "---  ------     --------------  ----- \n",
      " 0   appid      5444 non-null   int64 \n",
      " 1   dlc_appid  5444 non-null   int64 \n",
      " 2   name       5444 non-null   object\n",
      "dtypes: int64(2), object(1)\n",
      "memory usage: 127.7+ KB\n"
     ]
    }
   ],
   "source": [
    "demo_df.info()\n",
    "dlc_df.info()"
   ]
  },
  {
   "cell_type": "markdown",
   "id": "7eadfda0",
   "metadata": {},
   "source": [
    "### Summary"
   ]
  },
  {
   "cell_type": "code",
   "execution_count": 15,
   "id": "296e23f0",
   "metadata": {},
   "outputs": [
    {
     "name": "stdout",
     "output_type": "stream",
     "text": [
      "\n",
      "Preprocessing Summary:\n",
      "\n",
      "Demo DataFrame: 15447 rows, 3 columns\n",
      "DLC DataFrame: 5444 rows, 3 columns\n",
      "\n",
      "     appid  dlc_appid                                             name\n",
      "0  1786750    2568660                        家出王女 - 全年齢版ストーリー&グラフィック追加\n",
      "1  1981700    2563730                           Jacob'S Quest - Voyage\n",
      "2  2009450    2552980  Invector: Rhythm Galaxy - Latin Power Song Pack\n",
      "3  1133420    2550750         Hero Or Villain: Genesis — Supercharged!\n",
      "4  2533950    2551000            Hot And Lovely ：Uniform - Adult Patch\n",
      "\n",
      "\n",
      "     appid  demo_appid                    name\n",
      "0  2214650     2573370          Rolando Deluxe\n",
      "1  1439980     2573460  Outrunner: Neon Nights\n",
      "2  2412240     2572840     Bubble Ghost Remake\n",
      "3  2448830     2572240           Time Handlers\n",
      "4  2379590     2570800    Hope'S Final Defense\n"
     ]
    }
   ],
   "source": [
    "print(\"\\nPreprocessing Summary:\\n\")\n",
    "print(f\"Demo DataFrame: {len(demo_df)} rows, {len(demo_df.columns)} columns\")\n",
    "print(f\"DLC DataFrame: {len(dlc_df)} rows, {len(dlc_df.columns)} columns\\n\")\n",
    "\n",
    "print(dlc_df.head())\n",
    "print(\"\\n\")\n",
    "print(demo_df.head())"
   ]
  },
  {
   "cell_type": "markdown",
   "id": "5d148176",
   "metadata": {},
   "source": [
    "### Save the preprocessed data    "
   ]
  },
  {
   "cell_type": "markdown",
   "id": "e701a428",
   "metadata": {},
   "source": [
    "- Used to save the preprocessed data to a file for testing and validation purposes.\n",
    "- It's also used to add 4 features to the dlc and demo csv files: \n",
    "    \n",
    "    - dlc count\n",
    "    - demo count\n",
    "    - dlc indicator\n",
    "    - demo indicator"
   ]
  },
  {
   "cell_type": "code",
   "execution_count": 16,
   "id": "1c6150a3",
   "metadata": {},
   "outputs": [],
   "source": [
    "# demo_df.to_csv(DEMO_OUTPUT_PATH, index=False)\n",
    "# dlc_df.to_csv(DLC_OUTPUT_PATH, index=False)\n"
   ]
  },
  {
   "cell_type": "markdown",
   "id": "3d405d68",
   "metadata": {},
   "source": [
    "## Preprocessing Base Game Info CSV"
   ]
  },
  {
   "cell_type": "markdown",
   "id": "776230c0",
   "metadata": {},
   "source": [
    "### Preprocessing Achievments and Release Date columns"
   ]
  },
  {
   "cell_type": "markdown",
   "id": "502c796c",
   "metadata": {},
   "source": [
    "#### **Preprocessing release date feature**"
   ]
  },
  {
   "cell_type": "code",
   "execution_count": 17,
   "id": "e05161af",
   "metadata": {},
   "outputs": [
    {
     "data": {
      "text/plain": [
       "np.int64(306)"
      ]
     },
     "execution_count": 17,
     "metadata": {},
     "output_type": "execute_result"
    }
   ],
   "source": [
    "#info_base_games_df\n",
    "#print(info_base_games_df.shape)\n",
    "#info_base_games_df.describe()\n",
    "\n",
    "info_base_games_df['release_date'].isnull().sum()\n",
    "#pd.set_option('display.max_rows', None)\n",
    "#info_base_games_df['release_date'].value_counts()\n",
    "\n",
    "#(info_base_games_df['release_date'] == \"Coming soon\").sum()  \n",
    "#(info_base_games_df['release_date'] == \"to be announced\").sum() \n",
    "#keywords = ['vr', 'remaster', 'collector', 'collection', 'edition', 'bundle', 'playtest']\n",
    "#pattern = r'\\b(' + '|'.join(re.escape(k) for k in keywords) + r')\\b'  # Escaping protects against regex special chars\n",
    "#info_base_games_df[info_base_games_df['name'].str.contains(pattern, regex=True, flags=re.IGNORECASE)]"
   ]
  },
  {
   "cell_type": "code",
   "execution_count": 18,
   "id": "9b3cfe6e",
   "metadata": {},
   "outputs": [],
   "source": [
    "#If there are no parentheses in pattern, .groups() returns an empty tuple.\n",
    "info_base_games_df.dropna(subset=['release_date'],inplace=True)\n",
    "info_base_games_df['release_date'] = info_base_games_df['release_date'].astype(str).str.strip().str.lower() # to remove any leading or trailing spaces if exist\n",
    "\n",
    "YEAR_DATA_COLLECTED = 2024\n",
    "# ^: start of string , $: end of string\n",
    "unknown_release_dates = [\n",
    "    r'^coming soon$',\n",
    "    r'^to be announced$',\n",
    "    r'^\\s*$',  # empty string\n",
    "    r'^q[1-4][^a-zA-Z0-9]+\\d{4}$', #q2 2025\n",
    "    r'\\d{4}$',  # year only\n",
    "    r'^\\d{1,2}[^a-zA-Z0-9]+[A-Za-z]{3}$' # DAY MONTH\n",
    "]\n",
    "def has_known_release(x):\n",
    "    x = str(x).strip().lower()\n",
    "    for pattern in unknown_release_dates:\n",
    "        if re.match(pattern, x):\n",
    "            return 0\n",
    "    return 1\n",
    "info_base_games_df['is_release_date_known'] = info_base_games_df['release_date'].apply(has_known_release)\n",
    "\n",
    "# I don't we should add \"Coming soon\" as it is upcoming game or not\n",
    "# [^a-zA-Z0-9]+ : continue taking if not alphanumeric , [^0-9]+ : continue taking if not number\n",
    "def preprocess_release_date(x):\n",
    "    x = str(x).strip()\n",
    "\n",
    "    # 8-Dec-2022 or 8 Dec 2022\n",
    "    match = re.search(r'(\\d{1,2})[^a-zA-Z0-9]+([A-Za-z]{3})[^a-zA-Z0-9]+(\\d{2,4})', x)\n",
    "    if match:\n",
    "        day, month, year = match.groups()\n",
    "        if(int(year) > YEAR_DATA_COLLECTED):\n",
    "            return f\"{day} {month} {year}\" , 1\n",
    "        return f\"{day} {month} {year}\" , 0\n",
    "\n",
    "    # Dec-8-2022 or Dec 8, 2022\n",
    "    match = re.search(r'([A-Za-z]{3})[^a-zA-Z0-9]+(\\d{1,2})[^a-zA-Z0-9]+(\\d{4})', x)\n",
    "    if match:\n",
    "        month, day, year = match.groups()\n",
    "        if(int(year) > YEAR_DATA_COLLECTED):\n",
    "            return f\"{day} {month} {year}\" , 1\n",
    "        return f\"{day} {month} {year}\" , 0\n",
    "\n",
    "    # Dec-2022 or Dec 2022\n",
    "    match = re.search(r'([A-Za-z]{3})[^a-zA-Z0-9]+(\\d{2,4})', x)\n",
    "    if match:\n",
    "        month, year = match.groups()\n",
    "        if(int(year) > YEAR_DATA_COLLECTED):\n",
    "            return f\"15 {month} {year}\" , 1\n",
    "        return f\"15 {month} {year}\" , 0\n",
    "        \n",
    "\n",
    "    # 8-Dec (no year)\n",
    "    match = re.search(r'(\\d{1,2})[^a-zA-Z0-9]+([A-Za-z]{3})', x)\n",
    "    if match:\n",
    "        return np.nan,0\n",
    "\n",
    "    # q1 2023, q2-2024\n",
    "    match = re.search(r'(q[1-4])[^a-zA-Z0-9]+(\\d{4})', x, re.IGNORECASE)\n",
    "    if match:\n",
    "        q, y = match.groups()\n",
    "        q = q.lower()\n",
    "        quarter_map = {\n",
    "            'q1': '15 Feb',\n",
    "            'q2': '15 May',\n",
    "            'q3': '15 Aug',\n",
    "            'q4': '15 Nov',\n",
    "        }\n",
    "        if(int(y) > YEAR_DATA_COLLECTED):\n",
    "            return f\"{quarter_map[q]} {y}\" , 1\n",
    "        return f\"{quarter_map[q]} {y}\" , 0\n",
    "\n",
    "    # 2023 (year only)\n",
    "    if re.fullmatch(r'\\d{4}', x):\n",
    "        year = int(x)\n",
    "        if YEAR_DATA_COLLECTED < year:\n",
    "            return f\"1 Jun {x}\" , 1\n",
    "        else:\n",
    "            return f\"1 JAN {x}\" , 0\n",
    "\n",
    "    # \"Coming soon\", \"To be announced\", ... etc.\n",
    "    return np.nan,0\n",
    "\n",
    "# for each value in column release date we will apply this function to it \n",
    "#info_base_games_df['release_date'] , info_base_games_df['is_upcoming']  = info_base_games_df['release_date'].apply(preprocess_release_date)\n",
    "info_base_games_df[['release_date', 'is_upcoming']] = info_base_games_df['release_date'].apply(preprocess_release_date).apply(pd.Series) # for unpacking the series tuple into 2 columns\n",
    "\n"
   ]
  },
  {
   "cell_type": "code",
   "execution_count": 19,
   "id": "b20bd120",
   "metadata": {},
   "outputs": [],
   "source": [
    "info_base_games_df['release_date'] = pd.to_datetime(info_base_games_df['release_date'], errors='coerce') \n",
    "\n",
    "info_base_games_df['year'] = info_base_games_df['release_date'].dt.year.fillna(0).astype(int)\n",
    "#fraction_of_year = np.where(info_base_games_df['is_release_date_known'], (info_base_games_df['release_date'].dt.dayofyear - 1) / 365, 0)\n",
    "# np.where(condition,iftrue,iffalse)\n",
    "fraction_of_year = np.where(~info_base_games_df['release_date'].isna(), (info_base_games_df['release_date'].dt.dayofyear - 1) / 365, -1)\n",
    "info_base_games_df['sin_day'] = np.where(fraction_of_year == -1, 0, np.sin(2 * np.pi * fraction_of_year))\n",
    "info_base_games_df['cos_day'] = np.where(fraction_of_year == -1, 0, np.cos(2 * np.pi * fraction_of_year))\n",
    "#info_base_games_df['sin_day'].fillna(0, inplace=True)\n",
    "#info_base_games_df['cos_day'].fillna(0, inplace=True)\n",
    "info_base_games_df.drop('release_date',axis=1,inplace=True)\n"
   ]
  },
  {
   "cell_type": "markdown",
   "id": "1a540c58",
   "metadata": {},
   "source": [
    "#### **Checking about missing data and new features**"
   ]
  },
  {
   "cell_type": "code",
   "execution_count": 20,
   "id": "fe9023fe",
   "metadata": {},
   "outputs": [
    {
     "name": "stdout",
     "output_type": "stream",
     "text": [
      "0\n",
      "0\n",
      "0\n",
      "0\n",
      "0\n"
     ]
    }
   ],
   "source": [
    "#print(info_base_games_df['is_release_date_known'].shape)\n",
    "#print(info_base_games_df['year'].shape)\n",
    "#print(info_base_games_df['sin_day'].shape)\n",
    "#print(info_base_games_df['cos_day'].shape)\n",
    "print(info_base_games_df['is_release_date_known'].isnull().sum())\n",
    "print(info_base_games_df['year'].isnull().sum())\n",
    "print(info_base_games_df['sin_day'].isnull().sum())\n",
    "print(info_base_games_df['cos_day'].isnull().sum())\n",
    "print(info_base_games_df['is_upcoming'].isnull().sum())"
   ]
  },
  {
   "cell_type": "markdown",
   "id": "b7e6f8ea",
   "metadata": {},
   "source": [
    "#### **Preprocessing Achievement_total feature**\n",
    "\n",
    "Note: There is relation between it and steam achievement"
   ]
  },
  {
   "cell_type": "code",
   "execution_count": 21,
   "id": "1c543f88",
   "metadata": {},
   "outputs": [],
   "source": [
    "info_base_games_df['achievements_total'].isnull().sum()/info_base_games_df.shape[0] #0.46\n",
    "\n",
    "# Convert 'Total achievement' to number, and if there errors set them null\n",
    "info_base_games_df['achievements_total'] = pd.to_numeric(info_base_games_df['achievements_total'], errors='coerce')\n",
    "\n",
    "# if total achievement has value and steam achievement is false so convert it into true \n",
    "info_base_games_df.loc[(info_base_games_df['achievements_total'] > 0) & (info_base_games_df['steam_achievements'] == False), 'steam_achievements'] = True\n",
    "\n",
    "# if steam achievement is false and achievement total is null so set it zero \n",
    "info_base_games_df.loc[info_base_games_df['steam_achievements'] == False, 'achievements_total'] = 0\n",
    "\n",
    "# using KNN Imputer for fill null values of total achievement if steam achievement is true \n",
    "#mask = (info_base_games_df['steam_achievements'] == True)\n",
    "#rows = info_base_games_df.loc[mask, ['achievements_total']]\n",
    "#imputer = KNNImputer(n_neighbors=5)\n",
    "#imputed = imputer.fit_transform(rows)\n",
    "#info_base_games_df.loc[mask, 'achievements_total'] = np.floor(imputed)\n",
    "\n",
    "# another option you can use median (not affected by outliers) / mean\n",
    "median_val = info_base_games_df.loc[info_base_games_df['steam_achievements'] == True, 'achievements_total'].median()\n",
    "info_base_games_df.loc[(info_base_games_df['steam_achievements'] == True) & (info_base_games_df['achievements_total'].isna()), 'achievements_total'] = median_val\n",
    "#mean_val = info_base_games_df.loc[info_base_games_df['steam_achievements'] == True, 'achievements_total'].mean()\n",
    "#print(median_val) #18\n",
    "#print(mean_val)   # 40\n",
    "\n",
    "\n",
    "# convert boolean to int (0,1)\n",
    "info_base_games_df['steam_achievements'] = info_base_games_df['steam_achievements'].astype(int)\n",
    "\n",
    "st_scaler = StandardScaler()\n",
    "info_base_games_df['achievements_total'] = st_scaler.fit_transform(info_base_games_df[['achievements_total']]) # on training data only\n"
   ]
  },
  {
   "cell_type": "code",
   "execution_count": 22,
   "id": "3520840f",
   "metadata": {},
   "outputs": [
    {
     "data": {
      "text/html": [
       "<div>\n",
       "<style scoped>\n",
       "    .dataframe tbody tr th:only-of-type {\n",
       "        vertical-align: middle;\n",
       "    }\n",
       "\n",
       "    .dataframe tbody tr th {\n",
       "        vertical-align: top;\n",
       "    }\n",
       "\n",
       "    .dataframe thead th {\n",
       "        text-align: right;\n",
       "    }\n",
       "</style>\n",
       "<table border=\"1\" class=\"dataframe\">\n",
       "  <thead>\n",
       "    <tr style=\"text-align: right;\">\n",
       "      <th></th>\n",
       "      <th>appid</th>\n",
       "      <th>name</th>\n",
       "      <th>metacritic</th>\n",
       "      <th>steam_achievements</th>\n",
       "      <th>steam_trading_cards</th>\n",
       "      <th>workshop_support</th>\n",
       "      <th>genres</th>\n",
       "      <th>achievements_total</th>\n",
       "      <th>supported_platforms</th>\n",
       "      <th>is_release_date_known</th>\n",
       "      <th>is_upcoming</th>\n",
       "      <th>year</th>\n",
       "      <th>sin_day</th>\n",
       "      <th>cos_day</th>\n",
       "    </tr>\n",
       "  </thead>\n",
       "  <tbody>\n",
       "    <tr>\n",
       "      <th>0</th>\n",
       "      <td>2574000</td>\n",
       "      <td>Femboy Burgers</td>\n",
       "      <td>NaN</td>\n",
       "      <td>1</td>\n",
       "      <td>True</td>\n",
       "      <td>True</td>\n",
       "      <td>Casual, Indie</td>\n",
       "      <td>-0.000204</td>\n",
       "      <td>['windows', 'mac', 'linux']</td>\n",
       "      <td>1</td>\n",
       "      <td>0.0</td>\n",
       "      <td>2023</td>\n",
       "      <td>-0.992222</td>\n",
       "      <td>0.124479</td>\n",
       "    </tr>\n",
       "    <tr>\n",
       "      <th>1</th>\n",
       "      <td>2574120</td>\n",
       "      <td>PPA Pickleball Tour 2025</td>\n",
       "      <td>NaN</td>\n",
       "      <td>1</td>\n",
       "      <td>True</td>\n",
       "      <td>True</td>\n",
       "      <td>Indie, Simulation, Sports</td>\n",
       "      <td>-0.000204</td>\n",
       "      <td>['windows', 'mac', 'linux']</td>\n",
       "      <td>1</td>\n",
       "      <td>0.0</td>\n",
       "      <td>2024</td>\n",
       "      <td>-0.247022</td>\n",
       "      <td>-0.969010</td>\n",
       "    </tr>\n",
       "    <tr>\n",
       "      <th>2</th>\n",
       "      <td>2573200</td>\n",
       "      <td>Squeaky Squad</td>\n",
       "      <td>NaN</td>\n",
       "      <td>1</td>\n",
       "      <td>True</td>\n",
       "      <td>True</td>\n",
       "      <td>Action, Adventure, Indie</td>\n",
       "      <td>0.060572</td>\n",
       "      <td>['windows', 'mac', 'linux']</td>\n",
       "      <td>1</td>\n",
       "      <td>0.0</td>\n",
       "      <td>2024</td>\n",
       "      <td>0.998435</td>\n",
       "      <td>0.055917</td>\n",
       "    </tr>\n",
       "    <tr>\n",
       "      <th>3</th>\n",
       "      <td>2573440</td>\n",
       "      <td>Paradox Metal</td>\n",
       "      <td>NaN</td>\n",
       "      <td>1</td>\n",
       "      <td>True</td>\n",
       "      <td>True</td>\n",
       "      <td>Action, Early Access</td>\n",
       "      <td>-0.000204</td>\n",
       "      <td>['windows', 'mac', 'linux']</td>\n",
       "      <td>0</td>\n",
       "      <td>0.0</td>\n",
       "      <td>0</td>\n",
       "      <td>0.000000</td>\n",
       "      <td>0.000000</td>\n",
       "    </tr>\n",
       "    <tr>\n",
       "      <th>4</th>\n",
       "      <td>2569520</td>\n",
       "      <td>Naturpark Lillebælt VR</td>\n",
       "      <td>NaN</td>\n",
       "      <td>1</td>\n",
       "      <td>True</td>\n",
       "      <td>True</td>\n",
       "      <td>Action, Adventure</td>\n",
       "      <td>-0.000204</td>\n",
       "      <td>['windows', 'mac', 'linux']</td>\n",
       "      <td>1</td>\n",
       "      <td>0.0</td>\n",
       "      <td>2023</td>\n",
       "      <td>-0.972118</td>\n",
       "      <td>-0.234491</td>\n",
       "    </tr>\n",
       "    <tr>\n",
       "      <th>...</th>\n",
       "      <td>...</td>\n",
       "      <td>...</td>\n",
       "      <td>...</td>\n",
       "      <td>...</td>\n",
       "      <td>...</td>\n",
       "      <td>...</td>\n",
       "      <td>...</td>\n",
       "      <td>...</td>\n",
       "      <td>...</td>\n",
       "      <td>...</td>\n",
       "      <td>...</td>\n",
       "      <td>...</td>\n",
       "      <td>...</td>\n",
       "      <td>...</td>\n",
       "    </tr>\n",
       "    <tr>\n",
       "      <th>99162</th>\n",
       "      <td>1548850</td>\n",
       "      <td>Six Days in Fallujah</td>\n",
       "      <td>NaN</td>\n",
       "      <td>1</td>\n",
       "      <td>False</td>\n",
       "      <td>False</td>\n",
       "      <td>Action, Early Access</td>\n",
       "      <td>0.107842</td>\n",
       "      <td>['windows']</td>\n",
       "      <td>1</td>\n",
       "      <td>0.0</td>\n",
       "      <td>2023</td>\n",
       "      <td>0.179767</td>\n",
       "      <td>-0.983709</td>\n",
       "    </tr>\n",
       "    <tr>\n",
       "      <th>99163</th>\n",
       "      <td>2478130</td>\n",
       "      <td>PROJECT SURVIVAL #Working title</td>\n",
       "      <td>NaN</td>\n",
       "      <td>0</td>\n",
       "      <td>False</td>\n",
       "      <td>False</td>\n",
       "      <td>Action, Adventure, RPG</td>\n",
       "      <td>-0.121755</td>\n",
       "      <td>['windows']</td>\n",
       "      <td>0</td>\n",
       "      <td>0.0</td>\n",
       "      <td>0</td>\n",
       "      <td>0.000000</td>\n",
       "      <td>0.000000</td>\n",
       "    </tr>\n",
       "    <tr>\n",
       "      <th>99164</th>\n",
       "      <td>3272980</td>\n",
       "      <td>Siren's Well</td>\n",
       "      <td>NaN</td>\n",
       "      <td>1</td>\n",
       "      <td>False</td>\n",
       "      <td>False</td>\n",
       "      <td>Action, Adventure</td>\n",
       "      <td>-0.000204</td>\n",
       "      <td>['windows', 'linux']</td>\n",
       "      <td>0</td>\n",
       "      <td>0.0</td>\n",
       "      <td>0</td>\n",
       "      <td>0.000000</td>\n",
       "      <td>0.000000</td>\n",
       "    </tr>\n",
       "    <tr>\n",
       "      <th>99165</th>\n",
       "      <td>2054150</td>\n",
       "      <td>Tower Defender VR: Last Adventure</td>\n",
       "      <td>NaN</td>\n",
       "      <td>0</td>\n",
       "      <td>False</td>\n",
       "      <td>False</td>\n",
       "      <td>Casual, Indie, RPG, Strategy</td>\n",
       "      <td>-0.121755</td>\n",
       "      <td>['windows']</td>\n",
       "      <td>1</td>\n",
       "      <td>0.0</td>\n",
       "      <td>2022</td>\n",
       "      <td>-0.094537</td>\n",
       "      <td>-0.995521</td>\n",
       "    </tr>\n",
       "    <tr>\n",
       "      <th>99166</th>\n",
       "      <td>1335700</td>\n",
       "      <td>Marbleous Blocks</td>\n",
       "      <td>NaN</td>\n",
       "      <td>1</td>\n",
       "      <td>False</td>\n",
       "      <td>False</td>\n",
       "      <td>Indie</td>\n",
       "      <td>-0.074485</td>\n",
       "      <td>['windows']</td>\n",
       "      <td>1</td>\n",
       "      <td>0.0</td>\n",
       "      <td>2021</td>\n",
       "      <td>0.432776</td>\n",
       "      <td>0.901502</td>\n",
       "    </tr>\n",
       "  </tbody>\n",
       "</table>\n",
       "<p>98861 rows × 14 columns</p>\n",
       "</div>"
      ],
      "text/plain": [
       "         appid                               name metacritic  \\\n",
       "0      2574000                     Femboy Burgers        NaN   \n",
       "1      2574120           PPA Pickleball Tour 2025        NaN   \n",
       "2      2573200                      Squeaky Squad        NaN   \n",
       "3      2573440                      Paradox Metal        NaN   \n",
       "4      2569520             Naturpark Lillebælt VR        NaN   \n",
       "...        ...                                ...        ...   \n",
       "99162  1548850               Six Days in Fallujah        NaN   \n",
       "99163  2478130    PROJECT SURVIVAL #Working title        NaN   \n",
       "99164  3272980                       Siren's Well        NaN   \n",
       "99165  2054150  Tower Defender VR: Last Adventure        NaN   \n",
       "99166  1335700                   Marbleous Blocks        NaN   \n",
       "\n",
       "       steam_achievements  steam_trading_cards  workshop_support  \\\n",
       "0                       1                 True              True   \n",
       "1                       1                 True              True   \n",
       "2                       1                 True              True   \n",
       "3                       1                 True              True   \n",
       "4                       1                 True              True   \n",
       "...                   ...                  ...               ...   \n",
       "99162                   1                False             False   \n",
       "99163                   0                False             False   \n",
       "99164                   1                False             False   \n",
       "99165                   0                False             False   \n",
       "99166                   1                False             False   \n",
       "\n",
       "                             genres  achievements_total  \\\n",
       "0                     Casual, Indie           -0.000204   \n",
       "1         Indie, Simulation, Sports           -0.000204   \n",
       "2          Action, Adventure, Indie            0.060572   \n",
       "3              Action, Early Access           -0.000204   \n",
       "4                 Action, Adventure           -0.000204   \n",
       "...                             ...                 ...   \n",
       "99162          Action, Early Access            0.107842   \n",
       "99163        Action, Adventure, RPG           -0.121755   \n",
       "99164             Action, Adventure           -0.000204   \n",
       "99165  Casual, Indie, RPG, Strategy           -0.121755   \n",
       "99166                         Indie           -0.074485   \n",
       "\n",
       "               supported_platforms  is_release_date_known  is_upcoming  year  \\\n",
       "0      ['windows', 'mac', 'linux']                      1          0.0  2023   \n",
       "1      ['windows', 'mac', 'linux']                      1          0.0  2024   \n",
       "2      ['windows', 'mac', 'linux']                      1          0.0  2024   \n",
       "3      ['windows', 'mac', 'linux']                      0          0.0     0   \n",
       "4      ['windows', 'mac', 'linux']                      1          0.0  2023   \n",
       "...                            ...                    ...          ...   ...   \n",
       "99162                  ['windows']                      1          0.0  2023   \n",
       "99163                  ['windows']                      0          0.0     0   \n",
       "99164         ['windows', 'linux']                      0          0.0     0   \n",
       "99165                  ['windows']                      1          0.0  2022   \n",
       "99166                  ['windows']                      1          0.0  2021   \n",
       "\n",
       "        sin_day   cos_day  \n",
       "0     -0.992222  0.124479  \n",
       "1     -0.247022 -0.969010  \n",
       "2      0.998435  0.055917  \n",
       "3      0.000000  0.000000  \n",
       "4     -0.972118 -0.234491  \n",
       "...         ...       ...  \n",
       "99162  0.179767 -0.983709  \n",
       "99163  0.000000  0.000000  \n",
       "99164  0.000000  0.000000  \n",
       "99165 -0.094537 -0.995521  \n",
       "99166  0.432776  0.901502  \n",
       "\n",
       "[98861 rows x 14 columns]"
      ]
     },
     "execution_count": 22,
     "metadata": {},
     "output_type": "execute_result"
    }
   ],
   "source": [
    "#print(info_base_games_df['achievements_total'].isnull().sum())\n",
    "info_base_games_df"
   ]
  },
  {
   "cell_type": "markdown",
   "id": "71f31e55",
   "metadata": {},
   "source": [
    "#### **Saving data after preprocessing**"
   ]
  },
  {
   "cell_type": "code",
   "execution_count": 23,
   "id": "ddb9608a",
   "metadata": {},
   "outputs": [],
   "source": [
    "#df.to_csv(\"../../data/raw/df.csv\", index=False)"
   ]
  },
  {
   "cell_type": "markdown",
   "id": "f90395fe",
   "metadata": {},
   "source": [
    "#### Final Thoughts"
   ]
  },
  {
   "cell_type": "markdown",
   "id": "d854ab9c",
   "metadata": {},
   "source": [
    "##### **Preprocessing Release Date**\n",
    " \n",
    "- **First approach**\n",
    "\n",
    "    - just consider only \"year\" column and ignore day and month \n",
    "\n",
    "- **Second approach**\n",
    "\n",
    "    - Create new column for binary feature is_release_date_known\n",
    "    1 indicates a specific date or quarter is known.\n",
    "    0 indicates the entry is \"to be announced\" or \"coming soon\".\n",
    "    For the main release date feature (fractional_year) = year + (day of year - 1)/days in year\n",
    "\n",
    "- **Third approach**\n",
    "\n",
    "    - guide : https://medium.com/%40paghadalsneh/handling-date-and-time-data-in-machine-learning-a-comprehensive-guide-5d30141cbfec \n",
    "\n",
    "    - splitting date into 3 features (day,month,year)\n",
    "\n",
    "- **Fourth approach**\n",
    "\n",
    "    - using Cyclical encoding \n",
    "\n",
    "- **Fifth Approach** \n",
    "\n",
    "    - Creating two boolean features (I think the two together may be good combination )\n",
    "\n",
    "        - *is_release_date_known* : A missingness indicator set to 1 if game has a specific past or present date (e.g. “15 Apr 2024” or “2023-08-05”), and 0 if (“coming soon”, “to be announced”, “Q[1–4] YYYY”, or “YYYY” only)\n",
    "\n",
    "        - *is_upcoming* : A flag set to 1 if a game release date is strictly after the date when data collected, and 0 otherwise.\n",
    "\n",
    "    - Creating \"year\" , \"fraction_of_year_sin\" , \"fraction_of_year_cos\" features \n",
    "    so Here we applied Cyclical encoding for not missing seasonal patterns \n",
    "\n",
    "    - There are many updates we can do but I don't know it will help or not, We need to select features first to be able to test\n",
    "    like in Q[1-4] yyyy or yyyy only \n",
    "    we can fill it by mode of month and median of days, and maybe in each quarter calculate mean or use imputers\n",
    "\n",
    "---\n",
    "\n",
    "##### **Preprocessing total achievement**\n",
    "\n",
    "- I recommend making web scraping , it will be better and more accurate for sure instead of filling nulls by with mean/median/imputers \n",
    "but We must put into consideration Is it possible or not."
   ]
  },
  {
   "cell_type": "markdown",
   "id": "e68792ef",
   "metadata": {},
   "source": [
    "### Preprocess Metacritic, Genres and Supported Platforms Columns"
   ]
  },
  {
   "cell_type": "markdown",
   "id": "960e8844",
   "metadata": {},
   "source": [
    "#### Checking null values"
   ]
  },
  {
   "cell_type": "code",
   "execution_count": 24,
   "id": "34cd779e",
   "metadata": {},
   "outputs": [
    {
     "data": {
      "text/plain": [
       "metacritic               95856\n",
       "genres                    4752\n",
       "name                        14\n",
       "appid                        0\n",
       "steam_trading_cards          0\n",
       "steam_achievements           0\n",
       "workshop_support             0\n",
       "achievements_total           0\n",
       "supported_platforms          0\n",
       "is_release_date_known        0\n",
       "is_upcoming                  0\n",
       "year                         0\n",
       "sin_day                      0\n",
       "cos_day                      0\n",
       "dtype: int64"
      ]
     },
     "execution_count": 24,
     "metadata": {},
     "output_type": "execute_result"
    }
   ],
   "source": [
    "info_base_games_df.isna().sum().sort_values(ascending = False)"
   ]
  },
  {
   "cell_type": "markdown",
   "id": "5cfc24e4",
   "metadata": {},
   "source": [
    "#### Drop Corrupted Sample That Contains The Column Names"
   ]
  },
  {
   "cell_type": "code",
   "execution_count": 25,
   "id": "5758a3de",
   "metadata": {},
   "outputs": [
    {
     "data": {
      "text/html": [
       "<div>\n",
       "<style scoped>\n",
       "    .dataframe tbody tr th:only-of-type {\n",
       "        vertical-align: middle;\n",
       "    }\n",
       "\n",
       "    .dataframe tbody tr th {\n",
       "        vertical-align: top;\n",
       "    }\n",
       "\n",
       "    .dataframe thead th {\n",
       "        text-align: right;\n",
       "    }\n",
       "</style>\n",
       "<table border=\"1\" class=\"dataframe\">\n",
       "  <thead>\n",
       "    <tr style=\"text-align: right;\">\n",
       "      <th></th>\n",
       "      <th>appid</th>\n",
       "      <th>name</th>\n",
       "      <th>metacritic</th>\n",
       "      <th>steam_achievements</th>\n",
       "      <th>steam_trading_cards</th>\n",
       "      <th>workshop_support</th>\n",
       "      <th>genres</th>\n",
       "      <th>achievements_total</th>\n",
       "      <th>supported_platforms</th>\n",
       "      <th>is_release_date_known</th>\n",
       "      <th>is_upcoming</th>\n",
       "      <th>year</th>\n",
       "      <th>sin_day</th>\n",
       "      <th>cos_day</th>\n",
       "    </tr>\n",
       "  </thead>\n",
       "  <tbody>\n",
       "    <tr>\n",
       "      <th>9929</th>\n",
       "      <td>steam_appid</td>\n",
       "      <td>name</td>\n",
       "      <td>metacritic</td>\n",
       "      <td>1</td>\n",
       "      <td>True</td>\n",
       "      <td>True</td>\n",
       "      <td>genres</td>\n",
       "      <td>-0.000204</td>\n",
       "      <td>['windows', 'mac', 'linux']</td>\n",
       "      <td>1</td>\n",
       "      <td>0.0</td>\n",
       "      <td>0</td>\n",
       "      <td>0.0</td>\n",
       "      <td>0.0</td>\n",
       "    </tr>\n",
       "  </tbody>\n",
       "</table>\n",
       "</div>"
      ],
      "text/plain": [
       "            appid  name  metacritic  steam_achievements  steam_trading_cards  \\\n",
       "9929  steam_appid  name  metacritic                   1                 True   \n",
       "\n",
       "      workshop_support  genres  achievements_total  \\\n",
       "9929              True  genres           -0.000204   \n",
       "\n",
       "              supported_platforms  is_release_date_known  is_upcoming  year  \\\n",
       "9929  ['windows', 'mac', 'linux']                      1          0.0     0   \n",
       "\n",
       "      sin_day  cos_day  \n",
       "9929      0.0      0.0  "
      ]
     },
     "execution_count": 25,
     "metadata": {},
     "output_type": "execute_result"
    }
   ],
   "source": [
    "info_base_games_df.loc[[9929]]"
   ]
  },
  {
   "cell_type": "code",
   "execution_count": 26,
   "id": "3d27977d",
   "metadata": {},
   "outputs": [],
   "source": [
    "info_base_games_df = info_base_games_df.drop(index=9929)"
   ]
  },
  {
   "cell_type": "markdown",
   "id": "c92ea8d4",
   "metadata": {},
   "source": [
    "#### Preprocessing The Metacritic Score Column"
   ]
  },
  {
   "cell_type": "markdown",
   "id": "c9cd597f",
   "metadata": {},
   "source": [
    "[Metacritic](https://www.metacritic.com/) is a website for critics and users to review digital content (movies, music, **games**, etc.), the metacritic score that is included on Steam is the **critics** (professional game reviewers) metacritic score, not the users."
   ]
  },
  {
   "cell_type": "code",
   "execution_count": 27,
   "id": "2ec75639",
   "metadata": {},
   "outputs": [],
   "source": [
    "# Converting the metacritic column to numeric since it contains NaNs\n",
    "info_base_games_df['metacritic'] = pd.to_numeric(info_base_games_df['metacritic'], errors='coerce')"
   ]
  },
  {
   "cell_type": "markdown",
   "id": "da0058ab",
   "metadata": {},
   "source": [
    "##### Checking Percentage of Missing Values"
   ]
  },
  {
   "cell_type": "code",
   "execution_count": 28,
   "id": "27c6ab16",
   "metadata": {},
   "outputs": [
    {
     "name": "stdout",
     "output_type": "stream",
     "text": [
      "Total rows: 98860\n",
      "With metacritic score: 3004 (3.0%)\n",
      "Missing metacritic score: 95856 (97.0%)\n"
     ]
    }
   ],
   "source": [
    "total = len(info_base_games_df)\n",
    "non_null = info_base_games_df['metacritic'].notna().sum()\n",
    "missing = info_base_games_df['metacritic'].isna().sum()\n",
    "print(f\"Total rows: {total}\")\n",
    "print(f\"With metacritic score: {non_null} ({non_null/total:.1%})\")\n",
    "print(f\"Missing metacritic score: {missing} ({missing/total:.1%})\")"
   ]
  },
  {
   "cell_type": "markdown",
   "id": "615fdba2",
   "metadata": {},
   "source": [
    "The above results show that almost 97% of the games in our data don't have a metacritic score associated with them and the metacritic score for them is null, this is due to Steam leaving it **optional** for games' publishers to include a metacritic score on their Steam page."
   ]
  },
  {
   "cell_type": "code",
   "execution_count": 29,
   "id": "eb57bbb0",
   "metadata": {},
   "outputs": [
    {
     "data": {
      "text/plain": [
       "count    3004.000000\n",
       "mean       73.677430\n",
       "std        10.311377\n",
       "min        20.000000\n",
       "25%        68.000000\n",
       "50%        75.000000\n",
       "75%        81.000000\n",
       "max        97.000000\n",
       "Name: metacritic, dtype: float64"
      ]
     },
     "execution_count": 29,
     "metadata": {},
     "output_type": "execute_result"
    }
   ],
   "source": [
    "info_base_games_df['metacritic'].describe()"
   ]
  },
  {
   "cell_type": "code",
   "execution_count": 30,
   "id": "0be66964",
   "metadata": {},
   "outputs": [
    {
     "data": {
      "image/png": "[encoded data removed]",
      "text/plain": [
       "<Figure size 640x480 with 1 Axes>"
      ]
     },
     "metadata": {},
     "output_type": "display_data"
    }
   ],
   "source": [
    "plt.hist(info_base_games_df['metacritic'].dropna(), bins=20)\n",
    "plt.xlabel(\"Metacritic score\")\n",
    "plt.ylabel(\"Number of games\")\n",
    "plt.title(\"Distribution of Metacritic Scores Ignoring Null Values\")\n",
    "plt.show()"
   ]
  },
  {
   "cell_type": "markdown",
   "id": "ab19814c",
   "metadata": {},
   "source": [
    "The above histogram shows that the **metacritic scores are normally distributed**, which means **we can apply standardization on it**."
   ]
  },
  {
   "cell_type": "markdown",
   "id": "65443edc",
   "metadata": {},
   "source": [
    "##### Metacritic scores before standardization"
   ]
  },
  {
   "cell_type": "code",
   "execution_count": 31,
   "id": "47a375eb",
   "metadata": {},
   "outputs": [
    {
     "data": {
      "text/plain": [
       "1893    84.0\n",
       "5458    88.0\n",
       "6519    76.0\n",
       "6663    80.0\n",
       "6862    75.0\n",
       "Name: metacritic, dtype: float64"
      ]
     },
     "execution_count": 31,
     "metadata": {},
     "output_type": "execute_result"
    }
   ],
   "source": [
    "info_base_games_df['metacritic'].dropna().head()"
   ]
  },
  {
   "cell_type": "markdown",
   "id": "ce1e680b",
   "metadata": {},
   "source": [
    "##### Standardizing metacritic scores"
   ]
  },
  {
   "cell_type": "code",
   "execution_count": 32,
   "id": "9b021790",
   "metadata": {},
   "outputs": [
    {
     "data": {
      "text/plain": [
       "1893    1.001252\n",
       "5458    1.389238\n",
       "6519    0.225281\n",
       "6663    0.613267\n",
       "6862    0.128285\n",
       "Name: metacritic_preprocessed, dtype: float64"
      ]
     },
     "execution_count": 32,
     "metadata": {},
     "output_type": "execute_result"
    }
   ],
   "source": [
    "standardizer = StandardScaler()\n",
    "# IMPORTANT: later on I should fit_transform only on the training data\n",
    "info_base_games_df['metacritic_preprocessed'] = standardizer.fit_transform(info_base_games_df[['metacritic']])\n",
    "\n",
    "info_base_games_df['metacritic_preprocessed'].dropna().head()"
   ]
  },
  {
   "cell_type": "markdown",
   "id": "5eae4ac0",
   "metadata": {},
   "source": [
    "Now a problem remains, which is the missing values, it doesn't make sense to drop all the rows that don't contain a metacritic score since 97% of the data doesn't have it, the best solution that came to my mind is to **set all the NaN metacritic scores** to be equal to the **mean of the standardized metacritic scores**, which is **0**. And create a new boolean feature `has_metacritic` which indicates whether this game has a metacritic score or not, I hope that this can help models understand that if `has_metacritic = 0` then ignore this metacritic score, and also generally `has_metacritic` may later on turn out to be a useful feature on its own."
   ]
  },
  {
   "cell_type": "markdown",
   "id": "0049fa0b",
   "metadata": {},
   "source": [
    "##### Creating New `has_metacritic` Feature"
   ]
  },
  {
   "cell_type": "code",
   "execution_count": 33,
   "id": "0681a40d",
   "metadata": {},
   "outputs": [
    {
     "name": "stdout",
     "output_type": "stream",
     "text": [
      "0    0\n",
      "1    0\n",
      "2    0\n",
      "3    0\n",
      "4    0\n",
      "Name: has_metacritic, dtype: int64\n",
      "1893    1\n",
      "Name: has_metacritic, dtype: int64\n"
     ]
    }
   ],
   "source": [
    "info_base_games_df['has_metacritic'] = info_base_games_df['metacritic'].notna().astype(int)\n",
    "print(info_base_games_df['has_metacritic'].head())\n",
    "print(info_base_games_df['has_metacritic'].loc[[1893]])"
   ]
  },
  {
   "cell_type": "markdown",
   "id": "a130a73c",
   "metadata": {},
   "source": [
    "##### Replacing Missing Values With the Mean Value"
   ]
  },
  {
   "cell_type": "markdown",
   "id": "6ecf9b8f",
   "metadata": {},
   "source": [
    "Before"
   ]
  },
  {
   "cell_type": "code",
   "execution_count": 34,
   "id": "6dbe572c",
   "metadata": {},
   "outputs": [
    {
     "data": {
      "text/plain": [
       "0   NaN\n",
       "1   NaN\n",
       "2   NaN\n",
       "3   NaN\n",
       "4   NaN\n",
       "Name: metacritic_preprocessed, dtype: float64"
      ]
     },
     "execution_count": 34,
     "metadata": {},
     "output_type": "execute_result"
    }
   ],
   "source": [
    "info_base_games_df['metacritic_preprocessed'].head()"
   ]
  },
  {
   "cell_type": "markdown",
   "id": "509e4f60",
   "metadata": {},
   "source": [
    "After"
   ]
  },
  {
   "cell_type": "code",
   "execution_count": 35,
   "id": "43355691",
   "metadata": {},
   "outputs": [
    {
     "name": "stdout",
     "output_type": "stream",
     "text": [
      "0    0.0\n",
      "1    0.0\n",
      "2    0.0\n",
      "3    0.0\n",
      "4    0.0\n",
      "Name: metacritic_preprocessed, dtype: float64\n"
     ]
    }
   ],
   "source": [
    "info_base_games_df['metacritic_preprocessed'] = info_base_games_df['metacritic_preprocessed'].fillna(0)\n",
    "print(info_base_games_df['metacritic_preprocessed'].head())"
   ]
  },
  {
   "cell_type": "code",
   "execution_count": 36,
   "id": "a9e428e5",
   "metadata": {},
   "outputs": [
    {
     "data": {
      "text/html": [
       "<div>\n",
       "<style scoped>\n",
       "    .dataframe tbody tr th:only-of-type {\n",
       "        vertical-align: middle;\n",
       "    }\n",
       "\n",
       "    .dataframe tbody tr th {\n",
       "        vertical-align: top;\n",
       "    }\n",
       "\n",
       "    .dataframe thead th {\n",
       "        text-align: right;\n",
       "    }\n",
       "</style>\n",
       "<table border=\"1\" class=\"dataframe\">\n",
       "  <thead>\n",
       "    <tr style=\"text-align: right;\">\n",
       "      <th></th>\n",
       "      <th>appid</th>\n",
       "      <th>name</th>\n",
       "      <th>metacritic</th>\n",
       "      <th>steam_achievements</th>\n",
       "      <th>steam_trading_cards</th>\n",
       "      <th>workshop_support</th>\n",
       "      <th>genres</th>\n",
       "      <th>achievements_total</th>\n",
       "      <th>supported_platforms</th>\n",
       "      <th>is_release_date_known</th>\n",
       "      <th>is_upcoming</th>\n",
       "      <th>year</th>\n",
       "      <th>sin_day</th>\n",
       "      <th>cos_day</th>\n",
       "      <th>metacritic_preprocessed</th>\n",
       "      <th>has_metacritic</th>\n",
       "    </tr>\n",
       "  </thead>\n",
       "  <tbody>\n",
       "    <tr>\n",
       "      <th>0</th>\n",
       "      <td>2574000</td>\n",
       "      <td>Femboy Burgers</td>\n",
       "      <td>NaN</td>\n",
       "      <td>1</td>\n",
       "      <td>True</td>\n",
       "      <td>True</td>\n",
       "      <td>Casual, Indie</td>\n",
       "      <td>-0.000204</td>\n",
       "      <td>['windows', 'mac', 'linux']</td>\n",
       "      <td>1</td>\n",
       "      <td>0.0</td>\n",
       "      <td>2023</td>\n",
       "      <td>-0.992222</td>\n",
       "      <td>0.124479</td>\n",
       "      <td>0.0</td>\n",
       "      <td>0</td>\n",
       "    </tr>\n",
       "    <tr>\n",
       "      <th>1</th>\n",
       "      <td>2574120</td>\n",
       "      <td>PPA Pickleball Tour 2025</td>\n",
       "      <td>NaN</td>\n",
       "      <td>1</td>\n",
       "      <td>True</td>\n",
       "      <td>True</td>\n",
       "      <td>Indie, Simulation, Sports</td>\n",
       "      <td>-0.000204</td>\n",
       "      <td>['windows', 'mac', 'linux']</td>\n",
       "      <td>1</td>\n",
       "      <td>0.0</td>\n",
       "      <td>2024</td>\n",
       "      <td>-0.247022</td>\n",
       "      <td>-0.969010</td>\n",
       "      <td>0.0</td>\n",
       "      <td>0</td>\n",
       "    </tr>\n",
       "    <tr>\n",
       "      <th>2</th>\n",
       "      <td>2573200</td>\n",
       "      <td>Squeaky Squad</td>\n",
       "      <td>NaN</td>\n",
       "      <td>1</td>\n",
       "      <td>True</td>\n",
       "      <td>True</td>\n",
       "      <td>Action, Adventure, Indie</td>\n",
       "      <td>0.060572</td>\n",
       "      <td>['windows', 'mac', 'linux']</td>\n",
       "      <td>1</td>\n",
       "      <td>0.0</td>\n",
       "      <td>2024</td>\n",
       "      <td>0.998435</td>\n",
       "      <td>0.055917</td>\n",
       "      <td>0.0</td>\n",
       "      <td>0</td>\n",
       "    </tr>\n",
       "    <tr>\n",
       "      <th>3</th>\n",
       "      <td>2573440</td>\n",
       "      <td>Paradox Metal</td>\n",
       "      <td>NaN</td>\n",
       "      <td>1</td>\n",
       "      <td>True</td>\n",
       "      <td>True</td>\n",
       "      <td>Action, Early Access</td>\n",
       "      <td>-0.000204</td>\n",
       "      <td>['windows', 'mac', 'linux']</td>\n",
       "      <td>0</td>\n",
       "      <td>0.0</td>\n",
       "      <td>0</td>\n",
       "      <td>0.000000</td>\n",
       "      <td>0.000000</td>\n",
       "      <td>0.0</td>\n",
       "      <td>0</td>\n",
       "    </tr>\n",
       "    <tr>\n",
       "      <th>4</th>\n",
       "      <td>2569520</td>\n",
       "      <td>Naturpark Lillebælt VR</td>\n",
       "      <td>NaN</td>\n",
       "      <td>1</td>\n",
       "      <td>True</td>\n",
       "      <td>True</td>\n",
       "      <td>Action, Adventure</td>\n",
       "      <td>-0.000204</td>\n",
       "      <td>['windows', 'mac', 'linux']</td>\n",
       "      <td>1</td>\n",
       "      <td>0.0</td>\n",
       "      <td>2023</td>\n",
       "      <td>-0.972118</td>\n",
       "      <td>-0.234491</td>\n",
       "      <td>0.0</td>\n",
       "      <td>0</td>\n",
       "    </tr>\n",
       "  </tbody>\n",
       "</table>\n",
       "</div>"
      ],
      "text/plain": [
       "     appid                      name  metacritic  steam_achievements  \\\n",
       "0  2574000            Femboy Burgers         NaN                   1   \n",
       "1  2574120  PPA Pickleball Tour 2025         NaN                   1   \n",
       "2  2573200             Squeaky Squad         NaN                   1   \n",
       "3  2573440             Paradox Metal         NaN                   1   \n",
       "4  2569520    Naturpark Lillebælt VR         NaN                   1   \n",
       "\n",
       "   steam_trading_cards  workshop_support                     genres  \\\n",
       "0                 True              True              Casual, Indie   \n",
       "1                 True              True  Indie, Simulation, Sports   \n",
       "2                 True              True   Action, Adventure, Indie   \n",
       "3                 True              True       Action, Early Access   \n",
       "4                 True              True          Action, Adventure   \n",
       "\n",
       "   achievements_total          supported_platforms  is_release_date_known  \\\n",
       "0           -0.000204  ['windows', 'mac', 'linux']                      1   \n",
       "1           -0.000204  ['windows', 'mac', 'linux']                      1   \n",
       "2            0.060572  ['windows', 'mac', 'linux']                      1   \n",
       "3           -0.000204  ['windows', 'mac', 'linux']                      0   \n",
       "4           -0.000204  ['windows', 'mac', 'linux']                      1   \n",
       "\n",
       "   is_upcoming  year   sin_day   cos_day  metacritic_preprocessed  \\\n",
       "0          0.0  2023 -0.992222  0.124479                      0.0   \n",
       "1          0.0  2024 -0.247022 -0.969010                      0.0   \n",
       "2          0.0  2024  0.998435  0.055917                      0.0   \n",
       "3          0.0     0  0.000000  0.000000                      0.0   \n",
       "4          0.0  2023 -0.972118 -0.234491                      0.0   \n",
       "\n",
       "   has_metacritic  \n",
       "0               0  \n",
       "1               0  \n",
       "2               0  \n",
       "3               0  \n",
       "4               0  "
      ]
     },
     "execution_count": 36,
     "metadata": {},
     "output_type": "execute_result"
    }
   ],
   "source": [
    "info_base_games_df.head()"
   ]
  },
  {
   "cell_type": "markdown",
   "id": "b77253c9",
   "metadata": {},
   "source": [
    "##### Final Thoughts On Preprocessing Metacritic"
   ]
  },
  {
   "cell_type": "markdown",
   "id": "813b6fbd",
   "metadata": {},
   "source": [
    "The above concludes my current trials to preprocess the metacritic column. I will leave below some thoughts that we may wish to revisit in the future:\n",
    "1. I am not sure if the imputation technique that I used is the most suitable technique for this case, and I am not sure if it is correct to standardize then impute, or should I impute first then standardize, I chose the first approach since I think this will better maintain the distribution of the original data, and especially since I believe the imputed value shouldn't have any more meaning than just indicating that this row didn't have a metacritic value, which I tried to do along with the `has_metacritic` column.\n",
    "\n",
    "2. Most importantly, I believe later on the `metacritic` column **will turn out to not be useful** for our models and that we will remove it as a feature, this is based on some discussions I read ([discussion1](https://Steamcommunity.com/discussions/forum/10/3057367211653181335/?l=latam), [discussion2](https://www.reddit.com/r/pcgaming/comments/1gjadpf/da_tv_metacritic_user_score_vs_Steam_ratings/)) in which multiple people feel that it doesn't give accurate reviews, I also expect that it might have a high correlation with `reviewScore` in `gamalytic_Steam_games.csv`, and considering that a small number of samples have this score, I expect this feature won't be useful, on the other hand, I believe we might find the new `has_metacritic` feature useful on its own, still this is all just speculations and we will find out by using proper feature selection methods."
   ]
  },
  {
   "cell_type": "markdown",
   "id": "40c018bd",
   "metadata": {},
   "source": [
    "#### Preprocessing The Genres Column"
   ]
  },
  {
   "cell_type": "code",
   "execution_count": 37,
   "id": "09fb5b99",
   "metadata": {},
   "outputs": [
    {
     "data": {
      "text/plain": [
       "0                Casual, Indie\n",
       "1    Indie, Simulation, Sports\n",
       "2     Action, Adventure, Indie\n",
       "3         Action, Early Access\n",
       "4            Action, Adventure\n",
       "Name: genres, dtype: object"
      ]
     },
     "execution_count": 37,
     "metadata": {},
     "output_type": "execute_result"
    }
   ],
   "source": [
    "info_base_games_df['genres'].head()"
   ]
  },
  {
   "cell_type": "markdown",
   "id": "0c13732e",
   "metadata": {},
   "source": [
    "##### Split Genres Into Lists"
   ]
  },
  {
   "cell_type": "code",
   "execution_count": 38,
   "id": "e2685c3f",
   "metadata": {},
   "outputs": [
    {
     "data": {
      "text/plain": [
       "0                [Casual, Indie]\n",
       "1    [Indie, Simulation, Sports]\n",
       "2     [Action, Adventure, Indie]\n",
       "3         [Action, Early Access]\n",
       "4            [Action, Adventure]\n",
       "Name: genres_split, dtype: object"
      ]
     },
     "execution_count": 38,
     "metadata": {},
     "output_type": "execute_result"
    }
   ],
   "source": [
    "info_base_games_df['genres_split'] = info_base_games_df['genres'].fillna('')\n",
    "info_base_games_df['genres_split'] = info_base_games_df['genres_split'].apply(lambda x: x.split(', ') if x else [])\n",
    "info_base_games_df['genres_split'].head()"
   ]
  },
  {
   "cell_type": "markdown",
   "id": "8ac8e9d1",
   "metadata": {},
   "source": [
    "##### Analyze Genres"
   ]
  },
  {
   "cell_type": "markdown",
   "id": "ca8461a8",
   "metadata": {},
   "source": [
    "Flatten genres into one big list"
   ]
  },
  {
   "cell_type": "code",
   "execution_count": 39,
   "id": "49f48087",
   "metadata": {},
   "outputs": [],
   "source": [
    "all_genres = [genre\n",
    "              for sublist in info_base_games_df['genres_split']\n",
    "              for genre in sublist]"
   ]
  },
  {
   "cell_type": "markdown",
   "id": "691c7e97",
   "metadata": {},
   "source": [
    "Count genres frequencies"
   ]
  },
  {
   "cell_type": "code",
   "execution_count": 40,
   "id": "d5e567dc",
   "metadata": {},
   "outputs": [
    {
     "name": "stdout",
     "output_type": "stream",
     "text": [
      "Number of uniqure genres in the whole dataset:\n",
      "27\n",
      "                       count\n",
      "Indie                  66525\n",
      "Action                 39986\n",
      "Adventure              38977\n",
      "Casual                 38195\n",
      "Simulation             19738\n",
      "Strategy               18979\n",
      "RPG                    18960\n",
      "Early Access            9989\n",
      "Free To Play            8991\n",
      "Sports                  3589\n",
      "Racing                  3305\n",
      "Massively Multiplayer   2542\n",
      "Utilities                778\n",
      "Design & Illustration    428\n",
      "Animation & Modeling     348\n",
      "Violent                  346\n",
      "Education                319\n",
      "Video Production         255\n",
      "Game Development         251\n",
      "Gore                     214\n",
      "Audio Production         165\n",
      "Software Training        152\n",
      "Photo Editing            122\n",
      "Web Publishing            85\n",
      "Nudity                    76\n",
      "Sexual Content            75\n",
      "Accounting                19\n"
     ]
    }
   ],
   "source": [
    "genre_counts = Counter(all_genres)\n",
    "genre_freq = (\n",
    "    pd.DataFrame.from_dict(genre_counts, orient='index', columns=['count'])\n",
    "      .sort_values('count', ascending=False)\n",
    ")\n",
    "print(\"Number of uniqure genres in the whole dataset:\")\n",
    "print(genre_freq.size)\n",
    "print(genre_freq)"
   ]
  },
  {
   "cell_type": "markdown",
   "id": "941d4679",
   "metadata": {},
   "source": [
    "Output word cloud for visualization of the genre counts"
   ]
  },
  {
   "cell_type": "code",
   "execution_count": 41,
   "id": "8628098d",
   "metadata": {},
   "outputs": [
    {
     "data": {
      "image/png": "[encoded data removed]",
      "text/plain": [
       "<Figure size 1400x700 with 1 Axes>"
      ]
     },
     "metadata": {},
     "output_type": "display_data"
    }
   ],
   "source": [
    "wc = WordCloud(width=1400, height=700, background_color='white')\n",
    "wc.generate_from_frequencies(genre_counts)\n",
    "\n",
    "plt.figure(figsize=(14, 7))\n",
    "plt.imshow(wc, interpolation='bilinear')\n",
    "plt.axis('off')\n",
    "plt.show()"
   ]
  },
  {
   "cell_type": "markdown",
   "id": "c253697c",
   "metadata": {},
   "source": [
    "Multi-Hot Encode The Genres and Merge Them Into the Dataframe"
   ]
  },
  {
   "cell_type": "code",
   "execution_count": 42,
   "id": "7806917a",
   "metadata": {},
   "outputs": [],
   "source": [
    "mlb = MultiLabelBinarizer()\n",
    "# IMPORTANT: later on I should fit_transform only on the training data\n",
    "genres_encoded = mlb.fit_transform(info_base_games_df['genres_split'])\n",
    "genres_info_base_games_df = pd.DataFrame(genres_encoded, columns=[f'genre_{c}' for c in mlb.classes_], index=info_base_games_df.index)\n",
    "info_base_games_df = pd.concat([info_base_games_df, genres_info_base_games_df], axis=1)\n",
    "info_base_games_df = info_base_games_df.drop(columns=['genres_split'])"
   ]
  },
  {
   "cell_type": "code",
   "execution_count": 43,
   "id": "352333cf",
   "metadata": {},
   "outputs": [
    {
     "data": {
      "text/html": [
       "<div>\n",
       "<style scoped>\n",
       "    .dataframe tbody tr th:only-of-type {\n",
       "        vertical-align: middle;\n",
       "    }\n",
       "\n",
       "    .dataframe tbody tr th {\n",
       "        vertical-align: top;\n",
       "    }\n",
       "\n",
       "    .dataframe thead th {\n",
       "        text-align: right;\n",
       "    }\n",
       "</style>\n",
       "<table border=\"1\" class=\"dataframe\">\n",
       "  <thead>\n",
       "    <tr style=\"text-align: right;\">\n",
       "      <th></th>\n",
       "      <th>appid</th>\n",
       "      <th>name</th>\n",
       "      <th>metacritic</th>\n",
       "      <th>steam_achievements</th>\n",
       "      <th>steam_trading_cards</th>\n",
       "      <th>workshop_support</th>\n",
       "      <th>genres</th>\n",
       "      <th>achievements_total</th>\n",
       "      <th>supported_platforms</th>\n",
       "      <th>is_release_date_known</th>\n",
       "      <th>is_upcoming</th>\n",
       "      <th>year</th>\n",
       "      <th>sin_day</th>\n",
       "      <th>cos_day</th>\n",
       "      <th>metacritic_preprocessed</th>\n",
       "      <th>has_metacritic</th>\n",
       "      <th>genre_Accounting</th>\n",
       "      <th>genre_Action</th>\n",
       "      <th>genre_Adventure</th>\n",
       "      <th>genre_Animation &amp; Modeling</th>\n",
       "      <th>genre_Audio Production</th>\n",
       "      <th>genre_Casual</th>\n",
       "      <th>genre_Design &amp; Illustration</th>\n",
       "      <th>genre_Early Access</th>\n",
       "      <th>genre_Education</th>\n",
       "      <th>genre_Free To Play</th>\n",
       "      <th>genre_Game Development</th>\n",
       "      <th>genre_Gore</th>\n",
       "      <th>genre_Indie</th>\n",
       "      <th>genre_Massively Multiplayer</th>\n",
       "      <th>genre_Nudity</th>\n",
       "      <th>genre_Photo Editing</th>\n",
       "      <th>genre_RPG</th>\n",
       "      <th>genre_Racing</th>\n",
       "      <th>genre_Sexual Content</th>\n",
       "      <th>genre_Simulation</th>\n",
       "      <th>genre_Software Training</th>\n",
       "      <th>genre_Sports</th>\n",
       "      <th>genre_Strategy</th>\n",
       "      <th>genre_Utilities</th>\n",
       "      <th>genre_Video Production</th>\n",
       "      <th>genre_Violent</th>\n",
       "      <th>genre_Web Publishing</th>\n",
       "    </tr>\n",
       "  </thead>\n",
       "  <tbody>\n",
       "    <tr>\n",
       "      <th>0</th>\n",
       "      <td>2574000</td>\n",
       "      <td>Femboy Burgers</td>\n",
       "      <td>NaN</td>\n",
       "      <td>1</td>\n",
       "      <td>True</td>\n",
       "      <td>True</td>\n",
       "      <td>Casual, Indie</td>\n",
       "      <td>-0.000204</td>\n",
       "      <td>['windows', 'mac', 'linux']</td>\n",
       "      <td>1</td>\n",
       "      <td>0.0</td>\n",
       "      <td>2023</td>\n",
       "      <td>-0.992222</td>\n",
       "      <td>0.124479</td>\n",
       "      <td>0.0</td>\n",
       "      <td>0</td>\n",
       "      <td>0</td>\n",
       "      <td>0</td>\n",
       "      <td>0</td>\n",
       "      <td>0</td>\n",
       "      <td>0</td>\n",
       "      <td>1</td>\n",
       "      <td>0</td>\n",
       "      <td>0</td>\n",
       "      <td>0</td>\n",
       "      <td>0</td>\n",
       "      <td>0</td>\n",
       "      <td>0</td>\n",
       "      <td>1</td>\n",
       "      <td>0</td>\n",
       "      <td>0</td>\n",
       "      <td>0</td>\n",
       "      <td>0</td>\n",
       "      <td>0</td>\n",
       "      <td>0</td>\n",
       "      <td>0</td>\n",
       "      <td>0</td>\n",
       "      <td>0</td>\n",
       "      <td>0</td>\n",
       "      <td>0</td>\n",
       "      <td>0</td>\n",
       "      <td>0</td>\n",
       "      <td>0</td>\n",
       "    </tr>\n",
       "    <tr>\n",
       "      <th>1</th>\n",
       "      <td>2574120</td>\n",
       "      <td>PPA Pickleball Tour 2025</td>\n",
       "      <td>NaN</td>\n",
       "      <td>1</td>\n",
       "      <td>True</td>\n",
       "      <td>True</td>\n",
       "      <td>Indie, Simulation, Sports</td>\n",
       "      <td>-0.000204</td>\n",
       "      <td>['windows', 'mac', 'linux']</td>\n",
       "      <td>1</td>\n",
       "      <td>0.0</td>\n",
       "      <td>2024</td>\n",
       "      <td>-0.247022</td>\n",
       "      <td>-0.969010</td>\n",
       "      <td>0.0</td>\n",
       "      <td>0</td>\n",
       "      <td>0</td>\n",
       "      <td>0</td>\n",
       "      <td>0</td>\n",
       "      <td>0</td>\n",
       "      <td>0</td>\n",
       "      <td>0</td>\n",
       "      <td>0</td>\n",
       "      <td>0</td>\n",
       "      <td>0</td>\n",
       "      <td>0</td>\n",
       "      <td>0</td>\n",
       "      <td>0</td>\n",
       "      <td>1</td>\n",
       "      <td>0</td>\n",
       "      <td>0</td>\n",
       "      <td>0</td>\n",
       "      <td>0</td>\n",
       "      <td>0</td>\n",
       "      <td>0</td>\n",
       "      <td>1</td>\n",
       "      <td>0</td>\n",
       "      <td>1</td>\n",
       "      <td>0</td>\n",
       "      <td>0</td>\n",
       "      <td>0</td>\n",
       "      <td>0</td>\n",
       "      <td>0</td>\n",
       "    </tr>\n",
       "    <tr>\n",
       "      <th>2</th>\n",
       "      <td>2573200</td>\n",
       "      <td>Squeaky Squad</td>\n",
       "      <td>NaN</td>\n",
       "      <td>1</td>\n",
       "      <td>True</td>\n",
       "      <td>True</td>\n",
       "      <td>Action, Adventure, Indie</td>\n",
       "      <td>0.060572</td>\n",
       "      <td>['windows', 'mac', 'linux']</td>\n",
       "      <td>1</td>\n",
       "      <td>0.0</td>\n",
       "      <td>2024</td>\n",
       "      <td>0.998435</td>\n",
       "      <td>0.055917</td>\n",
       "      <td>0.0</td>\n",
       "      <td>0</td>\n",
       "      <td>0</td>\n",
       "      <td>1</td>\n",
       "      <td>1</td>\n",
       "      <td>0</td>\n",
       "      <td>0</td>\n",
       "      <td>0</td>\n",
       "      <td>0</td>\n",
       "      <td>0</td>\n",
       "      <td>0</td>\n",
       "      <td>0</td>\n",
       "      <td>0</td>\n",
       "      <td>0</td>\n",
       "      <td>1</td>\n",
       "      <td>0</td>\n",
       "      <td>0</td>\n",
       "      <td>0</td>\n",
       "      <td>0</td>\n",
       "      <td>0</td>\n",
       "      <td>0</td>\n",
       "      <td>0</td>\n",
       "      <td>0</td>\n",
       "      <td>0</td>\n",
       "      <td>0</td>\n",
       "      <td>0</td>\n",
       "      <td>0</td>\n",
       "      <td>0</td>\n",
       "      <td>0</td>\n",
       "    </tr>\n",
       "    <tr>\n",
       "      <th>3</th>\n",
       "      <td>2573440</td>\n",
       "      <td>Paradox Metal</td>\n",
       "      <td>NaN</td>\n",
       "      <td>1</td>\n",
       "      <td>True</td>\n",
       "      <td>True</td>\n",
       "      <td>Action, Early Access</td>\n",
       "      <td>-0.000204</td>\n",
       "      <td>['windows', 'mac', 'linux']</td>\n",
       "      <td>0</td>\n",
       "      <td>0.0</td>\n",
       "      <td>0</td>\n",
       "      <td>0.000000</td>\n",
       "      <td>0.000000</td>\n",
       "      <td>0.0</td>\n",
       "      <td>0</td>\n",
       "      <td>0</td>\n",
       "      <td>1</td>\n",
       "      <td>0</td>\n",
       "      <td>0</td>\n",
       "      <td>0</td>\n",
       "      <td>0</td>\n",
       "      <td>0</td>\n",
       "      <td>1</td>\n",
       "      <td>0</td>\n",
       "      <td>0</td>\n",
       "      <td>0</td>\n",
       "      <td>0</td>\n",
       "      <td>0</td>\n",
       "      <td>0</td>\n",
       "      <td>0</td>\n",
       "      <td>0</td>\n",
       "      <td>0</td>\n",
       "      <td>0</td>\n",
       "      <td>0</td>\n",
       "      <td>0</td>\n",
       "      <td>0</td>\n",
       "      <td>0</td>\n",
       "      <td>0</td>\n",
       "      <td>0</td>\n",
       "      <td>0</td>\n",
       "      <td>0</td>\n",
       "      <td>0</td>\n",
       "    </tr>\n",
       "    <tr>\n",
       "      <th>4</th>\n",
       "      <td>2569520</td>\n",
       "      <td>Naturpark Lillebælt VR</td>\n",
       "      <td>NaN</td>\n",
       "      <td>1</td>\n",
       "      <td>True</td>\n",
       "      <td>True</td>\n",
       "      <td>Action, Adventure</td>\n",
       "      <td>-0.000204</td>\n",
       "      <td>['windows', 'mac', 'linux']</td>\n",
       "      <td>1</td>\n",
       "      <td>0.0</td>\n",
       "      <td>2023</td>\n",
       "      <td>-0.972118</td>\n",
       "      <td>-0.234491</td>\n",
       "      <td>0.0</td>\n",
       "      <td>0</td>\n",
       "      <td>0</td>\n",
       "      <td>1</td>\n",
       "      <td>1</td>\n",
       "      <td>0</td>\n",
       "      <td>0</td>\n",
       "      <td>0</td>\n",
       "      <td>0</td>\n",
       "      <td>0</td>\n",
       "      <td>0</td>\n",
       "      <td>0</td>\n",
       "      <td>0</td>\n",
       "      <td>0</td>\n",
       "      <td>0</td>\n",
       "      <td>0</td>\n",
       "      <td>0</td>\n",
       "      <td>0</td>\n",
       "      <td>0</td>\n",
       "      <td>0</td>\n",
       "      <td>0</td>\n",
       "      <td>0</td>\n",
       "      <td>0</td>\n",
       "      <td>0</td>\n",
       "      <td>0</td>\n",
       "      <td>0</td>\n",
       "      <td>0</td>\n",
       "      <td>0</td>\n",
       "      <td>0</td>\n",
       "    </tr>\n",
       "  </tbody>\n",
       "</table>\n",
       "</div>"
      ],
      "text/plain": [
       "     appid                      name  metacritic  steam_achievements  \\\n",
       "0  2574000            Femboy Burgers         NaN                   1   \n",
       "1  2574120  PPA Pickleball Tour 2025         NaN                   1   \n",
       "2  2573200             Squeaky Squad         NaN                   1   \n",
       "3  2573440             Paradox Metal         NaN                   1   \n",
       "4  2569520    Naturpark Lillebælt VR         NaN                   1   \n",
       "\n",
       "   steam_trading_cards  workshop_support                     genres  \\\n",
       "0                 True              True              Casual, Indie   \n",
       "1                 True              True  Indie, Simulation, Sports   \n",
       "2                 True              True   Action, Adventure, Indie   \n",
       "3                 True              True       Action, Early Access   \n",
       "4                 True              True          Action, Adventure   \n",
       "\n",
       "   achievements_total          supported_platforms  is_release_date_known  \\\n",
       "0           -0.000204  ['windows', 'mac', 'linux']                      1   \n",
       "1           -0.000204  ['windows', 'mac', 'linux']                      1   \n",
       "2            0.060572  ['windows', 'mac', 'linux']                      1   \n",
       "3           -0.000204  ['windows', 'mac', 'linux']                      0   \n",
       "4           -0.000204  ['windows', 'mac', 'linux']                      1   \n",
       "\n",
       "   is_upcoming  year   sin_day   cos_day  metacritic_preprocessed  \\\n",
       "0          0.0  2023 -0.992222  0.124479                      0.0   \n",
       "1          0.0  2024 -0.247022 -0.969010                      0.0   \n",
       "2          0.0  2024  0.998435  0.055917                      0.0   \n",
       "3          0.0     0  0.000000  0.000000                      0.0   \n",
       "4          0.0  2023 -0.972118 -0.234491                      0.0   \n",
       "\n",
       "   has_metacritic  genre_Accounting  genre_Action  genre_Adventure  \\\n",
       "0               0                 0             0                0   \n",
       "1               0                 0             0                0   \n",
       "2               0                 0             1                1   \n",
       "3               0                 0             1                0   \n",
       "4               0                 0             1                1   \n",
       "\n",
       "   genre_Animation & Modeling  genre_Audio Production  genre_Casual  \\\n",
       "0                           0                       0             1   \n",
       "1                           0                       0             0   \n",
       "2                           0                       0             0   \n",
       "3                           0                       0             0   \n",
       "4                           0                       0             0   \n",
       "\n",
       "   genre_Design & Illustration  genre_Early Access  genre_Education  \\\n",
       "0                            0                   0                0   \n",
       "1                            0                   0                0   \n",
       "2                            0                   0                0   \n",
       "3                            0                   1                0   \n",
       "4                            0                   0                0   \n",
       "\n",
       "   genre_Free To Play  genre_Game Development  genre_Gore  genre_Indie  \\\n",
       "0                   0                       0           0            1   \n",
       "1                   0                       0           0            1   \n",
       "2                   0                       0           0            1   \n",
       "3                   0                       0           0            0   \n",
       "4                   0                       0           0            0   \n",
       "\n",
       "   genre_Massively Multiplayer  genre_Nudity  genre_Photo Editing  genre_RPG  \\\n",
       "0                            0             0                    0          0   \n",
       "1                            0             0                    0          0   \n",
       "2                            0             0                    0          0   \n",
       "3                            0             0                    0          0   \n",
       "4                            0             0                    0          0   \n",
       "\n",
       "   genre_Racing  genre_Sexual Content  genre_Simulation  \\\n",
       "0             0                     0                 0   \n",
       "1             0                     0                 1   \n",
       "2             0                     0                 0   \n",
       "3             0                     0                 0   \n",
       "4             0                     0                 0   \n",
       "\n",
       "   genre_Software Training  genre_Sports  genre_Strategy  genre_Utilities  \\\n",
       "0                        0             0               0                0   \n",
       "1                        0             1               0                0   \n",
       "2                        0             0               0                0   \n",
       "3                        0             0               0                0   \n",
       "4                        0             0               0                0   \n",
       "\n",
       "   genre_Video Production  genre_Violent  genre_Web Publishing  \n",
       "0                       0              0                     0  \n",
       "1                       0              0                     0  \n",
       "2                       0              0                     0  \n",
       "3                       0              0                     0  \n",
       "4                       0              0                     0  "
      ]
     },
     "execution_count": 43,
     "metadata": {},
     "output_type": "execute_result"
    }
   ],
   "source": [
    "pd.set_option('display.max_columns', None)\n",
    "info_base_games_df.head()"
   ]
  },
  {
   "cell_type": "markdown",
   "id": "c532f959",
   "metadata": {},
   "source": [
    "##### Final Thoughts On Preprocessing Genres"
   ]
  },
  {
   "cell_type": "markdown",
   "id": "117f3a08",
   "metadata": {},
   "source": [
    "1. There are rare genres (Accounting, Nudity, Web Publishing, etc.), after research I believe we have 2 options that we can do with them, either treat them normally like all the other genres as I did above, or set a certain frequency threshold, and genres that have frequencies less than that threshold get removed and we replace them with a \"genre_Other\" column, I didn't do that since I have a feeling that these rare genres might help during prediction, but the best way to know would be to test both methods in the \"training and evaluation\" phase to determine which method helps the model make better predictions.\n",
    "\n",
    "2. About handling unseen genres that we might get later on with unseen data, if we do not have the \"genre_Other\" column then the best way to handle them would be to ignore them, put 1's in the genres that we know, and ignore the ones we don't know, on the other hand if we have a \"genre_Other\" column, then we would put a 1 at that column.\n",
    "\n",
    "3. If later on the genres prove to be useful in predictions and we select them as a feature, I believe the best way to handle them being missing in unseen data would be to webscrape and get the genres of the game.\n",
    "\n",
    "4. Can later on try creating a new feature which is `number_of_genres`"
   ]
  },
  {
   "cell_type": "markdown",
   "id": "ba79f1e0",
   "metadata": {},
   "source": [
    "#### Preprocessing The Supported Platforms Column"
   ]
  },
  {
   "cell_type": "markdown",
   "id": "dcfb7687",
   "metadata": {},
   "source": [
    "##### Analyzing the column"
   ]
  },
  {
   "cell_type": "code",
   "execution_count": 44,
   "id": "8a93d5ac",
   "metadata": {},
   "outputs": [
    {
     "data": {
      "text/plain": [
       "supported_platforms\n",
       "['windows']                    69612\n",
       "['windows', 'mac', 'linux']    18796\n",
       "['windows', 'mac']              7314\n",
       "['windows', 'linux']            3111\n",
       "['mac']                           19\n",
       "['linux']                          7\n",
       "['mac', 'linux']                   1\n",
       "Name: count, dtype: int64"
      ]
     },
     "execution_count": 44,
     "metadata": {},
     "output_type": "execute_result"
    }
   ],
   "source": [
    "info_base_games_df['supported_platforms'].value_counts()"
   ]
  },
  {
   "cell_type": "markdown",
   "id": "f2ab1f99",
   "metadata": {},
   "source": [
    "##### Multi-Hot Encode The Supported Platforms and Merge Them Into the Dataframe"
   ]
  },
  {
   "cell_type": "code",
   "execution_count": 45,
   "id": "f9e6f217",
   "metadata": {},
   "outputs": [],
   "source": [
    "# Safely convert the supported_platforms list into a python list\n",
    "info_base_games_df['platforms_parsed'] = info_base_games_df['supported_platforms'].apply(ast.literal_eval)\n",
    "\n",
    "mlb = MultiLabelBinarizer()\n",
    "platforms_encoded = mlb.fit_transform(info_base_games_df['platforms_parsed'])\n",
    "platforms_info_base_games_df = pd.DataFrame(platforms_encoded, columns=mlb.classes_, index=info_base_games_df.index)\n",
    "info_base_games_df = pd.concat([info_base_games_df, platforms_info_base_games_df], axis=1)\n",
    "info_base_games_df.drop(columns='platforms_parsed', inplace=True)"
   ]
  },
  {
   "cell_type": "code",
   "execution_count": 46,
   "id": "30274195",
   "metadata": {},
   "outputs": [
    {
     "data": {
      "text/html": [
       "<div>\n",
       "<style scoped>\n",
       "    .dataframe tbody tr th:only-of-type {\n",
       "        vertical-align: middle;\n",
       "    }\n",
       "\n",
       "    .dataframe tbody tr th {\n",
       "        vertical-align: top;\n",
       "    }\n",
       "\n",
       "    .dataframe thead th {\n",
       "        text-align: right;\n",
       "    }\n",
       "</style>\n",
       "<table border=\"1\" class=\"dataframe\">\n",
       "  <thead>\n",
       "    <tr style=\"text-align: right;\">\n",
       "      <th></th>\n",
       "      <th>appid</th>\n",
       "      <th>name</th>\n",
       "      <th>metacritic</th>\n",
       "      <th>steam_achievements</th>\n",
       "      <th>steam_trading_cards</th>\n",
       "      <th>workshop_support</th>\n",
       "      <th>genres</th>\n",
       "      <th>achievements_total</th>\n",
       "      <th>supported_platforms</th>\n",
       "      <th>is_release_date_known</th>\n",
       "      <th>is_upcoming</th>\n",
       "      <th>year</th>\n",
       "      <th>sin_day</th>\n",
       "      <th>cos_day</th>\n",
       "      <th>metacritic_preprocessed</th>\n",
       "      <th>has_metacritic</th>\n",
       "      <th>genre_Accounting</th>\n",
       "      <th>genre_Action</th>\n",
       "      <th>genre_Adventure</th>\n",
       "      <th>genre_Animation &amp; Modeling</th>\n",
       "      <th>genre_Audio Production</th>\n",
       "      <th>genre_Casual</th>\n",
       "      <th>genre_Design &amp; Illustration</th>\n",
       "      <th>genre_Early Access</th>\n",
       "      <th>genre_Education</th>\n",
       "      <th>genre_Free To Play</th>\n",
       "      <th>genre_Game Development</th>\n",
       "      <th>genre_Gore</th>\n",
       "      <th>genre_Indie</th>\n",
       "      <th>genre_Massively Multiplayer</th>\n",
       "      <th>genre_Nudity</th>\n",
       "      <th>genre_Photo Editing</th>\n",
       "      <th>genre_RPG</th>\n",
       "      <th>genre_Racing</th>\n",
       "      <th>genre_Sexual Content</th>\n",
       "      <th>genre_Simulation</th>\n",
       "      <th>genre_Software Training</th>\n",
       "      <th>genre_Sports</th>\n",
       "      <th>genre_Strategy</th>\n",
       "      <th>genre_Utilities</th>\n",
       "      <th>genre_Video Production</th>\n",
       "      <th>genre_Violent</th>\n",
       "      <th>genre_Web Publishing</th>\n",
       "      <th>linux</th>\n",
       "      <th>mac</th>\n",
       "      <th>windows</th>\n",
       "    </tr>\n",
       "  </thead>\n",
       "  <tbody>\n",
       "    <tr>\n",
       "      <th>0</th>\n",
       "      <td>2574000</td>\n",
       "      <td>Femboy Burgers</td>\n",
       "      <td>NaN</td>\n",
       "      <td>1</td>\n",
       "      <td>True</td>\n",
       "      <td>True</td>\n",
       "      <td>Casual, Indie</td>\n",
       "      <td>-0.000204</td>\n",
       "      <td>['windows', 'mac', 'linux']</td>\n",
       "      <td>1</td>\n",
       "      <td>0.0</td>\n",
       "      <td>2023</td>\n",
       "      <td>-0.992222</td>\n",
       "      <td>0.124479</td>\n",
       "      <td>0.0</td>\n",
       "      <td>0</td>\n",
       "      <td>0</td>\n",
       "      <td>0</td>\n",
       "      <td>0</td>\n",
       "      <td>0</td>\n",
       "      <td>0</td>\n",
       "      <td>1</td>\n",
       "      <td>0</td>\n",
       "      <td>0</td>\n",
       "      <td>0</td>\n",
       "      <td>0</td>\n",
       "      <td>0</td>\n",
       "      <td>0</td>\n",
       "      <td>1</td>\n",
       "      <td>0</td>\n",
       "      <td>0</td>\n",
       "      <td>0</td>\n",
       "      <td>0</td>\n",
       "      <td>0</td>\n",
       "      <td>0</td>\n",
       "      <td>0</td>\n",
       "      <td>0</td>\n",
       "      <td>0</td>\n",
       "      <td>0</td>\n",
       "      <td>0</td>\n",
       "      <td>0</td>\n",
       "      <td>0</td>\n",
       "      <td>0</td>\n",
       "      <td>1</td>\n",
       "      <td>1</td>\n",
       "      <td>1</td>\n",
       "    </tr>\n",
       "    <tr>\n",
       "      <th>1</th>\n",
       "      <td>2574120</td>\n",
       "      <td>PPA Pickleball Tour 2025</td>\n",
       "      <td>NaN</td>\n",
       "      <td>1</td>\n",
       "      <td>True</td>\n",
       "      <td>True</td>\n",
       "      <td>Indie, Simulation, Sports</td>\n",
       "      <td>-0.000204</td>\n",
       "      <td>['windows', 'mac', 'linux']</td>\n",
       "      <td>1</td>\n",
       "      <td>0.0</td>\n",
       "      <td>2024</td>\n",
       "      <td>-0.247022</td>\n",
       "      <td>-0.969010</td>\n",
       "      <td>0.0</td>\n",
       "      <td>0</td>\n",
       "      <td>0</td>\n",
       "      <td>0</td>\n",
       "      <td>0</td>\n",
       "      <td>0</td>\n",
       "      <td>0</td>\n",
       "      <td>0</td>\n",
       "      <td>0</td>\n",
       "      <td>0</td>\n",
       "      <td>0</td>\n",
       "      <td>0</td>\n",
       "      <td>0</td>\n",
       "      <td>0</td>\n",
       "      <td>1</td>\n",
       "      <td>0</td>\n",
       "      <td>0</td>\n",
       "      <td>0</td>\n",
       "      <td>0</td>\n",
       "      <td>0</td>\n",
       "      <td>0</td>\n",
       "      <td>1</td>\n",
       "      <td>0</td>\n",
       "      <td>1</td>\n",
       "      <td>0</td>\n",
       "      <td>0</td>\n",
       "      <td>0</td>\n",
       "      <td>0</td>\n",
       "      <td>0</td>\n",
       "      <td>1</td>\n",
       "      <td>1</td>\n",
       "      <td>1</td>\n",
       "    </tr>\n",
       "    <tr>\n",
       "      <th>2</th>\n",
       "      <td>2573200</td>\n",
       "      <td>Squeaky Squad</td>\n",
       "      <td>NaN</td>\n",
       "      <td>1</td>\n",
       "      <td>True</td>\n",
       "      <td>True</td>\n",
       "      <td>Action, Adventure, Indie</td>\n",
       "      <td>0.060572</td>\n",
       "      <td>['windows', 'mac', 'linux']</td>\n",
       "      <td>1</td>\n",
       "      <td>0.0</td>\n",
       "      <td>2024</td>\n",
       "      <td>0.998435</td>\n",
       "      <td>0.055917</td>\n",
       "      <td>0.0</td>\n",
       "      <td>0</td>\n",
       "      <td>0</td>\n",
       "      <td>1</td>\n",
       "      <td>1</td>\n",
       "      <td>0</td>\n",
       "      <td>0</td>\n",
       "      <td>0</td>\n",
       "      <td>0</td>\n",
       "      <td>0</td>\n",
       "      <td>0</td>\n",
       "      <td>0</td>\n",
       "      <td>0</td>\n",
       "      <td>0</td>\n",
       "      <td>1</td>\n",
       "      <td>0</td>\n",
       "      <td>0</td>\n",
       "      <td>0</td>\n",
       "      <td>0</td>\n",
       "      <td>0</td>\n",
       "      <td>0</td>\n",
       "      <td>0</td>\n",
       "      <td>0</td>\n",
       "      <td>0</td>\n",
       "      <td>0</td>\n",
       "      <td>0</td>\n",
       "      <td>0</td>\n",
       "      <td>0</td>\n",
       "      <td>0</td>\n",
       "      <td>1</td>\n",
       "      <td>1</td>\n",
       "      <td>1</td>\n",
       "    </tr>\n",
       "    <tr>\n",
       "      <th>3</th>\n",
       "      <td>2573440</td>\n",
       "      <td>Paradox Metal</td>\n",
       "      <td>NaN</td>\n",
       "      <td>1</td>\n",
       "      <td>True</td>\n",
       "      <td>True</td>\n",
       "      <td>Action, Early Access</td>\n",
       "      <td>-0.000204</td>\n",
       "      <td>['windows', 'mac', 'linux']</td>\n",
       "      <td>0</td>\n",
       "      <td>0.0</td>\n",
       "      <td>0</td>\n",
       "      <td>0.000000</td>\n",
       "      <td>0.000000</td>\n",
       "      <td>0.0</td>\n",
       "      <td>0</td>\n",
       "      <td>0</td>\n",
       "      <td>1</td>\n",
       "      <td>0</td>\n",
       "      <td>0</td>\n",
       "      <td>0</td>\n",
       "      <td>0</td>\n",
       "      <td>0</td>\n",
       "      <td>1</td>\n",
       "      <td>0</td>\n",
       "      <td>0</td>\n",
       "      <td>0</td>\n",
       "      <td>0</td>\n",
       "      <td>0</td>\n",
       "      <td>0</td>\n",
       "      <td>0</td>\n",
       "      <td>0</td>\n",
       "      <td>0</td>\n",
       "      <td>0</td>\n",
       "      <td>0</td>\n",
       "      <td>0</td>\n",
       "      <td>0</td>\n",
       "      <td>0</td>\n",
       "      <td>0</td>\n",
       "      <td>0</td>\n",
       "      <td>0</td>\n",
       "      <td>0</td>\n",
       "      <td>0</td>\n",
       "      <td>1</td>\n",
       "      <td>1</td>\n",
       "      <td>1</td>\n",
       "    </tr>\n",
       "    <tr>\n",
       "      <th>4</th>\n",
       "      <td>2569520</td>\n",
       "      <td>Naturpark Lillebælt VR</td>\n",
       "      <td>NaN</td>\n",
       "      <td>1</td>\n",
       "      <td>True</td>\n",
       "      <td>True</td>\n",
       "      <td>Action, Adventure</td>\n",
       "      <td>-0.000204</td>\n",
       "      <td>['windows', 'mac', 'linux']</td>\n",
       "      <td>1</td>\n",
       "      <td>0.0</td>\n",
       "      <td>2023</td>\n",
       "      <td>-0.972118</td>\n",
       "      <td>-0.234491</td>\n",
       "      <td>0.0</td>\n",
       "      <td>0</td>\n",
       "      <td>0</td>\n",
       "      <td>1</td>\n",
       "      <td>1</td>\n",
       "      <td>0</td>\n",
       "      <td>0</td>\n",
       "      <td>0</td>\n",
       "      <td>0</td>\n",
       "      <td>0</td>\n",
       "      <td>0</td>\n",
       "      <td>0</td>\n",
       "      <td>0</td>\n",
       "      <td>0</td>\n",
       "      <td>0</td>\n",
       "      <td>0</td>\n",
       "      <td>0</td>\n",
       "      <td>0</td>\n",
       "      <td>0</td>\n",
       "      <td>0</td>\n",
       "      <td>0</td>\n",
       "      <td>0</td>\n",
       "      <td>0</td>\n",
       "      <td>0</td>\n",
       "      <td>0</td>\n",
       "      <td>0</td>\n",
       "      <td>0</td>\n",
       "      <td>0</td>\n",
       "      <td>0</td>\n",
       "      <td>1</td>\n",
       "      <td>1</td>\n",
       "      <td>1</td>\n",
       "    </tr>\n",
       "    <tr>\n",
       "      <th>21144</th>\n",
       "      <td>2909940</td>\n",
       "      <td>Last Ride</td>\n",
       "      <td>NaN</td>\n",
       "      <td>0</td>\n",
       "      <td>False</td>\n",
       "      <td>False</td>\n",
       "      <td>Casual, Indie</td>\n",
       "      <td>-0.121755</td>\n",
       "      <td>['windows', 'mac']</td>\n",
       "      <td>1</td>\n",
       "      <td>0.0</td>\n",
       "      <td>2024</td>\n",
       "      <td>0.953681</td>\n",
       "      <td>-0.300820</td>\n",
       "      <td>0.0</td>\n",
       "      <td>0</td>\n",
       "      <td>0</td>\n",
       "      <td>0</td>\n",
       "      <td>0</td>\n",
       "      <td>0</td>\n",
       "      <td>0</td>\n",
       "      <td>1</td>\n",
       "      <td>0</td>\n",
       "      <td>0</td>\n",
       "      <td>0</td>\n",
       "      <td>0</td>\n",
       "      <td>0</td>\n",
       "      <td>0</td>\n",
       "      <td>1</td>\n",
       "      <td>0</td>\n",
       "      <td>0</td>\n",
       "      <td>0</td>\n",
       "      <td>0</td>\n",
       "      <td>0</td>\n",
       "      <td>0</td>\n",
       "      <td>0</td>\n",
       "      <td>0</td>\n",
       "      <td>0</td>\n",
       "      <td>0</td>\n",
       "      <td>0</td>\n",
       "      <td>0</td>\n",
       "      <td>0</td>\n",
       "      <td>0</td>\n",
       "      <td>0</td>\n",
       "      <td>1</td>\n",
       "      <td>1</td>\n",
       "    </tr>\n",
       "  </tbody>\n",
       "</table>\n",
       "</div>"
      ],
      "text/plain": [
       "         appid                      name  metacritic  steam_achievements  \\\n",
       "0      2574000            Femboy Burgers         NaN                   1   \n",
       "1      2574120  PPA Pickleball Tour 2025         NaN                   1   \n",
       "2      2573200             Squeaky Squad         NaN                   1   \n",
       "3      2573440             Paradox Metal         NaN                   1   \n",
       "4      2569520    Naturpark Lillebælt VR         NaN                   1   \n",
       "21144  2909940                 Last Ride         NaN                   0   \n",
       "\n",
       "       steam_trading_cards  workshop_support                     genres  \\\n",
       "0                     True              True              Casual, Indie   \n",
       "1                     True              True  Indie, Simulation, Sports   \n",
       "2                     True              True   Action, Adventure, Indie   \n",
       "3                     True              True       Action, Early Access   \n",
       "4                     True              True          Action, Adventure   \n",
       "21144                False             False              Casual, Indie   \n",
       "\n",
       "       achievements_total          supported_platforms  is_release_date_known  \\\n",
       "0               -0.000204  ['windows', 'mac', 'linux']                      1   \n",
       "1               -0.000204  ['windows', 'mac', 'linux']                      1   \n",
       "2                0.060572  ['windows', 'mac', 'linux']                      1   \n",
       "3               -0.000204  ['windows', 'mac', 'linux']                      0   \n",
       "4               -0.000204  ['windows', 'mac', 'linux']                      1   \n",
       "21144           -0.121755           ['windows', 'mac']                      1   \n",
       "\n",
       "       is_upcoming  year   sin_day   cos_day  metacritic_preprocessed  \\\n",
       "0              0.0  2023 -0.992222  0.124479                      0.0   \n",
       "1              0.0  2024 -0.247022 -0.969010                      0.0   \n",
       "2              0.0  2024  0.998435  0.055917                      0.0   \n",
       "3              0.0     0  0.000000  0.000000                      0.0   \n",
       "4              0.0  2023 -0.972118 -0.234491                      0.0   \n",
       "21144          0.0  2024  0.953681 -0.300820                      0.0   \n",
       "\n",
       "       has_metacritic  genre_Accounting  genre_Action  genre_Adventure  \\\n",
       "0                   0                 0             0                0   \n",
       "1                   0                 0             0                0   \n",
       "2                   0                 0             1                1   \n",
       "3                   0                 0             1                0   \n",
       "4                   0                 0             1                1   \n",
       "21144               0                 0             0                0   \n",
       "\n",
       "       genre_Animation & Modeling  genre_Audio Production  genre_Casual  \\\n",
       "0                               0                       0             1   \n",
       "1                               0                       0             0   \n",
       "2                               0                       0             0   \n",
       "3                               0                       0             0   \n",
       "4                               0                       0             0   \n",
       "21144                           0                       0             1   \n",
       "\n",
       "       genre_Design & Illustration  genre_Early Access  genre_Education  \\\n",
       "0                                0                   0                0   \n",
       "1                                0                   0                0   \n",
       "2                                0                   0                0   \n",
       "3                                0                   1                0   \n",
       "4                                0                   0                0   \n",
       "21144                            0                   0                0   \n",
       "\n",
       "       genre_Free To Play  genre_Game Development  genre_Gore  genre_Indie  \\\n",
       "0                       0                       0           0            1   \n",
       "1                       0                       0           0            1   \n",
       "2                       0                       0           0            1   \n",
       "3                       0                       0           0            0   \n",
       "4                       0                       0           0            0   \n",
       "21144                   0                       0           0            1   \n",
       "\n",
       "       genre_Massively Multiplayer  genre_Nudity  genre_Photo Editing  \\\n",
       "0                                0             0                    0   \n",
       "1                                0             0                    0   \n",
       "2                                0             0                    0   \n",
       "3                                0             0                    0   \n",
       "4                                0             0                    0   \n",
       "21144                            0             0                    0   \n",
       "\n",
       "       genre_RPG  genre_Racing  genre_Sexual Content  genre_Simulation  \\\n",
       "0              0             0                     0                 0   \n",
       "1              0             0                     0                 1   \n",
       "2              0             0                     0                 0   \n",
       "3              0             0                     0                 0   \n",
       "4              0             0                     0                 0   \n",
       "21144          0             0                     0                 0   \n",
       "\n",
       "       genre_Software Training  genre_Sports  genre_Strategy  genre_Utilities  \\\n",
       "0                            0             0               0                0   \n",
       "1                            0             1               0                0   \n",
       "2                            0             0               0                0   \n",
       "3                            0             0               0                0   \n",
       "4                            0             0               0                0   \n",
       "21144                        0             0               0                0   \n",
       "\n",
       "       genre_Video Production  genre_Violent  genre_Web Publishing  linux  \\\n",
       "0                           0              0                     0      1   \n",
       "1                           0              0                     0      1   \n",
       "2                           0              0                     0      1   \n",
       "3                           0              0                     0      1   \n",
       "4                           0              0                     0      1   \n",
       "21144                       0              0                     0      0   \n",
       "\n",
       "       mac  windows  \n",
       "0        1        1  \n",
       "1        1        1  \n",
       "2        1        1  \n",
       "3        1        1  \n",
       "4        1        1  \n",
       "21144    1        1  "
      ]
     },
     "execution_count": 46,
     "metadata": {},
     "output_type": "execute_result"
    }
   ],
   "source": [
    "# Print info_base_games_df.head() along with another column that contains a different combination of platforms\n",
    "pd.concat([info_base_games_df.head(), info_base_games_df.loc[[21144]]])"
   ]
  },
  {
   "cell_type": "markdown",
   "id": "ea7e946b",
   "metadata": {},
   "source": [
    "### Preprocessing App id, Name and 3 Boolean Columns"
   ]
  },
  {
   "cell_type": "markdown",
   "id": "b865e5ea",
   "metadata": {},
   "source": [
    "##### Data Statistics"
   ]
  },
  {
   "cell_type": "code",
   "execution_count": 47,
   "id": "f75d6de4",
   "metadata": {},
   "outputs": [
    {
     "name": "stdout",
     "output_type": "stream",
     "text": [
      "<class 'pandas.core.frame.DataFrame'>\n",
      "Index: 98860 entries, 0 to 99166\n",
      "Data columns (total 46 columns):\n",
      " #   Column                       Non-Null Count  Dtype  \n",
      "---  ------                       --------------  -----  \n",
      " 0   appid                        98860 non-null  object \n",
      " 1   name                         98846 non-null  object \n",
      " 2   metacritic                   3004 non-null   float64\n",
      " 3   steam_achievements           98860 non-null  int64  \n",
      " 4   steam_trading_cards          98860 non-null  bool   \n",
      " 5   workshop_support             98860 non-null  bool   \n",
      " 6   genres                       94108 non-null  object \n",
      " 7   achievements_total           98860 non-null  float64\n",
      " 8   supported_platforms          98860 non-null  object \n",
      " 9   is_release_date_known        98860 non-null  int64  \n",
      " 10  is_upcoming                  98860 non-null  float64\n",
      " 11  year                         98860 non-null  int64  \n",
      " 12  sin_day                      98860 non-null  float64\n",
      " 13  cos_day                      98860 non-null  float64\n",
      " 14  metacritic_preprocessed      98860 non-null  float64\n",
      " 15  has_metacritic               98860 non-null  int64  \n",
      " 16  genre_Accounting             98860 non-null  int64  \n",
      " 17  genre_Action                 98860 non-null  int64  \n",
      " 18  genre_Adventure              98860 non-null  int64  \n",
      " 19  genre_Animation & Modeling   98860 non-null  int64  \n",
      " 20  genre_Audio Production       98860 non-null  int64  \n",
      " 21  genre_Casual                 98860 non-null  int64  \n",
      " 22  genre_Design & Illustration  98860 non-null  int64  \n",
      " 23  genre_Early Access           98860 non-null  int64  \n",
      " 24  genre_Education              98860 non-null  int64  \n",
      " 25  genre_Free To Play           98860 non-null  int64  \n",
      " 26  genre_Game Development       98860 non-null  int64  \n",
      " 27  genre_Gore                   98860 non-null  int64  \n",
      " 28  genre_Indie                  98860 non-null  int64  \n",
      " 29  genre_Massively Multiplayer  98860 non-null  int64  \n",
      " 30  genre_Nudity                 98860 non-null  int64  \n",
      " 31  genre_Photo Editing          98860 non-null  int64  \n",
      " 32  genre_RPG                    98860 non-null  int64  \n",
      " 33  genre_Racing                 98860 non-null  int64  \n",
      " 34  genre_Sexual Content         98860 non-null  int64  \n",
      " 35  genre_Simulation             98860 non-null  int64  \n",
      " 36  genre_Software Training      98860 non-null  int64  \n",
      " 37  genre_Sports                 98860 non-null  int64  \n",
      " 38  genre_Strategy               98860 non-null  int64  \n",
      " 39  genre_Utilities              98860 non-null  int64  \n",
      " 40  genre_Video Production       98860 non-null  int64  \n",
      " 41  genre_Violent                98860 non-null  int64  \n",
      " 42  genre_Web Publishing         98860 non-null  int64  \n",
      " 43  linux                        98860 non-null  int64  \n",
      " 44  mac                          98860 non-null  int64  \n",
      " 45  windows                      98860 non-null  int64  \n",
      "dtypes: bool(2), float64(6), int64(34), object(4)\n",
      "memory usage: 36.1+ MB\n"
     ]
    }
   ],
   "source": [
    "info_base_games_df.info()"
   ]
  },
  {
   "cell_type": "markdown",
   "id": "7b32d296",
   "metadata": {},
   "source": [
    "- Notice that appid, steam_achievements, steam_trading_cards and workshop_support, all have no NULL values\n",
    "- name has some NULL values"
   ]
  },
  {
   "cell_type": "markdown",
   "id": "65201426",
   "metadata": {},
   "source": [
    "##### Calculate percentage of missing names:"
   ]
  },
  {
   "cell_type": "code",
   "execution_count": 48,
   "id": "e945bd85",
   "metadata": {},
   "outputs": [
    {
     "name": "stdout",
     "output_type": "stream",
     "text": [
      "0.01% of games have no name\n"
     ]
    }
   ],
   "source": [
    "missing_pct = info_base_games_df['name'].isna().mean() * 100\n",
    "print(f\"{missing_pct:.2f}% of games have no name\")"
   ]
  },
  {
   "cell_type": "markdown",
   "id": "3c186878",
   "metadata": {},
   "source": [
    "- Since percentage is very low, rows with no names can be dropped with no real impact"
   ]
  },
  {
   "cell_type": "markdown",
   "id": "f19a8841",
   "metadata": {},
   "source": [
    "##### drop rows with NULL value names"
   ]
  },
  {
   "cell_type": "code",
   "execution_count": 49,
   "id": "65e9b37d",
   "metadata": {},
   "outputs": [
    {
     "name": "stdout",
     "output_type": "stream",
     "text": [
      "Dropped 14 rows with missing names.\n"
     ]
    }
   ],
   "source": [
    "original_length = len(info_base_games_df)\n",
    "info_base_games_df.dropna(subset=['name'], inplace=True)\n",
    "\n",
    "print(f\"Dropped {original_length - len(info_base_games_df)} rows with missing names.\")"
   ]
  },
  {
   "cell_type": "markdown",
   "id": "fe355625",
   "metadata": {},
   "source": [
    "##### Preprocess names and add features derived from name that could be useful\n"
   ]
  },
  {
   "cell_type": "markdown",
   "id": "53911f26",
   "metadata": {},
   "source": [
    "Preprocess names\n",
    "- To lowercase\n",
    "- Strip punctuation\n"
   ]
  },
  {
   "cell_type": "markdown",
   "id": "b3008949",
   "metadata": {},
   "source": [
    "features derived from name\n",
    "- Character count\n",
    "- Word count\n",
    "- Ratio of capital letters to total length\n",
    "- Is a sequel \n",
    "- Has useful keywords like (vr, remaster, collector, edition, bundle, playtest)"
   ]
  },
  {
   "cell_type": "code",
   "execution_count": 50,
   "id": "e5a27fe1",
   "metadata": {},
   "outputs": [
    {
     "data": {
      "text/html": [
       "<div>\n",
       "<style scoped>\n",
       "    .dataframe tbody tr th:only-of-type {\n",
       "        vertical-align: middle;\n",
       "    }\n",
       "\n",
       "    .dataframe tbody tr th {\n",
       "        vertical-align: top;\n",
       "    }\n",
       "\n",
       "    .dataframe thead th {\n",
       "        text-align: right;\n",
       "    }\n",
       "</style>\n",
       "<table border=\"1\" class=\"dataframe\">\n",
       "  <thead>\n",
       "    <tr style=\"text-align: right;\">\n",
       "      <th></th>\n",
       "      <th>appid</th>\n",
       "      <th>name</th>\n",
       "      <th>metacritic</th>\n",
       "      <th>steam_achievements</th>\n",
       "      <th>steam_trading_cards</th>\n",
       "      <th>workshop_support</th>\n",
       "      <th>genres</th>\n",
       "      <th>achievements_total</th>\n",
       "      <th>supported_platforms</th>\n",
       "      <th>is_release_date_known</th>\n",
       "      <th>is_upcoming</th>\n",
       "      <th>year</th>\n",
       "      <th>sin_day</th>\n",
       "      <th>cos_day</th>\n",
       "      <th>metacritic_preprocessed</th>\n",
       "      <th>has_metacritic</th>\n",
       "      <th>genre_Accounting</th>\n",
       "      <th>genre_Action</th>\n",
       "      <th>genre_Adventure</th>\n",
       "      <th>genre_Animation &amp; Modeling</th>\n",
       "      <th>genre_Audio Production</th>\n",
       "      <th>genre_Casual</th>\n",
       "      <th>genre_Design &amp; Illustration</th>\n",
       "      <th>genre_Early Access</th>\n",
       "      <th>genre_Education</th>\n",
       "      <th>genre_Free To Play</th>\n",
       "      <th>genre_Game Development</th>\n",
       "      <th>genre_Gore</th>\n",
       "      <th>genre_Indie</th>\n",
       "      <th>genre_Massively Multiplayer</th>\n",
       "      <th>genre_Nudity</th>\n",
       "      <th>genre_Photo Editing</th>\n",
       "      <th>genre_RPG</th>\n",
       "      <th>genre_Racing</th>\n",
       "      <th>genre_Sexual Content</th>\n",
       "      <th>genre_Simulation</th>\n",
       "      <th>genre_Software Training</th>\n",
       "      <th>genre_Sports</th>\n",
       "      <th>genre_Strategy</th>\n",
       "      <th>genre_Utilities</th>\n",
       "      <th>genre_Video Production</th>\n",
       "      <th>genre_Violent</th>\n",
       "      <th>genre_Web Publishing</th>\n",
       "      <th>linux</th>\n",
       "      <th>mac</th>\n",
       "      <th>windows</th>\n",
       "      <th>name_len</th>\n",
       "      <th>name_words</th>\n",
       "      <th>name_cap_ratio</th>\n",
       "      <th>is_sequel</th>\n",
       "      <th>name_has_vr</th>\n",
       "      <th>name_has_remaster</th>\n",
       "      <th>name_has_collector</th>\n",
       "      <th>name_has_collection</th>\n",
       "      <th>name_has_edition</th>\n",
       "      <th>name_has_bundle</th>\n",
       "      <th>name_has_playtest</th>\n",
       "    </tr>\n",
       "  </thead>\n",
       "  <tbody>\n",
       "    <tr>\n",
       "      <th>0</th>\n",
       "      <td>2574000</td>\n",
       "      <td>femboy burgers</td>\n",
       "      <td>NaN</td>\n",
       "      <td>1</td>\n",
       "      <td>True</td>\n",
       "      <td>True</td>\n",
       "      <td>Casual, Indie</td>\n",
       "      <td>-0.000204</td>\n",
       "      <td>['windows', 'mac', 'linux']</td>\n",
       "      <td>1</td>\n",
       "      <td>0.0</td>\n",
       "      <td>2023</td>\n",
       "      <td>-0.992222</td>\n",
       "      <td>0.124479</td>\n",
       "      <td>0.0</td>\n",
       "      <td>0</td>\n",
       "      <td>0</td>\n",
       "      <td>0</td>\n",
       "      <td>0</td>\n",
       "      <td>0</td>\n",
       "      <td>0</td>\n",
       "      <td>1</td>\n",
       "      <td>0</td>\n",
       "      <td>0</td>\n",
       "      <td>0</td>\n",
       "      <td>0</td>\n",
       "      <td>0</td>\n",
       "      <td>0</td>\n",
       "      <td>1</td>\n",
       "      <td>0</td>\n",
       "      <td>0</td>\n",
       "      <td>0</td>\n",
       "      <td>0</td>\n",
       "      <td>0</td>\n",
       "      <td>0</td>\n",
       "      <td>0</td>\n",
       "      <td>0</td>\n",
       "      <td>0</td>\n",
       "      <td>0</td>\n",
       "      <td>0</td>\n",
       "      <td>0</td>\n",
       "      <td>0</td>\n",
       "      <td>0</td>\n",
       "      <td>1</td>\n",
       "      <td>1</td>\n",
       "      <td>1</td>\n",
       "      <td>14</td>\n",
       "      <td>2</td>\n",
       "      <td>0.142857</td>\n",
       "      <td>0</td>\n",
       "      <td>0</td>\n",
       "      <td>0</td>\n",
       "      <td>0</td>\n",
       "      <td>0</td>\n",
       "      <td>0</td>\n",
       "      <td>0</td>\n",
       "      <td>0</td>\n",
       "    </tr>\n",
       "    <tr>\n",
       "      <th>1</th>\n",
       "      <td>2574120</td>\n",
       "      <td>ppa pickleball tour 2025</td>\n",
       "      <td>NaN</td>\n",
       "      <td>1</td>\n",
       "      <td>True</td>\n",
       "      <td>True</td>\n",
       "      <td>Indie, Simulation, Sports</td>\n",
       "      <td>-0.000204</td>\n",
       "      <td>['windows', 'mac', 'linux']</td>\n",
       "      <td>1</td>\n",
       "      <td>0.0</td>\n",
       "      <td>2024</td>\n",
       "      <td>-0.247022</td>\n",
       "      <td>-0.969010</td>\n",
       "      <td>0.0</td>\n",
       "      <td>0</td>\n",
       "      <td>0</td>\n",
       "      <td>0</td>\n",
       "      <td>0</td>\n",
       "      <td>0</td>\n",
       "      <td>0</td>\n",
       "      <td>0</td>\n",
       "      <td>0</td>\n",
       "      <td>0</td>\n",
       "      <td>0</td>\n",
       "      <td>0</td>\n",
       "      <td>0</td>\n",
       "      <td>0</td>\n",
       "      <td>1</td>\n",
       "      <td>0</td>\n",
       "      <td>0</td>\n",
       "      <td>0</td>\n",
       "      <td>0</td>\n",
       "      <td>0</td>\n",
       "      <td>0</td>\n",
       "      <td>1</td>\n",
       "      <td>0</td>\n",
       "      <td>1</td>\n",
       "      <td>0</td>\n",
       "      <td>0</td>\n",
       "      <td>0</td>\n",
       "      <td>0</td>\n",
       "      <td>0</td>\n",
       "      <td>1</td>\n",
       "      <td>1</td>\n",
       "      <td>1</td>\n",
       "      <td>24</td>\n",
       "      <td>4</td>\n",
       "      <td>0.208333</td>\n",
       "      <td>0</td>\n",
       "      <td>0</td>\n",
       "      <td>0</td>\n",
       "      <td>0</td>\n",
       "      <td>0</td>\n",
       "      <td>0</td>\n",
       "      <td>0</td>\n",
       "      <td>0</td>\n",
       "    </tr>\n",
       "    <tr>\n",
       "      <th>2</th>\n",
       "      <td>2573200</td>\n",
       "      <td>squeaky squad</td>\n",
       "      <td>NaN</td>\n",
       "      <td>1</td>\n",
       "      <td>True</td>\n",
       "      <td>True</td>\n",
       "      <td>Action, Adventure, Indie</td>\n",
       "      <td>0.060572</td>\n",
       "      <td>['windows', 'mac', 'linux']</td>\n",
       "      <td>1</td>\n",
       "      <td>0.0</td>\n",
       "      <td>2024</td>\n",
       "      <td>0.998435</td>\n",
       "      <td>0.055917</td>\n",
       "      <td>0.0</td>\n",
       "      <td>0</td>\n",
       "      <td>0</td>\n",
       "      <td>1</td>\n",
       "      <td>1</td>\n",
       "      <td>0</td>\n",
       "      <td>0</td>\n",
       "      <td>0</td>\n",
       "      <td>0</td>\n",
       "      <td>0</td>\n",
       "      <td>0</td>\n",
       "      <td>0</td>\n",
       "      <td>0</td>\n",
       "      <td>0</td>\n",
       "      <td>1</td>\n",
       "      <td>0</td>\n",
       "      <td>0</td>\n",
       "      <td>0</td>\n",
       "      <td>0</td>\n",
       "      <td>0</td>\n",
       "      <td>0</td>\n",
       "      <td>0</td>\n",
       "      <td>0</td>\n",
       "      <td>0</td>\n",
       "      <td>0</td>\n",
       "      <td>0</td>\n",
       "      <td>0</td>\n",
       "      <td>0</td>\n",
       "      <td>0</td>\n",
       "      <td>1</td>\n",
       "      <td>1</td>\n",
       "      <td>1</td>\n",
       "      <td>13</td>\n",
       "      <td>2</td>\n",
       "      <td>0.153846</td>\n",
       "      <td>0</td>\n",
       "      <td>0</td>\n",
       "      <td>0</td>\n",
       "      <td>0</td>\n",
       "      <td>0</td>\n",
       "      <td>0</td>\n",
       "      <td>0</td>\n",
       "      <td>0</td>\n",
       "    </tr>\n",
       "    <tr>\n",
       "      <th>3</th>\n",
       "      <td>2573440</td>\n",
       "      <td>paradox metal</td>\n",
       "      <td>NaN</td>\n",
       "      <td>1</td>\n",
       "      <td>True</td>\n",
       "      <td>True</td>\n",
       "      <td>Action, Early Access</td>\n",
       "      <td>-0.000204</td>\n",
       "      <td>['windows', 'mac', 'linux']</td>\n",
       "      <td>0</td>\n",
       "      <td>0.0</td>\n",
       "      <td>0</td>\n",
       "      <td>0.000000</td>\n",
       "      <td>0.000000</td>\n",
       "      <td>0.0</td>\n",
       "      <td>0</td>\n",
       "      <td>0</td>\n",
       "      <td>1</td>\n",
       "      <td>0</td>\n",
       "      <td>0</td>\n",
       "      <td>0</td>\n",
       "      <td>0</td>\n",
       "      <td>0</td>\n",
       "      <td>1</td>\n",
       "      <td>0</td>\n",
       "      <td>0</td>\n",
       "      <td>0</td>\n",
       "      <td>0</td>\n",
       "      <td>0</td>\n",
       "      <td>0</td>\n",
       "      <td>0</td>\n",
       "      <td>0</td>\n",
       "      <td>0</td>\n",
       "      <td>0</td>\n",
       "      <td>0</td>\n",
       "      <td>0</td>\n",
       "      <td>0</td>\n",
       "      <td>0</td>\n",
       "      <td>0</td>\n",
       "      <td>0</td>\n",
       "      <td>0</td>\n",
       "      <td>0</td>\n",
       "      <td>0</td>\n",
       "      <td>1</td>\n",
       "      <td>1</td>\n",
       "      <td>1</td>\n",
       "      <td>13</td>\n",
       "      <td>2</td>\n",
       "      <td>0.153846</td>\n",
       "      <td>0</td>\n",
       "      <td>0</td>\n",
       "      <td>0</td>\n",
       "      <td>0</td>\n",
       "      <td>0</td>\n",
       "      <td>0</td>\n",
       "      <td>0</td>\n",
       "      <td>0</td>\n",
       "    </tr>\n",
       "    <tr>\n",
       "      <th>4</th>\n",
       "      <td>2569520</td>\n",
       "      <td>naturpark lillebælt vr</td>\n",
       "      <td>NaN</td>\n",
       "      <td>1</td>\n",
       "      <td>True</td>\n",
       "      <td>True</td>\n",
       "      <td>Action, Adventure</td>\n",
       "      <td>-0.000204</td>\n",
       "      <td>['windows', 'mac', 'linux']</td>\n",
       "      <td>1</td>\n",
       "      <td>0.0</td>\n",
       "      <td>2023</td>\n",
       "      <td>-0.972118</td>\n",
       "      <td>-0.234491</td>\n",
       "      <td>0.0</td>\n",
       "      <td>0</td>\n",
       "      <td>0</td>\n",
       "      <td>1</td>\n",
       "      <td>1</td>\n",
       "      <td>0</td>\n",
       "      <td>0</td>\n",
       "      <td>0</td>\n",
       "      <td>0</td>\n",
       "      <td>0</td>\n",
       "      <td>0</td>\n",
       "      <td>0</td>\n",
       "      <td>0</td>\n",
       "      <td>0</td>\n",
       "      <td>0</td>\n",
       "      <td>0</td>\n",
       "      <td>0</td>\n",
       "      <td>0</td>\n",
       "      <td>0</td>\n",
       "      <td>0</td>\n",
       "      <td>0</td>\n",
       "      <td>0</td>\n",
       "      <td>0</td>\n",
       "      <td>0</td>\n",
       "      <td>0</td>\n",
       "      <td>0</td>\n",
       "      <td>0</td>\n",
       "      <td>0</td>\n",
       "      <td>0</td>\n",
       "      <td>1</td>\n",
       "      <td>1</td>\n",
       "      <td>1</td>\n",
       "      <td>22</td>\n",
       "      <td>3</td>\n",
       "      <td>0.181818</td>\n",
       "      <td>0</td>\n",
       "      <td>1</td>\n",
       "      <td>0</td>\n",
       "      <td>0</td>\n",
       "      <td>0</td>\n",
       "      <td>0</td>\n",
       "      <td>0</td>\n",
       "      <td>0</td>\n",
       "    </tr>\n",
       "    <tr>\n",
       "      <th>...</th>\n",
       "      <td>...</td>\n",
       "      <td>...</td>\n",
       "      <td>...</td>\n",
       "      <td>...</td>\n",
       "      <td>...</td>\n",
       "      <td>...</td>\n",
       "      <td>...</td>\n",
       "      <td>...</td>\n",
       "      <td>...</td>\n",
       "      <td>...</td>\n",
       "      <td>...</td>\n",
       "      <td>...</td>\n",
       "      <td>...</td>\n",
       "      <td>...</td>\n",
       "      <td>...</td>\n",
       "      <td>...</td>\n",
       "      <td>...</td>\n",
       "      <td>...</td>\n",
       "      <td>...</td>\n",
       "      <td>...</td>\n",
       "      <td>...</td>\n",
       "      <td>...</td>\n",
       "      <td>...</td>\n",
       "      <td>...</td>\n",
       "      <td>...</td>\n",
       "      <td>...</td>\n",
       "      <td>...</td>\n",
       "      <td>...</td>\n",
       "      <td>...</td>\n",
       "      <td>...</td>\n",
       "      <td>...</td>\n",
       "      <td>...</td>\n",
       "      <td>...</td>\n",
       "      <td>...</td>\n",
       "      <td>...</td>\n",
       "      <td>...</td>\n",
       "      <td>...</td>\n",
       "      <td>...</td>\n",
       "      <td>...</td>\n",
       "      <td>...</td>\n",
       "      <td>...</td>\n",
       "      <td>...</td>\n",
       "      <td>...</td>\n",
       "      <td>...</td>\n",
       "      <td>...</td>\n",
       "      <td>...</td>\n",
       "      <td>...</td>\n",
       "      <td>...</td>\n",
       "      <td>...</td>\n",
       "      <td>...</td>\n",
       "      <td>...</td>\n",
       "      <td>...</td>\n",
       "      <td>...</td>\n",
       "      <td>...</td>\n",
       "      <td>...</td>\n",
       "      <td>...</td>\n",
       "      <td>...</td>\n",
       "    </tr>\n",
       "    <tr>\n",
       "      <th>99162</th>\n",
       "      <td>1548850</td>\n",
       "      <td>six days in fallujah</td>\n",
       "      <td>NaN</td>\n",
       "      <td>1</td>\n",
       "      <td>False</td>\n",
       "      <td>False</td>\n",
       "      <td>Action, Early Access</td>\n",
       "      <td>0.107842</td>\n",
       "      <td>['windows']</td>\n",
       "      <td>1</td>\n",
       "      <td>0.0</td>\n",
       "      <td>2023</td>\n",
       "      <td>0.179767</td>\n",
       "      <td>-0.983709</td>\n",
       "      <td>0.0</td>\n",
       "      <td>0</td>\n",
       "      <td>0</td>\n",
       "      <td>1</td>\n",
       "      <td>0</td>\n",
       "      <td>0</td>\n",
       "      <td>0</td>\n",
       "      <td>0</td>\n",
       "      <td>0</td>\n",
       "      <td>1</td>\n",
       "      <td>0</td>\n",
       "      <td>0</td>\n",
       "      <td>0</td>\n",
       "      <td>0</td>\n",
       "      <td>0</td>\n",
       "      <td>0</td>\n",
       "      <td>0</td>\n",
       "      <td>0</td>\n",
       "      <td>0</td>\n",
       "      <td>0</td>\n",
       "      <td>0</td>\n",
       "      <td>0</td>\n",
       "      <td>0</td>\n",
       "      <td>0</td>\n",
       "      <td>0</td>\n",
       "      <td>0</td>\n",
       "      <td>0</td>\n",
       "      <td>0</td>\n",
       "      <td>0</td>\n",
       "      <td>0</td>\n",
       "      <td>0</td>\n",
       "      <td>1</td>\n",
       "      <td>20</td>\n",
       "      <td>4</td>\n",
       "      <td>0.150000</td>\n",
       "      <td>0</td>\n",
       "      <td>0</td>\n",
       "      <td>0</td>\n",
       "      <td>0</td>\n",
       "      <td>0</td>\n",
       "      <td>0</td>\n",
       "      <td>0</td>\n",
       "      <td>0</td>\n",
       "    </tr>\n",
       "    <tr>\n",
       "      <th>99163</th>\n",
       "      <td>2478130</td>\n",
       "      <td>project survival working title</td>\n",
       "      <td>NaN</td>\n",
       "      <td>0</td>\n",
       "      <td>False</td>\n",
       "      <td>False</td>\n",
       "      <td>Action, Adventure, RPG</td>\n",
       "      <td>-0.121755</td>\n",
       "      <td>['windows']</td>\n",
       "      <td>0</td>\n",
       "      <td>0.0</td>\n",
       "      <td>0</td>\n",
       "      <td>0.000000</td>\n",
       "      <td>0.000000</td>\n",
       "      <td>0.0</td>\n",
       "      <td>0</td>\n",
       "      <td>0</td>\n",
       "      <td>1</td>\n",
       "      <td>1</td>\n",
       "      <td>0</td>\n",
       "      <td>0</td>\n",
       "      <td>0</td>\n",
       "      <td>0</td>\n",
       "      <td>0</td>\n",
       "      <td>0</td>\n",
       "      <td>0</td>\n",
       "      <td>0</td>\n",
       "      <td>0</td>\n",
       "      <td>0</td>\n",
       "      <td>0</td>\n",
       "      <td>0</td>\n",
       "      <td>0</td>\n",
       "      <td>1</td>\n",
       "      <td>0</td>\n",
       "      <td>0</td>\n",
       "      <td>0</td>\n",
       "      <td>0</td>\n",
       "      <td>0</td>\n",
       "      <td>0</td>\n",
       "      <td>0</td>\n",
       "      <td>0</td>\n",
       "      <td>0</td>\n",
       "      <td>0</td>\n",
       "      <td>0</td>\n",
       "      <td>0</td>\n",
       "      <td>1</td>\n",
       "      <td>30</td>\n",
       "      <td>4</td>\n",
       "      <td>0.533333</td>\n",
       "      <td>0</td>\n",
       "      <td>0</td>\n",
       "      <td>0</td>\n",
       "      <td>0</td>\n",
       "      <td>0</td>\n",
       "      <td>0</td>\n",
       "      <td>0</td>\n",
       "      <td>0</td>\n",
       "    </tr>\n",
       "    <tr>\n",
       "      <th>99164</th>\n",
       "      <td>3272980</td>\n",
       "      <td>sirens well</td>\n",
       "      <td>NaN</td>\n",
       "      <td>1</td>\n",
       "      <td>False</td>\n",
       "      <td>False</td>\n",
       "      <td>Action, Adventure</td>\n",
       "      <td>-0.000204</td>\n",
       "      <td>['windows', 'linux']</td>\n",
       "      <td>0</td>\n",
       "      <td>0.0</td>\n",
       "      <td>0</td>\n",
       "      <td>0.000000</td>\n",
       "      <td>0.000000</td>\n",
       "      <td>0.0</td>\n",
       "      <td>0</td>\n",
       "      <td>0</td>\n",
       "      <td>1</td>\n",
       "      <td>1</td>\n",
       "      <td>0</td>\n",
       "      <td>0</td>\n",
       "      <td>0</td>\n",
       "      <td>0</td>\n",
       "      <td>0</td>\n",
       "      <td>0</td>\n",
       "      <td>0</td>\n",
       "      <td>0</td>\n",
       "      <td>0</td>\n",
       "      <td>0</td>\n",
       "      <td>0</td>\n",
       "      <td>0</td>\n",
       "      <td>0</td>\n",
       "      <td>0</td>\n",
       "      <td>0</td>\n",
       "      <td>0</td>\n",
       "      <td>0</td>\n",
       "      <td>0</td>\n",
       "      <td>0</td>\n",
       "      <td>0</td>\n",
       "      <td>0</td>\n",
       "      <td>0</td>\n",
       "      <td>0</td>\n",
       "      <td>0</td>\n",
       "      <td>1</td>\n",
       "      <td>0</td>\n",
       "      <td>1</td>\n",
       "      <td>11</td>\n",
       "      <td>2</td>\n",
       "      <td>0.181818</td>\n",
       "      <td>0</td>\n",
       "      <td>0</td>\n",
       "      <td>0</td>\n",
       "      <td>0</td>\n",
       "      <td>0</td>\n",
       "      <td>0</td>\n",
       "      <td>0</td>\n",
       "      <td>0</td>\n",
       "    </tr>\n",
       "    <tr>\n",
       "      <th>99165</th>\n",
       "      <td>2054150</td>\n",
       "      <td>tower defender vr last adventure</td>\n",
       "      <td>NaN</td>\n",
       "      <td>0</td>\n",
       "      <td>False</td>\n",
       "      <td>False</td>\n",
       "      <td>Casual, Indie, RPG, Strategy</td>\n",
       "      <td>-0.121755</td>\n",
       "      <td>['windows']</td>\n",
       "      <td>1</td>\n",
       "      <td>0.0</td>\n",
       "      <td>2022</td>\n",
       "      <td>-0.094537</td>\n",
       "      <td>-0.995521</td>\n",
       "      <td>0.0</td>\n",
       "      <td>0</td>\n",
       "      <td>0</td>\n",
       "      <td>0</td>\n",
       "      <td>0</td>\n",
       "      <td>0</td>\n",
       "      <td>0</td>\n",
       "      <td>1</td>\n",
       "      <td>0</td>\n",
       "      <td>0</td>\n",
       "      <td>0</td>\n",
       "      <td>0</td>\n",
       "      <td>0</td>\n",
       "      <td>0</td>\n",
       "      <td>1</td>\n",
       "      <td>0</td>\n",
       "      <td>0</td>\n",
       "      <td>0</td>\n",
       "      <td>1</td>\n",
       "      <td>0</td>\n",
       "      <td>0</td>\n",
       "      <td>0</td>\n",
       "      <td>0</td>\n",
       "      <td>0</td>\n",
       "      <td>1</td>\n",
       "      <td>0</td>\n",
       "      <td>0</td>\n",
       "      <td>0</td>\n",
       "      <td>0</td>\n",
       "      <td>0</td>\n",
       "      <td>0</td>\n",
       "      <td>1</td>\n",
       "      <td>32</td>\n",
       "      <td>5</td>\n",
       "      <td>0.187500</td>\n",
       "      <td>0</td>\n",
       "      <td>1</td>\n",
       "      <td>0</td>\n",
       "      <td>0</td>\n",
       "      <td>0</td>\n",
       "      <td>0</td>\n",
       "      <td>0</td>\n",
       "      <td>0</td>\n",
       "    </tr>\n",
       "    <tr>\n",
       "      <th>99166</th>\n",
       "      <td>1335700</td>\n",
       "      <td>marbleous blocks</td>\n",
       "      <td>NaN</td>\n",
       "      <td>1</td>\n",
       "      <td>False</td>\n",
       "      <td>False</td>\n",
       "      <td>Indie</td>\n",
       "      <td>-0.074485</td>\n",
       "      <td>['windows']</td>\n",
       "      <td>1</td>\n",
       "      <td>0.0</td>\n",
       "      <td>2021</td>\n",
       "      <td>0.432776</td>\n",
       "      <td>0.901502</td>\n",
       "      <td>0.0</td>\n",
       "      <td>0</td>\n",
       "      <td>0</td>\n",
       "      <td>0</td>\n",
       "      <td>0</td>\n",
       "      <td>0</td>\n",
       "      <td>0</td>\n",
       "      <td>0</td>\n",
       "      <td>0</td>\n",
       "      <td>0</td>\n",
       "      <td>0</td>\n",
       "      <td>0</td>\n",
       "      <td>0</td>\n",
       "      <td>0</td>\n",
       "      <td>1</td>\n",
       "      <td>0</td>\n",
       "      <td>0</td>\n",
       "      <td>0</td>\n",
       "      <td>0</td>\n",
       "      <td>0</td>\n",
       "      <td>0</td>\n",
       "      <td>0</td>\n",
       "      <td>0</td>\n",
       "      <td>0</td>\n",
       "      <td>0</td>\n",
       "      <td>0</td>\n",
       "      <td>0</td>\n",
       "      <td>0</td>\n",
       "      <td>0</td>\n",
       "      <td>0</td>\n",
       "      <td>0</td>\n",
       "      <td>1</td>\n",
       "      <td>16</td>\n",
       "      <td>2</td>\n",
       "      <td>0.125000</td>\n",
       "      <td>0</td>\n",
       "      <td>0</td>\n",
       "      <td>0</td>\n",
       "      <td>0</td>\n",
       "      <td>0</td>\n",
       "      <td>0</td>\n",
       "      <td>0</td>\n",
       "      <td>0</td>\n",
       "    </tr>\n",
       "  </tbody>\n",
       "</table>\n",
       "<p>98846 rows × 57 columns</p>\n",
       "</div>"
      ],
      "text/plain": [
       "         appid                              name  metacritic  \\\n",
       "0      2574000                    femboy burgers         NaN   \n",
       "1      2574120          ppa pickleball tour 2025         NaN   \n",
       "2      2573200                     squeaky squad         NaN   \n",
       "3      2573440                     paradox metal         NaN   \n",
       "4      2569520            naturpark lillebælt vr         NaN   \n",
       "...        ...                               ...         ...   \n",
       "99162  1548850              six days in fallujah         NaN   \n",
       "99163  2478130    project survival working title         NaN   \n",
       "99164  3272980                       sirens well         NaN   \n",
       "99165  2054150  tower defender vr last adventure         NaN   \n",
       "99166  1335700                  marbleous blocks         NaN   \n",
       "\n",
       "       steam_achievements  steam_trading_cards  workshop_support  \\\n",
       "0                       1                 True              True   \n",
       "1                       1                 True              True   \n",
       "2                       1                 True              True   \n",
       "3                       1                 True              True   \n",
       "4                       1                 True              True   \n",
       "...                   ...                  ...               ...   \n",
       "99162                   1                False             False   \n",
       "99163                   0                False             False   \n",
       "99164                   1                False             False   \n",
       "99165                   0                False             False   \n",
       "99166                   1                False             False   \n",
       "\n",
       "                             genres  achievements_total  \\\n",
       "0                     Casual, Indie           -0.000204   \n",
       "1         Indie, Simulation, Sports           -0.000204   \n",
       "2          Action, Adventure, Indie            0.060572   \n",
       "3              Action, Early Access           -0.000204   \n",
       "4                 Action, Adventure           -0.000204   \n",
       "...                             ...                 ...   \n",
       "99162          Action, Early Access            0.107842   \n",
       "99163        Action, Adventure, RPG           -0.121755   \n",
       "99164             Action, Adventure           -0.000204   \n",
       "99165  Casual, Indie, RPG, Strategy           -0.121755   \n",
       "99166                         Indie           -0.074485   \n",
       "\n",
       "               supported_platforms  is_release_date_known  is_upcoming  year  \\\n",
       "0      ['windows', 'mac', 'linux']                      1          0.0  2023   \n",
       "1      ['windows', 'mac', 'linux']                      1          0.0  2024   \n",
       "2      ['windows', 'mac', 'linux']                      1          0.0  2024   \n",
       "3      ['windows', 'mac', 'linux']                      0          0.0     0   \n",
       "4      ['windows', 'mac', 'linux']                      1          0.0  2023   \n",
       "...                            ...                    ...          ...   ...   \n",
       "99162                  ['windows']                      1          0.0  2023   \n",
       "99163                  ['windows']                      0          0.0     0   \n",
       "99164         ['windows', 'linux']                      0          0.0     0   \n",
       "99165                  ['windows']                      1          0.0  2022   \n",
       "99166                  ['windows']                      1          0.0  2021   \n",
       "\n",
       "        sin_day   cos_day  metacritic_preprocessed  has_metacritic  \\\n",
       "0     -0.992222  0.124479                      0.0               0   \n",
       "1     -0.247022 -0.969010                      0.0               0   \n",
       "2      0.998435  0.055917                      0.0               0   \n",
       "3      0.000000  0.000000                      0.0               0   \n",
       "4     -0.972118 -0.234491                      0.0               0   \n",
       "...         ...       ...                      ...             ...   \n",
       "99162  0.179767 -0.983709                      0.0               0   \n",
       "99163  0.000000  0.000000                      0.0               0   \n",
       "99164  0.000000  0.000000                      0.0               0   \n",
       "99165 -0.094537 -0.995521                      0.0               0   \n",
       "99166  0.432776  0.901502                      0.0               0   \n",
       "\n",
       "       genre_Accounting  genre_Action  genre_Adventure  \\\n",
       "0                     0             0                0   \n",
       "1                     0             0                0   \n",
       "2                     0             1                1   \n",
       "3                     0             1                0   \n",
       "4                     0             1                1   \n",
       "...                 ...           ...              ...   \n",
       "99162                 0             1                0   \n",
       "99163                 0             1                1   \n",
       "99164                 0             1                1   \n",
       "99165                 0             0                0   \n",
       "99166                 0             0                0   \n",
       "\n",
       "       genre_Animation & Modeling  genre_Audio Production  genre_Casual  \\\n",
       "0                               0                       0             1   \n",
       "1                               0                       0             0   \n",
       "2                               0                       0             0   \n",
       "3                               0                       0             0   \n",
       "4                               0                       0             0   \n",
       "...                           ...                     ...           ...   \n",
       "99162                           0                       0             0   \n",
       "99163                           0                       0             0   \n",
       "99164                           0                       0             0   \n",
       "99165                           0                       0             1   \n",
       "99166                           0                       0             0   \n",
       "\n",
       "       genre_Design & Illustration  genre_Early Access  genre_Education  \\\n",
       "0                                0                   0                0   \n",
       "1                                0                   0                0   \n",
       "2                                0                   0                0   \n",
       "3                                0                   1                0   \n",
       "4                                0                   0                0   \n",
       "...                            ...                 ...              ...   \n",
       "99162                            0                   1                0   \n",
       "99163                            0                   0                0   \n",
       "99164                            0                   0                0   \n",
       "99165                            0                   0                0   \n",
       "99166                            0                   0                0   \n",
       "\n",
       "       genre_Free To Play  genre_Game Development  genre_Gore  genre_Indie  \\\n",
       "0                       0                       0           0            1   \n",
       "1                       0                       0           0            1   \n",
       "2                       0                       0           0            1   \n",
       "3                       0                       0           0            0   \n",
       "4                       0                       0           0            0   \n",
       "...                   ...                     ...         ...          ...   \n",
       "99162                   0                       0           0            0   \n",
       "99163                   0                       0           0            0   \n",
       "99164                   0                       0           0            0   \n",
       "99165                   0                       0           0            1   \n",
       "99166                   0                       0           0            1   \n",
       "\n",
       "       genre_Massively Multiplayer  genre_Nudity  genre_Photo Editing  \\\n",
       "0                                0             0                    0   \n",
       "1                                0             0                    0   \n",
       "2                                0             0                    0   \n",
       "3                                0             0                    0   \n",
       "4                                0             0                    0   \n",
       "...                            ...           ...                  ...   \n",
       "99162                            0             0                    0   \n",
       "99163                            0             0                    0   \n",
       "99164                            0             0                    0   \n",
       "99165                            0             0                    0   \n",
       "99166                            0             0                    0   \n",
       "\n",
       "       genre_RPG  genre_Racing  genre_Sexual Content  genre_Simulation  \\\n",
       "0              0             0                     0                 0   \n",
       "1              0             0                     0                 1   \n",
       "2              0             0                     0                 0   \n",
       "3              0             0                     0                 0   \n",
       "4              0             0                     0                 0   \n",
       "...          ...           ...                   ...               ...   \n",
       "99162          0             0                     0                 0   \n",
       "99163          1             0                     0                 0   \n",
       "99164          0             0                     0                 0   \n",
       "99165          1             0                     0                 0   \n",
       "99166          0             0                     0                 0   \n",
       "\n",
       "       genre_Software Training  genre_Sports  genre_Strategy  genre_Utilities  \\\n",
       "0                            0             0               0                0   \n",
       "1                            0             1               0                0   \n",
       "2                            0             0               0                0   \n",
       "3                            0             0               0                0   \n",
       "4                            0             0               0                0   \n",
       "...                        ...           ...             ...              ...   \n",
       "99162                        0             0               0                0   \n",
       "99163                        0             0               0                0   \n",
       "99164                        0             0               0                0   \n",
       "99165                        0             0               1                0   \n",
       "99166                        0             0               0                0   \n",
       "\n",
       "       genre_Video Production  genre_Violent  genre_Web Publishing  linux  \\\n",
       "0                           0              0                     0      1   \n",
       "1                           0              0                     0      1   \n",
       "2                           0              0                     0      1   \n",
       "3                           0              0                     0      1   \n",
       "4                           0              0                     0      1   \n",
       "...                       ...            ...                   ...    ...   \n",
       "99162                       0              0                     0      0   \n",
       "99163                       0              0                     0      0   \n",
       "99164                       0              0                     0      1   \n",
       "99165                       0              0                     0      0   \n",
       "99166                       0              0                     0      0   \n",
       "\n",
       "       mac  windows  name_len  name_words  name_cap_ratio  is_sequel  \\\n",
       "0        1        1        14           2        0.142857          0   \n",
       "1        1        1        24           4        0.208333          0   \n",
       "2        1        1        13           2        0.153846          0   \n",
       "3        1        1        13           2        0.153846          0   \n",
       "4        1        1        22           3        0.181818          0   \n",
       "...    ...      ...       ...         ...             ...        ...   \n",
       "99162    0        1        20           4        0.150000          0   \n",
       "99163    0        1        30           4        0.533333          0   \n",
       "99164    0        1        11           2        0.181818          0   \n",
       "99165    0        1        32           5        0.187500          0   \n",
       "99166    0        1        16           2        0.125000          0   \n",
       "\n",
       "       name_has_vr  name_has_remaster  name_has_collector  \\\n",
       "0                0                  0                   0   \n",
       "1                0                  0                   0   \n",
       "2                0                  0                   0   \n",
       "3                0                  0                   0   \n",
       "4                1                  0                   0   \n",
       "...            ...                ...                 ...   \n",
       "99162            0                  0                   0   \n",
       "99163            0                  0                   0   \n",
       "99164            0                  0                   0   \n",
       "99165            1                  0                   0   \n",
       "99166            0                  0                   0   \n",
       "\n",
       "       name_has_collection  name_has_edition  name_has_bundle  \\\n",
       "0                        0                 0                0   \n",
       "1                        0                 0                0   \n",
       "2                        0                 0                0   \n",
       "3                        0                 0                0   \n",
       "4                        0                 0                0   \n",
       "...                    ...               ...              ...   \n",
       "99162                    0                 0                0   \n",
       "99163                    0                 0                0   \n",
       "99164                    0                 0                0   \n",
       "99165                    0                 0                0   \n",
       "99166                    0                 0                0   \n",
       "\n",
       "       name_has_playtest  \n",
       "0                      0  \n",
       "1                      0  \n",
       "2                      0  \n",
       "3                      0  \n",
       "4                      0  \n",
       "...                  ...  \n",
       "99162                  0  \n",
       "99163                  0  \n",
       "99164                  0  \n",
       "99165                  0  \n",
       "99166                  0  \n",
       "\n",
       "[98846 rows x 57 columns]"
      ]
     },
     "execution_count": 50,
     "metadata": {},
     "output_type": "execute_result"
    }
   ],
   "source": [
    "# Strip punctuation\n",
    "info_base_games_df['name'] = info_base_games_df['name'].str.replace(r'[^\\w\\s]', '', regex=True)\n",
    "\n",
    "# add character count and word count features\n",
    "info_base_games_df['name_len'] = info_base_games_df['name'].str.len()\n",
    "info_base_games_df['name_words'] = info_base_games_df['name'].str.split().str.len()\n",
    "\n",
    "def cap_ratio(s):\n",
    "    if not s:\n",
    "        return 0\n",
    "    upper_count = sum(1 for ch in s if ch.isupper())\n",
    "    return upper_count / len(s)\n",
    "\n",
    "# add caps ratio feature\n",
    "info_base_games_df['name_cap_ratio'] = info_base_games_df['name'].apply(cap_ratio)\n",
    "\n",
    "# transform all names to lowercase\n",
    "info_base_games_df['name'] = info_base_games_df['name'].str.lower()\n",
    "\n",
    "# check if game is a sequel and add is_sequel feature\n",
    "roman_re = re.compile(r'\\b(?:i{1,3}|iv|v|vi|vii|viii|ix|x)\\b')\n",
    "digit_re = re.compile(r'\\b[2-9]\\b')\n",
    "\n",
    "info_base_games_df['is_sequel'] = (\n",
    "    info_base_games_df['name'].str.contains(roman_re) |\n",
    "    info_base_games_df['name'].str.contains(digit_re)\n",
    ").astype(int)\n",
    "\n",
    "# add useful keyword features\n",
    "keywords = ['vr', 'remaster', 'collector', 'collection', 'edition', 'bundle', 'playtest']\n",
    "for kw in keywords:\n",
    "    info_base_games_df[f'name_has_{kw}'] = (\n",
    "        info_base_games_df['name']\n",
    "          .str.contains(fr'\\b{kw}\\b')\n",
    "          .astype(int)\n",
    "    )\n",
    "\n",
    "info_base_games_df"
   ]
  },
  {
   "cell_type": "markdown",
   "id": "80ac0e64",
   "metadata": {},
   "source": [
    "Apply pretrained embeddings on names"
   ]
  },
  {
   "cell_type": "code",
   "execution_count": 51,
   "id": "971cd002",
   "metadata": {},
   "outputs": [],
   "source": [
    "model = SentenceTransformer('all-MiniLM-L6-v2')\n",
    "\n",
    "embeddings = model.encode(info_base_games_df['name'].tolist())\n",
    "\n",
    "emb_dim = embeddings.shape[1]\n",
    "emb_cols = [f'name_emb_{i}' for i in range(emb_dim)]\n",
    "emb_df = pd.DataFrame(embeddings, columns=emb_cols, index=info_base_games_df.index)\n",
    "info_base_games_df = pd.concat([info_base_games_df, emb_df], axis=1)"
   ]
  },
  {
   "cell_type": "markdown",
   "id": "c3e0bfb0",
   "metadata": {},
   "source": [
    "Scale numeric features (optional depending on model's sensitivity to data scale)"
   ]
  },
  {
   "cell_type": "code",
   "execution_count": 52,
   "id": "309b78dd",
   "metadata": {},
   "outputs": [],
   "source": [
    "scale_cols = [\n",
    "    'name_len', 'name_words', 'name_cap_ratio', 'is_sequel'\n",
    "] + [f'name_has_{kw}' for kw in keywords]\n",
    "\n",
    "scaler = StandardScaler()\n",
    "info_base_games_df[scale_cols] = scaler.fit_transform(info_base_games_df[scale_cols])"
   ]
  },
  {
   "cell_type": "markdown",
   "id": "d6a47d60",
   "metadata": {},
   "source": [
    "##### Turn boolian columns into numeric"
   ]
  },
  {
   "cell_type": "code",
   "execution_count": 53,
   "id": "b30b0e1a",
   "metadata": {},
   "outputs": [],
   "source": [
    "info_base_games_df['steam_achievements'] = info_base_games_df['steam_achievements'].astype(int)\n",
    "info_base_games_df['steam_trading_cards'] = info_base_games_df['steam_trading_cards'].astype(int)\n",
    "info_base_games_df['workshop_support'] = info_base_games_df['workshop_support'].astype(int)"
   ]
  },
  {
   "cell_type": "markdown",
   "id": "0a4cdb01",
   "metadata": {},
   "source": [
    "##### Save the preprocessed data"
   ]
  },
  {
   "cell_type": "markdown",
   "id": "738cbdfd",
   "metadata": {},
   "source": [
    "- Save the preprocessed data for testing and validation purposes.\n",
    "- Add features to the info_base_games: \n",
    "    \n",
    "    - Character count\n",
    "    - Word count\n",
    "    - Ratio of capital letters to total length\n",
    "    - Is a sequel\n",
    "    - Has useful keywords like (vr, remaster, collector, edition, bundle, playtest)\n",
    "    - Name embedding"
   ]
  },
  {
   "cell_type": "code",
   "execution_count": 54,
   "id": "fc767cbc",
   "metadata": {},
   "outputs": [],
   "source": [
    "#info_base_games_df.to_csv(INFO_BASE_GAMES_PATH, index=False)"
   ]
  },
  {
   "cell_type": "markdown",
   "id": "30979c1c",
   "metadata": {},
   "source": [
    "##### Statistics After Preprocessing"
   ]
  },
  {
   "cell_type": "code",
   "execution_count": 55,
   "id": "742f640a",
   "metadata": {},
   "outputs": [
    {
     "name": "stdout",
     "output_type": "stream",
     "text": [
      "<class 'pandas.core.frame.DataFrame'>\n",
      "Index: 98846 entries, 0 to 99166\n",
      "Columns: 441 entries, appid to name_emb_383\n",
      "dtypes: float32(384), float64(17), int64(36), object(4)\n",
      "memory usage: 188.5+ MB\n"
     ]
    }
   ],
   "source": [
    "info_base_games_df.info()"
   ]
  },
  {
   "cell_type": "markdown",
   "id": "342a65ff",
   "metadata": {},
   "source": [
    "##### Summary and Conclusion"
   ]
  },
  {
   "cell_type": "markdown",
   "id": "6d847423",
   "metadata": {},
   "source": [
    "- **Imported & cleaned**  \n",
    "  - Installed and loaded `sentence-transformers`, `pandas`, `re`, and `StandardScaler`  \n",
    "  - Read in `info_base_games.csv` and inspected column completeness  \n",
    "\n",
    "- **Handled missing titles**  \n",
    "  - Calculated missing‑name percentage and dropped rows (low impact)  \n",
    "\n",
    "- **Engineered name features**  \n",
    "  - Normalized titles (lowercase, no punctuation)  \n",
    "  - **Character count** (`name_len`)  \n",
    "  - **Word count** (`name_words`)  \n",
    "  - **Capital‑letter ratio** (`name_cap_ratio`)  \n",
    "  - **Sequel flag** (`is_sequel`) identified from standalone roman numerals or digits  \n",
    "  - **Keyword flags** (`name_has_vr`, `name_has_remaster`, etc.)\n",
    "\n",
    "- **Applied embeddings**  \n",
    "  - Generated embedding vectors from `all-MiniLM-L6-v2` for each cleaned name  \n",
    "\n",
    "- **Scaled & encoded**  \n",
    "  - Standardized numeric features (`name_len`, `name_words`, `name_cap_ratio`, `is_sequel`, keyword flags)  \n",
    "  - Converted boolean columns (`steam_achievements`, `steam_trading_cards`, `workshop_support`) into numeric 0/1  \n",
    "\n",
    "- **Saved & validated**  \n",
    "  - (Optional) Exported the preprocessed DataFrame into csv\n",
    "  - Reviewed final schema and data types\n",
    "\n",
    "- **Notes**\n",
    "\n",
    "  - Scaling numeric features should be applied or ignored depending on the model type and sensitivity to scaling\n",
    "  - `app_id` will most likely be dropped since it has no useful impact on sales"
   ]
  },
  {
   "cell_type": "markdown",
   "id": "d9946905",
   "metadata": {},
   "source": [
    "## Preprocessing Gamalytic CSV"
   ]
  },
  {
   "cell_type": "markdown",
   "id": "57639a88",
   "metadata": {},
   "source": [
    "### Preprocessing Price, Copies Sold and Reviews Columns"
   ]
  },
  {
   "cell_type": "markdown",
   "id": "3036cf1a",
   "metadata": {},
   "source": [
    "####  **Identify Columns That Contain a Single Value**\n",
    "  - Columns that have a single observation or value are probably useless for modeling."
   ]
  },
  {
   "cell_type": "code",
   "execution_count": 56,
   "id": "de298d62",
   "metadata": {},
   "outputs": [
    {
     "name": "stdout",
     "output_type": "stream",
     "text": [
      "1 350\n",
      "2 22474\n",
      "3 99\n"
     ]
    }
   ],
   "source": [
    "# Check if column has a single value\n",
    "print(1, len(unique(gamalytic_steam_games_df['price'])))\n",
    "print(2, len(unique(gamalytic_steam_games_df['copiesSold'])))\n",
    "print(3, len(unique(gamalytic_steam_games_df['reviewScore'])))"
   ]
  },
  {
   "cell_type": "code",
   "execution_count": 57,
   "id": "9c05972b",
   "metadata": {},
   "outputs": [
    {
     "name": "stdout",
     "output_type": "stream",
     "text": [
      "<class 'pandas.core.frame.DataFrame'>\n",
      "RangeIndex: 93338 entries, 0 to 93337\n",
      "Data columns (total 6 columns):\n",
      " #   Column          Non-Null Count  Dtype  \n",
      "---  ------          --------------  -----  \n",
      " 0   steamId         93338 non-null  int64  \n",
      " 1   price           93338 non-null  float64\n",
      " 2   copiesSold      93338 non-null  int64  \n",
      " 3   publisherClass  93338 non-null  object \n",
      " 4   reviewScore     93338 non-null  int64  \n",
      " 5   aiContent       0 non-null      float64\n",
      "dtypes: float64(2), int64(3), object(1)\n",
      "memory usage: 4.3+ MB\n",
      "None\n"
     ]
    }
   ],
   "source": [
    "print(gamalytic_steam_games_df.info())"
   ]
  },
  {
   "cell_type": "markdown",
   "id": "57ae0700",
   "metadata": {},
   "source": [
    "#### **Check Duplicates**"
   ]
  },
  {
   "cell_type": "code",
   "execution_count": 58,
   "id": "2d265bfc",
   "metadata": {},
   "outputs": [
    {
     "name": "stdout",
     "output_type": "stream",
     "text": [
      "Any duplicates ? False\n",
      "Duplicate rows:\n",
      " Empty DataFrame\n",
      "Columns: [steamId, price, copiesSold, publisherClass, reviewScore, aiContent]\n",
      "Index: []\n"
     ]
    }
   ],
   "source": [
    "duplicates = gamalytic_steam_games_df.duplicated()\n",
    "print(\"Any duplicates ?\", duplicates.any())\n",
    "print(\"Duplicate rows:\\n\", gamalytic_steam_games_df[duplicates])"
   ]
  },
  {
   "cell_type": "markdown",
   "id": "c32de142",
   "metadata": {},
   "source": [
    "#### **Remove Duplicates**"
   ]
  },
  {
   "cell_type": "code",
   "execution_count": 59,
   "id": "5ac543b9",
   "metadata": {},
   "outputs": [
    {
     "name": "stdout",
     "output_type": "stream",
     "text": [
      "(93338, 6)\n",
      "(93338, 6)\n"
     ]
    }
   ],
   "source": [
    "print(gamalytic_steam_games_df.shape)\n",
    "# delete duplicate rows\n",
    "gamalytic_steam_games_df.drop_duplicates(inplace = True)\n",
    "print(gamalytic_steam_games_df.shape)"
   ]
  },
  {
   "cell_type": "markdown",
   "id": "1983b426",
   "metadata": {},
   "source": [
    "#### **Count Missing Values**"
   ]
  },
  {
   "cell_type": "code",
   "execution_count": 60,
   "id": "6d0ea19c",
   "metadata": {},
   "outputs": [
    {
     "name": "stdout",
     "output_type": "stream",
     "text": [
      "price          0\n",
      "copiesSold     0\n",
      "reviewScore    0\n",
      "dtype: int64\n",
      "       steamId  price  copiesSold publisherClass  reviewScore  aiContent\n",
      "93324   680880   5.99           0       Hobbyist            0        NaN\n",
      "93325   842080  11.99           0       Hobbyist            0        NaN\n",
      "93326   630130   3.99           0       Hobbyist            0        NaN\n",
      "93327   778980   0.99           0       Hobbyist            0        NaN\n",
      "93328   738230   4.99           0       Hobbyist            0        NaN\n",
      "93329   713550   4.99           0       Hobbyist            0        NaN\n",
      "93330   700050   0.99           0       Hobbyist            0        NaN\n",
      "93331   679960   0.99           0       Hobbyist            0        NaN\n",
      "93332   492100   2.99           0       Hobbyist            0        NaN\n",
      "93333   582110   7.99           0       Hobbyist            0        NaN\n",
      "93334   514510   9.99           0          Indie            0        NaN\n",
      "93335   497380  14.99           0          Indie            0        NaN\n",
      "93336   456430   1.99           0          Indie            0        NaN\n",
      "93337  3167760   4.99           0       Hobbyist            0        NaN\n"
     ]
    }
   ],
   "source": [
    "print(gamalytic_steam_games_df[['price', 'copiesSold', 'reviewScore']].isna().sum())\n",
    "# Count how many rows have copiesSold == 0\n",
    "zero_sales = gamalytic_steam_games_df[gamalytic_steam_games_df['copiesSold'] == 0]\n",
    "print(zero_sales)"
   ]
  },
  {
   "cell_type": "markdown",
   "id": "9d1f2010",
   "metadata": {},
   "source": [
    "#### **Checking Inconsistent Values**\n",
    " - Checking for Negative Values"
   ]
  },
  {
   "cell_type": "code",
   "execution_count": 61,
   "id": "5844e4e1",
   "metadata": {},
   "outputs": [
    {
     "name": "stdout",
     "output_type": "stream",
     "text": [
      "Negative 'price' values: False\n",
      "Negative 'copiesSold' values: False\n",
      "Negative 'reviewScore' values: False\n"
     ]
    }
   ],
   "source": [
    "# Check if any value is negative\n",
    "negative_price = (gamalytic_steam_games_df['price'] < 0).any()\n",
    "negative_copies = (gamalytic_steam_games_df['copiesSold'] < 0).any()\n",
    "negative_review = (gamalytic_steam_games_df['reviewScore'] < 0).any()\n",
    "\n",
    "print(f\"Negative 'price' values: {negative_price}\")\n",
    "print(f\"Negative 'copiesSold' values: {negative_copies}\")\n",
    "print(f\"Negative 'reviewScore' values: {negative_review}\")\n"
   ]
  },
  {
   "cell_type": "markdown",
   "id": "2447f301",
   "metadata": {},
   "source": [
    "#### **gamalytic_steam_games_df Transformation**\n",
    " - Analyzing Skewness"
   ]
  },
  {
   "cell_type": "code",
   "execution_count": 62,
   "id": "cea689b4",
   "metadata": {},
   "outputs": [
    {
     "name": "stdout",
     "output_type": "stream",
     "text": [
      "Price skewness: 31.17\n",
      "CopiesSold skewness: 117.49\n",
      "reviewScore skewness: -1.28\n"
     ]
    }
   ],
   "source": [
    "# Check initial skewness of distributions\n",
    "print(f\"Price skewness: {skew(gamalytic_steam_games_df['price']):.2f}\")\n",
    "print(f\"CopiesSold skewness: {skew(gamalytic_steam_games_df['copiesSold']):.2f}\")\n",
    "print(f\"reviewScore skewness: {skew(gamalytic_steam_games_df['reviewScore']):.2f}\")"
   ]
  },
  {
   "cell_type": "markdown",
   "id": "eab5754d",
   "metadata": {},
   "source": [
    "#### **Log Transformation For Skewed gamalytic_steam_games_df**"
   ]
  },
  {
   "cell_type": "code",
   "execution_count": 63,
   "id": "74f069a3",
   "metadata": {},
   "outputs": [],
   "source": [
    "# Apply log transformation to reduce skewness\n",
    "gamalytic_steam_games_df['price'] = np.log1p(gamalytic_steam_games_df['price'])\n",
    "gamalytic_steam_games_df['copiesSold'] = np.log1p(gamalytic_steam_games_df['copiesSold'])"
   ]
  },
  {
   "cell_type": "markdown",
   "id": "307547c9",
   "metadata": {},
   "source": [
    "#### **Handling Outliers in Review Scores**"
   ]
  },
  {
   "cell_type": "code",
   "execution_count": 64,
   "id": "6aa59427",
   "metadata": {},
   "outputs": [],
   "source": [
    "low = gamalytic_steam_games_df['reviewScore'].quantile(0.25)\n",
    "high = gamalytic_steam_games_df['reviewScore'].quantile(0.75)\n",
    "median = gamalytic_steam_games_df['reviewScore'].median()\n",
    "\n",
    "gamalytic_steam_games_df.loc[gamalytic_steam_games_df['reviewScore'] < low, 'reviewScore'] = median\n",
    "gamalytic_steam_games_df.loc[gamalytic_steam_games_df['reviewScore'] > high, 'reviewScore'] = high\n",
    "\n"
   ]
  },
  {
   "cell_type": "markdown",
   "id": "a2f52ad2",
   "metadata": {},
   "source": [
    "#### **Check skewness after transformation**"
   ]
  },
  {
   "cell_type": "code",
   "execution_count": 65,
   "id": "46ab95a4",
   "metadata": {},
   "outputs": [
    {
     "name": "stdout",
     "output_type": "stream",
     "text": [
      "After outlier treatment:\n",
      "Price skewness: -0.03\n",
      "CopiesSold skewness: 0.21\n",
      "reviewScore skewness: -0.54\n"
     ]
    }
   ],
   "source": [
    "# Check skewness after outlier treatment\n",
    "print(\"After outlier treatment:\")\n",
    "print(f\"Price skewness: {skew(gamalytic_steam_games_df['price']):.2f}\")\n",
    "print(f\"CopiesSold skewness: {skew(gamalytic_steam_games_df['copiesSold']):.2f}\")\n",
    "print(f\"reviewScore skewness: {skew(gamalytic_steam_games_df['reviewScore']):.2f}\")"
   ]
  },
  {
   "cell_type": "markdown",
   "id": "5e7899ad",
   "metadata": {},
   "source": [
    "#### **Feature Scaling**"
   ]
  },
  {
   "cell_type": "code",
   "execution_count": 66,
   "id": "83ccff64",
   "metadata": {},
   "outputs": [],
   "source": [
    "scaler = StandardScaler()\n",
    "gamalytic_steam_games_df[['price', 'copiesSold', 'reviewScore']] = scaler.fit_transform(\n",
    "    gamalytic_steam_games_df[['price', 'copiesSold', 'reviewScore']]\n",
    ")"
   ]
  },
  {
   "cell_type": "markdown",
   "id": "007f4b00",
   "metadata": {},
   "source": [
    "#### **Feature Extraction**"
   ]
  },
  {
   "cell_type": "code",
   "execution_count": 67,
   "id": "a2accb10",
   "metadata": {},
   "outputs": [],
   "source": [
    "selected_features = gamalytic_steam_games_df[['price', 'copiesSold', 'reviewScore']]"
   ]
  },
  {
   "cell_type": "markdown",
   "id": "12c27462",
   "metadata": {},
   "source": [
    "#### **Feature Analysis**\n",
    " - Correlation Analysis"
   ]
  },
  {
   "cell_type": "code",
   "execution_count": 68,
   "id": "e1985d91",
   "metadata": {},
   "outputs": [
    {
     "name": "stdout",
     "output_type": "stream",
     "text": [
      "Correlation with copiesSold:\n",
      "price          0.071405\n",
      "reviewScore   -0.091055\n"
     ]
    }
   ],
   "source": [
    "# Calculate Pearson correlation between features\n",
    "correlation = selected_features.corr()\n",
    "\n",
    "correlation_with_target = correlation['copiesSold'].drop('copiesSold').sort_values(ascending = False)\n",
    "\n",
    "print(\"Correlation with copiesSold:\")\n",
    "print(correlation_with_target.to_string())"
   ]
  },
  {
   "cell_type": "markdown",
   "id": "b366e26d",
   "metadata": {},
   "source": [
    "#### **Mutual Information Scores**"
   ]
  },
  {
   "cell_type": "code",
   "execution_count": 69,
   "id": "5659aec9",
   "metadata": {},
   "outputs": [
    {
     "name": "stdout",
     "output_type": "stream",
     "text": [
      "Mutual Information Scores:\n",
      "    Feature  MI_Score\n",
      "reviewScore  0.432335\n",
      "      price  0.175593\n"
     ]
    }
   ],
   "source": [
    "# Calculate mutual information scores\n",
    "mi_scores = mutual_info_regression(\n",
    "    selected_features.drop(columns=['copiesSold']),\n",
    "    selected_features['copiesSold']\n",
    ")\n",
    "\n",
    "# Create a gamalytic_steam_games_dfFrame for mutual information results\n",
    "mi_results = pd.DataFrame({\n",
    "    'Feature': selected_features.drop(columns = ['copiesSold']).columns,\n",
    "    'MI_Score': mi_scores\n",
    "}).sort_values('MI_Score', ascending = False)\n",
    "\n",
    "print(\"Mutual Information Scores:\")\n",
    "print(mi_results.to_string(index = False))\n",
    "\n",
    "\n"
   ]
  },
  {
   "cell_type": "markdown",
   "id": "f58c202f",
   "metadata": {},
   "source": [
    "#### **ANOVA F-values**"
   ]
  },
  {
   "cell_type": "code",
   "execution_count": 70,
   "id": "c2f481e2",
   "metadata": {},
   "outputs": [
    {
     "name": "stdout",
     "output_type": "stream",
     "text": [
      "ANOVA F-Values:\n",
      "    Feature    F_Value\n",
      "reviewScore 780.312602\n",
      "      price 478.335014\n"
     ]
    }
   ],
   "source": [
    "# Calculate ANOVA F-values for feature importance\n",
    "selector = SelectKBest(score_func = f_regression, k = 'all')\n",
    "selector.fit(\n",
    "    selected_features.drop(columns=['copiesSold']),\n",
    "    selected_features['copiesSold']\n",
    ")\n",
    "\n",
    "# Create a gamalytic_steam_games_dfFrame for ANOVA results\n",
    "anova_results = pd.DataFrame({\n",
    "    'Feature': selected_features.drop(columns = ['copiesSold']).columns,\n",
    "    'F_Value': selector.scores_\n",
    "}).sort_values('F_Value', ascending = False)\n",
    "\n",
    "print(\"ANOVA F-Values:\")\n",
    "print(anova_results.to_string(index = False))\n"
   ]
  },
  {
   "cell_type": "markdown",
   "id": "77d5944e",
   "metadata": {},
   "source": [
    "#### **gamalytic_steam_games_df Visualization**"
   ]
  },
  {
   "cell_type": "code",
   "execution_count": 71,
   "id": "a718d772",
   "metadata": {},
   "outputs": [
    {
     "data": {
      "image/png": "[encoded data removed]",
      "text/plain": [
       "<Figure size 640x480 with 1 Axes>"
      ]
     },
     "metadata": {},
     "output_type": "display_data"
    }
   ],
   "source": [
    "# Visualize distribution of prices\n",
    "gamalytic_steam_games_df['price'].hist(bins = 30)\n",
    "plt.title('Price Distribution')\n",
    "plt.show()\n"
   ]
  },
  {
   "cell_type": "code",
   "execution_count": 72,
   "id": "37380131",
   "metadata": {},
   "outputs": [
    {
     "data": {
      "image/png": "[encoded data removed]",
      "text/plain": [
       "<Figure size 640x480 with 1 Axes>"
      ]
     },
     "metadata": {},
     "output_type": "display_data"
    }
   ],
   "source": [
    "# Visualize distribution of copiesSold\n",
    "gamalytic_steam_games_df['copiesSold'].hist(bins = 30)\n",
    "plt.title('Copies Sold Distribution')\n",
    "plt.show()\n"
   ]
  },
  {
   "cell_type": "code",
   "execution_count": 73,
   "id": "45dd45a0",
   "metadata": {},
   "outputs": [
    {
     "data": {
      "image/png": "[encoded data removed]",
      "text/plain": [
       "<Figure size 640x480 with 1 Axes>"
      ]
     },
     "metadata": {},
     "output_type": "display_data"
    }
   ],
   "source": [
    "# Visualize distribution of Review Score\n",
    "gamalytic_steam_games_df['reviewScore'].hist(bins = 30)\n",
    "plt.title('Review Score Distribution')\n",
    "plt.show()\n"
   ]
  },
  {
   "cell_type": "markdown",
   "id": "335d4e53",
   "metadata": {},
   "source": [
    "### Preprocess steamid, publisherclass, and aicontent Columns"
   ]
  },
  {
   "cell_type": "markdown",
   "id": "4fcec4e5",
   "metadata": {},
   "source": [
    "#### Statistics Before Preprocessing"
   ]
  },
  {
   "cell_type": "code",
   "execution_count": 74,
   "id": "0d433082",
   "metadata": {},
   "outputs": [
    {
     "data": {
      "text/plain": [
       "(93338, 6)"
      ]
     },
     "execution_count": 74,
     "metadata": {},
     "output_type": "execute_result"
    }
   ],
   "source": [
    "gamalytic_steam_games_df.shape"
   ]
  },
  {
   "cell_type": "code",
   "execution_count": 75,
   "id": "9ce558b7",
   "metadata": {},
   "outputs": [
    {
     "data": {
      "text/html": [
       "<div>\n",
       "<style scoped>\n",
       "    .dataframe tbody tr th:only-of-type {\n",
       "        vertical-align: middle;\n",
       "    }\n",
       "\n",
       "    .dataframe tbody tr th {\n",
       "        vertical-align: top;\n",
       "    }\n",
       "\n",
       "    .dataframe thead th {\n",
       "        text-align: right;\n",
       "    }\n",
       "</style>\n",
       "<table border=\"1\" class=\"dataframe\">\n",
       "  <thead>\n",
       "    <tr style=\"text-align: right;\">\n",
       "      <th></th>\n",
       "      <th>steamId</th>\n",
       "      <th>price</th>\n",
       "      <th>copiesSold</th>\n",
       "      <th>publisherClass</th>\n",
       "      <th>reviewScore</th>\n",
       "      <th>aiContent</th>\n",
       "    </tr>\n",
       "  </thead>\n",
       "  <tbody>\n",
       "    <tr>\n",
       "      <th>0</th>\n",
       "      <td>730</td>\n",
       "      <td>-1.640207</td>\n",
       "      <td>4.264143</td>\n",
       "      <td>AAA</td>\n",
       "      <td>0.487145</td>\n",
       "      <td>NaN</td>\n",
       "    </tr>\n",
       "    <tr>\n",
       "      <th>1</th>\n",
       "      <td>570</td>\n",
       "      <td>-1.640207</td>\n",
       "      <td>4.150932</td>\n",
       "      <td>AAA</td>\n",
       "      <td>-0.070243</td>\n",
       "      <td>NaN</td>\n",
       "    </tr>\n",
       "    <tr>\n",
       "      <th>2</th>\n",
       "      <td>578080</td>\n",
       "      <td>-1.640207</td>\n",
       "      <td>4.062539</td>\n",
       "      <td>AAA</td>\n",
       "      <td>-0.293198</td>\n",
       "      <td>NaN</td>\n",
       "    </tr>\n",
       "    <tr>\n",
       "      <th>3</th>\n",
       "      <td>440</td>\n",
       "      <td>-1.640207</td>\n",
       "      <td>3.903563</td>\n",
       "      <td>AAA</td>\n",
       "      <td>0.821577</td>\n",
       "      <td>NaN</td>\n",
       "    </tr>\n",
       "    <tr>\n",
       "      <th>4</th>\n",
       "      <td>1172470</td>\n",
       "      <td>-1.640207</td>\n",
       "      <td>3.779794</td>\n",
       "      <td>AAA</td>\n",
       "      <td>-1.742405</td>\n",
       "      <td>NaN</td>\n",
       "    </tr>\n",
       "  </tbody>\n",
       "</table>\n",
       "</div>"
      ],
      "text/plain": [
       "   steamId     price  copiesSold publisherClass  reviewScore  aiContent\n",
       "0      730 -1.640207    4.264143            AAA     0.487145        NaN\n",
       "1      570 -1.640207    4.150932            AAA    -0.070243        NaN\n",
       "2   578080 -1.640207    4.062539            AAA    -0.293198        NaN\n",
       "3      440 -1.640207    3.903563            AAA     0.821577        NaN\n",
       "4  1172470 -1.640207    3.779794            AAA    -1.742405        NaN"
      ]
     },
     "execution_count": 75,
     "metadata": {},
     "output_type": "execute_result"
    }
   ],
   "source": [
    "gamalytic_steam_games_df.head()"
   ]
  },
  {
   "cell_type": "code",
   "execution_count": 76,
   "id": "9b464898",
   "metadata": {},
   "outputs": [
    {
     "name": "stdout",
     "output_type": "stream",
     "text": [
      "<class 'pandas.core.frame.DataFrame'>\n",
      "RangeIndex: 93338 entries, 0 to 93337\n",
      "Data columns (total 6 columns):\n",
      " #   Column          Non-Null Count  Dtype  \n",
      "---  ------          --------------  -----  \n",
      " 0   steamId         93338 non-null  int64  \n",
      " 1   price           93338 non-null  float64\n",
      " 2   copiesSold      93338 non-null  float64\n",
      " 3   publisherClass  93338 non-null  object \n",
      " 4   reviewScore     93338 non-null  float64\n",
      " 5   aiContent       0 non-null      float64\n",
      "dtypes: float64(4), int64(1), object(1)\n",
      "memory usage: 4.3+ MB\n"
     ]
    }
   ],
   "source": [
    "gamalytic_steam_games_df.info()"
   ]
  },
  {
   "cell_type": "markdown",
   "id": "704f6d30",
   "metadata": {},
   "source": [
    "#### publisher class column"
   ]
  },
  {
   "cell_type": "code",
   "execution_count": 77,
   "id": "8172f221",
   "metadata": {},
   "outputs": [
    {
     "data": {
      "text/plain": [
       "publisherClass\n",
       "Hobbyist    52161\n",
       "Indie       37304\n",
       "AA           2844\n",
       "AAA          1029\n",
       "Name: count, dtype: int64"
      ]
     },
     "execution_count": 77,
     "metadata": {},
     "output_type": "execute_result"
    }
   ],
   "source": [
    "gamalytic_steam_games_df['publisherClass'].value_counts()"
   ]
  },
  {
   "cell_type": "code",
   "execution_count": 78,
   "id": "fb3026fc",
   "metadata": {},
   "outputs": [
    {
     "data": {
      "image/png": "[encoded data removed]",
      "text/plain": [
       "<Figure size 800x500 with 1 Axes>"
      ]
     },
     "metadata": {},
     "output_type": "display_data"
    }
   ],
   "source": [
    "\n",
    "grouped = gamalytic_steam_games_df.groupby('publisherClass')['copiesSold'].sum().sort_values(ascending=False)\n",
    "\n",
    "plt.figure(figsize=(8,5))\n",
    "sns.barplot(x=grouped.index, y=grouped.values, palette='viridis')\n",
    "plt.title('Total Copies Sold by Publisher Class')\n",
    "plt.xlabel('Publisher Class')\n",
    "plt.ylabel('Copies Sold')\n",
    "plt.show()\n"
   ]
  },
  {
   "cell_type": "markdown",
   "id": "5cf39c8c",
   "metadata": {},
   "source": [
    " As dataset rows equals 93338 i think we can replace AA and AAA columns with only one column for others and this also may handle unseen data in testing"
   ]
  },
  {
   "cell_type": "code",
   "execution_count": 79,
   "id": "551e4ef1",
   "metadata": {},
   "outputs": [
    {
     "name": "stdout",
     "output_type": "stream",
     "text": [
      "publisherClass\n",
      "Hobbyist    52161\n",
      "Indie       37304\n",
      "Other        3873\n",
      "Name: count, dtype: int64\n"
     ]
    }
   ],
   "source": [
    "gamalytic_steam_games_df['publisherClass'] = gamalytic_steam_games_df['publisherClass'].replace(['AA', 'AAA'], 'Other')\n",
    "print(gamalytic_steam_games_df['publisherClass'].value_counts())"
   ]
  },
  {
   "cell_type": "markdown",
   "id": "ec09a505",
   "metadata": {},
   "source": [
    "#### Using one hot encoding"
   ]
  },
  {
   "cell_type": "code",
   "execution_count": 80,
   "id": "deb79e8d",
   "metadata": {},
   "outputs": [],
   "source": [
    "encoder = OneHotEncoder(drop='first',sparse_output=False)\n",
    "encoded_data = encoder.fit_transform(gamalytic_steam_games_df[['publisherClass']])\n",
    "encoded_gamalytic_steam_games_df = pd.DataFrame(encoded_data, columns=encoder.get_feature_names_out(['publisherClass']))"
   ]
  },
  {
   "cell_type": "code",
   "execution_count": 81,
   "id": "d1278209",
   "metadata": {},
   "outputs": [],
   "source": [
    "gamalytic_steam_games_df = pd.concat([gamalytic_steam_games_df, encoded_gamalytic_steam_games_df], axis=1)"
   ]
  },
  {
   "cell_type": "code",
   "execution_count": 82,
   "id": "086b3867",
   "metadata": {},
   "outputs": [],
   "source": [
    "gamalytic_steam_games_df.drop('publisherClass', axis=1, inplace=True)"
   ]
  },
  {
   "cell_type": "code",
   "execution_count": 83,
   "id": "a6cde987",
   "metadata": {},
   "outputs": [
    {
     "data": {
      "text/html": [
       "<div>\n",
       "<style scoped>\n",
       "    .dataframe tbody tr th:only-of-type {\n",
       "        vertical-align: middle;\n",
       "    }\n",
       "\n",
       "    .dataframe tbody tr th {\n",
       "        vertical-align: top;\n",
       "    }\n",
       "\n",
       "    .dataframe thead th {\n",
       "        text-align: right;\n",
       "    }\n",
       "</style>\n",
       "<table border=\"1\" class=\"dataframe\">\n",
       "  <thead>\n",
       "    <tr style=\"text-align: right;\">\n",
       "      <th></th>\n",
       "      <th>steamId</th>\n",
       "      <th>price</th>\n",
       "      <th>copiesSold</th>\n",
       "      <th>reviewScore</th>\n",
       "      <th>aiContent</th>\n",
       "      <th>publisherClass_Indie</th>\n",
       "      <th>publisherClass_Other</th>\n",
       "    </tr>\n",
       "  </thead>\n",
       "  <tbody>\n",
       "    <tr>\n",
       "      <th>93333</th>\n",
       "      <td>582110</td>\n",
       "      <td>0.512989</td>\n",
       "      <td>-2.049274</td>\n",
       "      <td>-0.293198</td>\n",
       "      <td>NaN</td>\n",
       "      <td>0.0</td>\n",
       "      <td>0.0</td>\n",
       "    </tr>\n",
       "    <tr>\n",
       "      <th>93334</th>\n",
       "      <td>514510</td>\n",
       "      <td>0.709937</td>\n",
       "      <td>-2.049274</td>\n",
       "      <td>-0.293198</td>\n",
       "      <td>NaN</td>\n",
       "      <td>1.0</td>\n",
       "      <td>0.0</td>\n",
       "    </tr>\n",
       "    <tr>\n",
       "      <th>93335</th>\n",
       "      <td>497380</td>\n",
       "      <td>1.077586</td>\n",
       "      <td>-2.049274</td>\n",
       "      <td>-0.293198</td>\n",
       "      <td>NaN</td>\n",
       "      <td>1.0</td>\n",
       "      <td>0.0</td>\n",
       "    </tr>\n",
       "    <tr>\n",
       "      <th>93336</th>\n",
       "      <td>456430</td>\n",
       "      <td>-0.566337</td>\n",
       "      <td>-2.049274</td>\n",
       "      <td>-0.293198</td>\n",
       "      <td>NaN</td>\n",
       "      <td>1.0</td>\n",
       "      <td>0.0</td>\n",
       "    </tr>\n",
       "    <tr>\n",
       "      <th>93337</th>\n",
       "      <td>3167760</td>\n",
       "      <td>0.114902</td>\n",
       "      <td>-2.049274</td>\n",
       "      <td>-0.293198</td>\n",
       "      <td>NaN</td>\n",
       "      <td>0.0</td>\n",
       "      <td>0.0</td>\n",
       "    </tr>\n",
       "  </tbody>\n",
       "</table>\n",
       "</div>"
      ],
      "text/plain": [
       "       steamId     price  copiesSold  reviewScore  aiContent  \\\n",
       "93333   582110  0.512989   -2.049274    -0.293198        NaN   \n",
       "93334   514510  0.709937   -2.049274    -0.293198        NaN   \n",
       "93335   497380  1.077586   -2.049274    -0.293198        NaN   \n",
       "93336   456430 -0.566337   -2.049274    -0.293198        NaN   \n",
       "93337  3167760  0.114902   -2.049274    -0.293198        NaN   \n",
       "\n",
       "       publisherClass_Indie  publisherClass_Other  \n",
       "93333                   0.0                   0.0  \n",
       "93334                   1.0                   0.0  \n",
       "93335                   1.0                   0.0  \n",
       "93336                   1.0                   0.0  \n",
       "93337                   0.0                   0.0  "
      ]
     },
     "execution_count": 83,
     "metadata": {},
     "output_type": "execute_result"
    }
   ],
   "source": [
    "gamalytic_steam_games_df.tail()"
   ]
  },
  {
   "cell_type": "markdown",
   "id": "4cc633fc",
   "metadata": {},
   "source": [
    "#### Dropping aicontent column as it contain 100% NULL values"
   ]
  },
  {
   "cell_type": "code",
   "execution_count": 84,
   "id": "417b8556",
   "metadata": {},
   "outputs": [],
   "source": [
    "gamalytic_steam_games_df.drop('aiContent', axis=1, inplace=True)"
   ]
  },
  {
   "cell_type": "markdown",
   "id": "4afff058",
   "metadata": {},
   "source": [
    "#### Check Duplicates"
   ]
  },
  {
   "cell_type": "code",
   "execution_count": 85,
   "id": "1d529878",
   "metadata": {},
   "outputs": [
    {
     "data": {
      "text/plain": [
       "np.int64(0)"
      ]
     },
     "execution_count": 85,
     "metadata": {},
     "output_type": "execute_result"
    }
   ],
   "source": [
    "gamalytic_steam_games_df.duplicated().sum()"
   ]
  },
  {
   "cell_type": "markdown",
   "id": "c5066f87",
   "metadata": {},
   "source": [
    "## Merge DataFrames"
   ]
  },
  {
   "cell_type": "code",
   "execution_count": 86,
   "id": "974970b5",
   "metadata": {},
   "outputs": [
    {
     "name": "stdout",
     "output_type": "stream",
     "text": [
      "\n",
      "Merging DataFrames...\n",
      "Rows after gamalytic_steam_games_df merge: 69426\n",
      "Rows after demo_indicators merge: 69426\n",
      "Rows after dlc_indicators merge: 69426\n"
     ]
    }
   ],
   "source": [
    "gamalytic_steam_games_df.rename(columns={\"steamId\": \"appid\"}, inplace=True) # Temp Code until Mariam Code\n",
    "\n",
    "# Ensure both DataFrames have the same data type for 'appid'\n",
    "info_base_games_df['appid'] = info_base_games_df['appid'].astype(int)\n",
    "gamalytic_steam_games_df['appid'] = gamalytic_steam_games_df['appid'].astype(int)\n",
    "\n",
    "print(\"\\nMerging DataFrames...\")\n",
    "\n",
    "# Merge info_base_games_df with gamalytic_steam_games_df into a new DataFrame\n",
    "df = info_base_games_df.merge(gamalytic_steam_games_df, on=\"appid\", how=\"inner\")\n",
    "print(f\"Rows after gamalytic_steam_games_df merge: {len(df)}\")\n",
    "\n",
    "# Merge demo_indicators with df\n",
    "df = df.merge(demo_indicators, on=\"appid\", how=\"left\")\n",
    "print(f\"Rows after demo_indicators merge: {len(df)}\")\n",
    "\n",
    "# Merge dlc_indicators with df\n",
    "df = df.merge(dlc_indicators, on=\"appid\", how=\"left\")\n",
    "print(f\"Rows after dlc_indicators merge: {len(df)}\")\n"
   ]
  },
  {
   "cell_type": "markdown",
   "id": "ee072d5b",
   "metadata": {},
   "source": [
    "## Handle Additional NaNs"
   ]
  },
  {
   "cell_type": "code",
   "execution_count": 87,
   "id": "bd91281d",
   "metadata": {},
   "outputs": [],
   "source": [
    "df[\"has_demo\"] = df[\"has_demo\"].fillna(0).astype(int)\n",
    "df[\"demo_count\"] = df[\"demo_count\"].fillna(0).astype(int)\n",
    "df[\"has_dlc\"] = df[\"has_dlc\"].fillna(0).astype(int)\n",
    "df[\"dlc_count\"] = df[\"dlc_count\"].fillna(0).astype(int)\n",
    "\n",
    "df.drop(columns=[\"metacritic\"], inplace=True) #96-97% are nulls -> won't be needed\n",
    "df['genres'] = df['genres'].fillna('')"
   ]
  },
  {
   "cell_type": "markdown",
   "id": "f757c4e6",
   "metadata": {},
   "source": [
    "## Results"
   ]
  },
  {
   "cell_type": "code",
   "execution_count": 88,
   "id": "a49848f6",
   "metadata": {},
   "outputs": [
    {
     "name": "stdout",
     "output_type": "stream",
     "text": [
      "\n",
      "Sorted NaN counts after merge and imputation:\n",
      "Series([], dtype: int64)\n",
      "\n",
      "Rows after merge: 69426\n",
      "     appid                      name  metacritic_preprocessed  has_metacritic  \\\n",
      "0  2574000            femboy burgers                      0.0               0   \n",
      "1  2574120  ppa pickleball tour 2025                      0.0               0   \n",
      "2  2573200             squeaky squad                      0.0               0   \n",
      "3  2569520    naturpark lillebælt vr                      0.0               0   \n",
      "4  2567670            a lively haunt                      0.0               0   \n",
      "\n",
      "   achievements_total  has_demo  demo_count  has_dlc  dlc_count  \n",
      "0           -0.000204         0           0        0          0  \n",
      "1           -0.000204         0           0        0          0  \n",
      "2            0.060572         0           0        0          0  \n",
      "3           -0.000204         0           0        0          0  \n",
      "4           -0.000204         0           0        0          0  \n"
     ]
    }
   ],
   "source": [
    "# Check NaN counts after merging\n",
    "print(\"\\nSorted NaN counts after merge and imputation:\")\n",
    "nan_counts = df.isna().sum()\n",
    "print(nan_counts[nan_counts > 0].sort_values(ascending=False))\n",
    "\n",
    "print(f\"\\nRows after merge: {len(df)}\")\n",
    "print(df[[\"appid\", \"name\", \"metacritic_preprocessed\", \"has_metacritic\", \"achievements_total\", \"has_demo\", \"demo_count\", \"has_dlc\", \"dlc_count\"]].head())"
   ]
  },
  {
   "cell_type": "markdown",
   "id": "f836dc38",
   "metadata": {},
   "source": [
    "## Summary"
   ]
  },
  {
   "cell_type": "code",
   "execution_count": 89,
   "id": "dfe82b29",
   "metadata": {},
   "outputs": [
    {
     "name": "stdout",
     "output_type": "stream",
     "text": [
      "\n",
      "Preprocessing Summary:\n",
      "\n",
      "Final DataFrame: 69426 rows, 449 columns\n"
     ]
    }
   ],
   "source": [
    "print(\"\\nPreprocessing Summary:\\n\")\n",
    "print(f\"Final DataFrame: {len(df)} rows, {len(df.columns)} columns\")"
   ]
  },
  {
   "cell_type": "markdown",
   "id": "84650f12-9e85-4094-b388-7e1419b2dc68",
   "metadata": {},
   "source": [
    "## Split data into training and testing sets"
   ]
  },
  {
   "cell_type": "code",
   "execution_count": 94,
   "id": "537adcdc-0173-41ad-99b8-d9086552479a",
   "metadata": {},
   "outputs": [
    {
     "name": "stdout",
     "output_type": "stream",
     "text": [
      "Training: (55541, 448), Validation: (6942, 448), Testing: (6943, 448)\n"
     ]
    }
   ],
   "source": [
    "X = df.drop('copiesSold', axis=1)\n",
    "Y = df['copiesSold']\n",
    "\n",
    "# 80% training, 10% validation, 10% testing\n",
    "X_train_val, X_test, y_train_val, y_test = train_test_split(\n",
    "    X, Y,\n",
    "    test_size = 0.10,\n",
    "    random_state = 123\n",
    ")\n",
    "\n",
    "X_train, X_val, y_train, y_val = train_test_split(\n",
    "    X_train_val, y_train_val,\n",
    "    test_size = 0.1111,\n",
    "    random_state = 123\n",
    ")\n",
    "\n",
    "print(f\"Training: {X_train.shape}, Validation: {X_val.shape}, Testing: {X_test.shape}\")"
   ]
  },
  {
   "cell_type": "markdown",
   "id": "10d233eb",
   "metadata": {},
   "source": [
    "## Save The Final Dataframe to CSV"
   ]
  },
  {
   "cell_type": "code",
   "execution_count": 95,
   "id": "db0d204a",
   "metadata": {},
   "outputs": [],
   "source": [
    "# # Full preprocessed data\n",
    "# df.to_csv('OUTPUT_PATH/prepocessed_data.csv', index=False)\n",
    "\n",
    "# # split preprocessed data\n",
    "# train_df = X_train.copy()\n",
    "# train_df['copiesSold'] = y_train\n",
    "\n",
    "# val_df = X_val.copy()\n",
    "# val_df['copiesSold'] = y_val\n",
    "\n",
    "# test_df = X_test.copy()\n",
    "# test_df['copiesSold'] = y_test\n",
    "\n",
    "# train_df.to_csv('OUTPUT_PATH/train.csv', index=False)\n",
    "# val_df.to_csv('OUTPUT_PATH/validation.csv', index=False)\n",
    "# test_df.to_csv('OUTPUT_PATH/test.csv', index=False)"
   ]
  },
  {
   "cell_type": "code",
   "execution_count": null,
   "id": "a1769687-dfea-4275-8de1-0c1985a860e0",
   "metadata": {},
   "outputs": [],
   "source": []
  }
 ],
 "metadata": {
  "kernelspec": {
   "display_name": "Python 3 (ipykernel)",
   "language": "python",
   "name": "python3"
  },
  "language_info": {
   "codemirror_mode": {
    "name": "ipython",
    "version": 3
   },
   "file_extension": ".py",
   "mimetype": "text/x-python",
   "name": "python",
   "nbconvert_exporter": "python",
   "pygments_lexer": "ipython3",
   "version": "3.13.0"
  }
 },
 "nbformat": 4,
 "nbformat_minor": 5
}
