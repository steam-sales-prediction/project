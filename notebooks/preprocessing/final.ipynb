{
 "cells": [
  {
   "cell_type": "markdown",
   "id": "6934f048",
   "metadata": {},
   "source": [
    "# Preprocessing Steam Games"
   ]
  },
  {
   "cell_type": "markdown",
   "id": "0",
   "metadata": {},
   "source": [
    "## Import Libraries"
   ]
  },
  {
   "cell_type": "code",
   "id": "aa70eca6",
   "metadata": {
    "ExecuteTime": {
     "end_time": "2025-05-16T14:18:16.087898Z",
     "start_time": "2025-05-16T14:18:15.085738Z"
    }
   },
   "source": [
    "import numpy as np\n",
    "import pandas as pd\n",
    "import seaborn as sns\n",
    "import matplotlib.pyplot as plt\n",
    "import re\n",
    "import math\n",
    "import os\n",
    "from enum import Enum, auto\n",
    "\n",
    "from sklearn import linear_model\n",
    "from sklearn import metrics\n",
    "from sklearn.model_selection import train_test_split\n",
    "from sklearn.preprocessing import PolynomialFeatures, StandardScaler, MultiLabelBinarizer, OneHotEncoder, LabelEncoder\n",
    "from sklearn.impute import KNNImputer\n",
    "from sklearn.feature_selection import mutual_info_regression\n",
    "from sklearn.feature_selection import SelectKBest, f_regression\n",
    "\n",
    "import warnings\n",
    "warnings.filterwarnings('ignore')\n",
    "\n",
    "import ast\n",
    "from collections import Counter\n",
    "from wordcloud import WordCloud\n",
    "# from sentence_transformers import SentenceTransformer\n",
    "\n",
    "from numpy import unique\n",
    "from scipy.stats import skew"
   ],
   "outputs": [],
   "execution_count": 1
  },
  {
   "cell_type": "markdown",
   "id": "ca1446f5",
   "metadata": {},
   "source": [
    "## Define Target/Label Type"
   ]
  },
  {
   "cell_type": "markdown",
   "id": "d6c48cea",
   "metadata": {},
   "source": [
    "We have 2 datasets, one in which the target is regression and another in which the target is classification, the below `TARGET_TYPE` decides if we are working on the regression or classification target."
   ]
  },
  {
   "cell_type": "code",
   "id": "fda6b5d3",
   "metadata": {
    "ExecuteTime": {
     "end_time": "2025-05-16T14:18:16.102352Z",
     "start_time": "2025-05-16T14:18:16.098741Z"
    }
   },
   "source": [
    "class TargetType(Enum):\n",
    "    REGRESSION = auto()\n",
    "    CLASSIFICATION = auto()\n",
    "\n",
    "TARGET_TYPE = TargetType.CLASSIFICATION"
   ],
   "outputs": [],
   "execution_count": 2
  },
  {
   "cell_type": "markdown",
   "id": "f971625c",
   "metadata": {},
   "source": [
    "## Load Data"
   ]
  },
  {
   "cell_type": "code",
   "id": "47271e41",
   "metadata": {
    "ExecuteTime": {
     "end_time": "2025-05-16T14:18:16.358787Z",
     "start_time": "2025-05-16T14:18:16.108418Z"
    }
   },
   "source": [
    "# Define file paths\n",
    "DEMOS_PATH = '../../data/raw/demos.csv'\n",
    "DLCS_PATH = '../../data/raw/dlcs.csv'\n",
    "BASE_GAMES_PATH = '../../data/raw/info_base_games.csv'\n",
    "OUTPUT_PATH = '../../data/preprocessed/'\n",
    "\n",
    "if TARGET_TYPE == TargetType.REGRESSION:\n",
    "    GAMALYTIC_PATH = '../../data/raw/gamalytic_steam_games.csv'\n",
    "elif TARGET_TYPE == TargetType.CLASSIFICATION:\n",
    "    GAMALYTIC_PATH = '../../data/raw/ms2_gamalytic_steam_games.csv'\n",
    "\n",
    "# Read CSV files\n",
    "demo_df = pd.read_csv(DEMOS_PATH)\n",
    "dlc_df = pd.read_csv(DLCS_PATH)\n",
    "info_base_games_df = pd.read_csv(BASE_GAMES_PATH, low_memory=False)\n",
    "gamalytic_steam_games_df = pd.read_csv(GAMALYTIC_PATH)"
   ],
   "outputs": [],
   "execution_count": 3
  },
  {
   "cell_type": "markdown",
   "id": "9e014516",
   "metadata": {},
   "source": [
    "## Explore Data"
   ]
  },
  {
   "cell_type": "code",
   "id": "528dc9c1",
   "metadata": {
    "ExecuteTime": {
     "end_time": "2025-05-16T14:18:16.758944Z",
     "start_time": "2025-05-16T14:18:16.755272Z"
    }
   },
   "source": [
    "print(info_base_games_df.shape)\n",
    "print(gamalytic_steam_games_df.shape)\n",
    "print(demo_df.shape)\n",
    "print(dlc_df.shape)\n",
    "\n",
    "print(\"Info Base Games File Columns:\", info_base_games_df.columns.tolist())\n",
    "print(\"Gamalytic Steam Games File Columns:\", gamalytic_steam_games_df.columns.tolist())\n",
    "print(\"Demo File Columns:\", demo_df.columns.tolist())\n",
    "print(\"DLC File Columns:\", dlc_df.columns.tolist())"
   ],
   "outputs": [
    {
     "name": "stdout",
     "output_type": "stream",
     "text": [
      "(99167, 10)\n",
      "(93338, 6)\n",
      "(15449, 4)\n",
      "(5445, 3)\n",
      "Info Base Games File Columns: ['appid', 'name', 'metacritic', 'steam_achievements', 'steam_trading_cards', 'workshop_support', 'genres', 'achievements_total', 'release_date', 'supported_platforms']\n",
      "Gamalytic Steam Games File Columns: ['steamId', 'price', 'copiesSold', 'publisherClass', 'reviewScore', 'aiContent']\n",
      "Demo File Columns: ['Unnamed: 0', 'full_game_appid', 'demo_appid', 'name']\n",
      "DLC File Columns: ['base_appid', 'dlc_appid', 'name']\n"
     ]
    }
   ],
   "execution_count": 4
  },
  {
   "cell_type": "markdown",
   "id": "f3f17438",
   "metadata": {},
   "source": [
    "## Preprocessing DLCs and Demos CSVs"
   ]
  },
  {
   "cell_type": "markdown",
   "id": "816325ab",
   "metadata": {},
   "source": [
    "### Statistics Before Preprocessing"
   ]
  },
  {
   "cell_type": "code",
   "id": "d68c5e96",
   "metadata": {
    "ExecuteTime": {
     "end_time": "2025-05-16T14:18:16.802420Z",
     "start_time": "2025-05-16T14:18:16.786367Z"
    }
   },
   "source": [
    "demo_df.info()\n",
    "dlc_df.info()"
   ],
   "outputs": [
    {
     "name": "stdout",
     "output_type": "stream",
     "text": [
      "<class 'pandas.core.frame.DataFrame'>\n",
      "RangeIndex: 15449 entries, 0 to 15448\n",
      "Data columns (total 4 columns):\n",
      " #   Column           Non-Null Count  Dtype \n",
      "---  ------           --------------  ----- \n",
      " 0   Unnamed: 0       15449 non-null  int64 \n",
      " 1   full_game_appid  15449 non-null  object\n",
      " 2   demo_appid       15449 non-null  object\n",
      " 3   name             15448 non-null  object\n",
      "dtypes: int64(1), object(3)\n",
      "memory usage: 482.9+ KB\n",
      "<class 'pandas.core.frame.DataFrame'>\n",
      "RangeIndex: 5445 entries, 0 to 5444\n",
      "Data columns (total 3 columns):\n",
      " #   Column      Non-Null Count  Dtype \n",
      "---  ------      --------------  ----- \n",
      " 0   base_appid  5445 non-null   object\n",
      " 1   dlc_appid   5445 non-null   object\n",
      " 2   name        5445 non-null   object\n",
      "dtypes: object(3)\n",
      "memory usage: 127.7+ KB\n"
     ]
    }
   ],
   "execution_count": 5
  },
  {
   "cell_type": "markdown",
   "id": "f0f6edb4",
   "metadata": {},
   "source": [
    "### Preprocessing"
   ]
  },
  {
   "cell_type": "markdown",
   "id": "a54f624e",
   "metadata": {},
   "source": [
    "#### Drop auto_incremented columns"
   ]
  },
  {
   "cell_type": "code",
   "id": "00714834",
   "metadata": {
    "ExecuteTime": {
     "end_time": "2025-05-16T14:18:16.878228Z",
     "start_time": "2025-05-16T14:18:16.872797Z"
    }
   },
   "source": [
    "demo_df.drop(\"Unnamed: 0\", axis=1, inplace=True)\n",
    "\n",
    "print(\"Demo File Columns:\", demo_df.columns.tolist())\n",
    "print(\"DLC File Columns:\", dlc_df.columns.tolist())"
   ],
   "outputs": [
    {
     "name": "stdout",
     "output_type": "stream",
     "text": [
      "Demo File Columns: ['full_game_appid', 'demo_appid', 'name']\n",
      "DLC File Columns: ['base_appid', 'dlc_appid', 'name']\n"
     ]
    }
   ],
   "execution_count": 6
  },
  {
   "cell_type": "markdown",
   "id": "8b6f2972",
   "metadata": {},
   "source": [
    "#### Standardize column names"
   ]
  },
  {
   "cell_type": "code",
   "id": "c1c8dbb9",
   "metadata": {
    "ExecuteTime": {
     "end_time": "2025-05-16T14:18:17.284830Z",
     "start_time": "2025-05-16T14:18:17.280081Z"
    }
   },
   "source": [
    "demo_df.rename(columns={\"full_game_appid\": \"appid\"}, inplace=True)\n",
    "dlc_df.rename(columns={\"base_appid\": \"appid\"}, inplace=True)\n",
    "\n",
    "print(\"\\nAfter Standardizing Column Names:\\n\")\n",
    "print(\"Demo File Columns:\", demo_df.columns.tolist())\n",
    "print(\"DLC File Columns:\", dlc_df.columns.tolist())"
   ],
   "outputs": [
    {
     "name": "stdout",
     "output_type": "stream",
     "text": [
      "\n",
      "After Standardizing Column Names:\n",
      "\n",
      "Demo File Columns: ['appid', 'demo_appid', 'name']\n",
      "DLC File Columns: ['appid', 'dlc_appid', 'name']\n"
     ]
    }
   ],
   "execution_count": 7
  },
  {
   "cell_type": "markdown",
   "id": "94aafa83",
   "metadata": {},
   "source": [
    "#### Handle missing values"
   ]
  },
  {
   "cell_type": "code",
   "id": "476fdf23",
   "metadata": {
    "ExecuteTime": {
     "end_time": "2025-05-16T14:18:17.359293Z",
     "start_time": "2025-05-16T14:18:17.349062Z"
    }
   },
   "source": [
    "original_len_demo = len(demo_df)\n",
    "original_len_dlc = len(dlc_df)\n",
    "demo_df.dropna(inplace=True)\n",
    "dlc_df.dropna(inplace=True)\n",
    "\n",
    "print(f\"Dropped {original_len_demo - len(demo_df)} rows in Demo DataFrame due to missing values.\")\n",
    "print(f\"Remaining rows in Demo DataFrame: {len(demo_df)}\\n\")\n",
    "print(f\"Dropped {original_len_dlc - len(dlc_df)} rows in DLC DataFrame due to missing values.\")\n",
    "print(f\"Remaining rows in DLC DataFrame: {len(dlc_df)}\")"
   ],
   "outputs": [
    {
     "name": "stdout",
     "output_type": "stream",
     "text": [
      "Dropped 1 rows in Demo DataFrame due to missing values.\n",
      "Remaining rows in Demo DataFrame: 15448\n",
      "\n",
      "Dropped 0 rows in DLC DataFrame due to missing values.\n",
      "Remaining rows in DLC DataFrame: 5445\n"
     ]
    }
   ],
   "execution_count": 8
  },
  {
   "cell_type": "markdown",
   "id": "6fef293d",
   "metadata": {},
   "source": [
    "#### Convert data types\n",
    "\n",
    "- errors=\"coerce\" means that if a value cannot be converted to a number **\"id is not a number\"** it's replaced by NaN\n",
    "- It then gets removed by dropna() function"
   ]
  },
  {
   "cell_type": "code",
   "id": "fb5d0198",
   "metadata": {
    "ExecuteTime": {
     "end_time": "2025-05-16T14:18:17.450368Z",
     "start_time": "2025-05-16T14:18:17.412512Z"
    }
   },
   "source": [
    "original_len_demo = len(demo_df)\n",
    "original_len_dlc = len(dlc_df)\n",
    "\n",
    "for df, appid_col in [(demo_df, \"demo_appid\"), (dlc_df, \"dlc_appid\")]:\n",
    "    df[appid_col] = pd.to_numeric(df[appid_col], errors=\"coerce\") \n",
    "    df[\"appid\"] = pd.to_numeric(df[\"appid\"], errors=\"coerce\")\n",
    "\n",
    "    # Drop rows where appid or demo/dlc_appid is missing/NaN\n",
    "    df.dropna(subset=[appid_col, \"appid\"], inplace=True)\n",
    "\n",
    "    df[appid_col] = df[appid_col].astype(int)\n",
    "    df[\"appid\"] = df[\"appid\"].astype(int)\n",
    "    df[\"name\"] = df[\"name\"].astype(str)\n",
    "\n",
    "print(f\"Dropped {original_len_demo - len(demo_df)} rows in Demo DataFrame due to missing values.\")\n",
    "print(f\"Remaining rows in Demo DataFrame: {len(demo_df)}\\n\")\n",
    "print(f\"Dropped {original_len_dlc - len(dlc_df)} rows in DLC DataFrame due to missing values.\")\n",
    "print(f\"Remaining rows in DLC DataFrame: {len(dlc_df)}\")\n"
   ],
   "outputs": [
    {
     "name": "stdout",
     "output_type": "stream",
     "text": [
      "Dropped 1 rows in Demo DataFrame due to missing values.\n",
      "Remaining rows in Demo DataFrame: 15447\n",
      "\n",
      "Dropped 1 rows in DLC DataFrame due to missing values.\n",
      "Remaining rows in DLC DataFrame: 5444\n"
     ]
    }
   ],
   "execution_count": 9
  },
  {
   "cell_type": "markdown",
   "id": "6480c75b",
   "metadata": {},
   "source": [
    "#### Remove duplicates by unique identifier\n",
    "\n",
    "- **demo_appid**: In the DEMOs file\n",
    "- **dlc_appid**: In the DLCs file"
   ]
  },
  {
   "cell_type": "code",
   "id": "27bab4c8",
   "metadata": {
    "ExecuteTime": {
     "end_time": "2025-05-16T14:18:17.542583Z",
     "start_time": "2025-05-16T14:18:17.532321Z"
    }
   },
   "source": [
    "demo_duplicates = demo_df.duplicated(subset=[\"demo_appid\"]).sum()\n",
    "dlc_duplicates = dlc_df.duplicated(subset=[\"dlc_appid\"]).sum()\n",
    "demo_df.drop_duplicates(subset=[\"demo_appid\"], inplace=True)\n",
    "dlc_df.drop_duplicates(subset=[\"dlc_appid\"], inplace=True)\n",
    "print(f\"Dropped {demo_duplicates} duplicate rows in Demo DataFrame based on demo_appid.\")\n",
    "print(f\"Dropped {dlc_duplicates} duplicate rows in DLC DataFrame based on dlc_appid.\")"
   ],
   "outputs": [
    {
     "name": "stdout",
     "output_type": "stream",
     "text": [
      "Dropped 0 duplicate rows in Demo DataFrame based on demo_appid.\n",
      "Dropped 0 duplicate rows in DLC DataFrame based on dlc_appid.\n"
     ]
    }
   ],
   "execution_count": 10
  },
  {
   "cell_type": "markdown",
   "id": "fe760cd4",
   "metadata": {},
   "source": [
    "#### Clean the 'name' column\n",
    "\n",
    "- By removing any leading or trailing whitespace from the 'name' column.\n",
    "- By removing any non-alphanumeric characters from the 'name' column.\n",
    "- By removing 'Demo' and 'DLC' from the 'name' column."
   ]
  },
  {
   "cell_type": "code",
   "id": "ca9c62a6",
   "metadata": {
    "ExecuteTime": {
     "end_time": "2025-05-16T14:18:17.658273Z",
     "start_time": "2025-05-16T14:18:17.584919Z"
    }
   },
   "source": [
    "def clean_name_column(df, column_name):\n",
    "    df[column_name] = (df[column_name]\n",
    "                      .str.replace(r\"(?i)\\bdemo\\b\", \"\", regex=True)\n",
    "                      .str.replace(r\"(?i)\\bdlc\\b\", \"\", regex=True)\n",
    "                      .str.replace(r\"\\s+\", \" \", regex=True)\n",
    "                      .str.strip()\n",
    "                      .str.title())\n",
    "    return df\n",
    "\n",
    "demo_df = clean_name_column(demo_df, \"name\")\n",
    "dlc_df = clean_name_column(dlc_df, \"name\")"
   ],
   "outputs": [],
   "execution_count": 11
  },
  {
   "cell_type": "markdown",
   "id": "b08eba7c",
   "metadata": {},
   "source": [
    "#### Reset Indicies\n",
    "\n",
    "- Reset the indices of the dataframe to the original order."
   ]
  },
  {
   "cell_type": "code",
   "id": "8a03f49a",
   "metadata": {
    "ExecuteTime": {
     "end_time": "2025-05-16T14:18:17.673896Z",
     "start_time": "2025-05-16T14:18:17.671098Z"
    }
   },
   "source": [
    "demo_df.reset_index(drop=True, inplace=True)\n",
    "dlc_df.reset_index(drop=True, inplace=True)"
   ],
   "outputs": [],
   "execution_count": 12
  },
  {
   "cell_type": "markdown",
   "id": "c153e1f0",
   "metadata": {},
   "source": [
    "### Extracting new features"
   ]
  },
  {
   "cell_type": "markdown",
   "id": "78822871",
   "metadata": {},
   "source": [
    "#### Create indicator and count features"
   ]
  },
  {
   "cell_type": "code",
   "id": "15de65d9",
   "metadata": {
    "ExecuteTime": {
     "end_time": "2025-05-16T14:18:17.700664Z",
     "start_time": "2025-05-16T14:18:17.690534Z"
    }
   },
   "source": [
    "def create_indicator_features(df, group_by_col, count_col, feature_prefix):\n",
    "\n",
    "    # group by appid to count the demo/dlc count for each game \n",
    "    indicators = df.groupby(group_by_col)[count_col].count().reset_index()\n",
    "    \n",
    "    # create has_feature column\n",
    "    indicators[f'has_{feature_prefix}'] = 1\n",
    "\n",
    "    # create count column\n",
    "    indicators[f'{feature_prefix}_count'] = indicators[count_col]\n",
    "    \n",
    "    # e.g.: return demo_df[['appid', 'has_demo', 'demo_count']]  \n",
    "    return indicators[[group_by_col, f'has_{feature_prefix}', f'{feature_prefix}_count']]\n",
    "\n",
    "demo_indicators = create_indicator_features(demo_df, 'appid', 'demo_appid', 'demo')\n",
    "dlc_indicators = create_indicator_features(dlc_df, 'appid', 'dlc_appid', 'dlc')"
   ],
   "outputs": [],
   "execution_count": 13
  },
  {
   "cell_type": "markdown",
   "id": "9cebfaa8",
   "metadata": {},
   "source": [
    "### Statistics After Preprocessing"
   ]
  },
  {
   "cell_type": "code",
   "id": "c3de4fa6",
   "metadata": {
    "ExecuteTime": {
     "end_time": "2025-05-16T14:18:17.723426Z",
     "start_time": "2025-05-16T14:18:17.713952Z"
    }
   },
   "source": [
    "demo_df.info()\n",
    "dlc_df.info()"
   ],
   "outputs": [
    {
     "name": "stdout",
     "output_type": "stream",
     "text": [
      "<class 'pandas.core.frame.DataFrame'>\n",
      "RangeIndex: 15447 entries, 0 to 15446\n",
      "Data columns (total 3 columns):\n",
      " #   Column      Non-Null Count  Dtype \n",
      "---  ------      --------------  ----- \n",
      " 0   appid       15447 non-null  int64 \n",
      " 1   demo_appid  15447 non-null  int64 \n",
      " 2   name        15447 non-null  object\n",
      "dtypes: int64(2), object(1)\n",
      "memory usage: 362.2+ KB\n",
      "<class 'pandas.core.frame.DataFrame'>\n",
      "RangeIndex: 5444 entries, 0 to 5443\n",
      "Data columns (total 3 columns):\n",
      " #   Column     Non-Null Count  Dtype \n",
      "---  ------     --------------  ----- \n",
      " 0   appid      5444 non-null   int64 \n",
      " 1   dlc_appid  5444 non-null   int64 \n",
      " 2   name       5444 non-null   object\n",
      "dtypes: int64(2), object(1)\n",
      "memory usage: 127.7+ KB\n"
     ]
    }
   ],
   "execution_count": 14
  },
  {
   "cell_type": "markdown",
   "id": "7eadfda0",
   "metadata": {},
   "source": [
    "### Summary"
   ]
  },
  {
   "cell_type": "code",
   "id": "296e23f0",
   "metadata": {
    "ExecuteTime": {
     "end_time": "2025-05-16T14:18:17.764739Z",
     "start_time": "2025-05-16T14:18:17.759704Z"
    }
   },
   "source": [
    "print(\"\\nPreprocessing Summary:\\n\")\n",
    "print(f\"Demo DataFrame: {len(demo_df)} rows, {len(demo_df.columns)} columns\")\n",
    "print(f\"DLC DataFrame: {len(dlc_df)} rows, {len(dlc_df.columns)} columns\\n\")\n",
    "\n",
    "print(dlc_df.head())\n",
    "print(\"\\n\")\n",
    "print(demo_df.head())"
   ],
   "outputs": [
    {
     "name": "stdout",
     "output_type": "stream",
     "text": [
      "\n",
      "Preprocessing Summary:\n",
      "\n",
      "Demo DataFrame: 15447 rows, 3 columns\n",
      "DLC DataFrame: 5444 rows, 3 columns\n",
      "\n",
      "     appid  dlc_appid                                             name\n",
      "0  1786750    2568660                        家出王女 - 全年齢版ストーリー&グラフィック追加\n",
      "1  1981700    2563730                           Jacob'S Quest - Voyage\n",
      "2  2009450    2552980  Invector: Rhythm Galaxy - Latin Power Song Pack\n",
      "3  1133420    2550750         Hero Or Villain: Genesis — Supercharged!\n",
      "4  2533950    2551000            Hot And Lovely ：Uniform - Adult Patch\n",
      "\n",
      "\n",
      "     appid  demo_appid                    name\n",
      "0  2214650     2573370          Rolando Deluxe\n",
      "1  1439980     2573460  Outrunner: Neon Nights\n",
      "2  2412240     2572840     Bubble Ghost Remake\n",
      "3  2448830     2572240           Time Handlers\n",
      "4  2379590     2570800    Hope'S Final Defense\n"
     ]
    }
   ],
   "execution_count": 15
  },
  {
   "cell_type": "markdown",
   "id": "3d405d68",
   "metadata": {},
   "source": [
    "## Preprocessing Game Base Info CSV"
   ]
  },
  {
   "cell_type": "markdown",
   "id": "776230c0",
   "metadata": {},
   "source": [
    "### Preprocess Release Date Column"
   ]
  },
  {
   "cell_type": "code",
   "id": "e05161af",
   "metadata": {
    "ExecuteTime": {
     "end_time": "2025-05-16T14:18:17.809656Z",
     "start_time": "2025-05-16T14:18:17.799201Z"
    }
   },
   "source": [
    "#info_base_games_df\n",
    "#print(info_base_games_df.shape)\n",
    "#info_base_games_df.describe()\n",
    "\n",
    "info_base_games_df['release_date'].isnull().sum()\n",
    "#pd.set_option('display.max_rows', None)\n",
    "#info_base_games_df['release_date'].value_counts()\n",
    "\n",
    "#(info_base_games_df['release_date'] == \"Coming soon\").sum()  \n",
    "#(info_base_games_df['release_date'] == \"to be announced\").sum() \n",
    "#keywords = ['vr', 'remaster', 'collector', 'collection', 'edition', 'bundle', 'playtest']\n",
    "#pattern = r'\\b(' + '|'.join(re.escape(k) for k in keywords) + r')\\b'  # Escaping protects against regex special chars\n",
    "#info_base_games_df[info_base_games_df['name'].str.contains(pattern, regex=True, flags=re.IGNORECASE)]"
   ],
   "outputs": [
    {
     "data": {
      "text/plain": [
       "np.int64(306)"
      ]
     },
     "execution_count": 16,
     "metadata": {},
     "output_type": "execute_result"
    }
   ],
   "execution_count": 16
  },
  {
   "cell_type": "code",
   "id": "9b3cfe6e",
   "metadata": {
    "ExecuteTime": {
     "end_time": "2025-05-16T14:18:22.871982Z",
     "start_time": "2025-05-16T14:18:17.857422Z"
    }
   },
   "source": [
    "#If there are no parentheses in pattern, .groups() returns an empty tuple.\n",
    "info_base_games_df.dropna(subset=['release_date'],inplace=True)\n",
    "info_base_games_df['release_date'] = info_base_games_df['release_date'].astype(str).str.strip().str.lower() # to remove any leading or trailing spaces if exist\n",
    "\n",
    "YEAR_DATA_COLLECTED = 2024\n",
    "# ^: start of string , $: end of string\n",
    "unknown_release_dates = [\n",
    "    r'^coming soon$',\n",
    "    r'^to be announced$',\n",
    "    r'^\\s*$',  # empty string\n",
    "    r'^q[1-4][^a-zA-Z0-9]+\\d{4}$', #q2 2025\n",
    "    r'\\d{4}$',  # year only\n",
    "    r'^\\d{1,2}[^a-zA-Z0-9]+[A-Za-z]{3}$' # DAY MONTH\n",
    "]\n",
    "def has_known_release(x):\n",
    "    x = str(x).strip().lower()\n",
    "    for pattern in unknown_release_dates:\n",
    "        if re.match(pattern, x):\n",
    "            return 0\n",
    "    return 1\n",
    "info_base_games_df['is_release_date_known'] = info_base_games_df['release_date'].apply(has_known_release)\n",
    "\n",
    "# I don't we should add \"Coming soon\" as it is upcoming game or not\n",
    "# [^a-zA-Z0-9]+ : continue taking if not alphanumeric , [^0-9]+ : continue taking if not number\n",
    "def preprocess_release_date(x):\n",
    "    x = str(x).strip()\n",
    "\n",
    "    # 8-Dec-2022 or 8 Dec 2022\n",
    "    match = re.search(r'(\\d{1,2})[^a-zA-Z0-9]+([A-Za-z]{3})[^a-zA-Z0-9]+(\\d{2,4})', x)\n",
    "    if match:\n",
    "        day, month, year = match.groups()\n",
    "        if(int(year) > YEAR_DATA_COLLECTED):\n",
    "            return f\"{day} {month} {year}\" , 1\n",
    "        return f\"{day} {month} {year}\" , 0\n",
    "\n",
    "    # Dec-8-2022 or Dec 8, 2022\n",
    "    match = re.search(r'([A-Za-z]{3})[^a-zA-Z0-9]+(\\d{1,2})[^a-zA-Z0-9]+(\\d{4})', x)\n",
    "    if match:\n",
    "        month, day, year = match.groups()\n",
    "        if(int(year) > YEAR_DATA_COLLECTED):\n",
    "            return f\"{day} {month} {year}\" , 1\n",
    "        return f\"{day} {month} {year}\" , 0\n",
    "\n",
    "    # Dec-2022 or Dec 2022\n",
    "    match = re.search(r'([A-Za-z]{3})[^a-zA-Z0-9]+(\\d{2,4})', x)\n",
    "    if match:\n",
    "        month, year = match.groups()\n",
    "        if(int(year) > YEAR_DATA_COLLECTED):\n",
    "            return f\"15 {month} {year}\" , 1\n",
    "        return f\"15 {month} {year}\" , 0\n",
    "        \n",
    "\n",
    "    # 8-Dec (no year)\n",
    "    match = re.search(r'(\\d{1,2})[^a-zA-Z0-9]+([A-Za-z]{3})', x)\n",
    "    if match:\n",
    "        return np.nan,0\n",
    "\n",
    "    # q1 2023, q2-2024\n",
    "    match = re.search(r'(q[1-4])[^a-zA-Z0-9]+(\\d{4})', x, re.IGNORECASE)\n",
    "    if match:\n",
    "        q, y = match.groups()\n",
    "        q = q.lower()\n",
    "        quarter_map = {\n",
    "            'q1': '15 Feb',\n",
    "            'q2': '15 May',\n",
    "            'q3': '15 Aug',\n",
    "            'q4': '15 Nov',\n",
    "        }\n",
    "        if(int(y) > YEAR_DATA_COLLECTED):\n",
    "            return f\"{quarter_map[q]} {y}\" , 1\n",
    "        return f\"{quarter_map[q]} {y}\" , 0\n",
    "\n",
    "    # 2023 (year only)\n",
    "    if re.fullmatch(r'\\d{4}', x):\n",
    "        year = int(x)\n",
    "        if YEAR_DATA_COLLECTED < year:\n",
    "            return f\"1 Jun {x}\" , 1\n",
    "        else:\n",
    "            return f\"1 JAN {x}\" , 0\n",
    "\n",
    "\n",
    "    # \"Coming soon\", \"To be announced\", ... etc.\n",
    "    return np.nan,0\n",
    "\n",
    "# for each value in column release date we will apply this function to it \n",
    "#info_base_games_df['release_date'] , info_base_games_df['is_upcoming']  = info_base_games_df['release_date'].apply(preprocess_release_date)\n",
    "info_base_games_df[['release_date', 'is_upcoming']] = info_base_games_df['release_date'].apply(preprocess_release_date).apply(pd.Series) # for unpacking the series tuple into 2 columns"
   ],
   "outputs": [],
   "execution_count": 17
  },
  {
   "cell_type": "code",
   "id": "b20bd120",
   "metadata": {
    "ExecuteTime": {
     "end_time": "2025-05-16T14:18:26.159234Z",
     "start_time": "2025-05-16T14:18:22.885152Z"
    }
   },
   "source": [
    "info_base_games_df['release_date'] = pd.to_datetime(info_base_games_df['release_date'], errors='coerce') \n",
    "\n",
    "info_base_games_df['year'] = info_base_games_df['release_date'].dt.year.fillna(0).astype(int)\n",
    "#fraction_of_year = np.where(info_base_games_df['is_release_date_known'], (info_base_games_df['release_date'].dt.dayofyear - 1) / 365, 0)\n",
    "# np.where(condition,iftrue,iffalse)\n",
    "fraction_of_year = np.where(~info_base_games_df['release_date'].isna(), (info_base_games_df['release_date'].dt.dayofyear - 1) / 365, -1)\n",
    "info_base_games_df['sin_day'] = np.where(fraction_of_year == -1, 0, np.sin(2 * np.pi * fraction_of_year))\n",
    "info_base_games_df['cos_day'] = np.where(fraction_of_year == -1, 0, np.cos(2 * np.pi * fraction_of_year))\n",
    "#info_base_games_df['sin_day'].fillna(0, inplace=True)\n",
    "#info_base_games_df['cos_day'].fillna(0, inplace=True)\n",
    "info_base_games_df.drop('release_date',axis=1,inplace=True)\n"
   ],
   "outputs": [],
   "execution_count": 18
  },
  {
   "cell_type": "markdown",
   "id": "1a540c58",
   "metadata": {},
   "source": [
    "#### Checking missing data"
   ]
  },
  {
   "cell_type": "code",
   "id": "fe9023fe",
   "metadata": {
    "ExecuteTime": {
     "end_time": "2025-05-16T14:18:26.179306Z",
     "start_time": "2025-05-16T14:18:26.173612Z"
    }
   },
   "source": [
    "#print(info_base_games_df['is_release_date_known'].shape)\n",
    "#print(info_base_games_df['year'].shape)\n",
    "#print(info_base_games_df['sin_day'].shape)\n",
    "#print(info_base_games_df['cos_day'].shape)\n",
    "print(info_base_games_df['is_release_date_known'].isnull().sum())\n",
    "print(info_base_games_df['year'].isnull().sum())\n",
    "print(info_base_games_df['sin_day'].isnull().sum())\n",
    "print(info_base_games_df['cos_day'].isnull().sum())\n",
    "print(info_base_games_df['is_upcoming'].isnull().sum())"
   ],
   "outputs": [
    {
     "name": "stdout",
     "output_type": "stream",
     "text": [
      "0\n",
      "0\n",
      "0\n",
      "0\n",
      "0\n"
     ]
    }
   ],
   "execution_count": 19
  },
  {
   "cell_type": "markdown",
   "id": "f0a75da2",
   "metadata": {},
   "source": [
    "#### Final Thoughts\n",
    "\n",
    "- First approach\n",
    "\n",
    "    - just consider only \"year\" column and ignore day and month \n",
    "\n",
    "- Second approach\n",
    "\n",
    "    - Create new column for binary feature is_release_date_known\n",
    "    1 indicates a specific date or quarter is known.\n",
    "    0 indicates the entry is \"to be announced\" or \"coming soon\".\n",
    "    For the main release date feature (fractional_year) = year + (day of year - 1)/days in year\n",
    "\n",
    "- Third approach\n",
    "\n",
    "    - guide : https://medium.com/%40paghadalsneh/handling-date-and-time-data-in-machine-learning-a-comprehensive-guide-5d30141cbfec \n",
    "\n",
    "    - splitting date into 3 features (day,month,year)\n",
    "\n",
    "- Fourth approach\n",
    "\n",
    "    - using Cyclical encoding \n",
    "\n",
    "- Fifth Approach \n",
    "\n",
    "    - Creating two boolean features (I think the two together may be good combination )\n",
    "\n",
    "        - *is_release_date_known* : A missingness indicator set to 1 if game has a specific past or present date (e.g. “15 Apr 2024” or “2023-08-05”), and 0 if (“coming soon”, “to be announced”, “Q[1–4] YYYY”, or “YYYY” only)\n",
    "\n",
    "        - *is_upcoming* : A flag set to 1 if a game release date is strictly after the date when data collected, and 0 otherwise.\n",
    "\n",
    "    - Creating \"year\" , \"fraction_of_year_sin\" , \"fraction_of_year_cos\" features \n",
    "    so Here we applied Cyclical encoding for not missing seasonal patterns \n",
    "\n",
    "    - There are many updates we can do but I don't know it will help or not, We need to select features first to be able to test\n",
    "    like in Q[1-4] yyyy or yyyy only \n",
    "    we can fill it by mode of month and median of days, and maybe in each quarter calculate mean or use imputers"
   ]
  },
  {
   "cell_type": "markdown",
   "id": "297c7919-e7ff-4aa7-a045-161920c1d440",
   "metadata": {},
   "source": [
    "### Preprocess Metacritic Column"
   ]
  },
  {
   "cell_type": "markdown",
   "id": "4e047cec-8827-4f88-8140-e131f926db0e",
   "metadata": {},
   "source": [
    "#### Checking null values"
   ]
  },
  {
   "cell_type": "code",
   "id": "d3a89683",
   "metadata": {
    "ExecuteTime": {
     "end_time": "2025-05-16T14:18:26.221735Z",
     "start_time": "2025-05-16T14:18:26.199472Z"
    }
   },
   "source": [
    "info_base_games_df.isna().sum().sort_values(ascending = False)"
   ],
   "outputs": [
    {
     "data": {
      "text/plain": [
       "metacritic               95856\n",
       "achievements_total       60774\n",
       "genres                    4752\n",
       "name                        14\n",
       "appid                        0\n",
       "steam_achievements           0\n",
       "workshop_support             0\n",
       "steam_trading_cards          0\n",
       "supported_platforms          0\n",
       "is_release_date_known        0\n",
       "is_upcoming                  0\n",
       "year                         0\n",
       "sin_day                      0\n",
       "cos_day                      0\n",
       "dtype: int64"
      ]
     },
     "execution_count": 20,
     "metadata": {},
     "output_type": "execute_result"
    }
   ],
   "execution_count": 20
  },
  {
   "cell_type": "markdown",
   "id": "5f166fd2-81aa-43f7-8340-edbb30aa6792",
   "metadata": {},
   "source": [
    "#### Drop Corrupted Sample That Contains The Column Names"
   ]
  },
  {
   "cell_type": "code",
   "id": "6c336076-d4bb-41d3-89c2-550fe978d8cd",
   "metadata": {
    "ExecuteTime": {
     "end_time": "2025-05-16T14:18:26.252376Z",
     "start_time": "2025-05-16T14:18:26.237668Z"
    }
   },
   "source": [
    "info_base_games_df.loc[[9929]]"
   ],
   "outputs": [
    {
     "data": {
      "text/plain": [
       "            appid  name  metacritic  steam_achievements  steam_trading_cards  \\\n",
       "9929  steam_appid  name  metacritic                True                 True   \n",
       "\n",
       "      workshop_support  genres  achievements_total  \\\n",
       "9929              True  genres  achievements_total   \n",
       "\n",
       "              supported_platforms  is_release_date_known  is_upcoming  year  \\\n",
       "9929  ['windows', 'mac', 'linux']                      1          0.0     0   \n",
       "\n",
       "      sin_day  cos_day  \n",
       "9929      0.0      0.0  "
      ],
      "text/html": [
       "<div>\n",
       "<style scoped>\n",
       "    .dataframe tbody tr th:only-of-type {\n",
       "        vertical-align: middle;\n",
       "    }\n",
       "\n",
       "    .dataframe tbody tr th {\n",
       "        vertical-align: top;\n",
       "    }\n",
       "\n",
       "    .dataframe thead th {\n",
       "        text-align: right;\n",
       "    }\n",
       "</style>\n",
       "<table border=\"1\" class=\"dataframe\">\n",
       "  <thead>\n",
       "    <tr style=\"text-align: right;\">\n",
       "      <th></th>\n",
       "      <th>appid</th>\n",
       "      <th>name</th>\n",
       "      <th>metacritic</th>\n",
       "      <th>steam_achievements</th>\n",
       "      <th>steam_trading_cards</th>\n",
       "      <th>workshop_support</th>\n",
       "      <th>genres</th>\n",
       "      <th>achievements_total</th>\n",
       "      <th>supported_platforms</th>\n",
       "      <th>is_release_date_known</th>\n",
       "      <th>is_upcoming</th>\n",
       "      <th>year</th>\n",
       "      <th>sin_day</th>\n",
       "      <th>cos_day</th>\n",
       "    </tr>\n",
       "  </thead>\n",
       "  <tbody>\n",
       "    <tr>\n",
       "      <th>9929</th>\n",
       "      <td>steam_appid</td>\n",
       "      <td>name</td>\n",
       "      <td>metacritic</td>\n",
       "      <td>True</td>\n",
       "      <td>True</td>\n",
       "      <td>True</td>\n",
       "      <td>genres</td>\n",
       "      <td>achievements_total</td>\n",
       "      <td>['windows', 'mac', 'linux']</td>\n",
       "      <td>1</td>\n",
       "      <td>0.0</td>\n",
       "      <td>0</td>\n",
       "      <td>0.0</td>\n",
       "      <td>0.0</td>\n",
       "    </tr>\n",
       "  </tbody>\n",
       "</table>\n",
       "</div>"
      ]
     },
     "execution_count": 21,
     "metadata": {},
     "output_type": "execute_result"
    }
   ],
   "execution_count": 21
  },
  {
   "cell_type": "code",
   "id": "399137a8-cf64-446a-af46-ef6ef509b442",
   "metadata": {
    "ExecuteTime": {
     "end_time": "2025-05-16T14:18:26.295636Z",
     "start_time": "2025-05-16T14:18:26.278375Z"
    }
   },
   "source": [
    "info_base_games_df = info_base_games_df.drop(index=9929)"
   ],
   "outputs": [],
   "execution_count": 22
  },
  {
   "cell_type": "markdown",
   "id": "0f0fb43c-1139-4cc5-99c0-a680aaa37915",
   "metadata": {},
   "source": [
    "#### Preprocessing The Metacritic Score Column"
   ]
  },
  {
   "cell_type": "markdown",
   "id": "5b1051fb-8125-4e7c-86bd-ab89d257aabd",
   "metadata": {},
   "source": [
    "[Metacritic](https://www.metacritic.com/) is a website for critics and users to review digital content (movies, music, **games**, etc.), the metacritic score that is included on Steam is the **critics** (professional game reviewers) metacritic score, not the users."
   ]
  },
  {
   "cell_type": "code",
   "id": "17c79f0f-2482-4b5c-beee-8913781abb32",
   "metadata": {
    "ExecuteTime": {
     "end_time": "2025-05-16T14:18:26.397739Z",
     "start_time": "2025-05-16T14:18:26.387051Z"
    }
   },
   "source": [
    "# Converting the metacritic column to numeric since it contains NaNs\n",
    "info_base_games_df['metacritic'] = pd.to_numeric(info_base_games_df['metacritic'], errors='coerce')"
   ],
   "outputs": [],
   "execution_count": 23
  },
  {
   "cell_type": "markdown",
   "id": "b027acd6-7550-4f1f-b998-0f5760c1b79c",
   "metadata": {},
   "source": [
    "#### Checking Percentage of Missing Values"
   ]
  },
  {
   "cell_type": "code",
   "id": "76aa753e-ea41-4c60-9000-1d5114a1ba1b",
   "metadata": {
    "ExecuteTime": {
     "end_time": "2025-05-16T14:18:26.443753Z",
     "start_time": "2025-05-16T14:18:26.438473Z"
    }
   },
   "source": [
    "total = len(info_base_games_df)\n",
    "non_null = info_base_games_df['metacritic'].notna().sum()\n",
    "missing = info_base_games_df['metacritic'].isna().sum()\n",
    "print(f\"Total rows: {total}\")\n",
    "print(f\"With metacritic score: {non_null} ({non_null/total:.1%})\")\n",
    "print(f\"Missing metacritic score: {missing} ({missing/total:.1%})\")"
   ],
   "outputs": [
    {
     "name": "stdout",
     "output_type": "stream",
     "text": [
      "Total rows: 98860\n",
      "With metacritic score: 3004 (3.0%)\n",
      "Missing metacritic score: 95856 (97.0%)\n"
     ]
    }
   ],
   "execution_count": 24
  },
  {
   "cell_type": "markdown",
   "id": "cdc5c767-0eaf-4363-b2dd-49d6958c2af3",
   "metadata": {},
   "source": [
    "The above results show that almost 97% of the games in our data don't have a metacritic score associated with them and the metacritic score for them is null, this is due to Steam leaving it **optional** for games' publishers to include a metacritic score on their Steam page."
   ]
  },
  {
   "cell_type": "code",
   "id": "39ec70ec-7bd5-43e2-a716-cb7822e96ffc",
   "metadata": {
    "ExecuteTime": {
     "end_time": "2025-05-16T14:18:26.481091Z",
     "start_time": "2025-05-16T14:18:26.471786Z"
    }
   },
   "source": [
    "info_base_games_df['metacritic'].describe()"
   ],
   "outputs": [
    {
     "data": {
      "text/plain": [
       "count    3004.000000\n",
       "mean       73.677430\n",
       "std        10.311377\n",
       "min        20.000000\n",
       "25%        68.000000\n",
       "50%        75.000000\n",
       "75%        81.000000\n",
       "max        97.000000\n",
       "Name: metacritic, dtype: float64"
      ]
     },
     "execution_count": 25,
     "metadata": {},
     "output_type": "execute_result"
    }
   ],
   "execution_count": 25
  },
  {
   "cell_type": "code",
   "id": "359acf84-692f-4385-9047-6ddcf2e1849c",
   "metadata": {
    "ExecuteTime": {
     "end_time": "2025-05-16T14:18:26.708659Z",
     "start_time": "2025-05-16T14:18:26.530070Z"
    }
   },
   "source": [
    "plt.hist(info_base_games_df['metacritic'].dropna(), bins=20)\n",
    "plt.xlabel(\"Metacritic score\")\n",
    "plt.ylabel(\"Number of games\")\n",
    "plt.title(\"Distribution of Metacritic Scores Ignoring Null Values\")\n",
    "plt.show()"
   ],
   "outputs": [
    {
     "data": {
      "text/plain": [
       "<Figure size 640x480 with 1 Axes>"
      ],
      "image/png": "[encoded data removed]"
     },
     "metadata": {},
     "output_type": "display_data"
    }
   ],
   "execution_count": 26
  },
  {
   "cell_type": "markdown",
   "id": "740ee8ad-76ac-4e4f-890b-4841435f05b0",
   "metadata": {},
   "source": [
    "The above histogram shows that the **metacritic scores are normally distributed**, which means **we can apply standardization on it**.  \n",
    "BUT before applying standardization or any similar preprocessing techniques we **must merge the dataframes** and **split the data into train-test** so that we can **ensure no data leakage occurs during preprocessing** by fitting the preprocessing techniques only on the training data and then transforming both the training and test data."
   ]
  },
  {
   "cell_type": "markdown",
   "id": "4a8a6ce2-8314-46c5-acf6-2a001a67a959",
   "metadata": {},
   "source": [
    "## Merge DataFrames"
   ]
  },
  {
   "cell_type": "code",
   "id": "b6c7cff0-cc7a-4663-b53b-c1c13f47b80d",
   "metadata": {
    "ExecuteTime": {
     "end_time": "2025-05-16T14:18:26.887048Z",
     "start_time": "2025-05-16T14:18:26.753788Z"
    }
   },
   "source": [
    "gamalytic_steam_games_df.rename(columns={\"steamId\": \"appid\"}, inplace=True)\n",
    "\n",
    "# Ensure both DataFrames have the same data type for 'appid'\n",
    "info_base_games_df['appid'] = info_base_games_df['appid'].astype(int)\n",
    "gamalytic_steam_games_df['appid'] = gamalytic_steam_games_df['appid'].astype(int)\n",
    "\n",
    "print(\"\\nMerging DataFrames...\")\n",
    "\n",
    "# Merge info_base_games_df with gamalytic_steam_games_df into a new DataFrame\n",
    "merged_df = info_base_games_df.merge(gamalytic_steam_games_df, on=\"appid\", how=\"inner\")\n",
    "print(f\"Rows after gamalytic_steam_games_df merge: {len(merged_df)}\")\n",
    "\n",
    "# Merge demo_indicators with merged_df\n",
    "merged_df = merged_df.merge(demo_indicators, on=\"appid\", how=\"left\")\n",
    "print(f\"Rows after demo_indicators merge: {len(merged_df)}\")\n",
    "\n",
    "# Merge dlc_indicators with merged_df\n",
    "merged_df = merged_df.merge(dlc_indicators, on=\"appid\", how=\"left\")\n",
    "print(f\"Rows after dlc_indicators merge: {len(merged_df)}\")\n"
   ],
   "outputs": [
    {
     "name": "stdout",
     "output_type": "stream",
     "text": [
      "\n",
      "Merging DataFrames...\n",
      "Rows after gamalytic_steam_games_df merge: 69426\n",
      "Rows after demo_indicators merge: 69426\n",
      "Rows after dlc_indicators merge: 69426\n"
     ]
    }
   ],
   "execution_count": 27
  },
  {
   "cell_type": "markdown",
   "id": "638b67be-481d-4638-b987-8853fe1e59a0",
   "metadata": {},
   "source": [
    "## Split Data Into Training, Validation, and Testing Sets"
   ]
  },
  {
   "cell_type": "code",
   "id": "aef5d49b-8462-405b-88dd-6e5390a059c9",
   "metadata": {
    "ExecuteTime": {
     "end_time": "2025-05-16T14:18:26.960431Z",
     "start_time": "2025-05-16T14:18:26.908533Z"
    }
   },
   "source": [
    "X = merged_df.drop('copiesSold', axis=1)\n",
    "Y = merged_df['copiesSold']\n",
    "\n",
    "# 80% training, 10% validation, 10% testing\n",
    "X_train_val, X_test, y_train_val, y_test = train_test_split(\n",
    "    X, Y,\n",
    "    test_size = 0.10,\n",
    "    random_state = 123\n",
    ")\n",
    "\n",
    "X_train, X_val, y_train, y_val = train_test_split(\n",
    "    X_train_val, y_train_val,\n",
    "    test_size = 0.1111,\n",
    "    random_state = 123\n",
    ")\n",
    "\n",
    "df_train = pd.concat([X_train, y_train], axis=1)\n",
    "df_val   = pd.concat([X_val,   y_val],   axis=1)\n",
    "df_test  = pd.concat([X_test,  y_test],  axis=1)\n",
    "\n",
    "print(f\"Training set:   {df_train.shape}\")\n",
    "print(f\"Validation set: {df_val.shape}\")\n",
    "print(f\"Testing set:    {df_test.shape}\")"
   ],
   "outputs": [
    {
     "name": "stdout",
     "output_type": "stream",
     "text": [
      "Training set:   (55541, 23)\n",
      "Validation set: (6942, 23)\n",
      "Testing set:    (6943, 23)\n"
     ]
    }
   ],
   "execution_count": 28
  },
  {
   "cell_type": "markdown",
   "id": "94f6d5c5",
   "metadata": {},
   "source": [
    "## Complete Preprocessing Game Base Info CSV"
   ]
  },
  {
   "cell_type": "markdown",
   "id": "a4e1705a",
   "metadata": {},
   "source": [
    "### Complete Preprocessing Metacritic Column"
   ]
  },
  {
   "cell_type": "markdown",
   "id": "d0c80b57",
   "metadata": {},
   "source": [
    "#### Metacritic scores before standardization"
   ]
  },
  {
   "cell_type": "code",
   "id": "843de107",
   "metadata": {
    "ExecuteTime": {
     "end_time": "2025-05-16T14:18:26.979751Z",
     "start_time": "2025-05-16T14:18:26.973635Z"
    }
   },
   "source": [
    "df_train['metacritic'].dropna().head()"
   ],
   "outputs": [
    {
     "data": {
      "text/plain": [
       "25086    79.0\n",
       "67174    83.0\n",
       "23970    54.0\n",
       "56142    62.0\n",
       "55976    66.0\n",
       "Name: metacritic, dtype: float64"
      ]
     },
     "execution_count": 29,
     "metadata": {},
     "output_type": "execute_result"
    }
   ],
   "execution_count": 29
  },
  {
   "cell_type": "markdown",
   "id": "57f2d400",
   "metadata": {},
   "source": [
    "#### Standardizing metacritic scores"
   ]
  },
  {
   "cell_type": "code",
   "id": "8279a5cf",
   "metadata": {
    "ExecuteTime": {
     "end_time": "2025-05-16T14:18:27.062123Z",
     "start_time": "2025-05-16T14:18:27.050520Z"
    }
   },
   "source": [
    "standardizer = StandardScaler()\n",
    "\n",
    "df_train['metacritic_preprocessed'] = standardizer.fit_transform(df_train[['metacritic']])\n",
    "df_val['metacritic_preprocessed'] = standardizer.transform(df_val[['metacritic']])\n",
    "df_test['metacritic_preprocessed'] = standardizer.transform(df_test[['metacritic']])\n",
    "\n",
    "df_train['metacritic_preprocessed'].dropna().head()"
   ],
   "outputs": [
    {
     "data": {
      "text/plain": [
       "25086    0.509662\n",
       "67174    0.903938\n",
       "23970   -1.954561\n",
       "56142   -1.166010\n",
       "55976   -0.771734\n",
       "Name: metacritic_preprocessed, dtype: float64"
      ]
     },
     "execution_count": 30,
     "metadata": {},
     "output_type": "execute_result"
    }
   ],
   "execution_count": 30
  },
  {
   "cell_type": "markdown",
   "id": "35255e6f",
   "metadata": {},
   "source": [
    "Now a problem remains, which is the missing values, it doesn't make sense to drop all the rows that don't contain a metacritic score since 97% of the data doesn't have it, the best solution that came to my mind is to **set all the NaN metacritic scores** to be equal to the **mean of the standardized metacritic scores**, which is **0**. And create a new boolean feature `has_metacritic` which indicates whether this game has a metacritic score or not, I hope that this can help models understand that if `has_metacritic = 0` then ignore this metacritic score, and also generally `has_metacritic` may later on turn out to be a useful feature on its own."
   ]
  },
  {
   "cell_type": "markdown",
   "id": "58a41a81",
   "metadata": {},
   "source": [
    "#### Creating New `has_metacritic` Feature"
   ]
  },
  {
   "cell_type": "code",
   "id": "0dd737a7",
   "metadata": {
    "ExecuteTime": {
     "end_time": "2025-05-16T14:18:27.118484Z",
     "start_time": "2025-05-16T14:18:27.112974Z"
    }
   },
   "source": [
    "for df in (df_train, df_val, df_test):\n",
    "    df['has_metacritic'] = df['metacritic'].notna().astype(int)\n",
    "print(df_train['has_metacritic'].head())"
   ],
   "outputs": [
    {
     "name": "stdout",
     "output_type": "stream",
     "text": [
      "11655    0\n",
      "9303     0\n",
      "56618    0\n",
      "55579    0\n",
      "64439    0\n",
      "Name: has_metacritic, dtype: int64\n"
     ]
    }
   ],
   "execution_count": 31
  },
  {
   "cell_type": "markdown",
   "id": "3bb53296",
   "metadata": {},
   "source": [
    "#### Replacing Missing Values With the Mean Value"
   ]
  },
  {
   "cell_type": "markdown",
   "id": "7d944090",
   "metadata": {},
   "source": [
    "##### Before"
   ]
  },
  {
   "cell_type": "code",
   "id": "11fa11b0",
   "metadata": {
    "ExecuteTime": {
     "end_time": "2025-05-16T14:18:27.173865Z",
     "start_time": "2025-05-16T14:18:27.168800Z"
    }
   },
   "source": [
    "df_train['metacritic_preprocessed'].head()"
   ],
   "outputs": [
    {
     "data": {
      "text/plain": [
       "11655   NaN\n",
       "9303    NaN\n",
       "56618   NaN\n",
       "55579   NaN\n",
       "64439   NaN\n",
       "Name: metacritic_preprocessed, dtype: float64"
      ]
     },
     "execution_count": 32,
     "metadata": {},
     "output_type": "execute_result"
    }
   ],
   "execution_count": 32
  },
  {
   "cell_type": "markdown",
   "id": "bb0edf9a",
   "metadata": {},
   "source": [
    "##### After"
   ]
  },
  {
   "cell_type": "code",
   "id": "b21661dc",
   "metadata": {
    "ExecuteTime": {
     "end_time": "2025-05-16T14:18:27.241972Z",
     "start_time": "2025-05-16T14:18:27.234665Z"
    }
   },
   "source": [
    "for df in (df_train, df_val, df_test):\n",
    "    df['metacritic_preprocessed'] = df['metacritic_preprocessed'].fillna(0)\n",
    "print(df_train['metacritic_preprocessed'].head())"
   ],
   "outputs": [
    {
     "name": "stdout",
     "output_type": "stream",
     "text": [
      "11655    0.0\n",
      "9303     0.0\n",
      "56618    0.0\n",
      "55579    0.0\n",
      "64439    0.0\n",
      "Name: metacritic_preprocessed, dtype: float64\n"
     ]
    }
   ],
   "execution_count": 33
  },
  {
   "cell_type": "code",
   "id": "ba5a905f",
   "metadata": {
    "ExecuteTime": {
     "end_time": "2025-05-16T14:18:27.335245Z",
     "start_time": "2025-05-16T14:18:27.319459Z"
    }
   },
   "source": [
    "df_train.head()"
   ],
   "outputs": [
    {
     "data": {
      "text/plain": [
       "         appid                      name  metacritic  steam_achievements  \\\n",
       "11655  2900800          Physical Spheres         NaN               False   \n",
       "9303   3017540             Slice Of Ages         NaN               False   \n",
       "56618     4290  RACE: Caterham Expansion         NaN               False   \n",
       "55579  1111760         World of Guns: VR         NaN                True   \n",
       "64439   765480                 Karambola         NaN                True   \n",
       "\n",
       "       steam_trading_cards  workshop_support  \\\n",
       "11655                False             False   \n",
       "9303                 False             False   \n",
       "56618                False             False   \n",
       "55579                False             False   \n",
       "64439                False             False   \n",
       "\n",
       "                                            genres achievements_total  \\\n",
       "11655                                       Casual                NaN   \n",
       "9303   Action, Adventure, Indie, RPG, Free To Play                NaN   \n",
       "56618                                       Racing                NaN   \n",
       "55579                     Free To Play, Simulation               40.0   \n",
       "64439       Adventure, Casual, Indie, Free To Play               10.0   \n",
       "\n",
       "               supported_platforms  is_release_date_known  ...  \\\n",
       "11655                  ['windows']                      1  ...   \n",
       "9303                   ['windows']                      1  ...   \n",
       "56618                  ['windows']                      1  ...   \n",
       "55579                  ['windows']                      1  ...   \n",
       "64439  ['windows', 'mac', 'linux']                      1  ...   \n",
       "\n",
       "       publisherClass  reviewScore  aiContent  has_demo  demo_count has_dlc  \\\n",
       "11655        Hobbyist            0        NaN       NaN         NaN     NaN   \n",
       "9303         Hobbyist           93        NaN       NaN         NaN     NaN   \n",
       "56618           Indie           46        NaN       NaN         NaN     NaN   \n",
       "55579           Indie           37        NaN       NaN         NaN     NaN   \n",
       "64439        Hobbyist           97        NaN       NaN         NaN     1.0   \n",
       "\n",
       "       dlc_count  copiesSold  metacritic_preprocessed  has_metacritic  \n",
       "11655        NaN      Bronze                      0.0               0  \n",
       "9303         NaN      Bronze                      0.0               0  \n",
       "56618        NaN      Bronze                      0.0               0  \n",
       "55579        NaN        Gold                      0.0               0  \n",
       "64439        1.0        Gold                      0.0               0  \n",
       "\n",
       "[5 rows x 25 columns]"
      ],
      "text/html": [
       "<div>\n",
       "<style scoped>\n",
       "    .dataframe tbody tr th:only-of-type {\n",
       "        vertical-align: middle;\n",
       "    }\n",
       "\n",
       "    .dataframe tbody tr th {\n",
       "        vertical-align: top;\n",
       "    }\n",
       "\n",
       "    .dataframe thead th {\n",
       "        text-align: right;\n",
       "    }\n",
       "</style>\n",
       "<table border=\"1\" class=\"dataframe\">\n",
       "  <thead>\n",
       "    <tr style=\"text-align: right;\">\n",
       "      <th></th>\n",
       "      <th>appid</th>\n",
       "      <th>name</th>\n",
       "      <th>metacritic</th>\n",
       "      <th>steam_achievements</th>\n",
       "      <th>steam_trading_cards</th>\n",
       "      <th>workshop_support</th>\n",
       "      <th>genres</th>\n",
       "      <th>achievements_total</th>\n",
       "      <th>supported_platforms</th>\n",
       "      <th>is_release_date_known</th>\n",
       "      <th>...</th>\n",
       "      <th>publisherClass</th>\n",
       "      <th>reviewScore</th>\n",
       "      <th>aiContent</th>\n",
       "      <th>has_demo</th>\n",
       "      <th>demo_count</th>\n",
       "      <th>has_dlc</th>\n",
       "      <th>dlc_count</th>\n",
       "      <th>copiesSold</th>\n",
       "      <th>metacritic_preprocessed</th>\n",
       "      <th>has_metacritic</th>\n",
       "    </tr>\n",
       "  </thead>\n",
       "  <tbody>\n",
       "    <tr>\n",
       "      <th>11655</th>\n",
       "      <td>2900800</td>\n",
       "      <td>Physical Spheres</td>\n",
       "      <td>NaN</td>\n",
       "      <td>False</td>\n",
       "      <td>False</td>\n",
       "      <td>False</td>\n",
       "      <td>Casual</td>\n",
       "      <td>NaN</td>\n",
       "      <td>['windows']</td>\n",
       "      <td>1</td>\n",
       "      <td>...</td>\n",
       "      <td>Hobbyist</td>\n",
       "      <td>0</td>\n",
       "      <td>NaN</td>\n",
       "      <td>NaN</td>\n",
       "      <td>NaN</td>\n",
       "      <td>NaN</td>\n",
       "      <td>NaN</td>\n",
       "      <td>Bronze</td>\n",
       "      <td>0.0</td>\n",
       "      <td>0</td>\n",
       "    </tr>\n",
       "    <tr>\n",
       "      <th>9303</th>\n",
       "      <td>3017540</td>\n",
       "      <td>Slice Of Ages</td>\n",
       "      <td>NaN</td>\n",
       "      <td>False</td>\n",
       "      <td>False</td>\n",
       "      <td>False</td>\n",
       "      <td>Action, Adventure, Indie, RPG, Free To Play</td>\n",
       "      <td>NaN</td>\n",
       "      <td>['windows']</td>\n",
       "      <td>1</td>\n",
       "      <td>...</td>\n",
       "      <td>Hobbyist</td>\n",
       "      <td>93</td>\n",
       "      <td>NaN</td>\n",
       "      <td>NaN</td>\n",
       "      <td>NaN</td>\n",
       "      <td>NaN</td>\n",
       "      <td>NaN</td>\n",
       "      <td>Bronze</td>\n",
       "      <td>0.0</td>\n",
       "      <td>0</td>\n",
       "    </tr>\n",
       "    <tr>\n",
       "      <th>56618</th>\n",
       "      <td>4290</td>\n",
       "      <td>RACE: Caterham Expansion</td>\n",
       "      <td>NaN</td>\n",
       "      <td>False</td>\n",
       "      <td>False</td>\n",
       "      <td>False</td>\n",
       "      <td>Racing</td>\n",
       "      <td>NaN</td>\n",
       "      <td>['windows']</td>\n",
       "      <td>1</td>\n",
       "      <td>...</td>\n",
       "      <td>Indie</td>\n",
       "      <td>46</td>\n",
       "      <td>NaN</td>\n",
       "      <td>NaN</td>\n",
       "      <td>NaN</td>\n",
       "      <td>NaN</td>\n",
       "      <td>NaN</td>\n",
       "      <td>Bronze</td>\n",
       "      <td>0.0</td>\n",
       "      <td>0</td>\n",
       "    </tr>\n",
       "    <tr>\n",
       "      <th>55579</th>\n",
       "      <td>1111760</td>\n",
       "      <td>World of Guns: VR</td>\n",
       "      <td>NaN</td>\n",
       "      <td>True</td>\n",
       "      <td>False</td>\n",
       "      <td>False</td>\n",
       "      <td>Free To Play, Simulation</td>\n",
       "      <td>40.0</td>\n",
       "      <td>['windows']</td>\n",
       "      <td>1</td>\n",
       "      <td>...</td>\n",
       "      <td>Indie</td>\n",
       "      <td>37</td>\n",
       "      <td>NaN</td>\n",
       "      <td>NaN</td>\n",
       "      <td>NaN</td>\n",
       "      <td>NaN</td>\n",
       "      <td>NaN</td>\n",
       "      <td>Gold</td>\n",
       "      <td>0.0</td>\n",
       "      <td>0</td>\n",
       "    </tr>\n",
       "    <tr>\n",
       "      <th>64439</th>\n",
       "      <td>765480</td>\n",
       "      <td>Karambola</td>\n",
       "      <td>NaN</td>\n",
       "      <td>True</td>\n",
       "      <td>False</td>\n",
       "      <td>False</td>\n",
       "      <td>Adventure, Casual, Indie, Free To Play</td>\n",
       "      <td>10.0</td>\n",
       "      <td>['windows', 'mac', 'linux']</td>\n",
       "      <td>1</td>\n",
       "      <td>...</td>\n",
       "      <td>Hobbyist</td>\n",
       "      <td>97</td>\n",
       "      <td>NaN</td>\n",
       "      <td>NaN</td>\n",
       "      <td>NaN</td>\n",
       "      <td>1.0</td>\n",
       "      <td>1.0</td>\n",
       "      <td>Gold</td>\n",
       "      <td>0.0</td>\n",
       "      <td>0</td>\n",
       "    </tr>\n",
       "  </tbody>\n",
       "</table>\n",
       "<p>5 rows × 25 columns</p>\n",
       "</div>"
      ]
     },
     "execution_count": 34,
     "metadata": {},
     "output_type": "execute_result"
    }
   ],
   "execution_count": 34
  },
  {
   "cell_type": "markdown",
   "id": "454952af",
   "metadata": {},
   "source": [
    "#### Final Thoughts On Preprocessing Metacritic"
   ]
  },
  {
   "cell_type": "markdown",
   "id": "b819b844",
   "metadata": {},
   "source": [
    "The above concludes my current trials to preprocess the metacritic column. I will leave below some thoughts that we may wish to revisit in the future:\n",
    "1. I am not sure if the imputation technique that I used is the most suitable technique for this case, and I am not sure if it is correct to standardize then impute, or should I impute first then standardize, I chose the first approach since I think this will better maintain the distribution of the original data, and especially since I believe the imputed value shouldn't have any more meaning than just indicating that this row didn't have a metacritic value, which I tried to do along with the `has_metacritic` column.\n",
    "\n",
    "2. Most importantly, I believe later on the `metacritic` column **will turn out to not be useful** for our models and that we will remove it as a feature, this is based on some discussions I read ([discussion1](https://Steamcommunity.com/discussions/forum/10/3057367211653181335/?l=latam), [discussion2](https://www.reddit.com/r/pcgaming/comments/1gjadpf/da_tv_metacritic_user_score_vs_Steam_ratings/)) in which multiple people feel that it doesn't give accurate reviews, I also expect that it might have a high correlation with `reviewScore` in `gamalytic_Steam_games.csv`, and considering that a small number of samples have this score, I expect this feature won't be useful, on the other hand, I believe we might find the new `has_metacritic` feature useful on its own, still this is all just speculations and we will find out by using proper feature selection methods."
   ]
  },
  {
   "cell_type": "markdown",
   "id": "7f5447f5",
   "metadata": {},
   "source": [
    "### Preprocess Genres Column"
   ]
  },
  {
   "cell_type": "code",
   "id": "6c8b1db1",
   "metadata": {
    "ExecuteTime": {
     "end_time": "2025-05-16T14:18:27.400323Z",
     "start_time": "2025-05-16T14:18:27.396215Z"
    }
   },
   "source": [
    "df_train['genres'].head()"
   ],
   "outputs": [
    {
     "data": {
      "text/plain": [
       "11655                                         Casual\n",
       "9303     Action, Adventure, Indie, RPG, Free To Play\n",
       "56618                                         Racing\n",
       "55579                       Free To Play, Simulation\n",
       "64439         Adventure, Casual, Indie, Free To Play\n",
       "Name: genres, dtype: object"
      ]
     },
     "execution_count": 35,
     "metadata": {},
     "output_type": "execute_result"
    }
   ],
   "execution_count": 35
  },
  {
   "cell_type": "markdown",
   "id": "814e6474",
   "metadata": {},
   "source": [
    "##### Split Genres Into Lists"
   ]
  },
  {
   "cell_type": "code",
   "id": "717d2660",
   "metadata": {
    "ExecuteTime": {
     "end_time": "2025-05-16T14:18:27.537861Z",
     "start_time": "2025-05-16T14:18:27.498521Z"
    }
   },
   "source": [
    "for df in (df_train, df_val, df_test):\n",
    "    df['genres_split'] = df['genres'].fillna('')\n",
    "    df['genres_split'] = df['genres_split'].apply(lambda x: x.split(', ') if x else [])\n",
    "\n",
    "df_train['genres_split'].head()"
   ],
   "outputs": [
    {
     "data": {
      "text/plain": [
       "11655                                         [Casual]\n",
       "9303     [Action, Adventure, Indie, RPG, Free To Play]\n",
       "56618                                         [Racing]\n",
       "55579                       [Free To Play, Simulation]\n",
       "64439         [Adventure, Casual, Indie, Free To Play]\n",
       "Name: genres_split, dtype: object"
      ]
     },
     "execution_count": 36,
     "metadata": {},
     "output_type": "execute_result"
    }
   ],
   "execution_count": 36
  },
  {
   "cell_type": "markdown",
   "id": "9529a25b",
   "metadata": {},
   "source": [
    "#### Analyze Genres"
   ]
  },
  {
   "cell_type": "markdown",
   "id": "f5f0f3cf",
   "metadata": {},
   "source": [
    "Flatten genres into one big list"
   ]
  },
  {
   "cell_type": "code",
   "id": "d6cdcbc5",
   "metadata": {
    "ExecuteTime": {
     "end_time": "2025-05-16T14:18:27.621666Z",
     "start_time": "2025-05-16T14:18:27.610394Z"
    }
   },
   "source": [
    "all_genres = [genre\n",
    "              for sublist in df_train['genres_split']\n",
    "              for genre in sublist]"
   ],
   "outputs": [],
   "execution_count": 37
  },
  {
   "cell_type": "markdown",
   "id": "e0aad173",
   "metadata": {},
   "source": [
    "Count genres frequencies"
   ]
  },
  {
   "cell_type": "code",
   "id": "aeee8478",
   "metadata": {
    "ExecuteTime": {
     "end_time": "2025-05-16T14:18:27.697557Z",
     "start_time": "2025-05-16T14:18:27.680620Z"
    }
   },
   "source": [
    "genre_counts = Counter(all_genres)\n",
    "genre_freq = (\n",
    "    pd.DataFrame.from_dict(genre_counts, orient='index', columns=['count'])\n",
    "      .sort_values('count', ascending=False)\n",
    ")\n",
    "print(\"Number of uniqure genres in the whole dataset:\")\n",
    "print(genre_freq.size)\n",
    "print(genre_freq)"
   ],
   "outputs": [
    {
     "name": "stdout",
     "output_type": "stream",
     "text": [
      "Number of uniqure genres in the whole dataset:\n",
      "27\n",
      "                       count\n",
      "Indie                  39712\n",
      "Casual                 24463\n",
      "Action                 22945\n",
      "Adventure              22290\n",
      "Simulation             11655\n",
      "Strategy               11085\n",
      "RPG                    10441\n",
      "Early Access            5681\n",
      "Free To Play            5659\n",
      "Sports                  2309\n",
      "Racing                  2067\n",
      "Massively Multiplayer   1323\n",
      "Violent                  253\n",
      "Gore                     157\n",
      "Nudity                    54\n",
      "Sexual Content            54\n",
      "Education                 18\n",
      "Animation & Modeling      12\n",
      "Utilities                 10\n",
      "Game Development           9\n",
      "Design & Illustration      8\n",
      "Software Training          8\n",
      "Audio Production           5\n",
      "Video Production           3\n",
      "Web Publishing             2\n",
      "Accounting                 1\n",
      "Photo Editing              1\n"
     ]
    }
   ],
   "execution_count": 38
  },
  {
   "cell_type": "markdown",
   "id": "463d8236",
   "metadata": {},
   "source": [
    "Output word cloud for visualization of the genre counts"
   ]
  },
  {
   "cell_type": "code",
   "id": "1ab78a36",
   "metadata": {
    "ExecuteTime": {
     "end_time": "2025-05-16T14:18:28.186803Z",
     "start_time": "2025-05-16T14:18:27.760878Z"
    }
   },
   "source": [
    "wc = WordCloud(width=1400, height=700, background_color='white')\n",
    "wc.generate_from_frequencies(genre_counts)\n",
    "\n",
    "plt.figure(figsize=(14, 7))\n",
    "plt.imshow(wc, interpolation='bilinear')\n",
    "plt.axis('off')\n",
    "plt.show()"
   ],
   "outputs": [
    {
     "data": {
      "text/plain": [
       "<Figure size 1400x700 with 1 Axes>"
      ],
      "image/png": "[encoded data removed]"
     },
     "metadata": {},
     "output_type": "display_data"
    }
   ],
   "execution_count": 39
  },
  {
   "cell_type": "markdown",
   "id": "c1740a69",
   "metadata": {},
   "source": [
    "#### Multi-Hot Encode The Genres and Merge Them Into the Dataframe"
   ]
  },
  {
   "cell_type": "markdown",
   "id": "6304912a",
   "metadata": {},
   "source": [
    "##### First, replace genres that are non-related to games with 'Other'"
   ]
  },
  {
   "cell_type": "code",
   "id": "756edcc6",
   "metadata": {
    "ExecuteTime": {
     "end_time": "2025-05-16T14:18:28.246179Z",
     "start_time": "2025-05-16T14:18:28.193667Z"
    }
   },
   "source": [
    "non_game_genres = [\n",
    "    'Photo Editing', 'Video Production', 'Web Publishing', 'Accounting',\n",
    "    'Audio Production', 'Software Training', 'Design & Illustration',\n",
    "    'Utilities', 'Game Development', 'Education', 'Animation & Modeling'\n",
    "]\n",
    "\n",
    "def replace_non_game_genres(genres_list):\n",
    "    return [\n",
    "        genre if genre not in non_game_genres else 'Other'\n",
    "        for genre in genres_list\n",
    "    ]\n",
    "\n",
    "for df in (df_train, df_val, df_test):\n",
    "    df['genres_processed'] = df['genres_split'].apply(replace_non_game_genres)"
   ],
   "outputs": [],
   "execution_count": 40
  },
  {
   "cell_type": "code",
   "id": "428d9e3c",
   "metadata": {
    "ExecuteTime": {
     "end_time": "2025-05-16T14:18:28.407409Z",
     "start_time": "2025-05-16T14:18:28.297446Z"
    }
   },
   "source": [
    "mlb = MultiLabelBinarizer()\n",
    "\n",
    "train_genres_encoded = mlb.fit_transform(df_train['genres_processed'])\n",
    "train_genres_df = pd.DataFrame(train_genres_encoded, columns=[f'genre_{c}' for c in mlb.classes_], index=df_train.index)\n",
    "df_train = pd.concat([df_train, train_genres_df], axis=1)\n",
    "\n",
    "known_genres = set(mlb.classes_)\n",
    "\n",
    "# Function to filter unseen genres so no errors occur if unseen genres are met during transform\n",
    "def filter_unseen_genres(genres_list):\n",
    "    return [genre for genre in genres_list if genre in known_genres]\n",
    "\n",
    "df_val['genres_processed'] = df_val['genres_processed'].apply(lambda x: filter_unseen_genres(x))\n",
    "val_genres_encoded = mlb.transform(df_val['genres_processed'])\n",
    "val_genres_df = pd.DataFrame(val_genres_encoded, columns=[f'genre_{c}' for c in mlb.classes_], index=df_val.index)\n",
    "df_val = pd.concat([df_val, val_genres_df], axis=1)\n",
    "\n",
    "df_test['genres_processed'] = df_test['genres_processed'].apply(lambda x: filter_unseen_genres(x))\n",
    "test_genres_encoded = mlb.transform(df_test['genres_processed'])\n",
    "test_genres_df = pd.DataFrame(test_genres_encoded, columns=[f'genre_{c}' for c in mlb.classes_], index=df_test.index)\n",
    "df_test = pd.concat([df_test, test_genres_df], axis=1)\n",
    "\n",
    "for df in (df_train, df_val, df_test):\n",
    "    df.drop(columns=['genres_split', 'genres_processed'], inplace=True)"
   ],
   "outputs": [],
   "execution_count": 41
  },
  {
   "cell_type": "code",
   "id": "a34b25c5",
   "metadata": {
    "ExecuteTime": {
     "end_time": "2025-05-16T14:18:28.462621Z",
     "start_time": "2025-05-16T14:18:28.448932Z"
    }
   },
   "source": [
    "pd.set_option('display.max_columns', None)\n",
    "df_train.head()"
   ],
   "outputs": [
    {
     "data": {
      "text/plain": [
       "         appid                      name  metacritic  steam_achievements  \\\n",
       "11655  2900800          Physical Spheres         NaN               False   \n",
       "9303   3017540             Slice Of Ages         NaN               False   \n",
       "56618     4290  RACE: Caterham Expansion         NaN               False   \n",
       "55579  1111760         World of Guns: VR         NaN                True   \n",
       "64439   765480                 Karambola         NaN                True   \n",
       "\n",
       "       steam_trading_cards  workshop_support  \\\n",
       "11655                False             False   \n",
       "9303                 False             False   \n",
       "56618                False             False   \n",
       "55579                False             False   \n",
       "64439                False             False   \n",
       "\n",
       "                                            genres achievements_total  \\\n",
       "11655                                       Casual                NaN   \n",
       "9303   Action, Adventure, Indie, RPG, Free To Play                NaN   \n",
       "56618                                       Racing                NaN   \n",
       "55579                     Free To Play, Simulation               40.0   \n",
       "64439       Adventure, Casual, Indie, Free To Play               10.0   \n",
       "\n",
       "               supported_platforms  is_release_date_known  is_upcoming  year  \\\n",
       "11655                  ['windows']                      1          0.0  2024   \n",
       "9303                   ['windows']                      1          0.0  2024   \n",
       "56618                  ['windows']                      1          0.0  2007   \n",
       "55579                  ['windows']                      1          0.0  2019   \n",
       "64439  ['windows', 'mac', 'linux']                      1          0.0  2022   \n",
       "\n",
       "        sin_day   cos_day  price publisherClass  reviewScore  aiContent  \\\n",
       "11655  0.230306 -0.973118   0.99       Hobbyist            0        NaN   \n",
       "9303  -0.060213 -0.998186   0.00       Hobbyist           93        NaN   \n",
       "56618  0.179767 -0.983709   3.99          Indie           46        NaN   \n",
       "55579 -0.188227  0.982126   0.00          Indie           37        NaN   \n",
       "64439  0.280231 -0.959933   0.00       Hobbyist           97        NaN   \n",
       "\n",
       "       has_demo  demo_count  has_dlc  dlc_count copiesSold  \\\n",
       "11655       NaN         NaN      NaN        NaN     Bronze   \n",
       "9303        NaN         NaN      NaN        NaN     Bronze   \n",
       "56618       NaN         NaN      NaN        NaN     Bronze   \n",
       "55579       NaN         NaN      NaN        NaN       Gold   \n",
       "64439       NaN         NaN      1.0        1.0       Gold   \n",
       "\n",
       "       metacritic_preprocessed  has_metacritic  genre_Action  genre_Adventure  \\\n",
       "11655                      0.0               0             0                0   \n",
       "9303                       0.0               0             1                1   \n",
       "56618                      0.0               0             0                0   \n",
       "55579                      0.0               0             0                0   \n",
       "64439                      0.0               0             0                1   \n",
       "\n",
       "       genre_Casual  genre_Early Access  genre_Free To Play  genre_Gore  \\\n",
       "11655             1                   0                   0           0   \n",
       "9303              0                   0                   1           0   \n",
       "56618             0                   0                   0           0   \n",
       "55579             0                   0                   1           0   \n",
       "64439             1                   0                   1           0   \n",
       "\n",
       "       genre_Indie  genre_Massively Multiplayer  genre_Nudity  genre_Other  \\\n",
       "11655            0                            0             0            0   \n",
       "9303             1                            0             0            0   \n",
       "56618            0                            0             0            0   \n",
       "55579            0                            0             0            0   \n",
       "64439            1                            0             0            0   \n",
       "\n",
       "       genre_RPG  genre_Racing  genre_Sexual Content  genre_Simulation  \\\n",
       "11655          0             0                     0                 0   \n",
       "9303           1             0                     0                 0   \n",
       "56618          0             1                     0                 0   \n",
       "55579          0             0                     0                 1   \n",
       "64439          0             0                     0                 0   \n",
       "\n",
       "       genre_Sports  genre_Strategy  genre_Violent  \n",
       "11655             0               0              0  \n",
       "9303              0               0              0  \n",
       "56618             0               0              0  \n",
       "55579             0               0              0  \n",
       "64439             0               0              0  "
      ],
      "text/html": [
       "<div>\n",
       "<style scoped>\n",
       "    .dataframe tbody tr th:only-of-type {\n",
       "        vertical-align: middle;\n",
       "    }\n",
       "\n",
       "    .dataframe tbody tr th {\n",
       "        vertical-align: top;\n",
       "    }\n",
       "\n",
       "    .dataframe thead th {\n",
       "        text-align: right;\n",
       "    }\n",
       "</style>\n",
       "<table border=\"1\" class=\"dataframe\">\n",
       "  <thead>\n",
       "    <tr style=\"text-align: right;\">\n",
       "      <th></th>\n",
       "      <th>appid</th>\n",
       "      <th>name</th>\n",
       "      <th>metacritic</th>\n",
       "      <th>steam_achievements</th>\n",
       "      <th>steam_trading_cards</th>\n",
       "      <th>workshop_support</th>\n",
       "      <th>genres</th>\n",
       "      <th>achievements_total</th>\n",
       "      <th>supported_platforms</th>\n",
       "      <th>is_release_date_known</th>\n",
       "      <th>is_upcoming</th>\n",
       "      <th>year</th>\n",
       "      <th>sin_day</th>\n",
       "      <th>cos_day</th>\n",
       "      <th>price</th>\n",
       "      <th>publisherClass</th>\n",
       "      <th>reviewScore</th>\n",
       "      <th>aiContent</th>\n",
       "      <th>has_demo</th>\n",
       "      <th>demo_count</th>\n",
       "      <th>has_dlc</th>\n",
       "      <th>dlc_count</th>\n",
       "      <th>copiesSold</th>\n",
       "      <th>metacritic_preprocessed</th>\n",
       "      <th>has_metacritic</th>\n",
       "      <th>genre_Action</th>\n",
       "      <th>genre_Adventure</th>\n",
       "      <th>genre_Casual</th>\n",
       "      <th>genre_Early Access</th>\n",
       "      <th>genre_Free To Play</th>\n",
       "      <th>genre_Gore</th>\n",
       "      <th>genre_Indie</th>\n",
       "      <th>genre_Massively Multiplayer</th>\n",
       "      <th>genre_Nudity</th>\n",
       "      <th>genre_Other</th>\n",
       "      <th>genre_RPG</th>\n",
       "      <th>genre_Racing</th>\n",
       "      <th>genre_Sexual Content</th>\n",
       "      <th>genre_Simulation</th>\n",
       "      <th>genre_Sports</th>\n",
       "      <th>genre_Strategy</th>\n",
       "      <th>genre_Violent</th>\n",
       "    </tr>\n",
       "  </thead>\n",
       "  <tbody>\n",
       "    <tr>\n",
       "      <th>11655</th>\n",
       "      <td>2900800</td>\n",
       "      <td>Physical Spheres</td>\n",
       "      <td>NaN</td>\n",
       "      <td>False</td>\n",
       "      <td>False</td>\n",
       "      <td>False</td>\n",
       "      <td>Casual</td>\n",
       "      <td>NaN</td>\n",
       "      <td>['windows']</td>\n",
       "      <td>1</td>\n",
       "      <td>0.0</td>\n",
       "      <td>2024</td>\n",
       "      <td>0.230306</td>\n",
       "      <td>-0.973118</td>\n",
       "      <td>0.99</td>\n",
       "      <td>Hobbyist</td>\n",
       "      <td>0</td>\n",
       "      <td>NaN</td>\n",
       "      <td>NaN</td>\n",
       "      <td>NaN</td>\n",
       "      <td>NaN</td>\n",
       "      <td>NaN</td>\n",
       "      <td>Bronze</td>\n",
       "      <td>0.0</td>\n",
       "      <td>0</td>\n",
       "      <td>0</td>\n",
       "      <td>0</td>\n",
       "      <td>1</td>\n",
       "      <td>0</td>\n",
       "      <td>0</td>\n",
       "      <td>0</td>\n",
       "      <td>0</td>\n",
       "      <td>0</td>\n",
       "      <td>0</td>\n",
       "      <td>0</td>\n",
       "      <td>0</td>\n",
       "      <td>0</td>\n",
       "      <td>0</td>\n",
       "      <td>0</td>\n",
       "      <td>0</td>\n",
       "      <td>0</td>\n",
       "      <td>0</td>\n",
       "    </tr>\n",
       "    <tr>\n",
       "      <th>9303</th>\n",
       "      <td>3017540</td>\n",
       "      <td>Slice Of Ages</td>\n",
       "      <td>NaN</td>\n",
       "      <td>False</td>\n",
       "      <td>False</td>\n",
       "      <td>False</td>\n",
       "      <td>Action, Adventure, Indie, RPG, Free To Play</td>\n",
       "      <td>NaN</td>\n",
       "      <td>['windows']</td>\n",
       "      <td>1</td>\n",
       "      <td>0.0</td>\n",
       "      <td>2024</td>\n",
       "      <td>-0.060213</td>\n",
       "      <td>-0.998186</td>\n",
       "      <td>0.00</td>\n",
       "      <td>Hobbyist</td>\n",
       "      <td>93</td>\n",
       "      <td>NaN</td>\n",
       "      <td>NaN</td>\n",
       "      <td>NaN</td>\n",
       "      <td>NaN</td>\n",
       "      <td>NaN</td>\n",
       "      <td>Bronze</td>\n",
       "      <td>0.0</td>\n",
       "      <td>0</td>\n",
       "      <td>1</td>\n",
       "      <td>1</td>\n",
       "      <td>0</td>\n",
       "      <td>0</td>\n",
       "      <td>1</td>\n",
       "      <td>0</td>\n",
       "      <td>1</td>\n",
       "      <td>0</td>\n",
       "      <td>0</td>\n",
       "      <td>0</td>\n",
       "      <td>1</td>\n",
       "      <td>0</td>\n",
       "      <td>0</td>\n",
       "      <td>0</td>\n",
       "      <td>0</td>\n",
       "      <td>0</td>\n",
       "      <td>0</td>\n",
       "    </tr>\n",
       "    <tr>\n",
       "      <th>56618</th>\n",
       "      <td>4290</td>\n",
       "      <td>RACE: Caterham Expansion</td>\n",
       "      <td>NaN</td>\n",
       "      <td>False</td>\n",
       "      <td>False</td>\n",
       "      <td>False</td>\n",
       "      <td>Racing</td>\n",
       "      <td>NaN</td>\n",
       "      <td>['windows']</td>\n",
       "      <td>1</td>\n",
       "      <td>0.0</td>\n",
       "      <td>2007</td>\n",
       "      <td>0.179767</td>\n",
       "      <td>-0.983709</td>\n",
       "      <td>3.99</td>\n",
       "      <td>Indie</td>\n",
       "      <td>46</td>\n",
       "      <td>NaN</td>\n",
       "      <td>NaN</td>\n",
       "      <td>NaN</td>\n",
       "      <td>NaN</td>\n",
       "      <td>NaN</td>\n",
       "      <td>Bronze</td>\n",
       "      <td>0.0</td>\n",
       "      <td>0</td>\n",
       "      <td>0</td>\n",
       "      <td>0</td>\n",
       "      <td>0</td>\n",
       "      <td>0</td>\n",
       "      <td>0</td>\n",
       "      <td>0</td>\n",
       "      <td>0</td>\n",
       "      <td>0</td>\n",
       "      <td>0</td>\n",
       "      <td>0</td>\n",
       "      <td>0</td>\n",
       "      <td>1</td>\n",
       "      <td>0</td>\n",
       "      <td>0</td>\n",
       "      <td>0</td>\n",
       "      <td>0</td>\n",
       "      <td>0</td>\n",
       "    </tr>\n",
       "    <tr>\n",
       "      <th>55579</th>\n",
       "      <td>1111760</td>\n",
       "      <td>World of Guns: VR</td>\n",
       "      <td>NaN</td>\n",
       "      <td>True</td>\n",
       "      <td>False</td>\n",
       "      <td>False</td>\n",
       "      <td>Free To Play, Simulation</td>\n",
       "      <td>40.0</td>\n",
       "      <td>['windows']</td>\n",
       "      <td>1</td>\n",
       "      <td>0.0</td>\n",
       "      <td>2019</td>\n",
       "      <td>-0.188227</td>\n",
       "      <td>0.982126</td>\n",
       "      <td>0.00</td>\n",
       "      <td>Indie</td>\n",
       "      <td>37</td>\n",
       "      <td>NaN</td>\n",
       "      <td>NaN</td>\n",
       "      <td>NaN</td>\n",
       "      <td>NaN</td>\n",
       "      <td>NaN</td>\n",
       "      <td>Gold</td>\n",
       "      <td>0.0</td>\n",
       "      <td>0</td>\n",
       "      <td>0</td>\n",
       "      <td>0</td>\n",
       "      <td>0</td>\n",
       "      <td>0</td>\n",
       "      <td>1</td>\n",
       "      <td>0</td>\n",
       "      <td>0</td>\n",
       "      <td>0</td>\n",
       "      <td>0</td>\n",
       "      <td>0</td>\n",
       "      <td>0</td>\n",
       "      <td>0</td>\n",
       "      <td>0</td>\n",
       "      <td>1</td>\n",
       "      <td>0</td>\n",
       "      <td>0</td>\n",
       "      <td>0</td>\n",
       "    </tr>\n",
       "    <tr>\n",
       "      <th>64439</th>\n",
       "      <td>765480</td>\n",
       "      <td>Karambola</td>\n",
       "      <td>NaN</td>\n",
       "      <td>True</td>\n",
       "      <td>False</td>\n",
       "      <td>False</td>\n",
       "      <td>Adventure, Casual, Indie, Free To Play</td>\n",
       "      <td>10.0</td>\n",
       "      <td>['windows', 'mac', 'linux']</td>\n",
       "      <td>1</td>\n",
       "      <td>0.0</td>\n",
       "      <td>2022</td>\n",
       "      <td>0.280231</td>\n",
       "      <td>-0.959933</td>\n",
       "      <td>0.00</td>\n",
       "      <td>Hobbyist</td>\n",
       "      <td>97</td>\n",
       "      <td>NaN</td>\n",
       "      <td>NaN</td>\n",
       "      <td>NaN</td>\n",
       "      <td>1.0</td>\n",
       "      <td>1.0</td>\n",
       "      <td>Gold</td>\n",
       "      <td>0.0</td>\n",
       "      <td>0</td>\n",
       "      <td>0</td>\n",
       "      <td>1</td>\n",
       "      <td>1</td>\n",
       "      <td>0</td>\n",
       "      <td>1</td>\n",
       "      <td>0</td>\n",
       "      <td>1</td>\n",
       "      <td>0</td>\n",
       "      <td>0</td>\n",
       "      <td>0</td>\n",
       "      <td>0</td>\n",
       "      <td>0</td>\n",
       "      <td>0</td>\n",
       "      <td>0</td>\n",
       "      <td>0</td>\n",
       "      <td>0</td>\n",
       "      <td>0</td>\n",
       "    </tr>\n",
       "  </tbody>\n",
       "</table>\n",
       "</div>"
      ]
     },
     "execution_count": 42,
     "metadata": {},
     "output_type": "execute_result"
    }
   ],
   "execution_count": 42
  },
  {
   "cell_type": "markdown",
   "id": "592fb1b7",
   "metadata": {},
   "source": [
    "##### Final Thoughts On Preprocessing Genres"
   ]
  },
  {
   "cell_type": "markdown",
   "id": "d7e37bf7",
   "metadata": {},
   "source": [
    "1. There are rare genres (Accounting, Nudity, Web Publishing, etc.), after research I believe we have 2 options that we can do with them, either treat them normally like all the other genres as I did above, or set a certain frequency threshold, and genres that have frequencies less than that threshold get removed and we replace them with a \"genre_Other\" column, I didn't do that since I have a feeling that these rare genres might help during prediction, but the best way to know would be to test both methods in the \"training and evaluation\" phase to determine which method helps the model make better predictions.\n",
    "\n",
    "2. About handling unseen genres that we might get later on with unseen data, if we do not have the \"genre_Other\" column then the best way to handle them would be to ignore them, put 1's in the genres that we know, and ignore the ones we don't know, on the other hand if we have a \"genre_Other\" column, then we would put a 1 at that column.\n",
    "\n",
    "3. If later on the genres prove to be useful in predictions and we select them as a feature, I believe the best way to handle them being missing in unseen data would be to webscrape and get the genres of the game.\n",
    "\n",
    "4. Can later on try creating a new feature which is `number_of_genres`"
   ]
  },
  {
   "cell_type": "markdown",
   "id": "6a0e30cb",
   "metadata": {},
   "source": [
    "### Preprocess Supported Platforms Column"
   ]
  },
  {
   "cell_type": "markdown",
   "id": "8afa38e4",
   "metadata": {},
   "source": [
    "#### Analyzing the column"
   ]
  },
  {
   "cell_type": "code",
   "id": "5bf2d7e3",
   "metadata": {
    "ExecuteTime": {
     "end_time": "2025-05-16T14:18:28.563568Z",
     "start_time": "2025-05-16T14:18:28.556062Z"
    }
   },
   "source": [
    "df_train['supported_platforms'].value_counts()"
   ],
   "outputs": [
    {
     "data": {
      "text/plain": [
       "supported_platforms\n",
       "['windows']                    39501\n",
       "['windows', 'mac', 'linux']     9539\n",
       "['windows', 'mac']              4674\n",
       "['windows', 'linux']            1822\n",
       "['mac']                            4\n",
       "['mac', 'linux']                   1\n",
       "Name: count, dtype: int64"
      ]
     },
     "execution_count": 43,
     "metadata": {},
     "output_type": "execute_result"
    }
   ],
   "execution_count": 43
  },
  {
   "cell_type": "markdown",
   "id": "8a2d74bd",
   "metadata": {},
   "source": [
    "#### Multi-Hot Encode The Supported Platforms and Merge Them Into the Dataframe"
   ]
  },
  {
   "cell_type": "code",
   "id": "26b4bbb8",
   "metadata": {
    "ExecuteTime": {
     "end_time": "2025-05-16T14:18:29.160748Z",
     "start_time": "2025-05-16T14:18:28.597972Z"
    }
   },
   "source": [
    "# Safely convert the supported_platforms list into a python list\n",
    "df_train['platforms_parsed'] = df_train['supported_platforms'].apply(ast.literal_eval)\n",
    "df_val['platforms_parsed']   = df_val['supported_platforms'].apply(ast.literal_eval)\n",
    "df_test['platforms_parsed']  = df_test['supported_platforms'].apply(ast.literal_eval)\n",
    "\n",
    "mlb = MultiLabelBinarizer()\n",
    "\n",
    "train_platforms_encoded = mlb.fit_transform(df_train['platforms_parsed'])\n",
    "train_platforms_df = pd.DataFrame(train_platforms_encoded, columns=[f'platform_{c}' for c in mlb.classes_], index=df_train.index)\n",
    "df_train = pd.concat([df_train, train_platforms_df], axis=1)\n",
    "\n",
    "val_platforms_encoded = mlb.transform(df_val['platforms_parsed'])\n",
    "val_platforms_df = pd.DataFrame(val_platforms_encoded, columns=[f'platform_{c}' for c in mlb.classes_], index=df_val.index)\n",
    "df_val = pd.concat([df_val, val_platforms_df], axis=1)\n",
    "\n",
    "test_platforms_encoded = mlb.transform(df_test['platforms_parsed'])\n",
    "test_platforms_df = pd.DataFrame(test_platforms_encoded, columns=[f'platform_{c}' for c in mlb.classes_], index=df_test.index)\n",
    "df_test = pd.concat([df_test, test_platforms_df], axis=1)\n",
    "\n",
    "for df in (df_train, df_val, df_test):\n",
    "    df.drop(columns=['supported_platforms','platforms_parsed'], inplace=True)"
   ],
   "outputs": [],
   "execution_count": 44
  },
  {
   "cell_type": "code",
   "id": "dacae231",
   "metadata": {
    "ExecuteTime": {
     "end_time": "2025-05-16T14:18:29.201296Z",
     "start_time": "2025-05-16T14:18:29.186976Z"
    }
   },
   "source": [
    "df_train.head()"
   ],
   "outputs": [
    {
     "data": {
      "text/plain": [
       "         appid                      name  metacritic  steam_achievements  \\\n",
       "11655  2900800          Physical Spheres         NaN               False   \n",
       "9303   3017540             Slice Of Ages         NaN               False   \n",
       "56618     4290  RACE: Caterham Expansion         NaN               False   \n",
       "55579  1111760         World of Guns: VR         NaN                True   \n",
       "64439   765480                 Karambola         NaN                True   \n",
       "\n",
       "       steam_trading_cards  workshop_support  \\\n",
       "11655                False             False   \n",
       "9303                 False             False   \n",
       "56618                False             False   \n",
       "55579                False             False   \n",
       "64439                False             False   \n",
       "\n",
       "                                            genres achievements_total  \\\n",
       "11655                                       Casual                NaN   \n",
       "9303   Action, Adventure, Indie, RPG, Free To Play                NaN   \n",
       "56618                                       Racing                NaN   \n",
       "55579                     Free To Play, Simulation               40.0   \n",
       "64439       Adventure, Casual, Indie, Free To Play               10.0   \n",
       "\n",
       "       is_release_date_known  is_upcoming  year   sin_day   cos_day  price  \\\n",
       "11655                      1          0.0  2024  0.230306 -0.973118   0.99   \n",
       "9303                       1          0.0  2024 -0.060213 -0.998186   0.00   \n",
       "56618                      1          0.0  2007  0.179767 -0.983709   3.99   \n",
       "55579                      1          0.0  2019 -0.188227  0.982126   0.00   \n",
       "64439                      1          0.0  2022  0.280231 -0.959933   0.00   \n",
       "\n",
       "      publisherClass  reviewScore  aiContent  has_demo  demo_count  has_dlc  \\\n",
       "11655       Hobbyist            0        NaN       NaN         NaN      NaN   \n",
       "9303        Hobbyist           93        NaN       NaN         NaN      NaN   \n",
       "56618          Indie           46        NaN       NaN         NaN      NaN   \n",
       "55579          Indie           37        NaN       NaN         NaN      NaN   \n",
       "64439       Hobbyist           97        NaN       NaN         NaN      1.0   \n",
       "\n",
       "       dlc_count copiesSold  metacritic_preprocessed  has_metacritic  \\\n",
       "11655        NaN     Bronze                      0.0               0   \n",
       "9303         NaN     Bronze                      0.0               0   \n",
       "56618        NaN     Bronze                      0.0               0   \n",
       "55579        NaN       Gold                      0.0               0   \n",
       "64439        1.0       Gold                      0.0               0   \n",
       "\n",
       "       genre_Action  genre_Adventure  genre_Casual  genre_Early Access  \\\n",
       "11655             0                0             1                   0   \n",
       "9303              1                1             0                   0   \n",
       "56618             0                0             0                   0   \n",
       "55579             0                0             0                   0   \n",
       "64439             0                1             1                   0   \n",
       "\n",
       "       genre_Free To Play  genre_Gore  genre_Indie  \\\n",
       "11655                   0           0            0   \n",
       "9303                    1           0            1   \n",
       "56618                   0           0            0   \n",
       "55579                   1           0            0   \n",
       "64439                   1           0            1   \n",
       "\n",
       "       genre_Massively Multiplayer  genre_Nudity  genre_Other  genre_RPG  \\\n",
       "11655                            0             0            0          0   \n",
       "9303                             0             0            0          1   \n",
       "56618                            0             0            0          0   \n",
       "55579                            0             0            0          0   \n",
       "64439                            0             0            0          0   \n",
       "\n",
       "       genre_Racing  genre_Sexual Content  genre_Simulation  genre_Sports  \\\n",
       "11655             0                     0                 0             0   \n",
       "9303              0                     0                 0             0   \n",
       "56618             1                     0                 0             0   \n",
       "55579             0                     0                 1             0   \n",
       "64439             0                     0                 0             0   \n",
       "\n",
       "       genre_Strategy  genre_Violent  platform_linux  platform_mac  \\\n",
       "11655               0              0               0             0   \n",
       "9303                0              0               0             0   \n",
       "56618               0              0               0             0   \n",
       "55579               0              0               0             0   \n",
       "64439               0              0               1             1   \n",
       "\n",
       "       platform_windows  \n",
       "11655                 1  \n",
       "9303                  1  \n",
       "56618                 1  \n",
       "55579                 1  \n",
       "64439                 1  "
      ],
      "text/html": [
       "<div>\n",
       "<style scoped>\n",
       "    .dataframe tbody tr th:only-of-type {\n",
       "        vertical-align: middle;\n",
       "    }\n",
       "\n",
       "    .dataframe tbody tr th {\n",
       "        vertical-align: top;\n",
       "    }\n",
       "\n",
       "    .dataframe thead th {\n",
       "        text-align: right;\n",
       "    }\n",
       "</style>\n",
       "<table border=\"1\" class=\"dataframe\">\n",
       "  <thead>\n",
       "    <tr style=\"text-align: right;\">\n",
       "      <th></th>\n",
       "      <th>appid</th>\n",
       "      <th>name</th>\n",
       "      <th>metacritic</th>\n",
       "      <th>steam_achievements</th>\n",
       "      <th>steam_trading_cards</th>\n",
       "      <th>workshop_support</th>\n",
       "      <th>genres</th>\n",
       "      <th>achievements_total</th>\n",
       "      <th>is_release_date_known</th>\n",
       "      <th>is_upcoming</th>\n",
       "      <th>year</th>\n",
       "      <th>sin_day</th>\n",
       "      <th>cos_day</th>\n",
       "      <th>price</th>\n",
       "      <th>publisherClass</th>\n",
       "      <th>reviewScore</th>\n",
       "      <th>aiContent</th>\n",
       "      <th>has_demo</th>\n",
       "      <th>demo_count</th>\n",
       "      <th>has_dlc</th>\n",
       "      <th>dlc_count</th>\n",
       "      <th>copiesSold</th>\n",
       "      <th>metacritic_preprocessed</th>\n",
       "      <th>has_metacritic</th>\n",
       "      <th>genre_Action</th>\n",
       "      <th>genre_Adventure</th>\n",
       "      <th>genre_Casual</th>\n",
       "      <th>genre_Early Access</th>\n",
       "      <th>genre_Free To Play</th>\n",
       "      <th>genre_Gore</th>\n",
       "      <th>genre_Indie</th>\n",
       "      <th>genre_Massively Multiplayer</th>\n",
       "      <th>genre_Nudity</th>\n",
       "      <th>genre_Other</th>\n",
       "      <th>genre_RPG</th>\n",
       "      <th>genre_Racing</th>\n",
       "      <th>genre_Sexual Content</th>\n",
       "      <th>genre_Simulation</th>\n",
       "      <th>genre_Sports</th>\n",
       "      <th>genre_Strategy</th>\n",
       "      <th>genre_Violent</th>\n",
       "      <th>platform_linux</th>\n",
       "      <th>platform_mac</th>\n",
       "      <th>platform_windows</th>\n",
       "    </tr>\n",
       "  </thead>\n",
       "  <tbody>\n",
       "    <tr>\n",
       "      <th>11655</th>\n",
       "      <td>2900800</td>\n",
       "      <td>Physical Spheres</td>\n",
       "      <td>NaN</td>\n",
       "      <td>False</td>\n",
       "      <td>False</td>\n",
       "      <td>False</td>\n",
       "      <td>Casual</td>\n",
       "      <td>NaN</td>\n",
       "      <td>1</td>\n",
       "      <td>0.0</td>\n",
       "      <td>2024</td>\n",
       "      <td>0.230306</td>\n",
       "      <td>-0.973118</td>\n",
       "      <td>0.99</td>\n",
       "      <td>Hobbyist</td>\n",
       "      <td>0</td>\n",
       "      <td>NaN</td>\n",
       "      <td>NaN</td>\n",
       "      <td>NaN</td>\n",
       "      <td>NaN</td>\n",
       "      <td>NaN</td>\n",
       "      <td>Bronze</td>\n",
       "      <td>0.0</td>\n",
       "      <td>0</td>\n",
       "      <td>0</td>\n",
       "      <td>0</td>\n",
       "      <td>1</td>\n",
       "      <td>0</td>\n",
       "      <td>0</td>\n",
       "      <td>0</td>\n",
       "      <td>0</td>\n",
       "      <td>0</td>\n",
       "      <td>0</td>\n",
       "      <td>0</td>\n",
       "      <td>0</td>\n",
       "      <td>0</td>\n",
       "      <td>0</td>\n",
       "      <td>0</td>\n",
       "      <td>0</td>\n",
       "      <td>0</td>\n",
       "      <td>0</td>\n",
       "      <td>0</td>\n",
       "      <td>0</td>\n",
       "      <td>1</td>\n",
       "    </tr>\n",
       "    <tr>\n",
       "      <th>9303</th>\n",
       "      <td>3017540</td>\n",
       "      <td>Slice Of Ages</td>\n",
       "      <td>NaN</td>\n",
       "      <td>False</td>\n",
       "      <td>False</td>\n",
       "      <td>False</td>\n",
       "      <td>Action, Adventure, Indie, RPG, Free To Play</td>\n",
       "      <td>NaN</td>\n",
       "      <td>1</td>\n",
       "      <td>0.0</td>\n",
       "      <td>2024</td>\n",
       "      <td>-0.060213</td>\n",
       "      <td>-0.998186</td>\n",
       "      <td>0.00</td>\n",
       "      <td>Hobbyist</td>\n",
       "      <td>93</td>\n",
       "      <td>NaN</td>\n",
       "      <td>NaN</td>\n",
       "      <td>NaN</td>\n",
       "      <td>NaN</td>\n",
       "      <td>NaN</td>\n",
       "      <td>Bronze</td>\n",
       "      <td>0.0</td>\n",
       "      <td>0</td>\n",
       "      <td>1</td>\n",
       "      <td>1</td>\n",
       "      <td>0</td>\n",
       "      <td>0</td>\n",
       "      <td>1</td>\n",
       "      <td>0</td>\n",
       "      <td>1</td>\n",
       "      <td>0</td>\n",
       "      <td>0</td>\n",
       "      <td>0</td>\n",
       "      <td>1</td>\n",
       "      <td>0</td>\n",
       "      <td>0</td>\n",
       "      <td>0</td>\n",
       "      <td>0</td>\n",
       "      <td>0</td>\n",
       "      <td>0</td>\n",
       "      <td>0</td>\n",
       "      <td>0</td>\n",
       "      <td>1</td>\n",
       "    </tr>\n",
       "    <tr>\n",
       "      <th>56618</th>\n",
       "      <td>4290</td>\n",
       "      <td>RACE: Caterham Expansion</td>\n",
       "      <td>NaN</td>\n",
       "      <td>False</td>\n",
       "      <td>False</td>\n",
       "      <td>False</td>\n",
       "      <td>Racing</td>\n",
       "      <td>NaN</td>\n",
       "      <td>1</td>\n",
       "      <td>0.0</td>\n",
       "      <td>2007</td>\n",
       "      <td>0.179767</td>\n",
       "      <td>-0.983709</td>\n",
       "      <td>3.99</td>\n",
       "      <td>Indie</td>\n",
       "      <td>46</td>\n",
       "      <td>NaN</td>\n",
       "      <td>NaN</td>\n",
       "      <td>NaN</td>\n",
       "      <td>NaN</td>\n",
       "      <td>NaN</td>\n",
       "      <td>Bronze</td>\n",
       "      <td>0.0</td>\n",
       "      <td>0</td>\n",
       "      <td>0</td>\n",
       "      <td>0</td>\n",
       "      <td>0</td>\n",
       "      <td>0</td>\n",
       "      <td>0</td>\n",
       "      <td>0</td>\n",
       "      <td>0</td>\n",
       "      <td>0</td>\n",
       "      <td>0</td>\n",
       "      <td>0</td>\n",
       "      <td>0</td>\n",
       "      <td>1</td>\n",
       "      <td>0</td>\n",
       "      <td>0</td>\n",
       "      <td>0</td>\n",
       "      <td>0</td>\n",
       "      <td>0</td>\n",
       "      <td>0</td>\n",
       "      <td>0</td>\n",
       "      <td>1</td>\n",
       "    </tr>\n",
       "    <tr>\n",
       "      <th>55579</th>\n",
       "      <td>1111760</td>\n",
       "      <td>World of Guns: VR</td>\n",
       "      <td>NaN</td>\n",
       "      <td>True</td>\n",
       "      <td>False</td>\n",
       "      <td>False</td>\n",
       "      <td>Free To Play, Simulation</td>\n",
       "      <td>40.0</td>\n",
       "      <td>1</td>\n",
       "      <td>0.0</td>\n",
       "      <td>2019</td>\n",
       "      <td>-0.188227</td>\n",
       "      <td>0.982126</td>\n",
       "      <td>0.00</td>\n",
       "      <td>Indie</td>\n",
       "      <td>37</td>\n",
       "      <td>NaN</td>\n",
       "      <td>NaN</td>\n",
       "      <td>NaN</td>\n",
       "      <td>NaN</td>\n",
       "      <td>NaN</td>\n",
       "      <td>Gold</td>\n",
       "      <td>0.0</td>\n",
       "      <td>0</td>\n",
       "      <td>0</td>\n",
       "      <td>0</td>\n",
       "      <td>0</td>\n",
       "      <td>0</td>\n",
       "      <td>1</td>\n",
       "      <td>0</td>\n",
       "      <td>0</td>\n",
       "      <td>0</td>\n",
       "      <td>0</td>\n",
       "      <td>0</td>\n",
       "      <td>0</td>\n",
       "      <td>0</td>\n",
       "      <td>0</td>\n",
       "      <td>1</td>\n",
       "      <td>0</td>\n",
       "      <td>0</td>\n",
       "      <td>0</td>\n",
       "      <td>0</td>\n",
       "      <td>0</td>\n",
       "      <td>1</td>\n",
       "    </tr>\n",
       "    <tr>\n",
       "      <th>64439</th>\n",
       "      <td>765480</td>\n",
       "      <td>Karambola</td>\n",
       "      <td>NaN</td>\n",
       "      <td>True</td>\n",
       "      <td>False</td>\n",
       "      <td>False</td>\n",
       "      <td>Adventure, Casual, Indie, Free To Play</td>\n",
       "      <td>10.0</td>\n",
       "      <td>1</td>\n",
       "      <td>0.0</td>\n",
       "      <td>2022</td>\n",
       "      <td>0.280231</td>\n",
       "      <td>-0.959933</td>\n",
       "      <td>0.00</td>\n",
       "      <td>Hobbyist</td>\n",
       "      <td>97</td>\n",
       "      <td>NaN</td>\n",
       "      <td>NaN</td>\n",
       "      <td>NaN</td>\n",
       "      <td>1.0</td>\n",
       "      <td>1.0</td>\n",
       "      <td>Gold</td>\n",
       "      <td>0.0</td>\n",
       "      <td>0</td>\n",
       "      <td>0</td>\n",
       "      <td>1</td>\n",
       "      <td>1</td>\n",
       "      <td>0</td>\n",
       "      <td>1</td>\n",
       "      <td>0</td>\n",
       "      <td>1</td>\n",
       "      <td>0</td>\n",
       "      <td>0</td>\n",
       "      <td>0</td>\n",
       "      <td>0</td>\n",
       "      <td>0</td>\n",
       "      <td>0</td>\n",
       "      <td>0</td>\n",
       "      <td>0</td>\n",
       "      <td>0</td>\n",
       "      <td>0</td>\n",
       "      <td>1</td>\n",
       "      <td>1</td>\n",
       "      <td>1</td>\n",
       "    </tr>\n",
       "  </tbody>\n",
       "</table>\n",
       "</div>"
      ]
     },
     "execution_count": 45,
     "metadata": {},
     "output_type": "execute_result"
    }
   ],
   "execution_count": 45
  },
  {
   "cell_type": "markdown",
   "id": "b7e6f8ea",
   "metadata": {},
   "source": [
    "### Preprocess Achievements Columns"
   ]
  },
  {
   "cell_type": "code",
   "id": "1c543f88",
   "metadata": {
    "ExecuteTime": {
     "end_time": "2025-05-16T14:18:29.286612Z",
     "start_time": "2025-05-16T14:18:29.254564Z"
    }
   },
   "source": [
    "df_train['achievements_total'].isnull().sum()/df_train.shape[0] #0.46\n",
    "\n",
    "# Convert 'Total achievement' to number, and if there errors set them null\n",
    "for df in (df_train, df_val, df_test):\n",
    "    df['achievements_total'] = pd.to_numeric(df['achievements_total'], errors='coerce')\n",
    "\n",
    "# if total achievement has value and steam achievement is false so convert it into true\n",
    "for df in (df_train, df_val, df_test):\n",
    "    df.loc[(df['achievements_total'] > 0) & (df['steam_achievements'] == False), 'steam_achievements'] = True\n",
    "\n",
    "# if steam achievement is false and achievement total is null so set it zero\n",
    "for df in (df_train, df_val, df_test):\n",
    "    df.loc[df['steam_achievements'] == False, 'achievements_total'] = 0\n",
    "\n",
    "# using KNN Imputer for fill null values of total achievement if steam achievement is true \n",
    "#mask = (info_base_games_df['steam_achievements'] == True)\n",
    "#rows = info_base_games_df.loc[mask, ['achievements_total']]\n",
    "#imputer = KNNImputer(n_neighbors=5)\n",
    "#imputed = imputer.fit_transform(rows)\n",
    "#info_base_games_df.loc[mask, 'achievements_total'] = np.floor(imputed)\n",
    "\n",
    "# another option you can use median (not affected by outliers) / mean\n",
    "median_val = df_train.loc[df_train['steam_achievements'] == True, 'achievements_total'].median()\n",
    "\n",
    "for df in (df_train, df_val, df_test):\n",
    "    df.loc[(df['steam_achievements'] == True) & (df['achievements_total'].isna()), 'achievements_total'] = median_val\n",
    "\n",
    "#mean_val = info_base_games_df.loc[info_base_games_df['steam_achievements'] == True, 'achievements_total'].mean()\n",
    "#print(median_val) #18\n",
    "#print(mean_val)   # 40\n",
    "\n",
    "\n",
    "# convert boolean to int (0,1)\n",
    "for df in (df_train, df_val, df_test):\n",
    "    df['steam_achievements'] = df['steam_achievements'].astype(int)\n",
    "\n",
    "st_scaler = StandardScaler()\n",
    "\n",
    "df_train['achievements_total'] = st_scaler.fit_transform(df_train[['achievements_total']])\n",
    "df_val['achievements_total']  = st_scaler.transform(df_val[['achievements_total']])\n",
    "df_test['achievements_total'] = st_scaler.transform(df_test[['achievements_total']])"
   ],
   "outputs": [],
   "execution_count": 46
  },
  {
   "cell_type": "code",
   "id": "3520840f",
   "metadata": {
    "ExecuteTime": {
     "end_time": "2025-05-16T14:18:29.381292Z",
     "start_time": "2025-05-16T14:18:29.366447Z"
    }
   },
   "source": [
    "df_train.head()"
   ],
   "outputs": [
    {
     "data": {
      "text/plain": [
       "         appid                      name  metacritic  steam_achievements  \\\n",
       "11655  2900800          Physical Spheres         NaN                   0   \n",
       "9303   3017540             Slice Of Ages         NaN                   0   \n",
       "56618     4290  RACE: Caterham Expansion         NaN                   0   \n",
       "55579  1111760         World of Guns: VR         NaN                   1   \n",
       "64439   765480                 Karambola         NaN                   1   \n",
       "\n",
       "       steam_trading_cards  workshop_support  \\\n",
       "11655                False             False   \n",
       "9303                 False             False   \n",
       "56618                False             False   \n",
       "55579                False             False   \n",
       "64439                False             False   \n",
       "\n",
       "                                            genres  achievements_total  \\\n",
       "11655                                       Casual           -0.127185   \n",
       "9303   Action, Adventure, Indie, RPG, Free To Play           -0.127185   \n",
       "56618                                       Racing           -0.127185   \n",
       "55579                     Free To Play, Simulation            0.105103   \n",
       "64439       Adventure, Casual, Indie, Free To Play           -0.069113   \n",
       "\n",
       "       is_release_date_known  is_upcoming  year   sin_day   cos_day  price  \\\n",
       "11655                      1          0.0  2024  0.230306 -0.973118   0.99   \n",
       "9303                       1          0.0  2024 -0.060213 -0.998186   0.00   \n",
       "56618                      1          0.0  2007  0.179767 -0.983709   3.99   \n",
       "55579                      1          0.0  2019 -0.188227  0.982126   0.00   \n",
       "64439                      1          0.0  2022  0.280231 -0.959933   0.00   \n",
       "\n",
       "      publisherClass  reviewScore  aiContent  has_demo  demo_count  has_dlc  \\\n",
       "11655       Hobbyist            0        NaN       NaN         NaN      NaN   \n",
       "9303        Hobbyist           93        NaN       NaN         NaN      NaN   \n",
       "56618          Indie           46        NaN       NaN         NaN      NaN   \n",
       "55579          Indie           37        NaN       NaN         NaN      NaN   \n",
       "64439       Hobbyist           97        NaN       NaN         NaN      1.0   \n",
       "\n",
       "       dlc_count copiesSold  metacritic_preprocessed  has_metacritic  \\\n",
       "11655        NaN     Bronze                      0.0               0   \n",
       "9303         NaN     Bronze                      0.0               0   \n",
       "56618        NaN     Bronze                      0.0               0   \n",
       "55579        NaN       Gold                      0.0               0   \n",
       "64439        1.0       Gold                      0.0               0   \n",
       "\n",
       "       genre_Action  genre_Adventure  genre_Casual  genre_Early Access  \\\n",
       "11655             0                0             1                   0   \n",
       "9303              1                1             0                   0   \n",
       "56618             0                0             0                   0   \n",
       "55579             0                0             0                   0   \n",
       "64439             0                1             1                   0   \n",
       "\n",
       "       genre_Free To Play  genre_Gore  genre_Indie  \\\n",
       "11655                   0           0            0   \n",
       "9303                    1           0            1   \n",
       "56618                   0           0            0   \n",
       "55579                   1           0            0   \n",
       "64439                   1           0            1   \n",
       "\n",
       "       genre_Massively Multiplayer  genre_Nudity  genre_Other  genre_RPG  \\\n",
       "11655                            0             0            0          0   \n",
       "9303                             0             0            0          1   \n",
       "56618                            0             0            0          0   \n",
       "55579                            0             0            0          0   \n",
       "64439                            0             0            0          0   \n",
       "\n",
       "       genre_Racing  genre_Sexual Content  genre_Simulation  genre_Sports  \\\n",
       "11655             0                     0                 0             0   \n",
       "9303              0                     0                 0             0   \n",
       "56618             1                     0                 0             0   \n",
       "55579             0                     0                 1             0   \n",
       "64439             0                     0                 0             0   \n",
       "\n",
       "       genre_Strategy  genre_Violent  platform_linux  platform_mac  \\\n",
       "11655               0              0               0             0   \n",
       "9303                0              0               0             0   \n",
       "56618               0              0               0             0   \n",
       "55579               0              0               0             0   \n",
       "64439               0              0               1             1   \n",
       "\n",
       "       platform_windows  \n",
       "11655                 1  \n",
       "9303                  1  \n",
       "56618                 1  \n",
       "55579                 1  \n",
       "64439                 1  "
      ],
      "text/html": [
       "<div>\n",
       "<style scoped>\n",
       "    .dataframe tbody tr th:only-of-type {\n",
       "        vertical-align: middle;\n",
       "    }\n",
       "\n",
       "    .dataframe tbody tr th {\n",
       "        vertical-align: top;\n",
       "    }\n",
       "\n",
       "    .dataframe thead th {\n",
       "        text-align: right;\n",
       "    }\n",
       "</style>\n",
       "<table border=\"1\" class=\"dataframe\">\n",
       "  <thead>\n",
       "    <tr style=\"text-align: right;\">\n",
       "      <th></th>\n",
       "      <th>appid</th>\n",
       "      <th>name</th>\n",
       "      <th>metacritic</th>\n",
       "      <th>steam_achievements</th>\n",
       "      <th>steam_trading_cards</th>\n",
       "      <th>workshop_support</th>\n",
       "      <th>genres</th>\n",
       "      <th>achievements_total</th>\n",
       "      <th>is_release_date_known</th>\n",
       "      <th>is_upcoming</th>\n",
       "      <th>year</th>\n",
       "      <th>sin_day</th>\n",
       "      <th>cos_day</th>\n",
       "      <th>price</th>\n",
       "      <th>publisherClass</th>\n",
       "      <th>reviewScore</th>\n",
       "      <th>aiContent</th>\n",
       "      <th>has_demo</th>\n",
       "      <th>demo_count</th>\n",
       "      <th>has_dlc</th>\n",
       "      <th>dlc_count</th>\n",
       "      <th>copiesSold</th>\n",
       "      <th>metacritic_preprocessed</th>\n",
       "      <th>has_metacritic</th>\n",
       "      <th>genre_Action</th>\n",
       "      <th>genre_Adventure</th>\n",
       "      <th>genre_Casual</th>\n",
       "      <th>genre_Early Access</th>\n",
       "      <th>genre_Free To Play</th>\n",
       "      <th>genre_Gore</th>\n",
       "      <th>genre_Indie</th>\n",
       "      <th>genre_Massively Multiplayer</th>\n",
       "      <th>genre_Nudity</th>\n",
       "      <th>genre_Other</th>\n",
       "      <th>genre_RPG</th>\n",
       "      <th>genre_Racing</th>\n",
       "      <th>genre_Sexual Content</th>\n",
       "      <th>genre_Simulation</th>\n",
       "      <th>genre_Sports</th>\n",
       "      <th>genre_Strategy</th>\n",
       "      <th>genre_Violent</th>\n",
       "      <th>platform_linux</th>\n",
       "      <th>platform_mac</th>\n",
       "      <th>platform_windows</th>\n",
       "    </tr>\n",
       "  </thead>\n",
       "  <tbody>\n",
       "    <tr>\n",
       "      <th>11655</th>\n",
       "      <td>2900800</td>\n",
       "      <td>Physical Spheres</td>\n",
       "      <td>NaN</td>\n",
       "      <td>0</td>\n",
       "      <td>False</td>\n",
       "      <td>False</td>\n",
       "      <td>Casual</td>\n",
       "      <td>-0.127185</td>\n",
       "      <td>1</td>\n",
       "      <td>0.0</td>\n",
       "      <td>2024</td>\n",
       "      <td>0.230306</td>\n",
       "      <td>-0.973118</td>\n",
       "      <td>0.99</td>\n",
       "      <td>Hobbyist</td>\n",
       "      <td>0</td>\n",
       "      <td>NaN</td>\n",
       "      <td>NaN</td>\n",
       "      <td>NaN</td>\n",
       "      <td>NaN</td>\n",
       "      <td>NaN</td>\n",
       "      <td>Bronze</td>\n",
       "      <td>0.0</td>\n",
       "      <td>0</td>\n",
       "      <td>0</td>\n",
       "      <td>0</td>\n",
       "      <td>1</td>\n",
       "      <td>0</td>\n",
       "      <td>0</td>\n",
       "      <td>0</td>\n",
       "      <td>0</td>\n",
       "      <td>0</td>\n",
       "      <td>0</td>\n",
       "      <td>0</td>\n",
       "      <td>0</td>\n",
       "      <td>0</td>\n",
       "      <td>0</td>\n",
       "      <td>0</td>\n",
       "      <td>0</td>\n",
       "      <td>0</td>\n",
       "      <td>0</td>\n",
       "      <td>0</td>\n",
       "      <td>0</td>\n",
       "      <td>1</td>\n",
       "    </tr>\n",
       "    <tr>\n",
       "      <th>9303</th>\n",
       "      <td>3017540</td>\n",
       "      <td>Slice Of Ages</td>\n",
       "      <td>NaN</td>\n",
       "      <td>0</td>\n",
       "      <td>False</td>\n",
       "      <td>False</td>\n",
       "      <td>Action, Adventure, Indie, RPG, Free To Play</td>\n",
       "      <td>-0.127185</td>\n",
       "      <td>1</td>\n",
       "      <td>0.0</td>\n",
       "      <td>2024</td>\n",
       "      <td>-0.060213</td>\n",
       "      <td>-0.998186</td>\n",
       "      <td>0.00</td>\n",
       "      <td>Hobbyist</td>\n",
       "      <td>93</td>\n",
       "      <td>NaN</td>\n",
       "      <td>NaN</td>\n",
       "      <td>NaN</td>\n",
       "      <td>NaN</td>\n",
       "      <td>NaN</td>\n",
       "      <td>Bronze</td>\n",
       "      <td>0.0</td>\n",
       "      <td>0</td>\n",
       "      <td>1</td>\n",
       "      <td>1</td>\n",
       "      <td>0</td>\n",
       "      <td>0</td>\n",
       "      <td>1</td>\n",
       "      <td>0</td>\n",
       "      <td>1</td>\n",
       "      <td>0</td>\n",
       "      <td>0</td>\n",
       "      <td>0</td>\n",
       "      <td>1</td>\n",
       "      <td>0</td>\n",
       "      <td>0</td>\n",
       "      <td>0</td>\n",
       "      <td>0</td>\n",
       "      <td>0</td>\n",
       "      <td>0</td>\n",
       "      <td>0</td>\n",
       "      <td>0</td>\n",
       "      <td>1</td>\n",
       "    </tr>\n",
       "    <tr>\n",
       "      <th>56618</th>\n",
       "      <td>4290</td>\n",
       "      <td>RACE: Caterham Expansion</td>\n",
       "      <td>NaN</td>\n",
       "      <td>0</td>\n",
       "      <td>False</td>\n",
       "      <td>False</td>\n",
       "      <td>Racing</td>\n",
       "      <td>-0.127185</td>\n",
       "      <td>1</td>\n",
       "      <td>0.0</td>\n",
       "      <td>2007</td>\n",
       "      <td>0.179767</td>\n",
       "      <td>-0.983709</td>\n",
       "      <td>3.99</td>\n",
       "      <td>Indie</td>\n",
       "      <td>46</td>\n",
       "      <td>NaN</td>\n",
       "      <td>NaN</td>\n",
       "      <td>NaN</td>\n",
       "      <td>NaN</td>\n",
       "      <td>NaN</td>\n",
       "      <td>Bronze</td>\n",
       "      <td>0.0</td>\n",
       "      <td>0</td>\n",
       "      <td>0</td>\n",
       "      <td>0</td>\n",
       "      <td>0</td>\n",
       "      <td>0</td>\n",
       "      <td>0</td>\n",
       "      <td>0</td>\n",
       "      <td>0</td>\n",
       "      <td>0</td>\n",
       "      <td>0</td>\n",
       "      <td>0</td>\n",
       "      <td>0</td>\n",
       "      <td>1</td>\n",
       "      <td>0</td>\n",
       "      <td>0</td>\n",
       "      <td>0</td>\n",
       "      <td>0</td>\n",
       "      <td>0</td>\n",
       "      <td>0</td>\n",
       "      <td>0</td>\n",
       "      <td>1</td>\n",
       "    </tr>\n",
       "    <tr>\n",
       "      <th>55579</th>\n",
       "      <td>1111760</td>\n",
       "      <td>World of Guns: VR</td>\n",
       "      <td>NaN</td>\n",
       "      <td>1</td>\n",
       "      <td>False</td>\n",
       "      <td>False</td>\n",
       "      <td>Free To Play, Simulation</td>\n",
       "      <td>0.105103</td>\n",
       "      <td>1</td>\n",
       "      <td>0.0</td>\n",
       "      <td>2019</td>\n",
       "      <td>-0.188227</td>\n",
       "      <td>0.982126</td>\n",
       "      <td>0.00</td>\n",
       "      <td>Indie</td>\n",
       "      <td>37</td>\n",
       "      <td>NaN</td>\n",
       "      <td>NaN</td>\n",
       "      <td>NaN</td>\n",
       "      <td>NaN</td>\n",
       "      <td>NaN</td>\n",
       "      <td>Gold</td>\n",
       "      <td>0.0</td>\n",
       "      <td>0</td>\n",
       "      <td>0</td>\n",
       "      <td>0</td>\n",
       "      <td>0</td>\n",
       "      <td>0</td>\n",
       "      <td>1</td>\n",
       "      <td>0</td>\n",
       "      <td>0</td>\n",
       "      <td>0</td>\n",
       "      <td>0</td>\n",
       "      <td>0</td>\n",
       "      <td>0</td>\n",
       "      <td>0</td>\n",
       "      <td>0</td>\n",
       "      <td>1</td>\n",
       "      <td>0</td>\n",
       "      <td>0</td>\n",
       "      <td>0</td>\n",
       "      <td>0</td>\n",
       "      <td>0</td>\n",
       "      <td>1</td>\n",
       "    </tr>\n",
       "    <tr>\n",
       "      <th>64439</th>\n",
       "      <td>765480</td>\n",
       "      <td>Karambola</td>\n",
       "      <td>NaN</td>\n",
       "      <td>1</td>\n",
       "      <td>False</td>\n",
       "      <td>False</td>\n",
       "      <td>Adventure, Casual, Indie, Free To Play</td>\n",
       "      <td>-0.069113</td>\n",
       "      <td>1</td>\n",
       "      <td>0.0</td>\n",
       "      <td>2022</td>\n",
       "      <td>0.280231</td>\n",
       "      <td>-0.959933</td>\n",
       "      <td>0.00</td>\n",
       "      <td>Hobbyist</td>\n",
       "      <td>97</td>\n",
       "      <td>NaN</td>\n",
       "      <td>NaN</td>\n",
       "      <td>NaN</td>\n",
       "      <td>1.0</td>\n",
       "      <td>1.0</td>\n",
       "      <td>Gold</td>\n",
       "      <td>0.0</td>\n",
       "      <td>0</td>\n",
       "      <td>0</td>\n",
       "      <td>1</td>\n",
       "      <td>1</td>\n",
       "      <td>0</td>\n",
       "      <td>1</td>\n",
       "      <td>0</td>\n",
       "      <td>1</td>\n",
       "      <td>0</td>\n",
       "      <td>0</td>\n",
       "      <td>0</td>\n",
       "      <td>0</td>\n",
       "      <td>0</td>\n",
       "      <td>0</td>\n",
       "      <td>0</td>\n",
       "      <td>0</td>\n",
       "      <td>0</td>\n",
       "      <td>0</td>\n",
       "      <td>1</td>\n",
       "      <td>1</td>\n",
       "      <td>1</td>\n",
       "    </tr>\n",
       "  </tbody>\n",
       "</table>\n",
       "</div>"
      ]
     },
     "execution_count": 47,
     "metadata": {},
     "output_type": "execute_result"
    }
   ],
   "execution_count": 47
  },
  {
   "cell_type": "markdown",
   "id": "f90395fe",
   "metadata": {},
   "source": [
    "#### Final Thoughts"
   ]
  },
  {
   "cell_type": "markdown",
   "id": "d854ab9c",
   "metadata": {},
   "source": [
    "I recommend making web scraping, it will be better and more accurate for sure instead of filling nulls with mean/median/imputers \n",
    "but we must put into consideration if it is possible or not."
   ]
  },
  {
   "cell_type": "markdown",
   "id": "ea7e946b",
   "metadata": {},
   "source": [
    "### Preprocess App id, Name and 3 Boolean Columns"
   ]
  },
  {
   "cell_type": "markdown",
   "id": "b865e5ea",
   "metadata": {},
   "source": [
    "##### Data Statistics"
   ]
  },
  {
   "cell_type": "code",
   "id": "f75d6de4",
   "metadata": {
    "ExecuteTime": {
     "end_time": "2025-05-16T14:18:29.448590Z",
     "start_time": "2025-05-16T14:18:29.429410Z"
    }
   },
   "source": [
    "df_train.info()"
   ],
   "outputs": [
    {
     "name": "stdout",
     "output_type": "stream",
     "text": [
      "<class 'pandas.core.frame.DataFrame'>\n",
      "Index: 55541 entries, 11655 to 53785\n",
      "Data columns (total 44 columns):\n",
      " #   Column                       Non-Null Count  Dtype  \n",
      "---  ------                       --------------  -----  \n",
      " 0   appid                        55541 non-null  int64  \n",
      " 1   name                         55541 non-null  object \n",
      " 2   metacritic                   2321 non-null   float64\n",
      " 3   steam_achievements           55541 non-null  int64  \n",
      " 4   steam_trading_cards          55541 non-null  bool   \n",
      " 5   workshop_support             55541 non-null  bool   \n",
      " 6   genres                       55456 non-null  object \n",
      " 7   achievements_total           55541 non-null  float64\n",
      " 8   is_release_date_known        55541 non-null  int64  \n",
      " 9   is_upcoming                  55541 non-null  float64\n",
      " 10  year                         55541 non-null  int64  \n",
      " 11  sin_day                      55541 non-null  float64\n",
      " 12  cos_day                      55541 non-null  float64\n",
      " 13  price                        55541 non-null  float64\n",
      " 14  publisherClass               55541 non-null  object \n",
      " 15  reviewScore                  55541 non-null  int64  \n",
      " 16  aiContent                    0 non-null      float64\n",
      " 17  has_demo                     6084 non-null   float64\n",
      " 18  demo_count                   6084 non-null   float64\n",
      " 19  has_dlc                      3057 non-null   float64\n",
      " 20  dlc_count                    3057 non-null   float64\n",
      " 21  copiesSold                   55541 non-null  object \n",
      " 22  metacritic_preprocessed      55541 non-null  float64\n",
      " 23  has_metacritic               55541 non-null  int64  \n",
      " 24  genre_Action                 55541 non-null  int64  \n",
      " 25  genre_Adventure              55541 non-null  int64  \n",
      " 26  genre_Casual                 55541 non-null  int64  \n",
      " 27  genre_Early Access           55541 non-null  int64  \n",
      " 28  genre_Free To Play           55541 non-null  int64  \n",
      " 29  genre_Gore                   55541 non-null  int64  \n",
      " 30  genre_Indie                  55541 non-null  int64  \n",
      " 31  genre_Massively Multiplayer  55541 non-null  int64  \n",
      " 32  genre_Nudity                 55541 non-null  int64  \n",
      " 33  genre_Other                  55541 non-null  int64  \n",
      " 34  genre_RPG                    55541 non-null  int64  \n",
      " 35  genre_Racing                 55541 non-null  int64  \n",
      " 36  genre_Sexual Content         55541 non-null  int64  \n",
      " 37  genre_Simulation             55541 non-null  int64  \n",
      " 38  genre_Sports                 55541 non-null  int64  \n",
      " 39  genre_Strategy               55541 non-null  int64  \n",
      " 40  genre_Violent                55541 non-null  int64  \n",
      " 41  platform_linux               55541 non-null  int64  \n",
      " 42  platform_mac                 55541 non-null  int64  \n",
      " 43  platform_windows             55541 non-null  int64  \n",
      "dtypes: bool(2), float64(12), int64(26), object(4)\n",
      "memory usage: 18.3+ MB\n"
     ]
    }
   ],
   "execution_count": 48
  },
  {
   "cell_type": "markdown",
   "id": "7b32d296",
   "metadata": {},
   "source": [
    "- Notice that appid, steam_achievements, steam_trading_cards and workshop_support, all have no NULL values\n",
    "- name has some NULL values"
   ]
  },
  {
   "cell_type": "markdown",
   "id": "65201426",
   "metadata": {},
   "source": [
    "##### Calculate percentage of missing names:"
   ]
  },
  {
   "cell_type": "code",
   "id": "e945bd85",
   "metadata": {
    "ExecuteTime": {
     "end_time": "2025-05-16T14:18:29.537176Z",
     "start_time": "2025-05-16T14:18:29.526513Z"
    }
   },
   "source": [
    "missing_pct = df_train['name'].isna().mean() * 100\n",
    "print(f\"{missing_pct:.2f}% of games have no name\")"
   ],
   "outputs": [
    {
     "name": "stdout",
     "output_type": "stream",
     "text": [
      "0.00% of games have no name\n"
     ]
    }
   ],
   "execution_count": 49
  },
  {
   "cell_type": "markdown",
   "id": "3c186878",
   "metadata": {},
   "source": [
    "- Since percentage is very low, rows with no names can be dropped with no real impact"
   ]
  },
  {
   "cell_type": "markdown",
   "id": "f19a8841",
   "metadata": {},
   "source": [
    "##### Drop rows with NULL value names"
   ]
  },
  {
   "cell_type": "code",
   "id": "65e9b37d",
   "metadata": {
    "ExecuteTime": {
     "end_time": "2025-05-16T14:18:29.647675Z",
     "start_time": "2025-05-16T14:18:29.601715Z"
    }
   },
   "source": [
    "original_length = len(df_train) + len(df_val) + len(df_test)\n",
    "\n",
    "df_train.dropna(subset=['name'], inplace=True)\n",
    "df_val.dropna(subset=['name'], inplace=True)\n",
    "df_test.dropna(subset=['name'], inplace=True)\n",
    "\n",
    "print(f\"Dropped {original_length - (len(df_train) + len(df_val) + len(df_test))} rows with missing names.\")"
   ],
   "outputs": [
    {
     "name": "stdout",
     "output_type": "stream",
     "text": [
      "Dropped 0 rows with missing names.\n"
     ]
    }
   ],
   "execution_count": 50
  },
  {
   "cell_type": "markdown",
   "id": "fe355625",
   "metadata": {},
   "source": [
    "##### Preprocess names and add features derived from name that could be useful\n"
   ]
  },
  {
   "cell_type": "markdown",
   "id": "53911f26",
   "metadata": {},
   "source": [
    "Preprocess names\n",
    "- To lowercase\n",
    "- Strip punctuation\n"
   ]
  },
  {
   "cell_type": "markdown",
   "id": "b3008949",
   "metadata": {},
   "source": [
    "features derived from name\n",
    "- Character count\n",
    "- Word count\n",
    "- Ratio of capital letters to total length\n",
    "- Is a sequel \n",
    "- Has useful keywords like (vr, remaster, collector, edition, bundle, playtest)"
   ]
  },
  {
   "cell_type": "code",
   "id": "e5a27fe1",
   "metadata": {
    "ExecuteTime": {
     "end_time": "2025-05-16T14:18:30.252448Z",
     "start_time": "2025-05-16T14:18:29.672830Z"
    }
   },
   "source": [
    "roman_re = re.compile(r'\\b(?:i{1,3}|iv|v|vi|vii|viii|ix|x)\\b')\n",
    "digit_re = re.compile(r'\\b[2-9]\\b')\n",
    "keywords = ['vr', 'remaster', 'collector', 'collection', 'edition', 'bundle', 'playtest']\n",
    "\n",
    "def cap_ratio(s):\n",
    "    if not s:\n",
    "        return 0\n",
    "    upper_count = sum(1 for ch in s if ch.isupper())\n",
    "    return upper_count / len(s)\n",
    "\n",
    "for df in (df_train, df_val, df_test):\n",
    "    # Strip punctuation\n",
    "    df['name'] = df['name'].str.replace(r'[^\\w\\s]', '', regex=True)\n",
    "\n",
    "    # add character count and word count features\n",
    "    df['name_len'] = df['name'].str.len()\n",
    "    df['name_words'] = df['name'].str.split().str.len()\n",
    "\n",
    "    # add caps ratio feature\n",
    "    df['name_cap_ratio'] = df['name'].apply(cap_ratio)\n",
    "\n",
    "    # transform all names to lowercase\n",
    "    df['name'] = df['name'].str.lower()\n",
    "\n",
    "    # check if game is a sequel and add is_sequel feature\n",
    "    df['is_sequel'] = (\n",
    "        df['name'].str.contains(roman_re) |\n",
    "        df['name'].str.contains(digit_re)\n",
    "    ).astype(int)\n",
    "\n",
    "    # add useful keyword features\n",
    "    for kw in keywords:\n",
    "        df[f'name_has_{kw}'] = df['name'].str.contains(fr'\\b{kw}\\b').astype(int)\n",
    "\n",
    "df_train.head()"
   ],
   "outputs": [
    {
     "data": {
      "text/plain": [
       "         appid                     name  metacritic  steam_achievements  \\\n",
       "11655  2900800         physical spheres         NaN                   0   \n",
       "9303   3017540            slice of ages         NaN                   0   \n",
       "56618     4290  race caterham expansion         NaN                   0   \n",
       "55579  1111760         world of guns vr         NaN                   1   \n",
       "64439   765480                karambola         NaN                   1   \n",
       "\n",
       "       steam_trading_cards  workshop_support  \\\n",
       "11655                False             False   \n",
       "9303                 False             False   \n",
       "56618                False             False   \n",
       "55579                False             False   \n",
       "64439                False             False   \n",
       "\n",
       "                                            genres  achievements_total  \\\n",
       "11655                                       Casual           -0.127185   \n",
       "9303   Action, Adventure, Indie, RPG, Free To Play           -0.127185   \n",
       "56618                                       Racing           -0.127185   \n",
       "55579                     Free To Play, Simulation            0.105103   \n",
       "64439       Adventure, Casual, Indie, Free To Play           -0.069113   \n",
       "\n",
       "       is_release_date_known  is_upcoming  year   sin_day   cos_day  price  \\\n",
       "11655                      1          0.0  2024  0.230306 -0.973118   0.99   \n",
       "9303                       1          0.0  2024 -0.060213 -0.998186   0.00   \n",
       "56618                      1          0.0  2007  0.179767 -0.983709   3.99   \n",
       "55579                      1          0.0  2019 -0.188227  0.982126   0.00   \n",
       "64439                      1          0.0  2022  0.280231 -0.959933   0.00   \n",
       "\n",
       "      publisherClass  reviewScore  aiContent  has_demo  demo_count  has_dlc  \\\n",
       "11655       Hobbyist            0        NaN       NaN         NaN      NaN   \n",
       "9303        Hobbyist           93        NaN       NaN         NaN      NaN   \n",
       "56618          Indie           46        NaN       NaN         NaN      NaN   \n",
       "55579          Indie           37        NaN       NaN         NaN      NaN   \n",
       "64439       Hobbyist           97        NaN       NaN         NaN      1.0   \n",
       "\n",
       "       dlc_count copiesSold  metacritic_preprocessed  has_metacritic  \\\n",
       "11655        NaN     Bronze                      0.0               0   \n",
       "9303         NaN     Bronze                      0.0               0   \n",
       "56618        NaN     Bronze                      0.0               0   \n",
       "55579        NaN       Gold                      0.0               0   \n",
       "64439        1.0       Gold                      0.0               0   \n",
       "\n",
       "       genre_Action  genre_Adventure  genre_Casual  genre_Early Access  \\\n",
       "11655             0                0             1                   0   \n",
       "9303              1                1             0                   0   \n",
       "56618             0                0             0                   0   \n",
       "55579             0                0             0                   0   \n",
       "64439             0                1             1                   0   \n",
       "\n",
       "       genre_Free To Play  genre_Gore  genre_Indie  \\\n",
       "11655                   0           0            0   \n",
       "9303                    1           0            1   \n",
       "56618                   0           0            0   \n",
       "55579                   1           0            0   \n",
       "64439                   1           0            1   \n",
       "\n",
       "       genre_Massively Multiplayer  genre_Nudity  genre_Other  genre_RPG  \\\n",
       "11655                            0             0            0          0   \n",
       "9303                             0             0            0          1   \n",
       "56618                            0             0            0          0   \n",
       "55579                            0             0            0          0   \n",
       "64439                            0             0            0          0   \n",
       "\n",
       "       genre_Racing  genre_Sexual Content  genre_Simulation  genre_Sports  \\\n",
       "11655             0                     0                 0             0   \n",
       "9303              0                     0                 0             0   \n",
       "56618             1                     0                 0             0   \n",
       "55579             0                     0                 1             0   \n",
       "64439             0                     0                 0             0   \n",
       "\n",
       "       genre_Strategy  genre_Violent  platform_linux  platform_mac  \\\n",
       "11655               0              0               0             0   \n",
       "9303                0              0               0             0   \n",
       "56618               0              0               0             0   \n",
       "55579               0              0               0             0   \n",
       "64439               0              0               1             1   \n",
       "\n",
       "       platform_windows  name_len  name_words  name_cap_ratio  is_sequel  \\\n",
       "11655                 1        16           2        0.125000          0   \n",
       "9303                  1        13           3        0.230769          0   \n",
       "56618                 1        23           3        0.260870          0   \n",
       "55579                 1        16           4        0.250000          0   \n",
       "64439                 1         9           1        0.111111          0   \n",
       "\n",
       "       name_has_vr  name_has_remaster  name_has_collector  \\\n",
       "11655            0                  0                   0   \n",
       "9303             0                  0                   0   \n",
       "56618            0                  0                   0   \n",
       "55579            1                  0                   0   \n",
       "64439            0                  0                   0   \n",
       "\n",
       "       name_has_collection  name_has_edition  name_has_bundle  \\\n",
       "11655                    0                 0                0   \n",
       "9303                     0                 0                0   \n",
       "56618                    0                 0                0   \n",
       "55579                    0                 0                0   \n",
       "64439                    0                 0                0   \n",
       "\n",
       "       name_has_playtest  \n",
       "11655                  0  \n",
       "9303                   0  \n",
       "56618                  0  \n",
       "55579                  0  \n",
       "64439                  0  "
      ],
      "text/html": [
       "<div>\n",
       "<style scoped>\n",
       "    .dataframe tbody tr th:only-of-type {\n",
       "        vertical-align: middle;\n",
       "    }\n",
       "\n",
       "    .dataframe tbody tr th {\n",
       "        vertical-align: top;\n",
       "    }\n",
       "\n",
       "    .dataframe thead th {\n",
       "        text-align: right;\n",
       "    }\n",
       "</style>\n",
       "<table border=\"1\" class=\"dataframe\">\n",
       "  <thead>\n",
       "    <tr style=\"text-align: right;\">\n",
       "      <th></th>\n",
       "      <th>appid</th>\n",
       "      <th>name</th>\n",
       "      <th>metacritic</th>\n",
       "      <th>steam_achievements</th>\n",
       "      <th>steam_trading_cards</th>\n",
       "      <th>workshop_support</th>\n",
       "      <th>genres</th>\n",
       "      <th>achievements_total</th>\n",
       "      <th>is_release_date_known</th>\n",
       "      <th>is_upcoming</th>\n",
       "      <th>year</th>\n",
       "      <th>sin_day</th>\n",
       "      <th>cos_day</th>\n",
       "      <th>price</th>\n",
       "      <th>publisherClass</th>\n",
       "      <th>reviewScore</th>\n",
       "      <th>aiContent</th>\n",
       "      <th>has_demo</th>\n",
       "      <th>demo_count</th>\n",
       "      <th>has_dlc</th>\n",
       "      <th>dlc_count</th>\n",
       "      <th>copiesSold</th>\n",
       "      <th>metacritic_preprocessed</th>\n",
       "      <th>has_metacritic</th>\n",
       "      <th>genre_Action</th>\n",
       "      <th>genre_Adventure</th>\n",
       "      <th>genre_Casual</th>\n",
       "      <th>genre_Early Access</th>\n",
       "      <th>genre_Free To Play</th>\n",
       "      <th>genre_Gore</th>\n",
       "      <th>genre_Indie</th>\n",
       "      <th>genre_Massively Multiplayer</th>\n",
       "      <th>genre_Nudity</th>\n",
       "      <th>genre_Other</th>\n",
       "      <th>genre_RPG</th>\n",
       "      <th>genre_Racing</th>\n",
       "      <th>genre_Sexual Content</th>\n",
       "      <th>genre_Simulation</th>\n",
       "      <th>genre_Sports</th>\n",
       "      <th>genre_Strategy</th>\n",
       "      <th>genre_Violent</th>\n",
       "      <th>platform_linux</th>\n",
       "      <th>platform_mac</th>\n",
       "      <th>platform_windows</th>\n",
       "      <th>name_len</th>\n",
       "      <th>name_words</th>\n",
       "      <th>name_cap_ratio</th>\n",
       "      <th>is_sequel</th>\n",
       "      <th>name_has_vr</th>\n",
       "      <th>name_has_remaster</th>\n",
       "      <th>name_has_collector</th>\n",
       "      <th>name_has_collection</th>\n",
       "      <th>name_has_edition</th>\n",
       "      <th>name_has_bundle</th>\n",
       "      <th>name_has_playtest</th>\n",
       "    </tr>\n",
       "  </thead>\n",
       "  <tbody>\n",
       "    <tr>\n",
       "      <th>11655</th>\n",
       "      <td>2900800</td>\n",
       "      <td>physical spheres</td>\n",
       "      <td>NaN</td>\n",
       "      <td>0</td>\n",
       "      <td>False</td>\n",
       "      <td>False</td>\n",
       "      <td>Casual</td>\n",
       "      <td>-0.127185</td>\n",
       "      <td>1</td>\n",
       "      <td>0.0</td>\n",
       "      <td>2024</td>\n",
       "      <td>0.230306</td>\n",
       "      <td>-0.973118</td>\n",
       "      <td>0.99</td>\n",
       "      <td>Hobbyist</td>\n",
       "      <td>0</td>\n",
       "      <td>NaN</td>\n",
       "      <td>NaN</td>\n",
       "      <td>NaN</td>\n",
       "      <td>NaN</td>\n",
       "      <td>NaN</td>\n",
       "      <td>Bronze</td>\n",
       "      <td>0.0</td>\n",
       "      <td>0</td>\n",
       "      <td>0</td>\n",
       "      <td>0</td>\n",
       "      <td>1</td>\n",
       "      <td>0</td>\n",
       "      <td>0</td>\n",
       "      <td>0</td>\n",
       "      <td>0</td>\n",
       "      <td>0</td>\n",
       "      <td>0</td>\n",
       "      <td>0</td>\n",
       "      <td>0</td>\n",
       "      <td>0</td>\n",
       "      <td>0</td>\n",
       "      <td>0</td>\n",
       "      <td>0</td>\n",
       "      <td>0</td>\n",
       "      <td>0</td>\n",
       "      <td>0</td>\n",
       "      <td>0</td>\n",
       "      <td>1</td>\n",
       "      <td>16</td>\n",
       "      <td>2</td>\n",
       "      <td>0.125000</td>\n",
       "      <td>0</td>\n",
       "      <td>0</td>\n",
       "      <td>0</td>\n",
       "      <td>0</td>\n",
       "      <td>0</td>\n",
       "      <td>0</td>\n",
       "      <td>0</td>\n",
       "      <td>0</td>\n",
       "    </tr>\n",
       "    <tr>\n",
       "      <th>9303</th>\n",
       "      <td>3017540</td>\n",
       "      <td>slice of ages</td>\n",
       "      <td>NaN</td>\n",
       "      <td>0</td>\n",
       "      <td>False</td>\n",
       "      <td>False</td>\n",
       "      <td>Action, Adventure, Indie, RPG, Free To Play</td>\n",
       "      <td>-0.127185</td>\n",
       "      <td>1</td>\n",
       "      <td>0.0</td>\n",
       "      <td>2024</td>\n",
       "      <td>-0.060213</td>\n",
       "      <td>-0.998186</td>\n",
       "      <td>0.00</td>\n",
       "      <td>Hobbyist</td>\n",
       "      <td>93</td>\n",
       "      <td>NaN</td>\n",
       "      <td>NaN</td>\n",
       "      <td>NaN</td>\n",
       "      <td>NaN</td>\n",
       "      <td>NaN</td>\n",
       "      <td>Bronze</td>\n",
       "      <td>0.0</td>\n",
       "      <td>0</td>\n",
       "      <td>1</td>\n",
       "      <td>1</td>\n",
       "      <td>0</td>\n",
       "      <td>0</td>\n",
       "      <td>1</td>\n",
       "      <td>0</td>\n",
       "      <td>1</td>\n",
       "      <td>0</td>\n",
       "      <td>0</td>\n",
       "      <td>0</td>\n",
       "      <td>1</td>\n",
       "      <td>0</td>\n",
       "      <td>0</td>\n",
       "      <td>0</td>\n",
       "      <td>0</td>\n",
       "      <td>0</td>\n",
       "      <td>0</td>\n",
       "      <td>0</td>\n",
       "      <td>0</td>\n",
       "      <td>1</td>\n",
       "      <td>13</td>\n",
       "      <td>3</td>\n",
       "      <td>0.230769</td>\n",
       "      <td>0</td>\n",
       "      <td>0</td>\n",
       "      <td>0</td>\n",
       "      <td>0</td>\n",
       "      <td>0</td>\n",
       "      <td>0</td>\n",
       "      <td>0</td>\n",
       "      <td>0</td>\n",
       "    </tr>\n",
       "    <tr>\n",
       "      <th>56618</th>\n",
       "      <td>4290</td>\n",
       "      <td>race caterham expansion</td>\n",
       "      <td>NaN</td>\n",
       "      <td>0</td>\n",
       "      <td>False</td>\n",
       "      <td>False</td>\n",
       "      <td>Racing</td>\n",
       "      <td>-0.127185</td>\n",
       "      <td>1</td>\n",
       "      <td>0.0</td>\n",
       "      <td>2007</td>\n",
       "      <td>0.179767</td>\n",
       "      <td>-0.983709</td>\n",
       "      <td>3.99</td>\n",
       "      <td>Indie</td>\n",
       "      <td>46</td>\n",
       "      <td>NaN</td>\n",
       "      <td>NaN</td>\n",
       "      <td>NaN</td>\n",
       "      <td>NaN</td>\n",
       "      <td>NaN</td>\n",
       "      <td>Bronze</td>\n",
       "      <td>0.0</td>\n",
       "      <td>0</td>\n",
       "      <td>0</td>\n",
       "      <td>0</td>\n",
       "      <td>0</td>\n",
       "      <td>0</td>\n",
       "      <td>0</td>\n",
       "      <td>0</td>\n",
       "      <td>0</td>\n",
       "      <td>0</td>\n",
       "      <td>0</td>\n",
       "      <td>0</td>\n",
       "      <td>0</td>\n",
       "      <td>1</td>\n",
       "      <td>0</td>\n",
       "      <td>0</td>\n",
       "      <td>0</td>\n",
       "      <td>0</td>\n",
       "      <td>0</td>\n",
       "      <td>0</td>\n",
       "      <td>0</td>\n",
       "      <td>1</td>\n",
       "      <td>23</td>\n",
       "      <td>3</td>\n",
       "      <td>0.260870</td>\n",
       "      <td>0</td>\n",
       "      <td>0</td>\n",
       "      <td>0</td>\n",
       "      <td>0</td>\n",
       "      <td>0</td>\n",
       "      <td>0</td>\n",
       "      <td>0</td>\n",
       "      <td>0</td>\n",
       "    </tr>\n",
       "    <tr>\n",
       "      <th>55579</th>\n",
       "      <td>1111760</td>\n",
       "      <td>world of guns vr</td>\n",
       "      <td>NaN</td>\n",
       "      <td>1</td>\n",
       "      <td>False</td>\n",
       "      <td>False</td>\n",
       "      <td>Free To Play, Simulation</td>\n",
       "      <td>0.105103</td>\n",
       "      <td>1</td>\n",
       "      <td>0.0</td>\n",
       "      <td>2019</td>\n",
       "      <td>-0.188227</td>\n",
       "      <td>0.982126</td>\n",
       "      <td>0.00</td>\n",
       "      <td>Indie</td>\n",
       "      <td>37</td>\n",
       "      <td>NaN</td>\n",
       "      <td>NaN</td>\n",
       "      <td>NaN</td>\n",
       "      <td>NaN</td>\n",
       "      <td>NaN</td>\n",
       "      <td>Gold</td>\n",
       "      <td>0.0</td>\n",
       "      <td>0</td>\n",
       "      <td>0</td>\n",
       "      <td>0</td>\n",
       "      <td>0</td>\n",
       "      <td>0</td>\n",
       "      <td>1</td>\n",
       "      <td>0</td>\n",
       "      <td>0</td>\n",
       "      <td>0</td>\n",
       "      <td>0</td>\n",
       "      <td>0</td>\n",
       "      <td>0</td>\n",
       "      <td>0</td>\n",
       "      <td>0</td>\n",
       "      <td>1</td>\n",
       "      <td>0</td>\n",
       "      <td>0</td>\n",
       "      <td>0</td>\n",
       "      <td>0</td>\n",
       "      <td>0</td>\n",
       "      <td>1</td>\n",
       "      <td>16</td>\n",
       "      <td>4</td>\n",
       "      <td>0.250000</td>\n",
       "      <td>0</td>\n",
       "      <td>1</td>\n",
       "      <td>0</td>\n",
       "      <td>0</td>\n",
       "      <td>0</td>\n",
       "      <td>0</td>\n",
       "      <td>0</td>\n",
       "      <td>0</td>\n",
       "    </tr>\n",
       "    <tr>\n",
       "      <th>64439</th>\n",
       "      <td>765480</td>\n",
       "      <td>karambola</td>\n",
       "      <td>NaN</td>\n",
       "      <td>1</td>\n",
       "      <td>False</td>\n",
       "      <td>False</td>\n",
       "      <td>Adventure, Casual, Indie, Free To Play</td>\n",
       "      <td>-0.069113</td>\n",
       "      <td>1</td>\n",
       "      <td>0.0</td>\n",
       "      <td>2022</td>\n",
       "      <td>0.280231</td>\n",
       "      <td>-0.959933</td>\n",
       "      <td>0.00</td>\n",
       "      <td>Hobbyist</td>\n",
       "      <td>97</td>\n",
       "      <td>NaN</td>\n",
       "      <td>NaN</td>\n",
       "      <td>NaN</td>\n",
       "      <td>1.0</td>\n",
       "      <td>1.0</td>\n",
       "      <td>Gold</td>\n",
       "      <td>0.0</td>\n",
       "      <td>0</td>\n",
       "      <td>0</td>\n",
       "      <td>1</td>\n",
       "      <td>1</td>\n",
       "      <td>0</td>\n",
       "      <td>1</td>\n",
       "      <td>0</td>\n",
       "      <td>1</td>\n",
       "      <td>0</td>\n",
       "      <td>0</td>\n",
       "      <td>0</td>\n",
       "      <td>0</td>\n",
       "      <td>0</td>\n",
       "      <td>0</td>\n",
       "      <td>0</td>\n",
       "      <td>0</td>\n",
       "      <td>0</td>\n",
       "      <td>0</td>\n",
       "      <td>1</td>\n",
       "      <td>1</td>\n",
       "      <td>1</td>\n",
       "      <td>9</td>\n",
       "      <td>1</td>\n",
       "      <td>0.111111</td>\n",
       "      <td>0</td>\n",
       "      <td>0</td>\n",
       "      <td>0</td>\n",
       "      <td>0</td>\n",
       "      <td>0</td>\n",
       "      <td>0</td>\n",
       "      <td>0</td>\n",
       "      <td>0</td>\n",
       "    </tr>\n",
       "  </tbody>\n",
       "</table>\n",
       "</div>"
      ]
     },
     "execution_count": 51,
     "metadata": {},
     "output_type": "execute_result"
    }
   ],
   "execution_count": 51
  },
  {
   "cell_type": "markdown",
   "id": "80ac0e64",
   "metadata": {},
   "source": [
    "Apply pretrained embeddings on names"
   ]
  },
  {
   "cell_type": "code",
   "id": "971cd002",
   "metadata": {
    "ExecuteTime": {
     "end_time": "2025-05-16T14:18:30.342529Z",
     "start_time": "2025-05-16T14:18:30.339760Z"
    }
   },
   "source": [
    "# COMMENTED FOR NOW DUE TO ITS COMPLEXITY AND HIGH DIMENSIONALITY\n",
    "\n",
    "# model = SentenceTransformer('all-MiniLM-L6-v2')\n",
    "\n",
    "# train_embeddings = model.encode(df_train['name'].tolist())\n",
    "# emb_dim = train_embeddings.shape[1]\n",
    "# emb_cols = [f'name_emb_{i}' for i in range(emb_dim)]\n",
    "# train_emb_df = pd.DataFrame(train_embeddings, columns=emb_cols, index=df_train.index)\n",
    "# df_train = pd.concat([df_train, train_emb_df], axis=1)\n",
    "\n",
    "# val_embeddings = model.encode(df_val['name'].tolist())\n",
    "# val_emb_df = pd.DataFrame(val_embeddings, columns=emb_cols, index=df_val.index)\n",
    "# df_val = pd.concat([df_val, val_emb_df], axis=1)\n",
    "\n",
    "# test_embeddings = model.encode(df_test['name'].tolist())\n",
    "# test_emb_df = pd.DataFrame(test_embeddings, columns=emb_cols, index=df_test.index)\n",
    "# df_test = pd.concat([df_test, test_emb_df], axis=1)"
   ],
   "outputs": [],
   "execution_count": 52
  },
  {
   "cell_type": "markdown",
   "id": "c3e0bfb0",
   "metadata": {},
   "source": [
    "Scale numeric features (optional depending on model's sensitivity to data scale)"
   ]
  },
  {
   "cell_type": "code",
   "id": "309b78dd",
   "metadata": {
    "ExecuteTime": {
     "end_time": "2025-05-16T14:18:30.400870Z",
     "start_time": "2025-05-16T14:18:30.377091Z"
    }
   },
   "source": [
    "scale_cols = [\n",
    "    'name_len', 'name_words', 'name_cap_ratio', 'is_sequel'\n",
    "] + [f'name_has_{kw}' for kw in keywords]\n",
    "\n",
    "scaler = StandardScaler()\n",
    "\n",
    "df_train[scale_cols] = scaler.fit_transform(df_train[scale_cols])\n",
    "df_val[scale_cols]   = scaler.transform(df_val[scale_cols])\n",
    "df_test[scale_cols]  = scaler.transform(df_test[scale_cols])"
   ],
   "outputs": [],
   "execution_count": 53
  },
  {
   "cell_type": "markdown",
   "id": "d6a47d60",
   "metadata": {},
   "source": [
    "##### Turn boolean columns into numeric"
   ]
  },
  {
   "cell_type": "code",
   "id": "b30b0e1a",
   "metadata": {
    "ExecuteTime": {
     "end_time": "2025-05-16T14:18:30.419250Z",
     "start_time": "2025-05-16T14:18:30.414092Z"
    }
   },
   "source": [
    "for df in (df_train, df_val, df_test):\n",
    "    df['steam_achievements'] = df['steam_achievements'].astype(int)\n",
    "    df['steam_trading_cards'] = df['steam_trading_cards'].astype(int)\n",
    "    df['workshop_support'] = df['workshop_support'].astype(int)"
   ],
   "outputs": [],
   "execution_count": 54
  },
  {
   "cell_type": "markdown",
   "id": "30979c1c",
   "metadata": {},
   "source": [
    "##### Statistics After Preprocessing"
   ]
  },
  {
   "cell_type": "code",
   "id": "742f640a",
   "metadata": {
    "ExecuteTime": {
     "end_time": "2025-05-16T14:18:30.554267Z",
     "start_time": "2025-05-16T14:18:30.538273Z"
    }
   },
   "source": [
    "df_train.info()"
   ],
   "outputs": [
    {
     "name": "stdout",
     "output_type": "stream",
     "text": [
      "<class 'pandas.core.frame.DataFrame'>\n",
      "Index: 55541 entries, 11655 to 53785\n",
      "Data columns (total 55 columns):\n",
      " #   Column                       Non-Null Count  Dtype  \n",
      "---  ------                       --------------  -----  \n",
      " 0   appid                        55541 non-null  int64  \n",
      " 1   name                         55541 non-null  object \n",
      " 2   metacritic                   2321 non-null   float64\n",
      " 3   steam_achievements           55541 non-null  int64  \n",
      " 4   steam_trading_cards          55541 non-null  int64  \n",
      " 5   workshop_support             55541 non-null  int64  \n",
      " 6   genres                       55456 non-null  object \n",
      " 7   achievements_total           55541 non-null  float64\n",
      " 8   is_release_date_known        55541 non-null  int64  \n",
      " 9   is_upcoming                  55541 non-null  float64\n",
      " 10  year                         55541 non-null  int64  \n",
      " 11  sin_day                      55541 non-null  float64\n",
      " 12  cos_day                      55541 non-null  float64\n",
      " 13  price                        55541 non-null  float64\n",
      " 14  publisherClass               55541 non-null  object \n",
      " 15  reviewScore                  55541 non-null  int64  \n",
      " 16  aiContent                    0 non-null      float64\n",
      " 17  has_demo                     6084 non-null   float64\n",
      " 18  demo_count                   6084 non-null   float64\n",
      " 19  has_dlc                      3057 non-null   float64\n",
      " 20  dlc_count                    3057 non-null   float64\n",
      " 21  copiesSold                   55541 non-null  object \n",
      " 22  metacritic_preprocessed      55541 non-null  float64\n",
      " 23  has_metacritic               55541 non-null  int64  \n",
      " 24  genre_Action                 55541 non-null  int64  \n",
      " 25  genre_Adventure              55541 non-null  int64  \n",
      " 26  genre_Casual                 55541 non-null  int64  \n",
      " 27  genre_Early Access           55541 non-null  int64  \n",
      " 28  genre_Free To Play           55541 non-null  int64  \n",
      " 29  genre_Gore                   55541 non-null  int64  \n",
      " 30  genre_Indie                  55541 non-null  int64  \n",
      " 31  genre_Massively Multiplayer  55541 non-null  int64  \n",
      " 32  genre_Nudity                 55541 non-null  int64  \n",
      " 33  genre_Other                  55541 non-null  int64  \n",
      " 34  genre_RPG                    55541 non-null  int64  \n",
      " 35  genre_Racing                 55541 non-null  int64  \n",
      " 36  genre_Sexual Content         55541 non-null  int64  \n",
      " 37  genre_Simulation             55541 non-null  int64  \n",
      " 38  genre_Sports                 55541 non-null  int64  \n",
      " 39  genre_Strategy               55541 non-null  int64  \n",
      " 40  genre_Violent                55541 non-null  int64  \n",
      " 41  platform_linux               55541 non-null  int64  \n",
      " 42  platform_mac                 55541 non-null  int64  \n",
      " 43  platform_windows             55541 non-null  int64  \n",
      " 44  name_len                     55541 non-null  float64\n",
      " 45  name_words                   55541 non-null  float64\n",
      " 46  name_cap_ratio               55541 non-null  float64\n",
      " 47  is_sequel                    55541 non-null  float64\n",
      " 48  name_has_vr                  55541 non-null  float64\n",
      " 49  name_has_remaster            55541 non-null  float64\n",
      " 50  name_has_collector           55541 non-null  float64\n",
      " 51  name_has_collection          55541 non-null  float64\n",
      " 52  name_has_edition             55541 non-null  float64\n",
      " 53  name_has_bundle              55541 non-null  float64\n",
      " 54  name_has_playtest            55541 non-null  float64\n",
      "dtypes: float64(23), int64(28), object(4)\n",
      "memory usage: 23.7+ MB\n"
     ]
    }
   ],
   "execution_count": 55
  },
  {
   "cell_type": "markdown",
   "id": "342a65ff",
   "metadata": {},
   "source": [
    "##### Summary and Conclusion"
   ]
  },
  {
   "cell_type": "markdown",
   "id": "6d847423",
   "metadata": {},
   "source": [
    "- Imported & cleaned\n",
    "  - Installed and loaded `sentence-transformers`, `pandas`, `re`, and `StandardScaler`  \n",
    "  - Read in `info_base_games.csv` and inspected column completeness  \n",
    "\n",
    "- Handled missing titles\n",
    "  - Calculated missing‑name percentage and dropped rows (low impact)  \n",
    "\n",
    "- Engineered name features\n",
    "  - Normalized titles (lowercase, no punctuation)  \n",
    "  - Character count (`name_len`)  \n",
    "  - Word count (`name_words`)  \n",
    "  - Capital‑letter ratio (`name_cap_ratio`)  \n",
    "  - Sequel flag (`is_sequel`) identified from standalone roman numerals or digits  \n",
    "  - Keyword flags (`name_has_vr`, `name_has_remaster`, etc.)\n",
    "\n",
    "- Applied embeddings \n",
    "  - Generated embedding vectors from `all-MiniLM-L6-v2` for each cleaned name  \n",
    "\n",
    "- Scaled & encoded  \n",
    "  - Standardized numeric features (`name_len`, `name_words`, `name_cap_ratio`, `is_sequel`, keyword flags)  \n",
    "  - Converted boolean columns (`steam_achievements`, `steam_trading_cards`, `workshop_support`) into numeric 0/1  \n",
    "\n",
    "- Saved & validated  \n",
    "  - (Optional) Exported the preprocessed DataFrame into csv\n",
    "  - Reviewed final schema and data types\n",
    "\n",
    "- Notes\n",
    "  - Scaling numeric features should be applied or ignored depending on the model type and sensitivity to scaling\n",
    "  - `app_id` will most likely be dropped since it has no useful impact on sales"
   ]
  },
  {
   "cell_type": "markdown",
   "id": "d9946905",
   "metadata": {},
   "source": [
    "## Preprocessing Gamalytic CSV"
   ]
  },
  {
   "cell_type": "markdown",
   "id": "335d4e53",
   "metadata": {},
   "source": [
    "### Preprocess Steam ID, Publisher Class, and AI Content Columns"
   ]
  },
  {
   "cell_type": "markdown",
   "id": "e2ddf1b1",
   "metadata": {},
   "source": [
    "#### Statistics Before Preprocessing"
   ]
  },
  {
   "cell_type": "code",
   "id": "5c82fc29",
   "metadata": {
    "ExecuteTime": {
     "end_time": "2025-05-16T14:18:30.622271Z",
     "start_time": "2025-05-16T14:18:30.618402Z"
    }
   },
   "source": [
    "df_train.shape"
   ],
   "outputs": [
    {
     "data": {
      "text/plain": [
       "(55541, 55)"
      ]
     },
     "execution_count": 56,
     "metadata": {},
     "output_type": "execute_result"
    }
   ],
   "execution_count": 56
  },
  {
   "cell_type": "code",
   "id": "5cf1ef61",
   "metadata": {
    "ExecuteTime": {
     "end_time": "2025-05-16T14:18:30.708866Z",
     "start_time": "2025-05-16T14:18:30.689396Z"
    }
   },
   "source": [
    "df_train.head()"
   ],
   "outputs": [
    {
     "data": {
      "text/plain": [
       "         appid                     name  metacritic  steam_achievements  \\\n",
       "11655  2900800         physical spheres         NaN                   0   \n",
       "9303   3017540            slice of ages         NaN                   0   \n",
       "56618     4290  race caterham expansion         NaN                   0   \n",
       "55579  1111760         world of guns vr         NaN                   1   \n",
       "64439   765480                karambola         NaN                   1   \n",
       "\n",
       "       steam_trading_cards  workshop_support  \\\n",
       "11655                    0                 0   \n",
       "9303                     0                 0   \n",
       "56618                    0                 0   \n",
       "55579                    0                 0   \n",
       "64439                    0                 0   \n",
       "\n",
       "                                            genres  achievements_total  \\\n",
       "11655                                       Casual           -0.127185   \n",
       "9303   Action, Adventure, Indie, RPG, Free To Play           -0.127185   \n",
       "56618                                       Racing           -0.127185   \n",
       "55579                     Free To Play, Simulation            0.105103   \n",
       "64439       Adventure, Casual, Indie, Free To Play           -0.069113   \n",
       "\n",
       "       is_release_date_known  is_upcoming  year   sin_day   cos_day  price  \\\n",
       "11655                      1          0.0  2024  0.230306 -0.973118   0.99   \n",
       "9303                       1          0.0  2024 -0.060213 -0.998186   0.00   \n",
       "56618                      1          0.0  2007  0.179767 -0.983709   3.99   \n",
       "55579                      1          0.0  2019 -0.188227  0.982126   0.00   \n",
       "64439                      1          0.0  2022  0.280231 -0.959933   0.00   \n",
       "\n",
       "      publisherClass  reviewScore  aiContent  has_demo  demo_count  has_dlc  \\\n",
       "11655       Hobbyist            0        NaN       NaN         NaN      NaN   \n",
       "9303        Hobbyist           93        NaN       NaN         NaN      NaN   \n",
       "56618          Indie           46        NaN       NaN         NaN      NaN   \n",
       "55579          Indie           37        NaN       NaN         NaN      NaN   \n",
       "64439       Hobbyist           97        NaN       NaN         NaN      1.0   \n",
       "\n",
       "       dlc_count copiesSold  metacritic_preprocessed  has_metacritic  \\\n",
       "11655        NaN     Bronze                      0.0               0   \n",
       "9303         NaN     Bronze                      0.0               0   \n",
       "56618        NaN     Bronze                      0.0               0   \n",
       "55579        NaN       Gold                      0.0               0   \n",
       "64439        1.0       Gold                      0.0               0   \n",
       "\n",
       "       genre_Action  genre_Adventure  genre_Casual  genre_Early Access  \\\n",
       "11655             0                0             1                   0   \n",
       "9303              1                1             0                   0   \n",
       "56618             0                0             0                   0   \n",
       "55579             0                0             0                   0   \n",
       "64439             0                1             1                   0   \n",
       "\n",
       "       genre_Free To Play  genre_Gore  genre_Indie  \\\n",
       "11655                   0           0            0   \n",
       "9303                    1           0            1   \n",
       "56618                   0           0            0   \n",
       "55579                   1           0            0   \n",
       "64439                   1           0            1   \n",
       "\n",
       "       genre_Massively Multiplayer  genre_Nudity  genre_Other  genre_RPG  \\\n",
       "11655                            0             0            0          0   \n",
       "9303                             0             0            0          1   \n",
       "56618                            0             0            0          0   \n",
       "55579                            0             0            0          0   \n",
       "64439                            0             0            0          0   \n",
       "\n",
       "       genre_Racing  genre_Sexual Content  genre_Simulation  genre_Sports  \\\n",
       "11655             0                     0                 0             0   \n",
       "9303              0                     0                 0             0   \n",
       "56618             1                     0                 0             0   \n",
       "55579             0                     0                 1             0   \n",
       "64439             0                     0                 0             0   \n",
       "\n",
       "       genre_Strategy  genre_Violent  platform_linux  platform_mac  \\\n",
       "11655               0              0               0             0   \n",
       "9303                0              0               0             0   \n",
       "56618               0              0               0             0   \n",
       "55579               0              0               0             0   \n",
       "64439               0              0               1             1   \n",
       "\n",
       "       platform_windows  name_len  name_words  name_cap_ratio  is_sequel  \\\n",
       "11655                 1 -0.129008   -0.485228       -0.422150  -0.241008   \n",
       "9303                  1 -0.430898    0.109341        0.140908  -0.241008   \n",
       "56618                 1  0.575401    0.109341        0.301146  -0.241008   \n",
       "55579                 1 -0.129008    0.703911        0.243282  -0.241008   \n",
       "64439                 1 -0.833418   -1.079798       -0.496087  -0.241008   \n",
       "\n",
       "       name_has_vr  name_has_remaster  name_has_collector  \\\n",
       "11655    -0.141551          -0.018005           -0.025111   \n",
       "9303     -0.141551          -0.018005           -0.025111   \n",
       "56618    -0.141551          -0.018005           -0.025111   \n",
       "55579     7.064584          -0.018005           -0.025111   \n",
       "64439    -0.141551          -0.018005           -0.025111   \n",
       "\n",
       "       name_has_collection  name_has_edition  name_has_bundle  \\\n",
       "11655            -0.045946         -0.125187        -0.012731   \n",
       "9303             -0.045946         -0.125187        -0.012731   \n",
       "56618            -0.045946         -0.125187        -0.012731   \n",
       "55579            -0.045946         -0.125187        -0.012731   \n",
       "64439            -0.045946         -0.125187        -0.012731   \n",
       "\n",
       "       name_has_playtest  \n",
       "11655                0.0  \n",
       "9303                 0.0  \n",
       "56618                0.0  \n",
       "55579                0.0  \n",
       "64439                0.0  "
      ],
      "text/html": [
       "<div>\n",
       "<style scoped>\n",
       "    .dataframe tbody tr th:only-of-type {\n",
       "        vertical-align: middle;\n",
       "    }\n",
       "\n",
       "    .dataframe tbody tr th {\n",
       "        vertical-align: top;\n",
       "    }\n",
       "\n",
       "    .dataframe thead th {\n",
       "        text-align: right;\n",
       "    }\n",
       "</style>\n",
       "<table border=\"1\" class=\"dataframe\">\n",
       "  <thead>\n",
       "    <tr style=\"text-align: right;\">\n",
       "      <th></th>\n",
       "      <th>appid</th>\n",
       "      <th>name</th>\n",
       "      <th>metacritic</th>\n",
       "      <th>steam_achievements</th>\n",
       "      <th>steam_trading_cards</th>\n",
       "      <th>workshop_support</th>\n",
       "      <th>genres</th>\n",
       "      <th>achievements_total</th>\n",
       "      <th>is_release_date_known</th>\n",
       "      <th>is_upcoming</th>\n",
       "      <th>year</th>\n",
       "      <th>sin_day</th>\n",
       "      <th>cos_day</th>\n",
       "      <th>price</th>\n",
       "      <th>publisherClass</th>\n",
       "      <th>reviewScore</th>\n",
       "      <th>aiContent</th>\n",
       "      <th>has_demo</th>\n",
       "      <th>demo_count</th>\n",
       "      <th>has_dlc</th>\n",
       "      <th>dlc_count</th>\n",
       "      <th>copiesSold</th>\n",
       "      <th>metacritic_preprocessed</th>\n",
       "      <th>has_metacritic</th>\n",
       "      <th>genre_Action</th>\n",
       "      <th>genre_Adventure</th>\n",
       "      <th>genre_Casual</th>\n",
       "      <th>genre_Early Access</th>\n",
       "      <th>genre_Free To Play</th>\n",
       "      <th>genre_Gore</th>\n",
       "      <th>genre_Indie</th>\n",
       "      <th>genre_Massively Multiplayer</th>\n",
       "      <th>genre_Nudity</th>\n",
       "      <th>genre_Other</th>\n",
       "      <th>genre_RPG</th>\n",
       "      <th>genre_Racing</th>\n",
       "      <th>genre_Sexual Content</th>\n",
       "      <th>genre_Simulation</th>\n",
       "      <th>genre_Sports</th>\n",
       "      <th>genre_Strategy</th>\n",
       "      <th>genre_Violent</th>\n",
       "      <th>platform_linux</th>\n",
       "      <th>platform_mac</th>\n",
       "      <th>platform_windows</th>\n",
       "      <th>name_len</th>\n",
       "      <th>name_words</th>\n",
       "      <th>name_cap_ratio</th>\n",
       "      <th>is_sequel</th>\n",
       "      <th>name_has_vr</th>\n",
       "      <th>name_has_remaster</th>\n",
       "      <th>name_has_collector</th>\n",
       "      <th>name_has_collection</th>\n",
       "      <th>name_has_edition</th>\n",
       "      <th>name_has_bundle</th>\n",
       "      <th>name_has_playtest</th>\n",
       "    </tr>\n",
       "  </thead>\n",
       "  <tbody>\n",
       "    <tr>\n",
       "      <th>11655</th>\n",
       "      <td>2900800</td>\n",
       "      <td>physical spheres</td>\n",
       "      <td>NaN</td>\n",
       "      <td>0</td>\n",
       "      <td>0</td>\n",
       "      <td>0</td>\n",
       "      <td>Casual</td>\n",
       "      <td>-0.127185</td>\n",
       "      <td>1</td>\n",
       "      <td>0.0</td>\n",
       "      <td>2024</td>\n",
       "      <td>0.230306</td>\n",
       "      <td>-0.973118</td>\n",
       "      <td>0.99</td>\n",
       "      <td>Hobbyist</td>\n",
       "      <td>0</td>\n",
       "      <td>NaN</td>\n",
       "      <td>NaN</td>\n",
       "      <td>NaN</td>\n",
       "      <td>NaN</td>\n",
       "      <td>NaN</td>\n",
       "      <td>Bronze</td>\n",
       "      <td>0.0</td>\n",
       "      <td>0</td>\n",
       "      <td>0</td>\n",
       "      <td>0</td>\n",
       "      <td>1</td>\n",
       "      <td>0</td>\n",
       "      <td>0</td>\n",
       "      <td>0</td>\n",
       "      <td>0</td>\n",
       "      <td>0</td>\n",
       "      <td>0</td>\n",
       "      <td>0</td>\n",
       "      <td>0</td>\n",
       "      <td>0</td>\n",
       "      <td>0</td>\n",
       "      <td>0</td>\n",
       "      <td>0</td>\n",
       "      <td>0</td>\n",
       "      <td>0</td>\n",
       "      <td>0</td>\n",
       "      <td>0</td>\n",
       "      <td>1</td>\n",
       "      <td>-0.129008</td>\n",
       "      <td>-0.485228</td>\n",
       "      <td>-0.422150</td>\n",
       "      <td>-0.241008</td>\n",
       "      <td>-0.141551</td>\n",
       "      <td>-0.018005</td>\n",
       "      <td>-0.025111</td>\n",
       "      <td>-0.045946</td>\n",
       "      <td>-0.125187</td>\n",
       "      <td>-0.012731</td>\n",
       "      <td>0.0</td>\n",
       "    </tr>\n",
       "    <tr>\n",
       "      <th>9303</th>\n",
       "      <td>3017540</td>\n",
       "      <td>slice of ages</td>\n",
       "      <td>NaN</td>\n",
       "      <td>0</td>\n",
       "      <td>0</td>\n",
       "      <td>0</td>\n",
       "      <td>Action, Adventure, Indie, RPG, Free To Play</td>\n",
       "      <td>-0.127185</td>\n",
       "      <td>1</td>\n",
       "      <td>0.0</td>\n",
       "      <td>2024</td>\n",
       "      <td>-0.060213</td>\n",
       "      <td>-0.998186</td>\n",
       "      <td>0.00</td>\n",
       "      <td>Hobbyist</td>\n",
       "      <td>93</td>\n",
       "      <td>NaN</td>\n",
       "      <td>NaN</td>\n",
       "      <td>NaN</td>\n",
       "      <td>NaN</td>\n",
       "      <td>NaN</td>\n",
       "      <td>Bronze</td>\n",
       "      <td>0.0</td>\n",
       "      <td>0</td>\n",
       "      <td>1</td>\n",
       "      <td>1</td>\n",
       "      <td>0</td>\n",
       "      <td>0</td>\n",
       "      <td>1</td>\n",
       "      <td>0</td>\n",
       "      <td>1</td>\n",
       "      <td>0</td>\n",
       "      <td>0</td>\n",
       "      <td>0</td>\n",
       "      <td>1</td>\n",
       "      <td>0</td>\n",
       "      <td>0</td>\n",
       "      <td>0</td>\n",
       "      <td>0</td>\n",
       "      <td>0</td>\n",
       "      <td>0</td>\n",
       "      <td>0</td>\n",
       "      <td>0</td>\n",
       "      <td>1</td>\n",
       "      <td>-0.430898</td>\n",
       "      <td>0.109341</td>\n",
       "      <td>0.140908</td>\n",
       "      <td>-0.241008</td>\n",
       "      <td>-0.141551</td>\n",
       "      <td>-0.018005</td>\n",
       "      <td>-0.025111</td>\n",
       "      <td>-0.045946</td>\n",
       "      <td>-0.125187</td>\n",
       "      <td>-0.012731</td>\n",
       "      <td>0.0</td>\n",
       "    </tr>\n",
       "    <tr>\n",
       "      <th>56618</th>\n",
       "      <td>4290</td>\n",
       "      <td>race caterham expansion</td>\n",
       "      <td>NaN</td>\n",
       "      <td>0</td>\n",
       "      <td>0</td>\n",
       "      <td>0</td>\n",
       "      <td>Racing</td>\n",
       "      <td>-0.127185</td>\n",
       "      <td>1</td>\n",
       "      <td>0.0</td>\n",
       "      <td>2007</td>\n",
       "      <td>0.179767</td>\n",
       "      <td>-0.983709</td>\n",
       "      <td>3.99</td>\n",
       "      <td>Indie</td>\n",
       "      <td>46</td>\n",
       "      <td>NaN</td>\n",
       "      <td>NaN</td>\n",
       "      <td>NaN</td>\n",
       "      <td>NaN</td>\n",
       "      <td>NaN</td>\n",
       "      <td>Bronze</td>\n",
       "      <td>0.0</td>\n",
       "      <td>0</td>\n",
       "      <td>0</td>\n",
       "      <td>0</td>\n",
       "      <td>0</td>\n",
       "      <td>0</td>\n",
       "      <td>0</td>\n",
       "      <td>0</td>\n",
       "      <td>0</td>\n",
       "      <td>0</td>\n",
       "      <td>0</td>\n",
       "      <td>0</td>\n",
       "      <td>0</td>\n",
       "      <td>1</td>\n",
       "      <td>0</td>\n",
       "      <td>0</td>\n",
       "      <td>0</td>\n",
       "      <td>0</td>\n",
       "      <td>0</td>\n",
       "      <td>0</td>\n",
       "      <td>0</td>\n",
       "      <td>1</td>\n",
       "      <td>0.575401</td>\n",
       "      <td>0.109341</td>\n",
       "      <td>0.301146</td>\n",
       "      <td>-0.241008</td>\n",
       "      <td>-0.141551</td>\n",
       "      <td>-0.018005</td>\n",
       "      <td>-0.025111</td>\n",
       "      <td>-0.045946</td>\n",
       "      <td>-0.125187</td>\n",
       "      <td>-0.012731</td>\n",
       "      <td>0.0</td>\n",
       "    </tr>\n",
       "    <tr>\n",
       "      <th>55579</th>\n",
       "      <td>1111760</td>\n",
       "      <td>world of guns vr</td>\n",
       "      <td>NaN</td>\n",
       "      <td>1</td>\n",
       "      <td>0</td>\n",
       "      <td>0</td>\n",
       "      <td>Free To Play, Simulation</td>\n",
       "      <td>0.105103</td>\n",
       "      <td>1</td>\n",
       "      <td>0.0</td>\n",
       "      <td>2019</td>\n",
       "      <td>-0.188227</td>\n",
       "      <td>0.982126</td>\n",
       "      <td>0.00</td>\n",
       "      <td>Indie</td>\n",
       "      <td>37</td>\n",
       "      <td>NaN</td>\n",
       "      <td>NaN</td>\n",
       "      <td>NaN</td>\n",
       "      <td>NaN</td>\n",
       "      <td>NaN</td>\n",
       "      <td>Gold</td>\n",
       "      <td>0.0</td>\n",
       "      <td>0</td>\n",
       "      <td>0</td>\n",
       "      <td>0</td>\n",
       "      <td>0</td>\n",
       "      <td>0</td>\n",
       "      <td>1</td>\n",
       "      <td>0</td>\n",
       "      <td>0</td>\n",
       "      <td>0</td>\n",
       "      <td>0</td>\n",
       "      <td>0</td>\n",
       "      <td>0</td>\n",
       "      <td>0</td>\n",
       "      <td>0</td>\n",
       "      <td>1</td>\n",
       "      <td>0</td>\n",
       "      <td>0</td>\n",
       "      <td>0</td>\n",
       "      <td>0</td>\n",
       "      <td>0</td>\n",
       "      <td>1</td>\n",
       "      <td>-0.129008</td>\n",
       "      <td>0.703911</td>\n",
       "      <td>0.243282</td>\n",
       "      <td>-0.241008</td>\n",
       "      <td>7.064584</td>\n",
       "      <td>-0.018005</td>\n",
       "      <td>-0.025111</td>\n",
       "      <td>-0.045946</td>\n",
       "      <td>-0.125187</td>\n",
       "      <td>-0.012731</td>\n",
       "      <td>0.0</td>\n",
       "    </tr>\n",
       "    <tr>\n",
       "      <th>64439</th>\n",
       "      <td>765480</td>\n",
       "      <td>karambola</td>\n",
       "      <td>NaN</td>\n",
       "      <td>1</td>\n",
       "      <td>0</td>\n",
       "      <td>0</td>\n",
       "      <td>Adventure, Casual, Indie, Free To Play</td>\n",
       "      <td>-0.069113</td>\n",
       "      <td>1</td>\n",
       "      <td>0.0</td>\n",
       "      <td>2022</td>\n",
       "      <td>0.280231</td>\n",
       "      <td>-0.959933</td>\n",
       "      <td>0.00</td>\n",
       "      <td>Hobbyist</td>\n",
       "      <td>97</td>\n",
       "      <td>NaN</td>\n",
       "      <td>NaN</td>\n",
       "      <td>NaN</td>\n",
       "      <td>1.0</td>\n",
       "      <td>1.0</td>\n",
       "      <td>Gold</td>\n",
       "      <td>0.0</td>\n",
       "      <td>0</td>\n",
       "      <td>0</td>\n",
       "      <td>1</td>\n",
       "      <td>1</td>\n",
       "      <td>0</td>\n",
       "      <td>1</td>\n",
       "      <td>0</td>\n",
       "      <td>1</td>\n",
       "      <td>0</td>\n",
       "      <td>0</td>\n",
       "      <td>0</td>\n",
       "      <td>0</td>\n",
       "      <td>0</td>\n",
       "      <td>0</td>\n",
       "      <td>0</td>\n",
       "      <td>0</td>\n",
       "      <td>0</td>\n",
       "      <td>0</td>\n",
       "      <td>1</td>\n",
       "      <td>1</td>\n",
       "      <td>1</td>\n",
       "      <td>-0.833418</td>\n",
       "      <td>-1.079798</td>\n",
       "      <td>-0.496087</td>\n",
       "      <td>-0.241008</td>\n",
       "      <td>-0.141551</td>\n",
       "      <td>-0.018005</td>\n",
       "      <td>-0.025111</td>\n",
       "      <td>-0.045946</td>\n",
       "      <td>-0.125187</td>\n",
       "      <td>-0.012731</td>\n",
       "      <td>0.0</td>\n",
       "    </tr>\n",
       "  </tbody>\n",
       "</table>\n",
       "</div>"
      ]
     },
     "execution_count": 57,
     "metadata": {},
     "output_type": "execute_result"
    }
   ],
   "execution_count": 57
  },
  {
   "cell_type": "code",
   "id": "7fb7dd9a",
   "metadata": {
    "ExecuteTime": {
     "end_time": "2025-05-16T14:18:30.851133Z",
     "start_time": "2025-05-16T14:18:30.834617Z"
    }
   },
   "source": [
    "df_train.info()"
   ],
   "outputs": [
    {
     "name": "stdout",
     "output_type": "stream",
     "text": [
      "<class 'pandas.core.frame.DataFrame'>\n",
      "Index: 55541 entries, 11655 to 53785\n",
      "Data columns (total 55 columns):\n",
      " #   Column                       Non-Null Count  Dtype  \n",
      "---  ------                       --------------  -----  \n",
      " 0   appid                        55541 non-null  int64  \n",
      " 1   name                         55541 non-null  object \n",
      " 2   metacritic                   2321 non-null   float64\n",
      " 3   steam_achievements           55541 non-null  int64  \n",
      " 4   steam_trading_cards          55541 non-null  int64  \n",
      " 5   workshop_support             55541 non-null  int64  \n",
      " 6   genres                       55456 non-null  object \n",
      " 7   achievements_total           55541 non-null  float64\n",
      " 8   is_release_date_known        55541 non-null  int64  \n",
      " 9   is_upcoming                  55541 non-null  float64\n",
      " 10  year                         55541 non-null  int64  \n",
      " 11  sin_day                      55541 non-null  float64\n",
      " 12  cos_day                      55541 non-null  float64\n",
      " 13  price                        55541 non-null  float64\n",
      " 14  publisherClass               55541 non-null  object \n",
      " 15  reviewScore                  55541 non-null  int64  \n",
      " 16  aiContent                    0 non-null      float64\n",
      " 17  has_demo                     6084 non-null   float64\n",
      " 18  demo_count                   6084 non-null   float64\n",
      " 19  has_dlc                      3057 non-null   float64\n",
      " 20  dlc_count                    3057 non-null   float64\n",
      " 21  copiesSold                   55541 non-null  object \n",
      " 22  metacritic_preprocessed      55541 non-null  float64\n",
      " 23  has_metacritic               55541 non-null  int64  \n",
      " 24  genre_Action                 55541 non-null  int64  \n",
      " 25  genre_Adventure              55541 non-null  int64  \n",
      " 26  genre_Casual                 55541 non-null  int64  \n",
      " 27  genre_Early Access           55541 non-null  int64  \n",
      " 28  genre_Free To Play           55541 non-null  int64  \n",
      " 29  genre_Gore                   55541 non-null  int64  \n",
      " 30  genre_Indie                  55541 non-null  int64  \n",
      " 31  genre_Massively Multiplayer  55541 non-null  int64  \n",
      " 32  genre_Nudity                 55541 non-null  int64  \n",
      " 33  genre_Other                  55541 non-null  int64  \n",
      " 34  genre_RPG                    55541 non-null  int64  \n",
      " 35  genre_Racing                 55541 non-null  int64  \n",
      " 36  genre_Sexual Content         55541 non-null  int64  \n",
      " 37  genre_Simulation             55541 non-null  int64  \n",
      " 38  genre_Sports                 55541 non-null  int64  \n",
      " 39  genre_Strategy               55541 non-null  int64  \n",
      " 40  genre_Violent                55541 non-null  int64  \n",
      " 41  platform_linux               55541 non-null  int64  \n",
      " 42  platform_mac                 55541 non-null  int64  \n",
      " 43  platform_windows             55541 non-null  int64  \n",
      " 44  name_len                     55541 non-null  float64\n",
      " 45  name_words                   55541 non-null  float64\n",
      " 46  name_cap_ratio               55541 non-null  float64\n",
      " 47  is_sequel                    55541 non-null  float64\n",
      " 48  name_has_vr                  55541 non-null  float64\n",
      " 49  name_has_remaster            55541 non-null  float64\n",
      " 50  name_has_collector           55541 non-null  float64\n",
      " 51  name_has_collection          55541 non-null  float64\n",
      " 52  name_has_edition             55541 non-null  float64\n",
      " 53  name_has_bundle              55541 non-null  float64\n",
      " 54  name_has_playtest            55541 non-null  float64\n",
      "dtypes: float64(23), int64(28), object(4)\n",
      "memory usage: 23.7+ MB\n"
     ]
    }
   ],
   "execution_count": 58
  },
  {
   "cell_type": "markdown",
   "id": "e42bc45f",
   "metadata": {},
   "source": [
    "#### Publisher Class Column"
   ]
  },
  {
   "cell_type": "code",
   "id": "2bd69fb8",
   "metadata": {
    "ExecuteTime": {
     "end_time": "2025-05-16T14:18:30.883829Z",
     "start_time": "2025-05-16T14:18:30.875401Z"
    }
   },
   "source": [
    "df_train['publisherClass'].value_counts()"
   ],
   "outputs": [
    {
     "data": {
      "text/plain": [
       "publisherClass\n",
       "Hobbyist    31643\n",
       "Indie       21502\n",
       "AA           1748\n",
       "AAA           648\n",
       "Name: count, dtype: int64"
      ]
     },
     "execution_count": 59,
     "metadata": {},
     "output_type": "execute_result"
    }
   ],
   "execution_count": 59
  },
  {
   "cell_type": "code",
   "id": "aa5b6a6c",
   "metadata": {
    "ExecuteTime": {
     "end_time": "2025-05-16T14:18:30.931243Z",
     "start_time": "2025-05-16T14:18:30.927541Z"
    }
   },
   "source": [
    "if TARGET_TYPE == TargetType.REGRESSION:\n",
    "    grouped = df_train.groupby('publisherClass')['copiesSold'].sum().sort_values(ascending=False)\n",
    "\n",
    "    plt.figure(figsize=(8,5))\n",
    "    sns.barplot(x=grouped.index, y=grouped.values, palette='viridis')\n",
    "    plt.title('Total Copies Sold by Publisher Class')\n",
    "    plt.xlabel('Publisher Class')\n",
    "    plt.ylabel('Copies Sold')\n",
    "    plt.show()"
   ],
   "outputs": [],
   "execution_count": 60
  },
  {
   "cell_type": "markdown",
   "id": "b6a4e0f5",
   "metadata": {},
   "source": [
    " As dataset rows equals 93338 i think we can replace AA and AAA columns with only one column for others and this also may handle unseen data in testing"
   ]
  },
  {
   "cell_type": "code",
   "id": "e1ed0587",
   "metadata": {
    "ExecuteTime": {
     "end_time": "2025-05-16T14:18:30.978353Z",
     "start_time": "2025-05-16T14:18:30.966694Z"
    }
   },
   "source": [
    "mapping = {'AA': 'Other', 'AAA': 'Other'}\n",
    "\n",
    "df_train['publisherClass'] = df_train['publisherClass'].replace(mapping)\n",
    "df_val['publisherClass'] = df_val['publisherClass'].replace(mapping)\n",
    "df_test['publisherClass'] = df_test['publisherClass'].replace(mapping)\n",
    "\n",
    "print(df_train['publisherClass'].value_counts())"
   ],
   "outputs": [
    {
     "name": "stdout",
     "output_type": "stream",
     "text": [
      "publisherClass\n",
      "Hobbyist    31643\n",
      "Indie       21502\n",
      "Other        2396\n",
      "Name: count, dtype: int64\n"
     ]
    }
   ],
   "execution_count": 61
  },
  {
   "cell_type": "markdown",
   "id": "62adc164",
   "metadata": {},
   "source": [
    "#### Using Dummy Encoding (A Smarter Way Of Doing One Hot Encoding)"
   ]
  },
  {
   "cell_type": "code",
   "id": "4a591e3f",
   "metadata": {
    "ExecuteTime": {
     "end_time": "2025-05-16T14:18:31.063938Z",
     "start_time": "2025-05-16T14:18:30.995491Z"
    }
   },
   "source": [
    "encoder = OneHotEncoder(drop='first', sparse_output=False)\n",
    "\n",
    "encoded_train = encoder.fit_transform(df_train[['publisherClass']])\n",
    "encoded_train_df = pd.DataFrame(encoded_train, columns=encoder.get_feature_names_out(['publisherClass']), index=df_train.index)\n",
    "df_train = pd.concat([df_train, encoded_train_df], axis=1)\n",
    "df_train.drop('publisherClass', axis=1, inplace=True)\n",
    "\n",
    "encoded_val = encoder.transform(df_val[['publisherClass']])\n",
    "encoded_val_df = pd.DataFrame(encoded_val, columns=encoder.get_feature_names_out(['publisherClass']), index=df_val.index)\n",
    "df_val = pd.concat([df_val, encoded_val_df], axis=1)\n",
    "df_val.drop('publisherClass', axis=1, inplace=True)\n",
    "\n",
    "encoded_test = encoder.transform(df_test[['publisherClass']])\n",
    "encoded_test_df = pd.DataFrame(encoded_test, columns=encoder.get_feature_names_out(['publisherClass']), index=df_test.index)\n",
    "df_test = pd.concat([df_test, encoded_test_df], axis=1)\n",
    "df_test.drop('publisherClass', axis=1, inplace=True)"
   ],
   "outputs": [],
   "execution_count": 62
  },
  {
   "cell_type": "code",
   "id": "3c51f680",
   "metadata": {
    "ExecuteTime": {
     "end_time": "2025-05-16T14:18:31.144633Z",
     "start_time": "2025-05-16T14:18:31.127571Z"
    }
   },
   "source": [
    "df_train.tail()"
   ],
   "outputs": [
    {
     "data": {
      "text/plain": [
       "         appid                                               name  metacritic  \\\n",
       "39195  1763210                                         waveplayer         NaN   \n",
       "44789  1068700  mystery of the ancients deadly cold collectors...         NaN   \n",
       "19833   661330                                             layers         NaN   \n",
       "68023  3376510                                         cafe haven         NaN   \n",
       "53785  1165540                                           mad maze         NaN   \n",
       "\n",
       "       steam_achievements  steam_trading_cards  workshop_support  \\\n",
       "39195                   0                    0                 0   \n",
       "44789                   0                    0                 0   \n",
       "19833                   1                    0                 0   \n",
       "68023                   1                    0                 0   \n",
       "53785                   0                    0                 0   \n",
       "\n",
       "                                        genres  achievements_total  \\\n",
       "39195                        Action, Adventure           -0.127185   \n",
       "44789                        Adventure, Casual           -0.127185   \n",
       "19833                            Casual, Indie           -0.069113   \n",
       "68023              Indie, Simulation, Strategy           -0.022656   \n",
       "53785  Adventure, Casual, Indie, RPG, Strategy           -0.127185   \n",
       "\n",
       "       is_release_date_known  is_upcoming  year   sin_day   cos_day  price  \\\n",
       "39195                      1          0.0  2021 -0.920971  0.389630   0.00   \n",
       "44789                      1          0.0  2019  0.196673 -0.980469   9.99   \n",
       "19833                      1          0.0  2017 -0.746972  0.664855   0.99   \n",
       "68023                      0          1.0  2025  0.699458  0.714673   4.99   \n",
       "53785                      1          0.0  2019 -0.977848  0.209315   1.99   \n",
       "\n",
       "       reviewScore  aiContent  has_demo  demo_count  has_dlc  dlc_count  \\\n",
       "39195           86        NaN       NaN         NaN      NaN        NaN   \n",
       "44789           87        NaN       NaN         NaN      NaN        NaN   \n",
       "19833           78        NaN       NaN         NaN      NaN        NaN   \n",
       "68023          100        NaN       NaN         NaN      NaN        NaN   \n",
       "53785          100        NaN       NaN         NaN      NaN        NaN   \n",
       "\n",
       "      copiesSold  metacritic_preprocessed  has_metacritic  genre_Action  \\\n",
       "39195     Bronze                      0.0               0             1   \n",
       "44789     Bronze                      0.0               0             0   \n",
       "19833     Bronze                      0.0               0             0   \n",
       "68023     Bronze                      0.0               0             0   \n",
       "53785     Bronze                      0.0               0             0   \n",
       "\n",
       "       genre_Adventure  genre_Casual  genre_Early Access  genre_Free To Play  \\\n",
       "39195                1             0                   0                   0   \n",
       "44789                1             1                   0                   0   \n",
       "19833                0             1                   0                   0   \n",
       "68023                0             0                   0                   0   \n",
       "53785                1             1                   0                   0   \n",
       "\n",
       "       genre_Gore  genre_Indie  genre_Massively Multiplayer  genre_Nudity  \\\n",
       "39195           0            0                            0             0   \n",
       "44789           0            0                            0             0   \n",
       "19833           0            1                            0             0   \n",
       "68023           0            1                            0             0   \n",
       "53785           0            1                            0             0   \n",
       "\n",
       "       genre_Other  genre_RPG  genre_Racing  genre_Sexual Content  \\\n",
       "39195            0          0             0                     0   \n",
       "44789            0          0             0                     0   \n",
       "19833            0          0             0                     0   \n",
       "68023            0          0             0                     0   \n",
       "53785            0          1             0                     0   \n",
       "\n",
       "       genre_Simulation  genre_Sports  genre_Strategy  genre_Violent  \\\n",
       "39195                 0             0               0              0   \n",
       "44789                 0             0               0              0   \n",
       "19833                 0             0               0              0   \n",
       "68023                 1             0               1              0   \n",
       "53785                 0             0               1              0   \n",
       "\n",
       "       platform_linux  platform_mac  platform_windows  name_len  name_words  \\\n",
       "39195               0             1                 1 -0.732788   -1.079798   \n",
       "44789               0             0                 1  3.694929    3.082189   \n",
       "19833               1             1                 1 -1.135308   -1.079798   \n",
       "68023               0             0                 1 -0.732788   -0.485228   \n",
       "53785               0             0                 1 -0.934048   -0.485228   \n",
       "\n",
       "       name_cap_ratio  is_sequel  name_has_vr  name_has_remaster  \\\n",
       "39195       -0.022890  -0.241008    -0.141551          -0.018005   \n",
       "44789       -0.496087  -0.241008    -0.141551          -0.018005   \n",
       "19833       -0.200339  -0.241008    -0.141551          -0.018005   \n",
       "68023       -0.022890  -0.241008    -0.141551          -0.018005   \n",
       "53785        1.574147  -0.241008    -0.141551          -0.018005   \n",
       "\n",
       "       name_has_collector  name_has_collection  name_has_edition  \\\n",
       "39195           -0.025111            -0.045946         -0.125187   \n",
       "44789           -0.025111            -0.045946          7.988031   \n",
       "19833           -0.025111            -0.045946         -0.125187   \n",
       "68023           -0.025111            -0.045946         -0.125187   \n",
       "53785           -0.025111            -0.045946         -0.125187   \n",
       "\n",
       "       name_has_bundle  name_has_playtest  publisherClass_Indie  \\\n",
       "39195        -0.012731                0.0                   0.0   \n",
       "44789        -0.012731                0.0                   1.0   \n",
       "19833        -0.012731                0.0                   0.0   \n",
       "68023        -0.012731                0.0                   0.0   \n",
       "53785        -0.012731                0.0                   0.0   \n",
       "\n",
       "       publisherClass_Other  \n",
       "39195                   0.0  \n",
       "44789                   0.0  \n",
       "19833                   0.0  \n",
       "68023                   0.0  \n",
       "53785                   0.0  "
      ],
      "text/html": [
       "<div>\n",
       "<style scoped>\n",
       "    .dataframe tbody tr th:only-of-type {\n",
       "        vertical-align: middle;\n",
       "    }\n",
       "\n",
       "    .dataframe tbody tr th {\n",
       "        vertical-align: top;\n",
       "    }\n",
       "\n",
       "    .dataframe thead th {\n",
       "        text-align: right;\n",
       "    }\n",
       "</style>\n",
       "<table border=\"1\" class=\"dataframe\">\n",
       "  <thead>\n",
       "    <tr style=\"text-align: right;\">\n",
       "      <th></th>\n",
       "      <th>appid</th>\n",
       "      <th>name</th>\n",
       "      <th>metacritic</th>\n",
       "      <th>steam_achievements</th>\n",
       "      <th>steam_trading_cards</th>\n",
       "      <th>workshop_support</th>\n",
       "      <th>genres</th>\n",
       "      <th>achievements_total</th>\n",
       "      <th>is_release_date_known</th>\n",
       "      <th>is_upcoming</th>\n",
       "      <th>year</th>\n",
       "      <th>sin_day</th>\n",
       "      <th>cos_day</th>\n",
       "      <th>price</th>\n",
       "      <th>reviewScore</th>\n",
       "      <th>aiContent</th>\n",
       "      <th>has_demo</th>\n",
       "      <th>demo_count</th>\n",
       "      <th>has_dlc</th>\n",
       "      <th>dlc_count</th>\n",
       "      <th>copiesSold</th>\n",
       "      <th>metacritic_preprocessed</th>\n",
       "      <th>has_metacritic</th>\n",
       "      <th>genre_Action</th>\n",
       "      <th>genre_Adventure</th>\n",
       "      <th>genre_Casual</th>\n",
       "      <th>genre_Early Access</th>\n",
       "      <th>genre_Free To Play</th>\n",
       "      <th>genre_Gore</th>\n",
       "      <th>genre_Indie</th>\n",
       "      <th>genre_Massively Multiplayer</th>\n",
       "      <th>genre_Nudity</th>\n",
       "      <th>genre_Other</th>\n",
       "      <th>genre_RPG</th>\n",
       "      <th>genre_Racing</th>\n",
       "      <th>genre_Sexual Content</th>\n",
       "      <th>genre_Simulation</th>\n",
       "      <th>genre_Sports</th>\n",
       "      <th>genre_Strategy</th>\n",
       "      <th>genre_Violent</th>\n",
       "      <th>platform_linux</th>\n",
       "      <th>platform_mac</th>\n",
       "      <th>platform_windows</th>\n",
       "      <th>name_len</th>\n",
       "      <th>name_words</th>\n",
       "      <th>name_cap_ratio</th>\n",
       "      <th>is_sequel</th>\n",
       "      <th>name_has_vr</th>\n",
       "      <th>name_has_remaster</th>\n",
       "      <th>name_has_collector</th>\n",
       "      <th>name_has_collection</th>\n",
       "      <th>name_has_edition</th>\n",
       "      <th>name_has_bundle</th>\n",
       "      <th>name_has_playtest</th>\n",
       "      <th>publisherClass_Indie</th>\n",
       "      <th>publisherClass_Other</th>\n",
       "    </tr>\n",
       "  </thead>\n",
       "  <tbody>\n",
       "    <tr>\n",
       "      <th>39195</th>\n",
       "      <td>1763210</td>\n",
       "      <td>waveplayer</td>\n",
       "      <td>NaN</td>\n",
       "      <td>0</td>\n",
       "      <td>0</td>\n",
       "      <td>0</td>\n",
       "      <td>Action, Adventure</td>\n",
       "      <td>-0.127185</td>\n",
       "      <td>1</td>\n",
       "      <td>0.0</td>\n",
       "      <td>2021</td>\n",
       "      <td>-0.920971</td>\n",
       "      <td>0.389630</td>\n",
       "      <td>0.00</td>\n",
       "      <td>86</td>\n",
       "      <td>NaN</td>\n",
       "      <td>NaN</td>\n",
       "      <td>NaN</td>\n",
       "      <td>NaN</td>\n",
       "      <td>NaN</td>\n",
       "      <td>Bronze</td>\n",
       "      <td>0.0</td>\n",
       "      <td>0</td>\n",
       "      <td>1</td>\n",
       "      <td>1</td>\n",
       "      <td>0</td>\n",
       "      <td>0</td>\n",
       "      <td>0</td>\n",
       "      <td>0</td>\n",
       "      <td>0</td>\n",
       "      <td>0</td>\n",
       "      <td>0</td>\n",
       "      <td>0</td>\n",
       "      <td>0</td>\n",
       "      <td>0</td>\n",
       "      <td>0</td>\n",
       "      <td>0</td>\n",
       "      <td>0</td>\n",
       "      <td>0</td>\n",
       "      <td>0</td>\n",
       "      <td>0</td>\n",
       "      <td>1</td>\n",
       "      <td>1</td>\n",
       "      <td>-0.732788</td>\n",
       "      <td>-1.079798</td>\n",
       "      <td>-0.022890</td>\n",
       "      <td>-0.241008</td>\n",
       "      <td>-0.141551</td>\n",
       "      <td>-0.018005</td>\n",
       "      <td>-0.025111</td>\n",
       "      <td>-0.045946</td>\n",
       "      <td>-0.125187</td>\n",
       "      <td>-0.012731</td>\n",
       "      <td>0.0</td>\n",
       "      <td>0.0</td>\n",
       "      <td>0.0</td>\n",
       "    </tr>\n",
       "    <tr>\n",
       "      <th>44789</th>\n",
       "      <td>1068700</td>\n",
       "      <td>mystery of the ancients deadly cold collectors...</td>\n",
       "      <td>NaN</td>\n",
       "      <td>0</td>\n",
       "      <td>0</td>\n",
       "      <td>0</td>\n",
       "      <td>Adventure, Casual</td>\n",
       "      <td>-0.127185</td>\n",
       "      <td>1</td>\n",
       "      <td>0.0</td>\n",
       "      <td>2019</td>\n",
       "      <td>0.196673</td>\n",
       "      <td>-0.980469</td>\n",
       "      <td>9.99</td>\n",
       "      <td>87</td>\n",
       "      <td>NaN</td>\n",
       "      <td>NaN</td>\n",
       "      <td>NaN</td>\n",
       "      <td>NaN</td>\n",
       "      <td>NaN</td>\n",
       "      <td>Bronze</td>\n",
       "      <td>0.0</td>\n",
       "      <td>0</td>\n",
       "      <td>0</td>\n",
       "      <td>1</td>\n",
       "      <td>1</td>\n",
       "      <td>0</td>\n",
       "      <td>0</td>\n",
       "      <td>0</td>\n",
       "      <td>0</td>\n",
       "      <td>0</td>\n",
       "      <td>0</td>\n",
       "      <td>0</td>\n",
       "      <td>0</td>\n",
       "      <td>0</td>\n",
       "      <td>0</td>\n",
       "      <td>0</td>\n",
       "      <td>0</td>\n",
       "      <td>0</td>\n",
       "      <td>0</td>\n",
       "      <td>0</td>\n",
       "      <td>0</td>\n",
       "      <td>1</td>\n",
       "      <td>3.694929</td>\n",
       "      <td>3.082189</td>\n",
       "      <td>-0.496087</td>\n",
       "      <td>-0.241008</td>\n",
       "      <td>-0.141551</td>\n",
       "      <td>-0.018005</td>\n",
       "      <td>-0.025111</td>\n",
       "      <td>-0.045946</td>\n",
       "      <td>7.988031</td>\n",
       "      <td>-0.012731</td>\n",
       "      <td>0.0</td>\n",
       "      <td>1.0</td>\n",
       "      <td>0.0</td>\n",
       "    </tr>\n",
       "    <tr>\n",
       "      <th>19833</th>\n",
       "      <td>661330</td>\n",
       "      <td>layers</td>\n",
       "      <td>NaN</td>\n",
       "      <td>1</td>\n",
       "      <td>0</td>\n",
       "      <td>0</td>\n",
       "      <td>Casual, Indie</td>\n",
       "      <td>-0.069113</td>\n",
       "      <td>1</td>\n",
       "      <td>0.0</td>\n",
       "      <td>2017</td>\n",
       "      <td>-0.746972</td>\n",
       "      <td>0.664855</td>\n",
       "      <td>0.99</td>\n",
       "      <td>78</td>\n",
       "      <td>NaN</td>\n",
       "      <td>NaN</td>\n",
       "      <td>NaN</td>\n",
       "      <td>NaN</td>\n",
       "      <td>NaN</td>\n",
       "      <td>Bronze</td>\n",
       "      <td>0.0</td>\n",
       "      <td>0</td>\n",
       "      <td>0</td>\n",
       "      <td>0</td>\n",
       "      <td>1</td>\n",
       "      <td>0</td>\n",
       "      <td>0</td>\n",
       "      <td>0</td>\n",
       "      <td>1</td>\n",
       "      <td>0</td>\n",
       "      <td>0</td>\n",
       "      <td>0</td>\n",
       "      <td>0</td>\n",
       "      <td>0</td>\n",
       "      <td>0</td>\n",
       "      <td>0</td>\n",
       "      <td>0</td>\n",
       "      <td>0</td>\n",
       "      <td>0</td>\n",
       "      <td>1</td>\n",
       "      <td>1</td>\n",
       "      <td>1</td>\n",
       "      <td>-1.135308</td>\n",
       "      <td>-1.079798</td>\n",
       "      <td>-0.200339</td>\n",
       "      <td>-0.241008</td>\n",
       "      <td>-0.141551</td>\n",
       "      <td>-0.018005</td>\n",
       "      <td>-0.025111</td>\n",
       "      <td>-0.045946</td>\n",
       "      <td>-0.125187</td>\n",
       "      <td>-0.012731</td>\n",
       "      <td>0.0</td>\n",
       "      <td>0.0</td>\n",
       "      <td>0.0</td>\n",
       "    </tr>\n",
       "    <tr>\n",
       "      <th>68023</th>\n",
       "      <td>3376510</td>\n",
       "      <td>cafe haven</td>\n",
       "      <td>NaN</td>\n",
       "      <td>1</td>\n",
       "      <td>0</td>\n",
       "      <td>0</td>\n",
       "      <td>Indie, Simulation, Strategy</td>\n",
       "      <td>-0.022656</td>\n",
       "      <td>0</td>\n",
       "      <td>1.0</td>\n",
       "      <td>2025</td>\n",
       "      <td>0.699458</td>\n",
       "      <td>0.714673</td>\n",
       "      <td>4.99</td>\n",
       "      <td>100</td>\n",
       "      <td>NaN</td>\n",
       "      <td>NaN</td>\n",
       "      <td>NaN</td>\n",
       "      <td>NaN</td>\n",
       "      <td>NaN</td>\n",
       "      <td>Bronze</td>\n",
       "      <td>0.0</td>\n",
       "      <td>0</td>\n",
       "      <td>0</td>\n",
       "      <td>0</td>\n",
       "      <td>0</td>\n",
       "      <td>0</td>\n",
       "      <td>0</td>\n",
       "      <td>0</td>\n",
       "      <td>1</td>\n",
       "      <td>0</td>\n",
       "      <td>0</td>\n",
       "      <td>0</td>\n",
       "      <td>0</td>\n",
       "      <td>0</td>\n",
       "      <td>0</td>\n",
       "      <td>1</td>\n",
       "      <td>0</td>\n",
       "      <td>1</td>\n",
       "      <td>0</td>\n",
       "      <td>0</td>\n",
       "      <td>0</td>\n",
       "      <td>1</td>\n",
       "      <td>-0.732788</td>\n",
       "      <td>-0.485228</td>\n",
       "      <td>-0.022890</td>\n",
       "      <td>-0.241008</td>\n",
       "      <td>-0.141551</td>\n",
       "      <td>-0.018005</td>\n",
       "      <td>-0.025111</td>\n",
       "      <td>-0.045946</td>\n",
       "      <td>-0.125187</td>\n",
       "      <td>-0.012731</td>\n",
       "      <td>0.0</td>\n",
       "      <td>0.0</td>\n",
       "      <td>0.0</td>\n",
       "    </tr>\n",
       "    <tr>\n",
       "      <th>53785</th>\n",
       "      <td>1165540</td>\n",
       "      <td>mad maze</td>\n",
       "      <td>NaN</td>\n",
       "      <td>0</td>\n",
       "      <td>0</td>\n",
       "      <td>0</td>\n",
       "      <td>Adventure, Casual, Indie, RPG, Strategy</td>\n",
       "      <td>-0.127185</td>\n",
       "      <td>1</td>\n",
       "      <td>0.0</td>\n",
       "      <td>2019</td>\n",
       "      <td>-0.977848</td>\n",
       "      <td>0.209315</td>\n",
       "      <td>1.99</td>\n",
       "      <td>100</td>\n",
       "      <td>NaN</td>\n",
       "      <td>NaN</td>\n",
       "      <td>NaN</td>\n",
       "      <td>NaN</td>\n",
       "      <td>NaN</td>\n",
       "      <td>Bronze</td>\n",
       "      <td>0.0</td>\n",
       "      <td>0</td>\n",
       "      <td>0</td>\n",
       "      <td>1</td>\n",
       "      <td>1</td>\n",
       "      <td>0</td>\n",
       "      <td>0</td>\n",
       "      <td>0</td>\n",
       "      <td>1</td>\n",
       "      <td>0</td>\n",
       "      <td>0</td>\n",
       "      <td>0</td>\n",
       "      <td>1</td>\n",
       "      <td>0</td>\n",
       "      <td>0</td>\n",
       "      <td>0</td>\n",
       "      <td>0</td>\n",
       "      <td>1</td>\n",
       "      <td>0</td>\n",
       "      <td>0</td>\n",
       "      <td>0</td>\n",
       "      <td>1</td>\n",
       "      <td>-0.934048</td>\n",
       "      <td>-0.485228</td>\n",
       "      <td>1.574147</td>\n",
       "      <td>-0.241008</td>\n",
       "      <td>-0.141551</td>\n",
       "      <td>-0.018005</td>\n",
       "      <td>-0.025111</td>\n",
       "      <td>-0.045946</td>\n",
       "      <td>-0.125187</td>\n",
       "      <td>-0.012731</td>\n",
       "      <td>0.0</td>\n",
       "      <td>0.0</td>\n",
       "      <td>0.0</td>\n",
       "    </tr>\n",
       "  </tbody>\n",
       "</table>\n",
       "</div>"
      ]
     },
     "execution_count": 63,
     "metadata": {},
     "output_type": "execute_result"
    }
   ],
   "execution_count": 63
  },
  {
   "cell_type": "markdown",
   "id": "e9687ec5",
   "metadata": {},
   "source": [
    "#### Dropping AI Content column as it contain 100% NULL values"
   ]
  },
  {
   "cell_type": "code",
   "id": "14e0e1c9",
   "metadata": {
    "ExecuteTime": {
     "end_time": "2025-05-16T14:18:31.268064Z",
     "start_time": "2025-05-16T14:18:31.246617Z"
    }
   },
   "source": [
    "df_train.drop('aiContent', axis=1, inplace=True)\n",
    "df_val.drop('aiContent', axis=1, inplace=True)\n",
    "df_test.drop('aiContent', axis=1, inplace=True)"
   ],
   "outputs": [],
   "execution_count": 64
  },
  {
   "cell_type": "markdown",
   "id": "57639a88",
   "metadata": {},
   "source": [
    "### Preprocess Price, Copies Sold, and Reviews Columns"
   ]
  },
  {
   "cell_type": "markdown",
   "id": "3036cf1a",
   "metadata": {},
   "source": [
    "####  Identify Columns That Contain a Single Value\n",
    "  - Columns that have a single observation or value are probably useless for modeling."
   ]
  },
  {
   "cell_type": "code",
   "id": "de298d62",
   "metadata": {
    "ExecuteTime": {
     "end_time": "2025-05-16T14:18:31.319236Z",
     "start_time": "2025-05-16T14:18:31.296515Z"
    }
   },
   "source": [
    "# Check if column has a single value\n",
    "print(1, len(unique(df_train['price'])))\n",
    "print(2, len(unique(df_train['copiesSold'])))\n",
    "print(3, len(unique(df_train['reviewScore'])))"
   ],
   "outputs": [
    {
     "name": "stdout",
     "output_type": "stream",
     "text": [
      "1 267\n",
      "2 4\n",
      "3 98\n"
     ]
    }
   ],
   "execution_count": 65
  },
  {
   "cell_type": "code",
   "id": "9c05972b",
   "metadata": {
    "ExecuteTime": {
     "end_time": "2025-05-16T14:18:31.357556Z",
     "start_time": "2025-05-16T14:18:31.335440Z"
    }
   },
   "source": [
    "print(df_train.info())"
   ],
   "outputs": [
    {
     "name": "stdout",
     "output_type": "stream",
     "text": [
      "<class 'pandas.core.frame.DataFrame'>\n",
      "Index: 55541 entries, 11655 to 53785\n",
      "Data columns (total 55 columns):\n",
      " #   Column                       Non-Null Count  Dtype  \n",
      "---  ------                       --------------  -----  \n",
      " 0   appid                        55541 non-null  int64  \n",
      " 1   name                         55541 non-null  object \n",
      " 2   metacritic                   2321 non-null   float64\n",
      " 3   steam_achievements           55541 non-null  int64  \n",
      " 4   steam_trading_cards          55541 non-null  int64  \n",
      " 5   workshop_support             55541 non-null  int64  \n",
      " 6   genres                       55456 non-null  object \n",
      " 7   achievements_total           55541 non-null  float64\n",
      " 8   is_release_date_known        55541 non-null  int64  \n",
      " 9   is_upcoming                  55541 non-null  float64\n",
      " 10  year                         55541 non-null  int64  \n",
      " 11  sin_day                      55541 non-null  float64\n",
      " 12  cos_day                      55541 non-null  float64\n",
      " 13  price                        55541 non-null  float64\n",
      " 14  reviewScore                  55541 non-null  int64  \n",
      " 15  has_demo                     6084 non-null   float64\n",
      " 16  demo_count                   6084 non-null   float64\n",
      " 17  has_dlc                      3057 non-null   float64\n",
      " 18  dlc_count                    3057 non-null   float64\n",
      " 19  copiesSold                   55541 non-null  object \n",
      " 20  metacritic_preprocessed      55541 non-null  float64\n",
      " 21  has_metacritic               55541 non-null  int64  \n",
      " 22  genre_Action                 55541 non-null  int64  \n",
      " 23  genre_Adventure              55541 non-null  int64  \n",
      " 24  genre_Casual                 55541 non-null  int64  \n",
      " 25  genre_Early Access           55541 non-null  int64  \n",
      " 26  genre_Free To Play           55541 non-null  int64  \n",
      " 27  genre_Gore                   55541 non-null  int64  \n",
      " 28  genre_Indie                  55541 non-null  int64  \n",
      " 29  genre_Massively Multiplayer  55541 non-null  int64  \n",
      " 30  genre_Nudity                 55541 non-null  int64  \n",
      " 31  genre_Other                  55541 non-null  int64  \n",
      " 32  genre_RPG                    55541 non-null  int64  \n",
      " 33  genre_Racing                 55541 non-null  int64  \n",
      " 34  genre_Sexual Content         55541 non-null  int64  \n",
      " 35  genre_Simulation             55541 non-null  int64  \n",
      " 36  genre_Sports                 55541 non-null  int64  \n",
      " 37  genre_Strategy               55541 non-null  int64  \n",
      " 38  genre_Violent                55541 non-null  int64  \n",
      " 39  platform_linux               55541 non-null  int64  \n",
      " 40  platform_mac                 55541 non-null  int64  \n",
      " 41  platform_windows             55541 non-null  int64  \n",
      " 42  name_len                     55541 non-null  float64\n",
      " 43  name_words                   55541 non-null  float64\n",
      " 44  name_cap_ratio               55541 non-null  float64\n",
      " 45  is_sequel                    55541 non-null  float64\n",
      " 46  name_has_vr                  55541 non-null  float64\n",
      " 47  name_has_remaster            55541 non-null  float64\n",
      " 48  name_has_collector           55541 non-null  float64\n",
      " 49  name_has_collection          55541 non-null  float64\n",
      " 50  name_has_edition             55541 non-null  float64\n",
      " 51  name_has_bundle              55541 non-null  float64\n",
      " 52  name_has_playtest            55541 non-null  float64\n",
      " 53  publisherClass_Indie         55541 non-null  float64\n",
      " 54  publisherClass_Other         55541 non-null  float64\n",
      "dtypes: float64(24), int64(28), object(3)\n",
      "memory usage: 23.7+ MB\n",
      "None\n"
     ]
    }
   ],
   "execution_count": 66
  },
  {
   "cell_type": "markdown",
   "id": "da2d6288",
   "metadata": {},
   "source": [
    "#### If Target is Classification, Check The Value Counts"
   ]
  },
  {
   "cell_type": "code",
   "id": "53c4b63f",
   "metadata": {
    "ExecuteTime": {
     "end_time": "2025-05-16T14:18:31.441827Z",
     "start_time": "2025-05-16T14:18:31.434374Z"
    }
   },
   "source": [
    "if TARGET_TYPE == TargetType.CLASSIFICATION:\n",
    "    combined_copies_sold = pd.concat([\n",
    "        df_train['copiesSold'],\n",
    "        df_val['copiesSold'],\n",
    "        df_test['copiesSold']\n",
    "    ])\n",
    "    print(combined_copies_sold.value_counts())"
   ],
   "outputs": [
    {
     "name": "stdout",
     "output_type": "stream",
     "text": [
      "copiesSold\n",
      "Bronze      35550\n",
      "Silver      17994\n",
      "Gold        10279\n",
      "Platinum     5603\n",
      "Name: count, dtype: int64\n"
     ]
    }
   ],
   "execution_count": 67
  },
  {
   "cell_type": "markdown",
   "id": "57ae0700",
   "metadata": {},
   "source": [
    "#### Check Duplicates"
   ]
  },
  {
   "cell_type": "code",
   "id": "2d265bfc",
   "metadata": {
    "ExecuteTime": {
     "end_time": "2025-05-16T14:18:31.581599Z",
     "start_time": "2025-05-16T14:18:31.517722Z"
    }
   },
   "source": [
    "duplicates = df_train.duplicated()\n",
    "print(\"Any duplicates ?\", duplicates.any())\n",
    "print(\"Duplicate rows:\\n\", df_train[duplicates])"
   ],
   "outputs": [
    {
     "name": "stdout",
     "output_type": "stream",
     "text": [
      "Any duplicates ? False\n",
      "Duplicate rows:\n",
      " Empty DataFrame\n",
      "Columns: [appid, name, metacritic, steam_achievements, steam_trading_cards, workshop_support, genres, achievements_total, is_release_date_known, is_upcoming, year, sin_day, cos_day, price, reviewScore, has_demo, demo_count, has_dlc, dlc_count, copiesSold, metacritic_preprocessed, has_metacritic, genre_Action, genre_Adventure, genre_Casual, genre_Early Access, genre_Free To Play, genre_Gore, genre_Indie, genre_Massively Multiplayer, genre_Nudity, genre_Other, genre_RPG, genre_Racing, genre_Sexual Content, genre_Simulation, genre_Sports, genre_Strategy, genre_Violent, platform_linux, platform_mac, platform_windows, name_len, name_words, name_cap_ratio, is_sequel, name_has_vr, name_has_remaster, name_has_collector, name_has_collection, name_has_edition, name_has_bundle, name_has_playtest, publisherClass_Indie, publisherClass_Other]\n",
      "Index: []\n"
     ]
    }
   ],
   "execution_count": 68
  },
  {
   "cell_type": "markdown",
   "id": "c32de142",
   "metadata": {},
   "source": [
    "#### Remove Duplicates"
   ]
  },
  {
   "cell_type": "code",
   "id": "5ac543b9",
   "metadata": {
    "ExecuteTime": {
     "end_time": "2025-05-16T14:18:31.786312Z",
     "start_time": "2025-05-16T14:18:31.671401Z"
    }
   },
   "source": [
    "print(df_train.shape)\n",
    "print(df_test.shape)\n",
    "print(df_val.shape)\n",
    "\n",
    "# delete duplicate rows\n",
    "for df in (df_train, df_val, df_test):\n",
    "    df.drop_duplicates(inplace=True)\n",
    "\n",
    "print(df_train.shape)\n",
    "print(df_test.shape)\n",
    "print(df_val.shape)"
   ],
   "outputs": [
    {
     "name": "stdout",
     "output_type": "stream",
     "text": [
      "(55541, 55)\n",
      "(6943, 55)\n",
      "(6942, 55)\n",
      "(55541, 55)\n",
      "(6943, 55)\n",
      "(6942, 55)\n"
     ]
    }
   ],
   "execution_count": 69
  },
  {
   "cell_type": "markdown",
   "id": "1983b426",
   "metadata": {},
   "source": [
    "#### Count Missing Values"
   ]
  },
  {
   "cell_type": "code",
   "id": "6d0ea19c",
   "metadata": {
    "ExecuteTime": {
     "end_time": "2025-05-16T14:18:31.872076Z",
     "start_time": "2025-05-16T14:18:31.865250Z"
    }
   },
   "source": [
    "print(df_train[['price', 'copiesSold', 'reviewScore']].isna().sum())\n",
    "\n",
    "if TARGET_TYPE == TargetType.REGRESSION:\n",
    "    # Count how many rows have copiesSold == 0\n",
    "    zero_sales = df_train[df_train['copiesSold'] == 0]\n",
    "    print(zero_sales[['name', 'price', 'copiesSold', 'reviewScore']])"
   ],
   "outputs": [
    {
     "name": "stdout",
     "output_type": "stream",
     "text": [
      "price          0\n",
      "copiesSold     0\n",
      "reviewScore    0\n",
      "dtype: int64\n"
     ]
    }
   ],
   "execution_count": 70
  },
  {
   "cell_type": "markdown",
   "id": "9d1f2010",
   "metadata": {},
   "source": [
    "#### Checking Inconsistent Values\n",
    " - Checking for Negative Values"
   ]
  },
  {
   "cell_type": "code",
   "id": "5844e4e1",
   "metadata": {
    "ExecuteTime": {
     "end_time": "2025-05-16T14:18:31.956133Z",
     "start_time": "2025-05-16T14:18:31.950444Z"
    }
   },
   "source": [
    "# Check if any value is negative\n",
    "negative_price = (df_train['price'] < 0).any() or (df_val['price'] < 0).any() or (df_test['price'] < 0).any()\n",
    "print(f\"Negative 'price' values: {negative_price}\")\n",
    "\n",
    "if TARGET_TYPE == TargetType.REGRESSION:\n",
    "    negative_copies = (df_train['copiesSold'] < 0).any() or (df_val['copiesSold'] < 0).any() or (df_test['copiesSold'] < 0).any()\n",
    "    print(f\"Negative 'copiesSold' values: {negative_copies}\")\n",
    "\n",
    "negative_review = (df_train['reviewScore'] < 0).any() or (df_val['reviewScore'] < 0).any() or (df_test['reviewScore'] < 0).any()\n",
    "print(f\"Negative 'reviewScore' values: {negative_review}\")"
   ],
   "outputs": [
    {
     "name": "stdout",
     "output_type": "stream",
     "text": [
      "Negative 'price' values: False\n",
      "Negative 'reviewScore' values: False\n"
     ]
    }
   ],
   "execution_count": 71
  },
  {
   "cell_type": "markdown",
   "id": "2447f301",
   "metadata": {},
   "source": [
    "#### Transformation\n",
    " - Analyzing Skewness"
   ]
  },
  {
   "cell_type": "code",
   "id": "cea689b4",
   "metadata": {
    "ExecuteTime": {
     "end_time": "2025-05-16T14:18:32.028754Z",
     "start_time": "2025-05-16T14:18:32.022985Z"
    }
   },
   "source": [
    "# Check initial skewness of distributions\n",
    "print(f\"Price skewness: {skew(df_train['price']):.2f}\")\n",
    "print(f\"reviewScore skewness: {skew(df_train['reviewScore']):.2f}\")\n",
    "\n",
    "if TARGET_TYPE == TargetType.REGRESSION:\n",
    "    print(f\"CopiesSold skewness: {skew(df_train['copiesSold']):.2f}\")"
   ],
   "outputs": [
    {
     "name": "stdout",
     "output_type": "stream",
     "text": [
      "Price skewness: 35.86\n",
      "reviewScore skewness: -1.28\n"
     ]
    }
   ],
   "execution_count": 72
  },
  {
   "cell_type": "markdown",
   "id": "eab5754d",
   "metadata": {},
   "source": [
    "#### Log Transformation For Skewed Data"
   ]
  },
  {
   "cell_type": "code",
   "id": "74f069a3",
   "metadata": {
    "ExecuteTime": {
     "end_time": "2025-05-16T14:18:32.102625Z",
     "start_time": "2025-05-16T14:18:32.097414Z"
    }
   },
   "source": [
    "# Apply log transformation to reduce skewness\n",
    "df_train['price'] = np.log1p(df_train['price'])\n",
    "df_val  ['price'] = np.log1p(df_val['price'])\n",
    "df_test ['price'] = np.log1p(df_test['price'])\n",
    "\n",
    "if TARGET_TYPE == TargetType.REGRESSION:\n",
    "    df_train['copiesSold'] = np.log1p(df_train['copiesSold'])\n",
    "    df_val  ['copiesSold'] = np.log1p(df_val['copiesSold'])\n",
    "    df_test ['copiesSold'] = np.log1p(df_test['copiesSold'])"
   ],
   "outputs": [],
   "execution_count": 73
  },
  {
   "cell_type": "markdown",
   "id": "307547c9",
   "metadata": {},
   "source": [
    "#### Handling Outliers in Review Scores"
   ]
  },
  {
   "cell_type": "code",
   "id": "6aa59427",
   "metadata": {
    "ExecuteTime": {
     "end_time": "2025-05-16T14:18:32.183188Z",
     "start_time": "2025-05-16T14:18:32.172619Z"
    }
   },
   "source": [
    "low = df_train['reviewScore'].quantile(0.25)\n",
    "high = df_train['reviewScore'].quantile(0.75)\n",
    "median = df_train['reviewScore'].median()\n",
    "\n",
    "df_train.loc[df_train['reviewScore'] < low,  'reviewScore'] = median\n",
    "df_train.loc[df_train['reviewScore'] > high, 'reviewScore'] = high\n",
    "\n",
    "df_val.loc[df_val['reviewScore'] < low,  'reviewScore'] = median\n",
    "df_val.loc[df_val['reviewScore'] > high, 'reviewScore'] = high\n",
    "\n",
    "df_test.loc[df_test['reviewScore'] < low,  'reviewScore'] = median\n",
    "df_test.loc[df_test['reviewScore'] > high, 'reviewScore'] = high"
   ],
   "outputs": [],
   "execution_count": 74
  },
  {
   "cell_type": "markdown",
   "id": "a2f52ad2",
   "metadata": {},
   "source": [
    "#### Check skewness after transformation"
   ]
  },
  {
   "cell_type": "code",
   "id": "46ab95a4",
   "metadata": {
    "ExecuteTime": {
     "end_time": "2025-05-16T14:18:32.259681Z",
     "start_time": "2025-05-16T14:18:32.252648Z"
    }
   },
   "source": [
    "# Check skewness after outlier treatment\n",
    "print(\"After outlier treatment:\")\n",
    "print(f\"Price skewness: {skew(df_train['price']):.2f}\")\n",
    "print(f\"reviewScore skewness: {skew(df_train['reviewScore']):.2f}\")\n",
    "\n",
    "if TARGET_TYPE == TargetType.REGRESSION:\n",
    "    print(f\"CopiesSold skewness: {skew(df_train['copiesSold']):.2f}\")"
   ],
   "outputs": [
    {
     "name": "stdout",
     "output_type": "stream",
     "text": [
      "After outlier treatment:\n",
      "Price skewness: -0.02\n",
      "reviewScore skewness: -0.49\n"
     ]
    }
   ],
   "execution_count": 75
  },
  {
   "cell_type": "markdown",
   "id": "5e7899ad",
   "metadata": {},
   "source": [
    "#### Feature Scaling"
   ]
  },
  {
   "cell_type": "code",
   "id": "83ccff64",
   "metadata": {
    "ExecuteTime": {
     "end_time": "2025-05-16T14:18:32.343003Z",
     "start_time": "2025-05-16T14:18:32.332573Z"
    }
   },
   "source": [
    "scaler = StandardScaler()\n",
    "df_train[['price', 'reviewScore']] = scaler.fit_transform(df_train[['price', 'reviewScore']])\n",
    "df_val[['price', 'reviewScore']] = scaler.transform(df_val[['price', 'reviewScore']])\n",
    "df_test[['price', 'reviewScore']] = scaler.transform(df_test[['price', 'reviewScore']])"
   ],
   "outputs": [],
   "execution_count": 76
  },
  {
   "cell_type": "markdown",
   "id": "77d5944e",
   "metadata": {},
   "source": [
    "#### Visualization"
   ]
  },
  {
   "cell_type": "code",
   "id": "a718d772",
   "metadata": {
    "ExecuteTime": {
     "end_time": "2025-05-16T14:18:32.522306Z",
     "start_time": "2025-05-16T14:18:32.429228Z"
    }
   },
   "source": [
    "# Visualize distribution of prices\n",
    "df_train['price'].hist(bins = 30)\n",
    "plt.title('Price Distribution')\n",
    "plt.show()"
   ],
   "outputs": [
    {
     "data": {
      "text/plain": [
       "<Figure size 640x480 with 1 Axes>"
      ],
      "image/png": "[encoded data removed]"
     },
     "metadata": {},
     "output_type": "display_data"
    }
   ],
   "execution_count": 77
  },
  {
   "cell_type": "code",
   "id": "37380131",
   "metadata": {
    "ExecuteTime": {
     "end_time": "2025-05-16T14:18:32.669845Z",
     "start_time": "2025-05-16T14:18:32.590455Z"
    }
   },
   "source": [
    "# Visualize distribution of copiesSold\n",
    "df_train['copiesSold'].hist(bins = 30)\n",
    "plt.title('Copies Sold Distribution')\n",
    "plt.show()"
   ],
   "outputs": [
    {
     "data": {
      "text/plain": [
       "<Figure size 640x480 with 1 Axes>"
      ],
      "image/png": "[encoded data removed]"
     },
     "metadata": {},
     "output_type": "display_data"
    }
   ],
   "execution_count": 78
  },
  {
   "cell_type": "code",
   "id": "45dd45a0",
   "metadata": {
    "ExecuteTime": {
     "end_time": "2025-05-16T14:18:32.826334Z",
     "start_time": "2025-05-16T14:18:32.735866Z"
    }
   },
   "source": [
    "# Visualize distribution of Review Score\n",
    "df_train['reviewScore'].hist(bins = 30)\n",
    "plt.title('Review Score Distribution')\n",
    "plt.show()"
   ],
   "outputs": [
    {
     "data": {
      "text/plain": [
       "<Figure size 640x480 with 1 Axes>"
      ],
      "image/png": "[encoded data removed]"
     },
     "metadata": {},
     "output_type": "display_data"
    }
   ],
   "execution_count": 79
  },
  {
   "cell_type": "markdown",
   "id": "c6e02736",
   "metadata": {},
   "source": "#### Encode Copies Sold In Classification"
  },
  {
   "cell_type": "code",
   "id": "93097f28",
   "metadata": {
    "ExecuteTime": {
     "end_time": "2025-05-16T14:18:32.965172Z",
     "start_time": "2025-05-16T14:18:32.956013Z"
    }
   },
   "source": [
    "if TARGET_TYPE == TargetType.CLASSIFICATION:\n",
    "    encoder = LabelEncoder()\n",
    "\n",
    "    df_train['copiesSold'] = encoder.fit_transform(df_train['copiesSold'])\n",
    "\n",
    "    df_val['copiesSold'] = encoder.transform(df_val['copiesSold'])\n",
    "\n",
    "    df_test['copiesSold'] = encoder.transform(df_test['copiesSold'])"
   ],
   "outputs": [],
   "execution_count": 80
  },
  {
   "cell_type": "markdown",
   "id": "46dab096",
   "metadata": {},
   "source": [
    "## Checking Final Preprocessed Results"
   ]
  },
  {
   "cell_type": "markdown",
   "id": "4afff058",
   "metadata": {},
   "source": [
    "### Check Duplicates"
   ]
  },
  {
   "cell_type": "code",
   "id": "1d529878",
   "metadata": {
    "ExecuteTime": {
     "end_time": "2025-05-16T14:18:33.815936Z",
     "start_time": "2025-05-16T14:18:33.701352Z"
    }
   },
   "source": [
    "print(df_train.duplicated().sum())\n",
    "print(df_val.duplicated().sum())\n",
    "print(df_test.duplicated().sum())"
   ],
   "outputs": [
    {
     "name": "stdout",
     "output_type": "stream",
     "text": [
      "0\n",
      "0\n",
      "0\n"
     ]
    }
   ],
   "execution_count": 81
  },
  {
   "cell_type": "markdown",
   "id": "ee072d5b",
   "metadata": {},
   "source": [
    "### Handle Additional NaNs"
   ]
  },
  {
   "cell_type": "code",
   "id": "bd91281d",
   "metadata": {
    "ExecuteTime": {
     "end_time": "2025-05-16T14:18:33.871224Z",
     "start_time": "2025-05-16T14:18:33.835824Z"
    }
   },
   "source": [
    "for df in [df_train, df_val, df_test]:\n",
    "    df[\"has_demo\"] = df[\"has_demo\"].fillna(0).astype(int)\n",
    "    df[\"demo_count\"] = df[\"demo_count\"].fillna(0).astype(int)\n",
    "    df[\"has_dlc\"] = df[\"has_dlc\"].fillna(0).astype(int)\n",
    "    df[\"dlc_count\"] = df[\"dlc_count\"].fillna(0).astype(int)\n",
    "    \n",
    "    df.drop(columns=[\"metacritic\"], inplace=True)\n",
    "    df['genres'] = df['genres'].fillna('')"
   ],
   "outputs": [],
   "execution_count": 82
  },
  {
   "cell_type": "markdown",
   "id": "f757c4e6",
   "metadata": {},
   "source": [
    "### Results"
   ]
  },
  {
   "cell_type": "code",
   "id": "a49848f6",
   "metadata": {
    "ExecuteTime": {
     "end_time": "2025-05-16T14:18:33.994676Z",
     "start_time": "2025-05-16T14:18:33.965807Z"
    }
   },
   "source": [
    "# Check NaN counts after merge and imputation on each set\n",
    "for name, df in zip(['Train', 'Validation', 'Test'], [df_train, df_val, df_test]):\n",
    "    print(f\"\\n{name} NaN counts after merge and imputation:\")\n",
    "    nan_counts = df.isna().sum()\n",
    "    print(nan_counts[nan_counts > 0].sort_values(ascending=False))\n",
    "    print(f\"\\nRows in {name}: {len(df)}\")\n",
    "    print(df[[\"appid\", \"name\", \"metacritic_preprocessed\", \"has_metacritic\", \"achievements_total\", \"has_demo\", \"demo_count\", \"has_dlc\", \"dlc_count\"]].head())"
   ],
   "outputs": [
    {
     "name": "stdout",
     "output_type": "stream",
     "text": [
      "\n",
      "Train NaN counts after merge and imputation:\n",
      "Series([], dtype: int64)\n",
      "\n",
      "Rows in Train: 55541\n",
      "         appid                     name  metacritic_preprocessed  \\\n",
      "11655  2900800         physical spheres                      0.0   \n",
      "9303   3017540            slice of ages                      0.0   \n",
      "56618     4290  race caterham expansion                      0.0   \n",
      "55579  1111760         world of guns vr                      0.0   \n",
      "64439   765480                karambola                      0.0   \n",
      "\n",
      "       has_metacritic  achievements_total  has_demo  demo_count  has_dlc  \\\n",
      "11655               0           -0.127185         0           0        0   \n",
      "9303                0           -0.127185         0           0        0   \n",
      "56618               0           -0.127185         0           0        0   \n",
      "55579               0            0.105103         0           0        0   \n",
      "64439               0           -0.069113         0           0        1   \n",
      "\n",
      "       dlc_count  \n",
      "11655          0  \n",
      "9303           0  \n",
      "56618          0  \n",
      "55579          0  \n",
      "64439          1  \n",
      "\n",
      "Validation NaN counts after merge and imputation:\n",
      "Series([], dtype: int64)\n",
      "\n",
      "Rows in Validation: 6942\n",
      "         appid                       name  metacritic_preprocessed  \\\n",
      "23530   304540  freakout extreme freeride                      0.0   \n",
      "61734   851300         ultimate barbarian                      0.0   \n",
      "19992   657440               burn it down                      0.0   \n",
      "4403   2093940                vividstasis                      0.0   \n",
      "65265   449710                     redcon                      0.0   \n",
      "\n",
      "       has_metacritic  achievements_total  has_demo  demo_count  has_dlc  \\\n",
      "23530               0           -0.127185         0           0        0   \n",
      "61734               0           -0.127185         0           0        0   \n",
      "19992               0           -0.045885         0           0        0   \n",
      "4403                0            0.116717         0           0        0   \n",
      "65265               0           -0.098149         1           1        0   \n",
      "\n",
      "       dlc_count  \n",
      "23530          0  \n",
      "61734          0  \n",
      "19992          0  \n",
      "4403           0  \n",
      "65265          0  \n",
      "\n",
      "Test NaN counts after merge and imputation:\n",
      "Series([], dtype: int64)\n",
      "\n",
      "Rows in Test: 6943\n",
      "         appid                    name  metacritic_preprocessed  \\\n",
      "28272  1616050            realityminds                      0.0   \n",
      "25713   994190             sound slide                      0.0   \n",
      "10041  2979950  limits of intelligence                      0.0   \n",
      "59494  1494510         demon killer vr                      0.0   \n",
      "8592   3054260    マーダーミステリーｊ　殺人犯はそばにいる                      0.0   \n",
      "\n",
      "       has_metacritic  achievements_total  has_demo  demo_count  has_dlc  \\\n",
      "28272               0           -0.127185         0           0        0   \n",
      "25713               0            0.064452         0           0        0   \n",
      "10041               0           -0.127185         0           0        0   \n",
      "59494               0           -0.127185         0           0        0   \n",
      "8592                0           -0.127185         0           0        0   \n",
      "\n",
      "       dlc_count  \n",
      "28272          0  \n",
      "25713          0  \n",
      "10041          0  \n",
      "59494          0  \n",
      "8592           0  \n"
     ]
    }
   ],
   "execution_count": 83
  },
  {
   "cell_type": "markdown",
   "id": "389b095b",
   "metadata": {},
   "source": [
    "### Drop Original Columns That Won't Be Needed During Feature Selection And Training"
   ]
  },
  {
   "cell_type": "code",
   "id": "878dff3a",
   "metadata": {
    "ExecuteTime": {
     "end_time": "2025-05-16T14:18:34.100105Z",
     "start_time": "2025-05-16T14:18:34.084222Z"
    }
   },
   "source": [
    "for df in [df_train, df_val, df_test]:\n",
    "    df.drop(columns=['appid', 'name', 'genres'], inplace=True)"
   ],
   "outputs": [],
   "execution_count": 84
  },
  {
   "cell_type": "markdown",
   "id": "f836dc38",
   "metadata": {},
   "source": [
    "## Summary"
   ]
  },
  {
   "cell_type": "code",
   "id": "dfe82b29",
   "metadata": {
    "ExecuteTime": {
     "end_time": "2025-05-16T14:18:34.174887Z",
     "start_time": "2025-05-16T14:18:34.170991Z"
    }
   },
   "source": [
    "print(\"\\nPreprocessing Summary:\\n\")\n",
    "for name, df in zip(['Train', 'Validation', 'Test'], [df_train, df_val, df_test]):\n",
    "    print(f\"\\n{name} DataFrame: {len(df)} rows, {len(df.columns)} columns\")"
   ],
   "outputs": [
    {
     "name": "stdout",
     "output_type": "stream",
     "text": [
      "\n",
      "Preprocessing Summary:\n",
      "\n",
      "\n",
      "Train DataFrame: 55541 rows, 51 columns\n",
      "\n",
      "Validation DataFrame: 6942 rows, 51 columns\n",
      "\n",
      "Test DataFrame: 6943 rows, 51 columns\n"
     ]
    }
   ],
   "execution_count": 85
  },
  {
   "cell_type": "code",
   "id": "d42c09f9",
   "metadata": {
    "ExecuteTime": {
     "end_time": "2025-05-16T14:18:34.280501Z",
     "start_time": "2025-05-16T14:18:34.261640Z"
    }
   },
   "source": [
    "df_train.head(1)"
   ],
   "outputs": [
    {
     "data": {
      "text/plain": [
       "       steam_achievements  steam_trading_cards  workshop_support  \\\n",
       "11655                   0                    0                 0   \n",
       "\n",
       "       achievements_total  is_release_date_known  is_upcoming  year   sin_day  \\\n",
       "11655           -0.127185                      1          0.0  2024  0.230306   \n",
       "\n",
       "        cos_day     price  reviewScore  has_demo  demo_count  has_dlc  \\\n",
       "11655 -0.973118 -0.959158    -0.331901         0           0        0   \n",
       "\n",
       "       dlc_count  copiesSold  metacritic_preprocessed  has_metacritic  \\\n",
       "11655          0           0                      0.0               0   \n",
       "\n",
       "       genre_Action  genre_Adventure  genre_Casual  genre_Early Access  \\\n",
       "11655             0                0             1                   0   \n",
       "\n",
       "       genre_Free To Play  genre_Gore  genre_Indie  \\\n",
       "11655                   0           0            0   \n",
       "\n",
       "       genre_Massively Multiplayer  genre_Nudity  genre_Other  genre_RPG  \\\n",
       "11655                            0             0            0          0   \n",
       "\n",
       "       genre_Racing  genre_Sexual Content  genre_Simulation  genre_Sports  \\\n",
       "11655             0                     0                 0             0   \n",
       "\n",
       "       genre_Strategy  genre_Violent  platform_linux  platform_mac  \\\n",
       "11655               0              0               0             0   \n",
       "\n",
       "       platform_windows  name_len  name_words  name_cap_ratio  is_sequel  \\\n",
       "11655                 1 -0.129008   -0.485228        -0.42215  -0.241008   \n",
       "\n",
       "       name_has_vr  name_has_remaster  name_has_collector  \\\n",
       "11655    -0.141551          -0.018005           -0.025111   \n",
       "\n",
       "       name_has_collection  name_has_edition  name_has_bundle  \\\n",
       "11655            -0.045946         -0.125187        -0.012731   \n",
       "\n",
       "       name_has_playtest  publisherClass_Indie  publisherClass_Other  \n",
       "11655                0.0                   0.0                   0.0  "
      ],
      "text/html": [
       "<div>\n",
       "<style scoped>\n",
       "    .dataframe tbody tr th:only-of-type {\n",
       "        vertical-align: middle;\n",
       "    }\n",
       "\n",
       "    .dataframe tbody tr th {\n",
       "        vertical-align: top;\n",
       "    }\n",
       "\n",
       "    .dataframe thead th {\n",
       "        text-align: right;\n",
       "    }\n",
       "</style>\n",
       "<table border=\"1\" class=\"dataframe\">\n",
       "  <thead>\n",
       "    <tr style=\"text-align: right;\">\n",
       "      <th></th>\n",
       "      <th>steam_achievements</th>\n",
       "      <th>steam_trading_cards</th>\n",
       "      <th>workshop_support</th>\n",
       "      <th>achievements_total</th>\n",
       "      <th>is_release_date_known</th>\n",
       "      <th>is_upcoming</th>\n",
       "      <th>year</th>\n",
       "      <th>sin_day</th>\n",
       "      <th>cos_day</th>\n",
       "      <th>price</th>\n",
       "      <th>reviewScore</th>\n",
       "      <th>has_demo</th>\n",
       "      <th>demo_count</th>\n",
       "      <th>has_dlc</th>\n",
       "      <th>dlc_count</th>\n",
       "      <th>copiesSold</th>\n",
       "      <th>metacritic_preprocessed</th>\n",
       "      <th>has_metacritic</th>\n",
       "      <th>genre_Action</th>\n",
       "      <th>genre_Adventure</th>\n",
       "      <th>genre_Casual</th>\n",
       "      <th>genre_Early Access</th>\n",
       "      <th>genre_Free To Play</th>\n",
       "      <th>genre_Gore</th>\n",
       "      <th>genre_Indie</th>\n",
       "      <th>genre_Massively Multiplayer</th>\n",
       "      <th>genre_Nudity</th>\n",
       "      <th>genre_Other</th>\n",
       "      <th>genre_RPG</th>\n",
       "      <th>genre_Racing</th>\n",
       "      <th>genre_Sexual Content</th>\n",
       "      <th>genre_Simulation</th>\n",
       "      <th>genre_Sports</th>\n",
       "      <th>genre_Strategy</th>\n",
       "      <th>genre_Violent</th>\n",
       "      <th>platform_linux</th>\n",
       "      <th>platform_mac</th>\n",
       "      <th>platform_windows</th>\n",
       "      <th>name_len</th>\n",
       "      <th>name_words</th>\n",
       "      <th>name_cap_ratio</th>\n",
       "      <th>is_sequel</th>\n",
       "      <th>name_has_vr</th>\n",
       "      <th>name_has_remaster</th>\n",
       "      <th>name_has_collector</th>\n",
       "      <th>name_has_collection</th>\n",
       "      <th>name_has_edition</th>\n",
       "      <th>name_has_bundle</th>\n",
       "      <th>name_has_playtest</th>\n",
       "      <th>publisherClass_Indie</th>\n",
       "      <th>publisherClass_Other</th>\n",
       "    </tr>\n",
       "  </thead>\n",
       "  <tbody>\n",
       "    <tr>\n",
       "      <th>11655</th>\n",
       "      <td>0</td>\n",
       "      <td>0</td>\n",
       "      <td>0</td>\n",
       "      <td>-0.127185</td>\n",
       "      <td>1</td>\n",
       "      <td>0.0</td>\n",
       "      <td>2024</td>\n",
       "      <td>0.230306</td>\n",
       "      <td>-0.973118</td>\n",
       "      <td>-0.959158</td>\n",
       "      <td>-0.331901</td>\n",
       "      <td>0</td>\n",
       "      <td>0</td>\n",
       "      <td>0</td>\n",
       "      <td>0</td>\n",
       "      <td>0</td>\n",
       "      <td>0.0</td>\n",
       "      <td>0</td>\n",
       "      <td>0</td>\n",
       "      <td>0</td>\n",
       "      <td>1</td>\n",
       "      <td>0</td>\n",
       "      <td>0</td>\n",
       "      <td>0</td>\n",
       "      <td>0</td>\n",
       "      <td>0</td>\n",
       "      <td>0</td>\n",
       "      <td>0</td>\n",
       "      <td>0</td>\n",
       "      <td>0</td>\n",
       "      <td>0</td>\n",
       "      <td>0</td>\n",
       "      <td>0</td>\n",
       "      <td>0</td>\n",
       "      <td>0</td>\n",
       "      <td>0</td>\n",
       "      <td>0</td>\n",
       "      <td>1</td>\n",
       "      <td>-0.129008</td>\n",
       "      <td>-0.485228</td>\n",
       "      <td>-0.42215</td>\n",
       "      <td>-0.241008</td>\n",
       "      <td>-0.141551</td>\n",
       "      <td>-0.018005</td>\n",
       "      <td>-0.025111</td>\n",
       "      <td>-0.045946</td>\n",
       "      <td>-0.125187</td>\n",
       "      <td>-0.012731</td>\n",
       "      <td>0.0</td>\n",
       "      <td>0.0</td>\n",
       "      <td>0.0</td>\n",
       "    </tr>\n",
       "  </tbody>\n",
       "</table>\n",
       "</div>"
      ]
     },
     "execution_count": 86,
     "metadata": {},
     "output_type": "execute_result"
    }
   ],
   "execution_count": 86
  },
  {
   "cell_type": "code",
   "id": "d03d9630",
   "metadata": {
    "ExecuteTime": {
     "end_time": "2025-05-16T14:18:34.393687Z",
     "start_time": "2025-05-16T14:18:34.380202Z"
    }
   },
   "source": [
    "df_val.head(1)"
   ],
   "outputs": [
    {
     "data": {
      "text/plain": [
       "       steam_achievements  steam_trading_cards  workshop_support  \\\n",
       "23530                   0                    0                 0   \n",
       "\n",
       "       achievements_total  is_release_date_known  is_upcoming  year   sin_day  \\\n",
       "23530           -0.127185                      1          0.0  2015  0.188227   \n",
       "\n",
       "        cos_day     price  reviewScore  has_demo  demo_count  has_dlc  \\\n",
       "23530  0.982126  0.710056    -0.007857         0           0        0   \n",
       "\n",
       "       dlc_count  copiesSold  metacritic_preprocessed  has_metacritic  \\\n",
       "23530          0           3                      0.0               0   \n",
       "\n",
       "       genre_Action  genre_Adventure  genre_Casual  genre_Early Access  \\\n",
       "23530             1                0             0                   0   \n",
       "\n",
       "       genre_Free To Play  genre_Gore  genre_Indie  \\\n",
       "23530                   0           0            0   \n",
       "\n",
       "       genre_Massively Multiplayer  genre_Nudity  genre_Other  genre_RPG  \\\n",
       "23530                            0             0            0          0   \n",
       "\n",
       "       genre_Racing  genre_Sexual Content  genre_Simulation  genre_Sports  \\\n",
       "23530             0                     0                 0             1   \n",
       "\n",
       "       genre_Strategy  genre_Violent  platform_linux  platform_mac  \\\n",
       "23530               0              0               0             0   \n",
       "\n",
       "       platform_windows  name_len  name_words  name_cap_ratio  is_sequel  \\\n",
       "23530                 1  0.776661    0.109341       -0.235829  -0.241008   \n",
       "\n",
       "       name_has_vr  name_has_remaster  name_has_collector  \\\n",
       "23530    -0.141551          -0.018005           -0.025111   \n",
       "\n",
       "       name_has_collection  name_has_edition  name_has_bundle  \\\n",
       "23530            -0.045946         -0.125187        -0.012731   \n",
       "\n",
       "       name_has_playtest  publisherClass_Indie  publisherClass_Other  \n",
       "23530                0.0                   0.0                   1.0  "
      ],
      "text/html": [
       "<div>\n",
       "<style scoped>\n",
       "    .dataframe tbody tr th:only-of-type {\n",
       "        vertical-align: middle;\n",
       "    }\n",
       "\n",
       "    .dataframe tbody tr th {\n",
       "        vertical-align: top;\n",
       "    }\n",
       "\n",
       "    .dataframe thead th {\n",
       "        text-align: right;\n",
       "    }\n",
       "</style>\n",
       "<table border=\"1\" class=\"dataframe\">\n",
       "  <thead>\n",
       "    <tr style=\"text-align: right;\">\n",
       "      <th></th>\n",
       "      <th>steam_achievements</th>\n",
       "      <th>steam_trading_cards</th>\n",
       "      <th>workshop_support</th>\n",
       "      <th>achievements_total</th>\n",
       "      <th>is_release_date_known</th>\n",
       "      <th>is_upcoming</th>\n",
       "      <th>year</th>\n",
       "      <th>sin_day</th>\n",
       "      <th>cos_day</th>\n",
       "      <th>price</th>\n",
       "      <th>reviewScore</th>\n",
       "      <th>has_demo</th>\n",
       "      <th>demo_count</th>\n",
       "      <th>has_dlc</th>\n",
       "      <th>dlc_count</th>\n",
       "      <th>copiesSold</th>\n",
       "      <th>metacritic_preprocessed</th>\n",
       "      <th>has_metacritic</th>\n",
       "      <th>genre_Action</th>\n",
       "      <th>genre_Adventure</th>\n",
       "      <th>genre_Casual</th>\n",
       "      <th>genre_Early Access</th>\n",
       "      <th>genre_Free To Play</th>\n",
       "      <th>genre_Gore</th>\n",
       "      <th>genre_Indie</th>\n",
       "      <th>genre_Massively Multiplayer</th>\n",
       "      <th>genre_Nudity</th>\n",
       "      <th>genre_Other</th>\n",
       "      <th>genre_RPG</th>\n",
       "      <th>genre_Racing</th>\n",
       "      <th>genre_Sexual Content</th>\n",
       "      <th>genre_Simulation</th>\n",
       "      <th>genre_Sports</th>\n",
       "      <th>genre_Strategy</th>\n",
       "      <th>genre_Violent</th>\n",
       "      <th>platform_linux</th>\n",
       "      <th>platform_mac</th>\n",
       "      <th>platform_windows</th>\n",
       "      <th>name_len</th>\n",
       "      <th>name_words</th>\n",
       "      <th>name_cap_ratio</th>\n",
       "      <th>is_sequel</th>\n",
       "      <th>name_has_vr</th>\n",
       "      <th>name_has_remaster</th>\n",
       "      <th>name_has_collector</th>\n",
       "      <th>name_has_collection</th>\n",
       "      <th>name_has_edition</th>\n",
       "      <th>name_has_bundle</th>\n",
       "      <th>name_has_playtest</th>\n",
       "      <th>publisherClass_Indie</th>\n",
       "      <th>publisherClass_Other</th>\n",
       "    </tr>\n",
       "  </thead>\n",
       "  <tbody>\n",
       "    <tr>\n",
       "      <th>23530</th>\n",
       "      <td>0</td>\n",
       "      <td>0</td>\n",
       "      <td>0</td>\n",
       "      <td>-0.127185</td>\n",
       "      <td>1</td>\n",
       "      <td>0.0</td>\n",
       "      <td>2015</td>\n",
       "      <td>0.188227</td>\n",
       "      <td>0.982126</td>\n",
       "      <td>0.710056</td>\n",
       "      <td>-0.007857</td>\n",
       "      <td>0</td>\n",
       "      <td>0</td>\n",
       "      <td>0</td>\n",
       "      <td>0</td>\n",
       "      <td>3</td>\n",
       "      <td>0.0</td>\n",
       "      <td>0</td>\n",
       "      <td>1</td>\n",
       "      <td>0</td>\n",
       "      <td>0</td>\n",
       "      <td>0</td>\n",
       "      <td>0</td>\n",
       "      <td>0</td>\n",
       "      <td>0</td>\n",
       "      <td>0</td>\n",
       "      <td>0</td>\n",
       "      <td>0</td>\n",
       "      <td>0</td>\n",
       "      <td>0</td>\n",
       "      <td>0</td>\n",
       "      <td>0</td>\n",
       "      <td>1</td>\n",
       "      <td>0</td>\n",
       "      <td>0</td>\n",
       "      <td>0</td>\n",
       "      <td>0</td>\n",
       "      <td>1</td>\n",
       "      <td>0.776661</td>\n",
       "      <td>0.109341</td>\n",
       "      <td>-0.235829</td>\n",
       "      <td>-0.241008</td>\n",
       "      <td>-0.141551</td>\n",
       "      <td>-0.018005</td>\n",
       "      <td>-0.025111</td>\n",
       "      <td>-0.045946</td>\n",
       "      <td>-0.125187</td>\n",
       "      <td>-0.012731</td>\n",
       "      <td>0.0</td>\n",
       "      <td>0.0</td>\n",
       "      <td>1.0</td>\n",
       "    </tr>\n",
       "  </tbody>\n",
       "</table>\n",
       "</div>"
      ]
     },
     "execution_count": 87,
     "metadata": {},
     "output_type": "execute_result"
    }
   ],
   "execution_count": 87
  },
  {
   "cell_type": "code",
   "id": "e8a58963",
   "metadata": {
    "ExecuteTime": {
     "end_time": "2025-05-16T14:18:34.465866Z",
     "start_time": "2025-05-16T14:18:34.452030Z"
    }
   },
   "source": [
    "df_test.head(1)"
   ],
   "outputs": [
    {
     "data": {
      "text/plain": [
       "       steam_achievements  steam_trading_cards  workshop_support  \\\n",
       "28272                   0                    0                 0   \n",
       "\n",
       "       achievements_total  is_release_date_known  is_upcoming  year   sin_day  \\\n",
       "28272           -0.127185                      1          0.0  2021 -0.845249   \n",
       "\n",
       "        cos_day     price  reviewScore  has_demo  demo_count  has_dlc  \\\n",
       "28272 -0.534373  0.945815     1.180305         0           0        0   \n",
       "\n",
       "       dlc_count  copiesSold  metacritic_preprocessed  has_metacritic  \\\n",
       "28272          0           0                      0.0               0   \n",
       "\n",
       "       genre_Action  genre_Adventure  genre_Casual  genre_Early Access  \\\n",
       "28272             0                0             0                   0   \n",
       "\n",
       "       genre_Free To Play  genre_Gore  genre_Indie  \\\n",
       "28272                   0           0            0   \n",
       "\n",
       "       genre_Massively Multiplayer  genre_Nudity  genre_Other  genre_RPG  \\\n",
       "28272                            0             0            0          1   \n",
       "\n",
       "       genre_Racing  genre_Sexual Content  genre_Simulation  genre_Sports  \\\n",
       "28272             0                     0                 0             0   \n",
       "\n",
       "       genre_Strategy  genre_Violent  platform_linux  platform_mac  \\\n",
       "28272               0              0               0             0   \n",
       "\n",
       "       platform_windows  name_len  name_words  name_cap_ratio  is_sequel  \\\n",
       "28272                 1 -0.531528   -1.079798       -0.200339  -0.241008   \n",
       "\n",
       "       name_has_vr  name_has_remaster  name_has_collector  \\\n",
       "28272    -0.141551          -0.018005           -0.025111   \n",
       "\n",
       "       name_has_collection  name_has_edition  name_has_bundle  \\\n",
       "28272            -0.045946         -0.125187        -0.012731   \n",
       "\n",
       "       name_has_playtest  publisherClass_Indie  publisherClass_Other  \n",
       "28272                0.0                   1.0                   0.0  "
      ],
      "text/html": [
       "<div>\n",
       "<style scoped>\n",
       "    .dataframe tbody tr th:only-of-type {\n",
       "        vertical-align: middle;\n",
       "    }\n",
       "\n",
       "    .dataframe tbody tr th {\n",
       "        vertical-align: top;\n",
       "    }\n",
       "\n",
       "    .dataframe thead th {\n",
       "        text-align: right;\n",
       "    }\n",
       "</style>\n",
       "<table border=\"1\" class=\"dataframe\">\n",
       "  <thead>\n",
       "    <tr style=\"text-align: right;\">\n",
       "      <th></th>\n",
       "      <th>steam_achievements</th>\n",
       "      <th>steam_trading_cards</th>\n",
       "      <th>workshop_support</th>\n",
       "      <th>achievements_total</th>\n",
       "      <th>is_release_date_known</th>\n",
       "      <th>is_upcoming</th>\n",
       "      <th>year</th>\n",
       "      <th>sin_day</th>\n",
       "      <th>cos_day</th>\n",
       "      <th>price</th>\n",
       "      <th>reviewScore</th>\n",
       "      <th>has_demo</th>\n",
       "      <th>demo_count</th>\n",
       "      <th>has_dlc</th>\n",
       "      <th>dlc_count</th>\n",
       "      <th>copiesSold</th>\n",
       "      <th>metacritic_preprocessed</th>\n",
       "      <th>has_metacritic</th>\n",
       "      <th>genre_Action</th>\n",
       "      <th>genre_Adventure</th>\n",
       "      <th>genre_Casual</th>\n",
       "      <th>genre_Early Access</th>\n",
       "      <th>genre_Free To Play</th>\n",
       "      <th>genre_Gore</th>\n",
       "      <th>genre_Indie</th>\n",
       "      <th>genre_Massively Multiplayer</th>\n",
       "      <th>genre_Nudity</th>\n",
       "      <th>genre_Other</th>\n",
       "      <th>genre_RPG</th>\n",
       "      <th>genre_Racing</th>\n",
       "      <th>genre_Sexual Content</th>\n",
       "      <th>genre_Simulation</th>\n",
       "      <th>genre_Sports</th>\n",
       "      <th>genre_Strategy</th>\n",
       "      <th>genre_Violent</th>\n",
       "      <th>platform_linux</th>\n",
       "      <th>platform_mac</th>\n",
       "      <th>platform_windows</th>\n",
       "      <th>name_len</th>\n",
       "      <th>name_words</th>\n",
       "      <th>name_cap_ratio</th>\n",
       "      <th>is_sequel</th>\n",
       "      <th>name_has_vr</th>\n",
       "      <th>name_has_remaster</th>\n",
       "      <th>name_has_collector</th>\n",
       "      <th>name_has_collection</th>\n",
       "      <th>name_has_edition</th>\n",
       "      <th>name_has_bundle</th>\n",
       "      <th>name_has_playtest</th>\n",
       "      <th>publisherClass_Indie</th>\n",
       "      <th>publisherClass_Other</th>\n",
       "    </tr>\n",
       "  </thead>\n",
       "  <tbody>\n",
       "    <tr>\n",
       "      <th>28272</th>\n",
       "      <td>0</td>\n",
       "      <td>0</td>\n",
       "      <td>0</td>\n",
       "      <td>-0.127185</td>\n",
       "      <td>1</td>\n",
       "      <td>0.0</td>\n",
       "      <td>2021</td>\n",
       "      <td>-0.845249</td>\n",
       "      <td>-0.534373</td>\n",
       "      <td>0.945815</td>\n",
       "      <td>1.180305</td>\n",
       "      <td>0</td>\n",
       "      <td>0</td>\n",
       "      <td>0</td>\n",
       "      <td>0</td>\n",
       "      <td>0</td>\n",
       "      <td>0.0</td>\n",
       "      <td>0</td>\n",
       "      <td>0</td>\n",
       "      <td>0</td>\n",
       "      <td>0</td>\n",
       "      <td>0</td>\n",
       "      <td>0</td>\n",
       "      <td>0</td>\n",
       "      <td>0</td>\n",
       "      <td>0</td>\n",
       "      <td>0</td>\n",
       "      <td>0</td>\n",
       "      <td>1</td>\n",
       "      <td>0</td>\n",
       "      <td>0</td>\n",
       "      <td>0</td>\n",
       "      <td>0</td>\n",
       "      <td>0</td>\n",
       "      <td>0</td>\n",
       "      <td>0</td>\n",
       "      <td>0</td>\n",
       "      <td>1</td>\n",
       "      <td>-0.531528</td>\n",
       "      <td>-1.079798</td>\n",
       "      <td>-0.200339</td>\n",
       "      <td>-0.241008</td>\n",
       "      <td>-0.141551</td>\n",
       "      <td>-0.018005</td>\n",
       "      <td>-0.025111</td>\n",
       "      <td>-0.045946</td>\n",
       "      <td>-0.125187</td>\n",
       "      <td>-0.012731</td>\n",
       "      <td>0.0</td>\n",
       "      <td>1.0</td>\n",
       "      <td>0.0</td>\n",
       "    </tr>\n",
       "  </tbody>\n",
       "</table>\n",
       "</div>"
      ]
     },
     "execution_count": 88,
     "metadata": {},
     "output_type": "execute_result"
    }
   ],
   "execution_count": 88
  },
  {
   "cell_type": "markdown",
   "id": "10d233eb",
   "metadata": {},
   "source": [
    "## Save The Final Dataframe To Parquet"
   ]
  },
  {
   "cell_type": "code",
   "id": "db0d204a",
   "metadata": {
    "ExecuteTime": {
     "end_time": "2025-05-16T14:18:35.457881Z",
     "start_time": "2025-05-16T14:18:34.904923Z"
    }
   },
   "source": [
    "# Ensure output directory exists and if it doesn't, create it.\n",
    "os.makedirs(OUTPUT_PATH, exist_ok=True)\n",
    "\n",
    "df_train.to_parquet(OUTPUT_PATH+\"train.parquet\")\n",
    "df_val.to_parquet(OUTPUT_PATH+\"validation.parquet\")\n",
    "df_test.to_parquet(OUTPUT_PATH+\"test.parquet\")"
   ],
   "outputs": [],
   "execution_count": 89
  }
 ],
 "metadata": {
  "kernelspec": {
   "display_name": ".venv",
   "language": "python",
   "name": "python3"
  },
  "language_info": {
   "codemirror_mode": {
    "name": "ipython",
    "version": 3
   },
   "file_extension": ".py",
   "mimetype": "text/x-python",
   "name": "python",
   "nbconvert_exporter": "python",
   "pygments_lexer": "ipython3",
   "version": "3.10.12"
  }
 },
 "nbformat": 4,
 "nbformat_minor": 5
}
