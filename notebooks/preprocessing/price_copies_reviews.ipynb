{
 "cells": [
  {
   "metadata": {},
   "cell_type": "markdown",
   "source": "**Import Libraries**",
   "id": "38862f6220399498"
  },
  {
   "metadata": {
    "ExecuteTime": {
     "end_time": "2025-04-20T07:22:11.672627Z",
     "start_time": "2025-04-20T07:22:11.669486Z"
    }
   },
   "cell_type": "code",
   "source": [
    "import numpy as np\n",
    "import pandas as pd\n",
    "from numpy import unique\n",
    "from scipy.stats import skew\n",
    "from sklearn.preprocessing import StandardScaler\n",
    "from sklearn.feature_selection import mutual_info_regression\n",
    "from sklearn.feature_selection import SelectKBest, f_regression\n",
    "import matplotlib.pyplot as plt\n"
   ],
   "id": "9c40ed274cb56b72",
   "outputs": [],
   "execution_count": 7
  },
  {
   "metadata": {},
   "cell_type": "markdown",
   "source": "**Read Data**",
   "id": "c1b3011546fe8340"
  },
  {
   "metadata": {
    "ExecuteTime": {
     "end_time": "2025-04-20T07:22:13.277510Z",
     "start_time": "2025-04-20T07:22:13.241724Z"
    }
   },
   "cell_type": "code",
   "source": [
    "#Load data\n",
    "data = pd.read_csv('../../data/raw/gamalytic_steam_games.csv')"
   ],
   "id": "8dcc079d36bd095",
   "outputs": [],
   "execution_count": 8
  },
  {
   "metadata": {},
   "cell_type": "markdown",
   "source": [
    "**Dropping Irrelevant Columns**\n",
    " - To check duplicate rows we need to drop it"
   ],
   "id": "32f901ea22b21ed7"
  },
  {
   "metadata": {
    "ExecuteTime": {
     "end_time": "2025-04-20T07:22:39.537139Z",
     "start_time": "2025-04-20T07:22:39.529835Z"
    }
   },
   "cell_type": "code",
   "source": "data = data.drop(columns = ['steamId'])",
   "id": "935741db60168a93",
   "outputs": [],
   "execution_count": 11
  },
  {
   "metadata": {},
   "cell_type": "markdown",
   "source": [
    "**Identify Columns That Contain a Single Value**\n",
    "  - Columns that have a single observation or value are probably useless for modeling."
   ],
   "id": "83d84d468c491e03"
  },
  {
   "metadata": {
    "ExecuteTime": {
     "end_time": "2025-04-20T07:22:20.461780Z",
     "start_time": "2025-04-20T07:22:20.454559Z"
    }
   },
   "cell_type": "code",
   "source": [
    "# Check if column has a single value\n",
    "print(1, len(unique(data['price'])))\n",
    "print(2, len(unique(data['copiesSold'])))\n",
    "print(3, len(unique(data['reviewScore'])))"
   ],
   "id": "d0690f03d7aaf0d9",
   "outputs": [
    {
     "name": "stdout",
     "output_type": "stream",
     "text": [
      "1 350\n",
      "2 22474\n",
      "3 99\n"
     ]
    }
   ],
   "execution_count": 9
  },
  {
   "metadata": {
    "ExecuteTime": {
     "end_time": "2025-04-20T07:22:26.019184Z",
     "start_time": "2025-04-20T07:22:26.008051Z"
    }
   },
   "cell_type": "code",
   "source": "print(data.info())",
   "id": "67676df475c334eb",
   "outputs": [
    {
     "name": "stdout",
     "output_type": "stream",
     "text": [
      "<class 'pandas.core.frame.DataFrame'>\n",
      "RangeIndex: 93338 entries, 0 to 93337\n",
      "Data columns (total 6 columns):\n",
      " #   Column          Non-Null Count  Dtype  \n",
      "---  ------          --------------  -----  \n",
      " 0   steamId         93338 non-null  int64  \n",
      " 1   price           93338 non-null  float64\n",
      " 2   copiesSold      93338 non-null  int64  \n",
      " 3   publisherClass  93338 non-null  object \n",
      " 4   reviewScore     93338 non-null  int64  \n",
      " 5   aiContent       0 non-null      float64\n",
      "dtypes: float64(2), int64(3), object(1)\n",
      "memory usage: 4.3+ MB\n",
      "None\n"
     ]
    }
   ],
   "execution_count": 10
  },
  {
   "metadata": {},
   "cell_type": "markdown",
   "source": " **Check Duplicates**",
   "id": "1584bc55aa6d36a0"
  },
  {
   "metadata": {
    "ExecuteTime": {
     "end_time": "2025-04-20T07:22:45.613572Z",
     "start_time": "2025-04-20T07:22:45.588637Z"
    }
   },
   "cell_type": "code",
   "source": [
    "duplicates = data.duplicated()\n",
    "print(\"Any duplicates ?\", duplicates.any())\n",
    "print(\"Duplicate rows:\\n\", data[duplicates])"
   ],
   "id": "9d9781d5d4fc9ecb",
   "outputs": [
    {
     "name": "stdout",
     "output_type": "stream",
     "text": [
      "Any duplicates ? True\n",
      "Duplicate rows:\n",
      "        price  copiesSold publisherClass  reviewScore  aiContent\n",
      "11590   0.00       21263       Hobbyist           97        NaN\n",
      "11633   9.99       21131          Indie           82        NaN\n",
      "11842   0.00       20414       Hobbyist           85        NaN\n",
      "12427  14.99       18304          Indie           84        NaN\n",
      "12604   0.00       17802          Indie           84        NaN\n",
      "...      ...         ...            ...          ...        ...\n",
      "93323   0.99           1       Hobbyist            0        NaN\n",
      "93329   4.99           0       Hobbyist            0        NaN\n",
      "93330   0.99           0       Hobbyist            0        NaN\n",
      "93331   0.99           0       Hobbyist            0        NaN\n",
      "93337   4.99           0       Hobbyist            0        NaN\n",
      "\n",
      "[26163 rows x 5 columns]\n"
     ]
    }
   ],
   "execution_count": 12
  },
  {
   "metadata": {},
   "cell_type": "markdown",
   "source": "**Remove Duplicates**",
   "id": "4b120c40d8c36545"
  },
  {
   "metadata": {
    "ExecuteTime": {
     "end_time": "2025-04-20T07:22:51.015045Z",
     "start_time": "2025-04-20T07:22:50.996561Z"
    }
   },
   "cell_type": "code",
   "source": [
    "print(data.shape)\n",
    "# delete duplicate rows\n",
    "data.drop_duplicates(inplace = True)\n",
    "print(data.shape)"
   ],
   "id": "2896c7c4a775796d",
   "outputs": [
    {
     "name": "stdout",
     "output_type": "stream",
     "text": [
      "(93338, 5)\n",
      "(67175, 5)\n"
     ]
    }
   ],
   "execution_count": 13
  },
  {
   "metadata": {},
   "cell_type": "markdown",
   "source": "**Count Missing Values**",
   "id": "908c7be9dc4e3c95"
  },
  {
   "metadata": {
    "ExecuteTime": {
     "end_time": "2025-04-19T10:33:06.170320Z",
     "start_time": "2025-04-19T10:33:06.160355Z"
    }
   },
   "cell_type": "code",
   "source": [
    "print(data[['price', 'copiesSold', 'reviewScore']].isna().sum())\n",
    "# Count how many rows have copiesSold == 0\n",
    "zero_sales = data[data['copiesSold'] == 0]\n",
    "print(zero_sales)"
   ],
   "id": "af20c2a7f5b48ada",
   "outputs": [
    {
     "name": "stdout",
     "output_type": "stream",
     "text": [
      "price          0\n",
      "copiesSold     0\n",
      "reviewScore    0\n",
      "dtype: int64\n",
      "       steamId  price  copiesSold publisherClass  reviewScore  aiContent\n",
      "93324   680880   5.99           0       Hobbyist            0        NaN\n",
      "93325   842080  11.99           0       Hobbyist            0        NaN\n",
      "93326   630130   3.99           0       Hobbyist            0        NaN\n",
      "93327   778980   0.99           0       Hobbyist            0        NaN\n",
      "93328   738230   4.99           0       Hobbyist            0        NaN\n",
      "93329   713550   4.99           0       Hobbyist            0        NaN\n",
      "93330   700050   0.99           0       Hobbyist            0        NaN\n",
      "93331   679960   0.99           0       Hobbyist            0        NaN\n",
      "93332   492100   2.99           0       Hobbyist            0        NaN\n",
      "93333   582110   7.99           0       Hobbyist            0        NaN\n",
      "93334   514510   9.99           0          Indie            0        NaN\n",
      "93335   497380  14.99           0          Indie            0        NaN\n",
      "93336   456430   1.99           0          Indie            0        NaN\n",
      "93337  3167760   4.99           0       Hobbyist            0        NaN\n"
     ]
    }
   ],
   "execution_count": 22
  },
  {
   "metadata": {},
   "cell_type": "markdown",
   "source": [
    "**Checking Inconsistent Values**\n",
    " - Checking for Negative Values"
   ],
   "id": "c81001aad6cd80ee"
  },
  {
   "metadata": {
    "ExecuteTime": {
     "end_time": "2025-04-18T15:20:30.317069Z",
     "start_time": "2025-04-18T15:20:30.312891Z"
    }
   },
   "cell_type": "code",
   "source": [
    "# Check if any value is negative\n",
    "negative_price = (data['price'] < 0).any()\n",
    "negative_copies = (data['copiesSold'] < 0).any()\n",
    "negative_review = (data['reviewScore'] < 0).any()\n",
    "\n",
    "print(f\"Negative 'price' values: {negative_price}\")\n",
    "print(f\"Negative 'copiesSold' values: {negative_copies}\")\n",
    "print(f\"Negative 'reviewScore' values: {negative_review}\")\n"
   ],
   "id": "fb3669fe47dc30c0",
   "outputs": [
    {
     "name": "stdout",
     "output_type": "stream",
     "text": [
      "Negative 'price' values: False\n",
      "Negative 'copiesSold' values: False\n",
      "Negative 'reviewScore' values: False\n"
     ]
    }
   ],
   "execution_count": 19
  },
  {
   "metadata": {},
   "cell_type": "markdown",
   "source": [
    "**Data Transformation**\n",
    " - Analyzing Skewness"
   ],
   "id": "9f5d9d547b680648"
  },
  {
   "metadata": {
    "ExecuteTime": {
     "end_time": "2025-04-18T15:21:16.562037Z",
     "start_time": "2025-04-18T15:21:16.550560Z"
    }
   },
   "cell_type": "code",
   "source": [
    "# Check initial skewness of distributions\n",
    "print(f\"Price skewness: {skew(data['price']):.2f}\")\n",
    "print(f\"CopiesSold skewness: {skew(data['copiesSold']):.2f}\")\n",
    "print(f\"reviewScore skewness: {skew(data['reviewScore']):.2f}\")"
   ],
   "id": "35606686c52b99ba",
   "outputs": [
    {
     "name": "stdout",
     "output_type": "stream",
     "text": [
      "Price skewness: 30.24\n",
      "CopiesSold skewness: 99.76\n",
      "reviewScore skewness: -1.17\n"
     ]
    }
   ],
   "execution_count": 28
  },
  {
   "metadata": {},
   "cell_type": "markdown",
   "source": "**Log Transformation For Skewed Data**",
   "id": "fc47939259c838a"
  },
  {
   "metadata": {
    "ExecuteTime": {
     "end_time": "2025-04-19T20:04:52.718797Z",
     "start_time": "2025-04-19T20:04:52.712661Z"
    }
   },
   "cell_type": "code",
   "source": [
    "# Apply log transformation to reduce skewness\n",
    "data['price'] = np.log1p(data['price'])\n",
    "data['copiesSold'] = np.log1p(data['copiesSold'])"
   ],
   "id": "c775bd3d45c7321e",
   "outputs": [],
   "execution_count": 7
  },
  {
   "metadata": {},
   "cell_type": "markdown",
   "source": "**Handling Outliers in Review Scores**",
   "id": "a175544d594b2954"
  },
  {
   "metadata": {
    "ExecuteTime": {
     "end_time": "2025-04-19T20:04:56.043003Z",
     "start_time": "2025-04-19T20:04:56.032412Z"
    }
   },
   "cell_type": "code",
   "source": [
    "low = data['reviewScore'].quantile(0.25)\n",
    "high = data['reviewScore'].quantile(0.75)\n",
    "median = data['reviewScore'].median()\n",
    "\n",
    "data.loc[data['reviewScore'] < low, 'reviewScore'] = median\n",
    "data.loc[data['reviewScore'] > high, 'reviewScore'] = high\n",
    "\n"
   ],
   "id": "e9d9bbd0fa7f3fe7",
   "outputs": [],
   "execution_count": 8
  },
  {
   "metadata": {},
   "cell_type": "markdown",
   "source": "**Check skewness after transformation**",
   "id": "3d64967a11201829"
  },
  {
   "metadata": {
    "ExecuteTime": {
     "end_time": "2025-04-19T20:13:18.485853Z",
     "start_time": "2025-04-19T20:13:18.476721Z"
    }
   },
   "cell_type": "code",
   "source": [
    "# Check skewness after outlier treatment\n",
    "print(\"After outlier treatment:\")\n",
    "print(f\"Price skewness: {skew(data['price']):.2f}\")\n",
    "print(f\"CopiesSold skewness: {skew(data['copiesSold']):.2f}\")\n",
    "print(f\"reviewScore skewness: {skew(data['reviewScore']):.2f}\")"
   ],
   "id": "1b20374d8186a5eb",
   "outputs": [
    {
     "name": "stdout",
     "output_type": "stream",
     "text": [
      "After outlier treatment:\n",
      "Price skewness: -0.14\n",
      "CopiesSold skewness: 0.40\n",
      "reviewScore skewness: -0.53\n"
     ]
    }
   ],
   "execution_count": 29
  },
  {
   "metadata": {},
   "cell_type": "markdown",
   "source": "**Feature Scaling**",
   "id": "b7d73fa6179e8574"
  },
  {
   "metadata": {
    "ExecuteTime": {
     "end_time": "2025-04-19T20:05:04.165360Z",
     "start_time": "2025-04-19T20:05:04.151652Z"
    }
   },
   "cell_type": "code",
   "source": [
    "scaler = StandardScaler()\n",
    "data[['price', 'copiesSold', 'reviewScore']] = scaler.fit_transform(\n",
    "    data[['price', 'copiesSold', 'reviewScore']]\n",
    ")"
   ],
   "id": "c48bf92356d2c19a",
   "outputs": [],
   "execution_count": 10
  },
  {
   "metadata": {},
   "cell_type": "markdown",
   "source": "**Feature Extraction**",
   "id": "f263fb1c4f7a122f"
  },
  {
   "metadata": {
    "ExecuteTime": {
     "end_time": "2025-04-19T20:05:05.995924Z",
     "start_time": "2025-04-19T20:05:05.990907Z"
    }
   },
   "cell_type": "code",
   "source": "selected_features = data[['price', 'copiesSold', 'reviewScore']]",
   "id": "c811e1a418b9c22b",
   "outputs": [],
   "execution_count": 11
  },
  {
   "metadata": {},
   "cell_type": "markdown",
   "source": [
    "**Feature Analysis**\n",
    " - Correlation Analysis"
   ],
   "id": "da2244973c09366d"
  },
  {
   "metadata": {
    "ExecuteTime": {
     "end_time": "2025-04-19T20:16:57.215055Z",
     "start_time": "2025-04-19T20:16:57.205490Z"
    }
   },
   "cell_type": "code",
   "source": [
    "# Calculate Pearson correlation between features\n",
    "correlation = selected_features.corr()\n",
    "\n",
    "correlation_with_target = correlation['copiesSold'].drop('copiesSold').sort_values(ascending = False)\n",
    "\n",
    "print(\"Correlation with copiesSold:\")\n",
    "print(correlation_with_target.to_string())"
   ],
   "id": "78ef4af61f2e290d",
   "outputs": [
    {
     "name": "stdout",
     "output_type": "stream",
     "text": [
      "Correlation with copiesSold:\n",
      "price          0.066321\n",
      "reviewScore    0.027403\n"
     ]
    }
   ],
   "execution_count": 35
  },
  {
   "metadata": {},
   "cell_type": "markdown",
   "source": "**Mutual Information Scores**",
   "id": "70732c5d8ac0392b"
  },
  {
   "metadata": {
    "ExecuteTime": {
     "end_time": "2025-04-19T20:14:43.210316Z",
     "start_time": "2025-04-19T20:14:42.604755Z"
    }
   },
   "cell_type": "code",
   "source": [
    "# Calculate mutual information scores\n",
    "mi_scores = mutual_info_regression(\n",
    "    selected_features.drop(columns=['copiesSold']),\n",
    "    selected_features['copiesSold']\n",
    ")\n",
    "\n",
    "# Create a DataFrame for mutual information results\n",
    "mi_results = pd.DataFrame({\n",
    "    'Feature': selected_features.drop(columns = ['copiesSold']).columns,\n",
    "    'MI_Score': mi_scores\n",
    "}).sort_values('MI_Score', ascending = False)\n",
    "\n",
    "print(\"Mutual Information Scores:\")\n",
    "print(mi_results.to_string(index = False))\n",
    "\n",
    "\n"
   ],
   "id": "47651d6412812f16",
   "outputs": [
    {
     "name": "stdout",
     "output_type": "stream",
     "text": [
      "Mutual Information Scores:\n",
      "    Feature  MI_Score\n",
      "reviewScore  0.166056\n",
      "      price  0.119065\n"
     ]
    }
   ],
   "execution_count": 33
  },
  {
   "metadata": {},
   "cell_type": "markdown",
   "source": "**ANOVA F-values**",
   "id": "30457bf97e6f63f5"
  },
  {
   "metadata": {
    "ExecuteTime": {
     "end_time": "2025-04-19T20:14:50.871705Z",
     "start_time": "2025-04-19T20:14:50.860743Z"
    }
   },
   "cell_type": "code",
   "source": [
    "# Calculate ANOVA F-values for feature importance\n",
    "selector = SelectKBest(score_func = f_regression, k = 'all')\n",
    "selector.fit(\n",
    "    selected_features.drop(columns=['copiesSold']),\n",
    "    selected_features['copiesSold']\n",
    ")\n",
    "\n",
    "# Create a DataFrame for ANOVA results\n",
    "anova_results = pd.DataFrame({\n",
    "    'Feature': selected_features.drop(columns = ['copiesSold']).columns,\n",
    "    'F_Value': selector.scores_\n",
    "}).sort_values('F_Value', ascending = False)\n",
    "\n",
    "print(\"ANOVA F-Values:\")\n",
    "print(anova_results.to_string(index = False))\n"
   ],
   "id": "122ca7e1329fc377",
   "outputs": [
    {
     "name": "stdout",
     "output_type": "stream",
     "text": [
      "ANOVA F-Values:\n",
      "    Feature    F_Value\n",
      "      price 296.768007\n",
      "reviewScore  50.480602\n"
     ]
    }
   ],
   "execution_count": 34
  },
  {
   "metadata": {},
   "cell_type": "markdown",
   "source": "**Data Visualization**",
   "id": "4df3e1a84a19b1a8"
  },
  {
   "metadata": {
    "ExecuteTime": {
     "end_time": "2025-04-19T20:12:44.995385Z",
     "start_time": "2025-04-19T20:12:44.806822Z"
    }
   },
   "cell_type": "code",
   "source": [
    "# Visualize distribution of prices\n",
    "data['price'].hist(bins = 30)\n",
    "plt.title('Price Distribution')\n",
    "plt.show()\n"
   ],
   "id": "d1e47c4841a689e8",
   "outputs": [
    {
     "data": {
      "text/plain": [
       "<Figure size 640x480 with 1 Axes>"
      ],
      "image/png": "[encoded data removed]"
     },
     "metadata": {},
     "output_type": "display_data"
    }
   ],
   "execution_count": 26
  },
  {
   "metadata": {
    "ExecuteTime": {
     "end_time": "2025-04-19T20:12:49.437476Z",
     "start_time": "2025-04-19T20:12:49.349663Z"
    }
   },
   "cell_type": "code",
   "source": [
    "# Visualize distribution of copiesSold\n",
    "data['copiesSold'].hist(bins = 30)\n",
    "plt.title('Copies Sold Distribution')\n",
    "plt.show()\n"
   ],
   "id": "5fb32d6047103880",
   "outputs": [
    {
     "data": {
      "text/plain": [
       "<Figure size 640x480 with 1 Axes>"
      ],
      "image/png": "[encoded data removed]"
     },
     "metadata": {},
     "output_type": "display_data"
    }
   ],
   "execution_count": 27
  },
  {
   "metadata": {
    "ExecuteTime": {
     "end_time": "2025-04-19T20:12:53.631913Z",
     "start_time": "2025-04-19T20:12:53.542117Z"
    }
   },
   "cell_type": "code",
   "source": [
    "# Visualize distribution of Review Score\n",
    "data['reviewScore'].hist(bins = 30)\n",
    "plt.title('Review Score Distribution')\n",
    "plt.show()\n"
   ],
   "id": "5aea42b05e22dca8",
   "outputs": [
    {
     "data": {
      "text/plain": [
       "<Figure size 640x480 with 1 Axes>"
      ],
      "image/png": "[encoded data removed]"
     },
     "metadata": {},
     "output_type": "display_data"
    }
   ],
   "execution_count": 28
  }
 ],
 "metadata": {
  "kernelspec": {
   "display_name": "Python 3",
   "language": "python",
   "name": "python3"
  },
  "language_info": {
   "codemirror_mode": {
    "name": "ipython",
    "version": 2
   },
   "file_extension": ".py",
   "mimetype": "text/x-python",
   "name": "python",
   "nbconvert_exporter": "python",
   "pygments_lexer": "ipython2",
   "version": "2.7.6"
  }
 },
 "nbformat": 4,
 "nbformat_minor": 5
}
